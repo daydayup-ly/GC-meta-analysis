{
 "cells": [
  {
   "cell_type": "code",
   "execution_count": 1,
   "id": "0883d88e-92d8-41f5-9b48-0e322dcdb690",
   "metadata": {},
   "outputs": [],
   "source": [
    "library(ggplot2)"
   ]
  },
  {
   "cell_type": "code",
   "execution_count": 3,
   "id": "a551a093-d527-4d42-b515-140b8298fabd",
   "metadata": {
    "tags": []
   },
   "outputs": [],
   "source": [
    "library('DESeq2')\n",
    "library(tidyverse)\n",
    "library(MicrobeR)\n",
    "library('metafor')"
   ]
  },
  {
   "cell_type": "code",
   "execution_count": 4,
   "id": "ac89d551-e520-435e-978f-8752bd306de5",
   "metadata": {},
   "outputs": [],
   "source": [
    "H=\"#E69F00\"\n",
    "L=\"#0072B2\""
   ]
  },
  {
   "cell_type": "markdown",
   "id": "2b0fc1da-6b8e-4223-b3ae-6a02fbae1589",
   "metadata": {},
   "source": [
    "# read otu table"
   ]
  },
  {
   "cell_type": "code",
   "execution_count": 5,
   "id": "ee88aec9-5640-49f2-a086-896cfece244b",
   "metadata": {},
   "outputs": [
    {
     "data": {
      "text/html": [
       "<table>\n",
       "<caption>A data.frame: 6 × 586</caption>\n",
       "<thead>\n",
       "\t<tr><th></th><th scope=col>ERR1995049</th><th scope=col>ERR1995038</th><th scope=col>ERR1994996</th><th scope=col>ERR1994997</th><th scope=col>ERR1995023</th><th scope=col>ERR1994992</th><th scope=col>ERR1995037</th><th scope=col>ERR1994989</th><th scope=col>ERR1994998</th><th scope=col>ERR1995010</th><th scope=col>⋯</th><th scope=col>SRR7534127</th><th scope=col>SRR7534043</th><th scope=col>SRR7534017</th><th scope=col>SRR7534015</th><th scope=col>SRR7534014</th><th scope=col>SRR7534028</th><th scope=col>SRR7534026</th><th scope=col>SRR7534116</th><th scope=col>SRR7534187</th><th scope=col>SRR7534189</th></tr>\n",
       "\t<tr><th></th><th scope=col>&lt;dbl&gt;</th><th scope=col>&lt;dbl&gt;</th><th scope=col>&lt;dbl&gt;</th><th scope=col>&lt;dbl&gt;</th><th scope=col>&lt;dbl&gt;</th><th scope=col>&lt;dbl&gt;</th><th scope=col>&lt;dbl&gt;</th><th scope=col>&lt;dbl&gt;</th><th scope=col>&lt;dbl&gt;</th><th scope=col>&lt;dbl&gt;</th><th scope=col>⋯</th><th scope=col>&lt;dbl&gt;</th><th scope=col>&lt;dbl&gt;</th><th scope=col>&lt;dbl&gt;</th><th scope=col>&lt;dbl&gt;</th><th scope=col>&lt;dbl&gt;</th><th scope=col>&lt;dbl&gt;</th><th scope=col>&lt;dbl&gt;</th><th scope=col>&lt;dbl&gt;</th><th scope=col>&lt;dbl&gt;</th><th scope=col>&lt;dbl&gt;</th></tr>\n",
       "</thead>\n",
       "<tbody>\n",
       "\t<tr><th scope=row>1000477</th><td>0</td><td>0</td><td>0</td><td>0</td><td>0</td><td>0</td><td>0</td><td>0</td><td>0</td><td>0</td><td>⋯</td><td> 0</td><td>0</td><td>0</td><td>0</td><td>0</td><td>0</td><td>0</td><td>0</td><td>0</td><td>0</td></tr>\n",
       "\t<tr><th scope=row>1001155</th><td>0</td><td>0</td><td>0</td><td>0</td><td>0</td><td>0</td><td>0</td><td>0</td><td>0</td><td>0</td><td>⋯</td><td> 0</td><td>0</td><td>0</td><td>0</td><td>0</td><td>0</td><td>0</td><td>0</td><td>0</td><td>0</td></tr>\n",
       "\t<tr><th scope=row>1001762</th><td>0</td><td>0</td><td>0</td><td>0</td><td>0</td><td>0</td><td>0</td><td>0</td><td>0</td><td>0</td><td>⋯</td><td> 0</td><td>0</td><td>0</td><td>0</td><td>0</td><td>0</td><td>0</td><td>0</td><td>0</td><td>0</td></tr>\n",
       "\t<tr><th scope=row>1001920</th><td>0</td><td>0</td><td>0</td><td>0</td><td>0</td><td>0</td><td>0</td><td>0</td><td>0</td><td>0</td><td>⋯</td><td>44</td><td>0</td><td>0</td><td>0</td><td>0</td><td>0</td><td>0</td><td>0</td><td>0</td><td>0</td></tr>\n",
       "\t<tr><th scope=row>1003026</th><td>0</td><td>0</td><td>0</td><td>0</td><td>0</td><td>0</td><td>0</td><td>0</td><td>0</td><td>0</td><td>⋯</td><td> 0</td><td>0</td><td>0</td><td>0</td><td>0</td><td>0</td><td>0</td><td>0</td><td>0</td><td>0</td></tr>\n",
       "\t<tr><th scope=row>100361</th><td>0</td><td>0</td><td>0</td><td>0</td><td>0</td><td>0</td><td>0</td><td>0</td><td>0</td><td>0</td><td>⋯</td><td> 0</td><td>0</td><td>0</td><td>0</td><td>0</td><td>0</td><td>0</td><td>0</td><td>0</td><td>0</td></tr>\n",
       "</tbody>\n",
       "</table>\n"
      ],
      "text/latex": [
       "A data.frame: 6 × 586\n",
       "\\begin{tabular}{r|lllllllllllllllllllll}\n",
       "  & ERR1995049 & ERR1995038 & ERR1994996 & ERR1994997 & ERR1995023 & ERR1994992 & ERR1995037 & ERR1994989 & ERR1994998 & ERR1995010 & ⋯ & SRR7534127 & SRR7534043 & SRR7534017 & SRR7534015 & SRR7534014 & SRR7534028 & SRR7534026 & SRR7534116 & SRR7534187 & SRR7534189\\\\\n",
       "  & <dbl> & <dbl> & <dbl> & <dbl> & <dbl> & <dbl> & <dbl> & <dbl> & <dbl> & <dbl> & ⋯ & <dbl> & <dbl> & <dbl> & <dbl> & <dbl> & <dbl> & <dbl> & <dbl> & <dbl> & <dbl>\\\\\n",
       "\\hline\n",
       "\t1000477 & 0 & 0 & 0 & 0 & 0 & 0 & 0 & 0 & 0 & 0 & ⋯ &  0 & 0 & 0 & 0 & 0 & 0 & 0 & 0 & 0 & 0\\\\\n",
       "\t1001155 & 0 & 0 & 0 & 0 & 0 & 0 & 0 & 0 & 0 & 0 & ⋯ &  0 & 0 & 0 & 0 & 0 & 0 & 0 & 0 & 0 & 0\\\\\n",
       "\t1001762 & 0 & 0 & 0 & 0 & 0 & 0 & 0 & 0 & 0 & 0 & ⋯ &  0 & 0 & 0 & 0 & 0 & 0 & 0 & 0 & 0 & 0\\\\\n",
       "\t1001920 & 0 & 0 & 0 & 0 & 0 & 0 & 0 & 0 & 0 & 0 & ⋯ & 44 & 0 & 0 & 0 & 0 & 0 & 0 & 0 & 0 & 0\\\\\n",
       "\t1003026 & 0 & 0 & 0 & 0 & 0 & 0 & 0 & 0 & 0 & 0 & ⋯ &  0 & 0 & 0 & 0 & 0 & 0 & 0 & 0 & 0 & 0\\\\\n",
       "\t100361 & 0 & 0 & 0 & 0 & 0 & 0 & 0 & 0 & 0 & 0 & ⋯ &  0 & 0 & 0 & 0 & 0 & 0 & 0 & 0 & 0 & 0\\\\\n",
       "\\end{tabular}\n"
      ],
      "text/markdown": [
       "\n",
       "A data.frame: 6 × 586\n",
       "\n",
       "| <!--/--> | ERR1995049 &lt;dbl&gt; | ERR1995038 &lt;dbl&gt; | ERR1994996 &lt;dbl&gt; | ERR1994997 &lt;dbl&gt; | ERR1995023 &lt;dbl&gt; | ERR1994992 &lt;dbl&gt; | ERR1995037 &lt;dbl&gt; | ERR1994989 &lt;dbl&gt; | ERR1994998 &lt;dbl&gt; | ERR1995010 &lt;dbl&gt; | ⋯ ⋯ | SRR7534127 &lt;dbl&gt; | SRR7534043 &lt;dbl&gt; | SRR7534017 &lt;dbl&gt; | SRR7534015 &lt;dbl&gt; | SRR7534014 &lt;dbl&gt; | SRR7534028 &lt;dbl&gt; | SRR7534026 &lt;dbl&gt; | SRR7534116 &lt;dbl&gt; | SRR7534187 &lt;dbl&gt; | SRR7534189 &lt;dbl&gt; |\n",
       "|---|---|---|---|---|---|---|---|---|---|---|---|---|---|---|---|---|---|---|---|---|---|\n",
       "| 1000477 | 0 | 0 | 0 | 0 | 0 | 0 | 0 | 0 | 0 | 0 | ⋯ |  0 | 0 | 0 | 0 | 0 | 0 | 0 | 0 | 0 | 0 |\n",
       "| 1001155 | 0 | 0 | 0 | 0 | 0 | 0 | 0 | 0 | 0 | 0 | ⋯ |  0 | 0 | 0 | 0 | 0 | 0 | 0 | 0 | 0 | 0 |\n",
       "| 1001762 | 0 | 0 | 0 | 0 | 0 | 0 | 0 | 0 | 0 | 0 | ⋯ |  0 | 0 | 0 | 0 | 0 | 0 | 0 | 0 | 0 | 0 |\n",
       "| 1001920 | 0 | 0 | 0 | 0 | 0 | 0 | 0 | 0 | 0 | 0 | ⋯ | 44 | 0 | 0 | 0 | 0 | 0 | 0 | 0 | 0 | 0 |\n",
       "| 1003026 | 0 | 0 | 0 | 0 | 0 | 0 | 0 | 0 | 0 | 0 | ⋯ |  0 | 0 | 0 | 0 | 0 | 0 | 0 | 0 | 0 | 0 |\n",
       "| 100361 | 0 | 0 | 0 | 0 | 0 | 0 | 0 | 0 | 0 | 0 | ⋯ |  0 | 0 | 0 | 0 | 0 | 0 | 0 | 0 | 0 | 0 |\n",
       "\n"
      ],
      "text/plain": [
       "        ERR1995049 ERR1995038 ERR1994996 ERR1994997 ERR1995023 ERR1994992\n",
       "1000477 0          0          0          0          0          0         \n",
       "1001155 0          0          0          0          0          0         \n",
       "1001762 0          0          0          0          0          0         \n",
       "1001920 0          0          0          0          0          0         \n",
       "1003026 0          0          0          0          0          0         \n",
       "100361  0          0          0          0          0          0         \n",
       "        ERR1995037 ERR1994989 ERR1994998 ERR1995010 ⋯ SRR7534127 SRR7534043\n",
       "1000477 0          0          0          0          ⋯  0         0         \n",
       "1001155 0          0          0          0          ⋯  0         0         \n",
       "1001762 0          0          0          0          ⋯  0         0         \n",
       "1001920 0          0          0          0          ⋯ 44         0         \n",
       "1003026 0          0          0          0          ⋯  0         0         \n",
       "100361  0          0          0          0          ⋯  0         0         \n",
       "        SRR7534017 SRR7534015 SRR7534014 SRR7534028 SRR7534026 SRR7534116\n",
       "1000477 0          0          0          0          0          0         \n",
       "1001155 0          0          0          0          0          0         \n",
       "1001762 0          0          0          0          0          0         \n",
       "1001920 0          0          0          0          0          0         \n",
       "1003026 0          0          0          0          0          0         \n",
       "100361  0          0          0          0          0          0         \n",
       "        SRR7534187 SRR7534189\n",
       "1000477 0          0         \n",
       "1001155 0          0         \n",
       "1001762 0          0         \n",
       "1001920 0          0         \n",
       "1003026 0          0         \n",
       "100361  0          0         "
      ]
     },
     "metadata": {},
     "output_type": "display_data"
    }
   ],
   "source": [
    "data <- read.csv('gastritis-and-GC-data.tsv',sep='\\t',row.names=1)\n",
    "head(data)"
   ]
  },
  {
   "cell_type": "code",
   "execution_count": 6,
   "id": "9152ce4d-7adc-4b6e-8c19-cbfe3c102e25",
   "metadata": {},
   "outputs": [
    {
     "data": {
      "text/html": [
       "<style>\n",
       ".list-inline {list-style: none; margin:0; padding: 0}\n",
       ".list-inline>li {display: inline-block}\n",
       ".list-inline>li:not(:last-child)::after {content: \"\\00b7\"; padding: 0 .5ex}\n",
       "</style>\n",
       "<ol class=list-inline><li>2026</li><li>586</li></ol>\n"
      ],
      "text/latex": [
       "\\begin{enumerate*}\n",
       "\\item 2026\n",
       "\\item 586\n",
       "\\end{enumerate*}\n"
      ],
      "text/markdown": [
       "1. 2026\n",
       "2. 586\n",
       "\n",
       "\n"
      ],
      "text/plain": [
       "[1] 2026  586"
      ]
     },
     "metadata": {},
     "output_type": "display_data"
    }
   ],
   "source": [
    "dim(data)"
   ]
  },
  {
   "cell_type": "markdown",
   "id": "3a79cd37-250d-4547-8fae-e94f1f1dabcd",
   "metadata": {},
   "source": [
    "# read metadata"
   ]
  },
  {
   "cell_type": "code",
   "execution_count": 7,
   "id": "1ace1ea3-567a-4b28-81be-0df33e779d69",
   "metadata": {},
   "outputs": [
    {
     "data": {
      "text/html": [
       "<table>\n",
       "<caption>A data.frame: 6 × 51</caption>\n",
       "<thead>\n",
       "\t<tr><th></th><th scope=col>Age</th><th scope=col>BMI</th><th scope=col>BioProject</th><th scope=col>CagA</th><th scope=col>Center_Name</th><th scope=col>Collection_Date</th><th scope=col>Condition</th><th scope=col>Country</th><th scope=col>Diagnosis</th><th scope=col>Gender</th><th scope=col>⋯</th><th scope=col>host_height</th><th scope=col>host_weight</th><th scope=col>hp</th><th scope=col>hp_relative_abundance</th><th scope=col>paried.sample</th><th scope=col>primer</th><th scope=col>sampleloc</th><th scope=col>sampling_method</th><th scope=col>smoker</th><th scope=col>case_control</th></tr>\n",
       "\t<tr><th></th><th scope=col>&lt;dbl&gt;</th><th scope=col>&lt;lgl&gt;</th><th scope=col>&lt;chr&gt;</th><th scope=col>&lt;lgl&gt;</th><th scope=col>&lt;chr&gt;</th><th scope=col>&lt;chr&gt;</th><th scope=col>&lt;chr&gt;</th><th scope=col>&lt;chr&gt;</th><th scope=col>&lt;chr&gt;</th><th scope=col>&lt;chr&gt;</th><th scope=col>⋯</th><th scope=col>&lt;dbl&gt;</th><th scope=col>&lt;dbl&gt;</th><th scope=col>&lt;chr&gt;</th><th scope=col>&lt;dbl&gt;</th><th scope=col>&lt;lgl&gt;</th><th scope=col>&lt;chr&gt;</th><th scope=col>&lt;chr&gt;</th><th scope=col>&lt;chr&gt;</th><th scope=col>&lt;lgl&gt;</th><th scope=col>&lt;chr&gt;</th></tr>\n",
       "</thead>\n",
       "<tbody>\n",
       "\t<tr><th scope=row>ERR1995049</th><td>NA</td><td>NA</td><td>PRJEB21104</td><td>NA</td><td>CGR</td><td></td><td>gastric cancer             </td><td>United Kingdom</td><td>gastric cancer</td><td></td><td>⋯</td><td>NA</td><td>NA</td><td>positive</td><td>78.20510</td><td>NA</td><td>27F _388R</td><td></td><td>gastric mucosa biopsy</td><td>NA</td><td>case   </td></tr>\n",
       "\t<tr><th scope=row>ERR1995038</th><td>NA</td><td>NA</td><td>PRJEB21104</td><td>NA</td><td>CGR</td><td></td><td>gastric cancer             </td><td>United Kingdom</td><td>gastric cancer</td><td></td><td>⋯</td><td>NA</td><td>NA</td><td>positive</td><td>11.57239</td><td>NA</td><td>27F _388R</td><td></td><td>gastric mucosa biopsy</td><td>NA</td><td>case   </td></tr>\n",
       "\t<tr><th scope=row>ERR1994996</th><td>NA</td><td>NA</td><td>PRJEB21104</td><td>NA</td><td>CGR</td><td></td><td>H.pylori gastritis         </td><td>United Kingdom</td><td>gastritis     </td><td></td><td>⋯</td><td>NA</td><td>NA</td><td>positive</td><td>99.82093</td><td>NA</td><td>27F _388R</td><td></td><td>gastric mucosa biopsy</td><td>NA</td><td>control</td></tr>\n",
       "\t<tr><th scope=row>ERR1994997</th><td>NA</td><td>NA</td><td>PRJEB21104</td><td>NA</td><td>CGR</td><td></td><td>H.pylori gastritis         </td><td>United Kingdom</td><td>gastritis     </td><td></td><td>⋯</td><td>NA</td><td>NA</td><td>positive</td><td>99.90214</td><td>NA</td><td>27F _388R</td><td></td><td>gastric mucosa biopsy</td><td>NA</td><td>control</td></tr>\n",
       "\t<tr><th scope=row>ERR1995023</th><td>NA</td><td>NA</td><td>PRJEB21104</td><td>NA</td><td>CGR</td><td></td><td>H.pylori atrophic gastritis</td><td>United Kingdom</td><td>gastritis     </td><td></td><td>⋯</td><td>NA</td><td>NA</td><td>positive</td><td>99.88107</td><td>NA</td><td>27F _388R</td><td></td><td>gastric mucosa biopsy</td><td>NA</td><td>control</td></tr>\n",
       "\t<tr><th scope=row>ERR1994992</th><td>NA</td><td>NA</td><td>PRJEB21104</td><td>NA</td><td>CGR</td><td></td><td>H.pylori gastritis         </td><td>United Kingdom</td><td>gastritis     </td><td></td><td>⋯</td><td>NA</td><td>NA</td><td>positive</td><td>92.87387</td><td>NA</td><td>27F _388R</td><td></td><td>gastric mucosa biopsy</td><td>NA</td><td>control</td></tr>\n",
       "</tbody>\n",
       "</table>\n"
      ],
      "text/latex": [
       "A data.frame: 6 × 51\n",
       "\\begin{tabular}{r|lllllllllllllllllllll}\n",
       "  & Age & BMI & BioProject & CagA & Center\\_Name & Collection\\_Date & Condition & Country & Diagnosis & Gender & ⋯ & host\\_height & host\\_weight & hp & hp\\_relative\\_abundance & paried.sample & primer & sampleloc & sampling\\_method & smoker & case\\_control\\\\\n",
       "  & <dbl> & <lgl> & <chr> & <lgl> & <chr> & <chr> & <chr> & <chr> & <chr> & <chr> & ⋯ & <dbl> & <dbl> & <chr> & <dbl> & <lgl> & <chr> & <chr> & <chr> & <lgl> & <chr>\\\\\n",
       "\\hline\n",
       "\tERR1995049 & NA & NA & PRJEB21104 & NA & CGR &  & gastric cancer              & United Kingdom & gastric cancer &  & ⋯ & NA & NA & positive & 78.20510 & NA & 27F \\_388R &  & gastric mucosa biopsy & NA & case   \\\\\n",
       "\tERR1995038 & NA & NA & PRJEB21104 & NA & CGR &  & gastric cancer              & United Kingdom & gastric cancer &  & ⋯ & NA & NA & positive & 11.57239 & NA & 27F \\_388R &  & gastric mucosa biopsy & NA & case   \\\\\n",
       "\tERR1994996 & NA & NA & PRJEB21104 & NA & CGR &  & H.pylori gastritis          & United Kingdom & gastritis      &  & ⋯ & NA & NA & positive & 99.82093 & NA & 27F \\_388R &  & gastric mucosa biopsy & NA & control\\\\\n",
       "\tERR1994997 & NA & NA & PRJEB21104 & NA & CGR &  & H.pylori gastritis          & United Kingdom & gastritis      &  & ⋯ & NA & NA & positive & 99.90214 & NA & 27F \\_388R &  & gastric mucosa biopsy & NA & control\\\\\n",
       "\tERR1995023 & NA & NA & PRJEB21104 & NA & CGR &  & H.pylori atrophic gastritis & United Kingdom & gastritis      &  & ⋯ & NA & NA & positive & 99.88107 & NA & 27F \\_388R &  & gastric mucosa biopsy & NA & control\\\\\n",
       "\tERR1994992 & NA & NA & PRJEB21104 & NA & CGR &  & H.pylori gastritis          & United Kingdom & gastritis      &  & ⋯ & NA & NA & positive & 92.87387 & NA & 27F \\_388R &  & gastric mucosa biopsy & NA & control\\\\\n",
       "\\end{tabular}\n"
      ],
      "text/markdown": [
       "\n",
       "A data.frame: 6 × 51\n",
       "\n",
       "| <!--/--> | Age &lt;dbl&gt; | BMI &lt;lgl&gt; | BioProject &lt;chr&gt; | CagA &lt;lgl&gt; | Center_Name &lt;chr&gt; | Collection_Date &lt;chr&gt; | Condition &lt;chr&gt; | Country &lt;chr&gt; | Diagnosis &lt;chr&gt; | Gender &lt;chr&gt; | ⋯ ⋯ | host_height &lt;dbl&gt; | host_weight &lt;dbl&gt; | hp &lt;chr&gt; | hp_relative_abundance &lt;dbl&gt; | paried.sample &lt;lgl&gt; | primer &lt;chr&gt; | sampleloc &lt;chr&gt; | sampling_method &lt;chr&gt; | smoker &lt;lgl&gt; | case_control &lt;chr&gt; |\n",
       "|---|---|---|---|---|---|---|---|---|---|---|---|---|---|---|---|---|---|---|---|---|---|\n",
       "| ERR1995049 | NA | NA | PRJEB21104 | NA | CGR | <!----> | gastric cancer              | United Kingdom | gastric cancer | <!----> | ⋯ | NA | NA | positive | 78.20510 | NA | 27F _388R | <!----> | gastric mucosa biopsy | NA | case    |\n",
       "| ERR1995038 | NA | NA | PRJEB21104 | NA | CGR | <!----> | gastric cancer              | United Kingdom | gastric cancer | <!----> | ⋯ | NA | NA | positive | 11.57239 | NA | 27F _388R | <!----> | gastric mucosa biopsy | NA | case    |\n",
       "| ERR1994996 | NA | NA | PRJEB21104 | NA | CGR | <!----> | H.pylori gastritis          | United Kingdom | gastritis      | <!----> | ⋯ | NA | NA | positive | 99.82093 | NA | 27F _388R | <!----> | gastric mucosa biopsy | NA | control |\n",
       "| ERR1994997 | NA | NA | PRJEB21104 | NA | CGR | <!----> | H.pylori gastritis          | United Kingdom | gastritis      | <!----> | ⋯ | NA | NA | positive | 99.90214 | NA | 27F _388R | <!----> | gastric mucosa biopsy | NA | control |\n",
       "| ERR1995023 | NA | NA | PRJEB21104 | NA | CGR | <!----> | H.pylori atrophic gastritis | United Kingdom | gastritis      | <!----> | ⋯ | NA | NA | positive | 99.88107 | NA | 27F _388R | <!----> | gastric mucosa biopsy | NA | control |\n",
       "| ERR1994992 | NA | NA | PRJEB21104 | NA | CGR | <!----> | H.pylori gastritis          | United Kingdom | gastritis      | <!----> | ⋯ | NA | NA | positive | 92.87387 | NA | 27F _388R | <!----> | gastric mucosa biopsy | NA | control |\n",
       "\n"
      ],
      "text/plain": [
       "           Age BMI BioProject CagA Center_Name Collection_Date\n",
       "ERR1995049 NA  NA  PRJEB21104 NA   CGR                        \n",
       "ERR1995038 NA  NA  PRJEB21104 NA   CGR                        \n",
       "ERR1994996 NA  NA  PRJEB21104 NA   CGR                        \n",
       "ERR1994997 NA  NA  PRJEB21104 NA   CGR                        \n",
       "ERR1995023 NA  NA  PRJEB21104 NA   CGR                        \n",
       "ERR1994992 NA  NA  PRJEB21104 NA   CGR                        \n",
       "           Condition                   Country        Diagnosis      Gender ⋯\n",
       "ERR1995049 gastric cancer              United Kingdom gastric cancer        ⋯\n",
       "ERR1995038 gastric cancer              United Kingdom gastric cancer        ⋯\n",
       "ERR1994996 H.pylori gastritis          United Kingdom gastritis             ⋯\n",
       "ERR1994997 H.pylori gastritis          United Kingdom gastritis             ⋯\n",
       "ERR1995023 H.pylori atrophic gastritis United Kingdom gastritis             ⋯\n",
       "ERR1994992 H.pylori gastritis          United Kingdom gastritis             ⋯\n",
       "           host_height host_weight hp       hp_relative_abundance paried.sample\n",
       "ERR1995049 NA          NA          positive 78.20510              NA           \n",
       "ERR1995038 NA          NA          positive 11.57239              NA           \n",
       "ERR1994996 NA          NA          positive 99.82093              NA           \n",
       "ERR1994997 NA          NA          positive 99.90214              NA           \n",
       "ERR1995023 NA          NA          positive 99.88107              NA           \n",
       "ERR1994992 NA          NA          positive 92.87387              NA           \n",
       "           primer    sampleloc sampling_method       smoker case_control\n",
       "ERR1995049 27F _388R           gastric mucosa biopsy NA     case        \n",
       "ERR1995038 27F _388R           gastric mucosa biopsy NA     case        \n",
       "ERR1994996 27F _388R           gastric mucosa biopsy NA     control     \n",
       "ERR1994997 27F _388R           gastric mucosa biopsy NA     control     \n",
       "ERR1995023 27F _388R           gastric mucosa biopsy NA     control     \n",
       "ERR1994992 27F _388R           gastric mucosa biopsy NA     control     "
      ]
     },
     "metadata": {},
     "output_type": "display_data"
    }
   ],
   "source": [
    "md <- read.csv('gastritis-and-GC-metadata.tsv',\n",
    "            sep='\\t',row.names=1)\n",
    "head(md)"
   ]
  },
  {
   "cell_type": "code",
   "execution_count": 8,
   "id": "b3c71f74-bc7e-4bdb-b4ab-a2228e7c24d0",
   "metadata": {},
   "outputs": [],
   "source": [
    "md[which(md$Diagnosis=='gastric cancer'),]$Diagnosis <- 'gastric_cancer'"
   ]
  },
  {
   "cell_type": "code",
   "execution_count": 9,
   "id": "bfeddbba-2a1d-40f4-b5e7-5303d5db12ac",
   "metadata": {},
   "outputs": [
    {
     "data": {
      "text/html": [
       "<style>\n",
       ".list-inline {list-style: none; margin:0; padding: 0}\n",
       ".list-inline>li {display: inline-block}\n",
       ".list-inline>li:not(:last-child)::after {content: \"\\00b7\"; padding: 0 .5ex}\n",
       "</style>\n",
       "<ol class=list-inline><li>541</li><li>51</li></ol>\n"
      ],
      "text/latex": [
       "\\begin{enumerate*}\n",
       "\\item 541\n",
       "\\item 51\n",
       "\\end{enumerate*}\n"
      ],
      "text/markdown": [
       "1. 541\n",
       "2. 51\n",
       "\n",
       "\n"
      ],
      "text/plain": [
       "[1] 541  51"
      ]
     },
     "metadata": {},
     "output_type": "display_data"
    }
   ],
   "source": [
    "s_md <- subset(md,BioProject=='PRJEB26931' | BioProject=='PRJNA375772' | BioProject=='PRJNA481413')\n",
    "dim(s_md)"
   ]
  },
  {
   "cell_type": "code",
   "execution_count": 10,
   "id": "faf4ea64-6968-4dbd-ba6c-74e14e10836b",
   "metadata": {},
   "outputs": [
    {
     "name": "stderr",
     "output_type": "stream",
     "text": [
      "\u001b[1m\u001b[22m`summarise()` has grouped output by 'Study'. You can override using the\n",
      "`.groups` argument.\n"
     ]
    },
    {
     "data": {
      "text/html": [
       "<table>\n",
       "<caption>A grouped_df: 8 × 3</caption>\n",
       "<thead>\n",
       "\t<tr><th scope=col>Study</th><th scope=col>Diagnosis</th><th scope=col>count</th></tr>\n",
       "\t<tr><th scope=col>&lt;chr&gt;</th><th scope=col>&lt;chr&gt;</th><th scope=col>&lt;int&gt;</th></tr>\n",
       "</thead>\n",
       "<tbody>\n",
       "\t<tr><td>PRJEB26931                </td><td>gastric_cancer</td><td> 84</td></tr>\n",
       "\t<tr><td>PRJEB26931                </td><td>gastritis     </td><td> 41</td></tr>\n",
       "\t<tr><td>PRJNA375772_Inner_Mongolia</td><td>gastric_cancer</td><td> 36</td></tr>\n",
       "\t<tr><td>PRJNA375772_Inner_Mongolia</td><td>gastritis     </td><td> 56</td></tr>\n",
       "\t<tr><td>PRJNA375772_Xi_an         </td><td>gastric_cancer</td><td> 40</td></tr>\n",
       "\t<tr><td>PRJNA375772_Xi_an         </td><td>gastritis     </td><td> 54</td></tr>\n",
       "\t<tr><td>PRJNA481413               </td><td>gastric_cancer</td><td>115</td></tr>\n",
       "\t<tr><td>PRJNA481413               </td><td>gastritis     </td><td>115</td></tr>\n",
       "</tbody>\n",
       "</table>\n"
      ],
      "text/latex": [
       "A grouped\\_df: 8 × 3\n",
       "\\begin{tabular}{lll}\n",
       " Study & Diagnosis & count\\\\\n",
       " <chr> & <chr> & <int>\\\\\n",
       "\\hline\n",
       "\t PRJEB26931                 & gastric\\_cancer &  84\\\\\n",
       "\t PRJEB26931                 & gastritis      &  41\\\\\n",
       "\t PRJNA375772\\_Inner\\_Mongolia & gastric\\_cancer &  36\\\\\n",
       "\t PRJNA375772\\_Inner\\_Mongolia & gastritis      &  56\\\\\n",
       "\t PRJNA375772\\_Xi\\_an          & gastric\\_cancer &  40\\\\\n",
       "\t PRJNA375772\\_Xi\\_an          & gastritis      &  54\\\\\n",
       "\t PRJNA481413                & gastric\\_cancer & 115\\\\\n",
       "\t PRJNA481413                & gastritis      & 115\\\\\n",
       "\\end{tabular}\n"
      ],
      "text/markdown": [
       "\n",
       "A grouped_df: 8 × 3\n",
       "\n",
       "| Study &lt;chr&gt; | Diagnosis &lt;chr&gt; | count &lt;int&gt; |\n",
       "|---|---|---|\n",
       "| PRJEB26931                 | gastric_cancer |  84 |\n",
       "| PRJEB26931                 | gastritis      |  41 |\n",
       "| PRJNA375772_Inner_Mongolia | gastric_cancer |  36 |\n",
       "| PRJNA375772_Inner_Mongolia | gastritis      |  56 |\n",
       "| PRJNA375772_Xi_an          | gastric_cancer |  40 |\n",
       "| PRJNA375772_Xi_an          | gastritis      |  54 |\n",
       "| PRJNA481413                | gastric_cancer | 115 |\n",
       "| PRJNA481413                | gastritis      | 115 |\n",
       "\n"
      ],
      "text/plain": [
       "  Study                      Diagnosis      count\n",
       "1 PRJEB26931                 gastric_cancer  84  \n",
       "2 PRJEB26931                 gastritis       41  \n",
       "3 PRJNA375772_Inner_Mongolia gastric_cancer  36  \n",
       "4 PRJNA375772_Inner_Mongolia gastritis       56  \n",
       "5 PRJNA375772_Xi_an          gastric_cancer  40  \n",
       "6 PRJNA375772_Xi_an          gastritis       54  \n",
       "7 PRJNA481413                gastric_cancer 115  \n",
       "8 PRJNA481413                gastritis      115  "
      ]
     },
     "metadata": {},
     "output_type": "display_data"
    }
   ],
   "source": [
    "s_md %>%group_by(Study, Diagnosis) %>% summarize(count=n())"
   ]
  },
  {
   "cell_type": "code",
   "execution_count": 11,
   "id": "7c6569de-a39d-4316-b34a-a34b40453243",
   "metadata": {},
   "outputs": [
    {
     "data": {
      "text/html": [
       "<style>\n",
       ".list-inline {list-style: none; margin:0; padding: 0}\n",
       ".list-inline>li {display: inline-block}\n",
       ".list-inline>li:not(:last-child)::after {content: \"\\00b7\"; padding: 0 .5ex}\n",
       "</style>\n",
       "<ol class=list-inline><li>'PRJEB26931'</li><li>'PRJNA375772_Inner_Mongolia'</li><li>'PRJNA375772_Xi_an'</li><li>'PRJNA481413'</li></ol>\n"
      ],
      "text/latex": [
       "\\begin{enumerate*}\n",
       "\\item 'PRJEB26931'\n",
       "\\item 'PRJNA375772\\_Inner\\_Mongolia'\n",
       "\\item 'PRJNA375772\\_Xi\\_an'\n",
       "\\item 'PRJNA481413'\n",
       "\\end{enumerate*}\n"
      ],
      "text/markdown": [
       "1. 'PRJEB26931'\n",
       "2. 'PRJNA375772_Inner_Mongolia'\n",
       "3. 'PRJNA375772_Xi_an'\n",
       "4. 'PRJNA481413'\n",
       "\n",
       "\n"
      ],
      "text/plain": [
       "[1] \"PRJEB26931\"                 \"PRJNA375772_Inner_Mongolia\"\n",
       "[3] \"PRJNA375772_Xi_an\"          \"PRJNA481413\"               "
      ]
     },
     "metadata": {},
     "output_type": "display_data"
    }
   ],
   "source": [
    "unique(s_md$Study)"
   ]
  },
  {
   "cell_type": "code",
   "execution_count": 12,
   "id": "9379f247-6fc0-404a-8535-f975a7057636",
   "metadata": {},
   "outputs": [],
   "source": [
    "study <- unique(s_md$Study)"
   ]
  },
  {
   "cell_type": "code",
   "execution_count": 13,
   "id": "8e54d623-327b-4a07-a432-42381ffaabbd",
   "metadata": {},
   "outputs": [],
   "source": [
    "md$Diagnosis <- factor(md$Diagnosis,levels=c('gastritis','gastric_cancer'))"
   ]
  },
  {
   "cell_type": "markdown",
   "id": "79e6f94e-7b76-4726-b8c1-aed4639a1769",
   "metadata": {},
   "source": [
    "# read taxonomy"
   ]
  },
  {
   "cell_type": "code",
   "execution_count": 14,
   "id": "7ee2b12e-f7f0-4d45-8df7-1ad0b34ab31d",
   "metadata": {},
   "outputs": [
    {
     "data": {
      "text/html": [
       "<table>\n",
       "<caption>A data.frame: 6 × 2</caption>\n",
       "<thead>\n",
       "\t<tr><th></th><th scope=col>ID</th><th scope=col>taxonomy</th></tr>\n",
       "\t<tr><th></th><th scope=col>&lt;int&gt;</th><th scope=col>&lt;chr&gt;</th></tr>\n",
       "</thead>\n",
       "<tbody>\n",
       "\t<tr><th scope=row>1</th><td>228054</td><td>k__Bacteria; p__Cyanobacteria; c__Synechococcophycideae; o__Synechococcales; f__Synechococcaceae; g__Synechococcus; s__             </td></tr>\n",
       "\t<tr><th scope=row>2</th><td>228057</td><td>k__Bacteria; p__Proteobacteria; c__Alphaproteobacteria; o__Rickettsiales; f__Pelagibacteraceae; g__; s__                            </td></tr>\n",
       "\t<tr><th scope=row>3</th><td> 73627</td><td>k__Bacteria; p__Actinobacteria; c__Actinobacteria; o__Actinomycetales; f__Mycobacteriaceae; g__Mycobacterium; s__                   </td></tr>\n",
       "\t<tr><th scope=row>4</th><td>378462</td><td>k__Bacteria; p__Firmicutes; c__Bacilli; o__Bacillales; f__Staphylococcaceae; g__Staphylococcus; s__                                 </td></tr>\n",
       "\t<tr><th scope=row>5</th><td> 89370</td><td>k__Bacteria; p__Firmicutes; c__Bacilli; o__Bacillales; f__Bacillaceae; g__Anoxybacillus; s__kestanbolensis                          </td></tr>\n",
       "\t<tr><th scope=row>6</th><td>370251</td><td>k__Bacteria; p__Proteobacteria; c__Gammaproteobacteria; o__Oceanospirillales; f__Endozoicimonaceae; g__Endozoicomonas; s__montiporae</td></tr>\n",
       "</tbody>\n",
       "</table>\n"
      ],
      "text/latex": [
       "A data.frame: 6 × 2\n",
       "\\begin{tabular}{r|ll}\n",
       "  & ID & taxonomy\\\\\n",
       "  & <int> & <chr>\\\\\n",
       "\\hline\n",
       "\t1 & 228054 & k\\_\\_Bacteria; p\\_\\_Cyanobacteria; c\\_\\_Synechococcophycideae; o\\_\\_Synechococcales; f\\_\\_Synechococcaceae; g\\_\\_Synechococcus; s\\_\\_             \\\\\n",
       "\t2 & 228057 & k\\_\\_Bacteria; p\\_\\_Proteobacteria; c\\_\\_Alphaproteobacteria; o\\_\\_Rickettsiales; f\\_\\_Pelagibacteraceae; g\\_\\_; s\\_\\_                            \\\\\n",
       "\t3 &  73627 & k\\_\\_Bacteria; p\\_\\_Actinobacteria; c\\_\\_Actinobacteria; o\\_\\_Actinomycetales; f\\_\\_Mycobacteriaceae; g\\_\\_Mycobacterium; s\\_\\_                   \\\\\n",
       "\t4 & 378462 & k\\_\\_Bacteria; p\\_\\_Firmicutes; c\\_\\_Bacilli; o\\_\\_Bacillales; f\\_\\_Staphylococcaceae; g\\_\\_Staphylococcus; s\\_\\_                                 \\\\\n",
       "\t5 &  89370 & k\\_\\_Bacteria; p\\_\\_Firmicutes; c\\_\\_Bacilli; o\\_\\_Bacillales; f\\_\\_Bacillaceae; g\\_\\_Anoxybacillus; s\\_\\_kestanbolensis                          \\\\\n",
       "\t6 & 370251 & k\\_\\_Bacteria; p\\_\\_Proteobacteria; c\\_\\_Gammaproteobacteria; o\\_\\_Oceanospirillales; f\\_\\_Endozoicimonaceae; g\\_\\_Endozoicomonas; s\\_\\_montiporae\\\\\n",
       "\\end{tabular}\n"
      ],
      "text/markdown": [
       "\n",
       "A data.frame: 6 × 2\n",
       "\n",
       "| <!--/--> | ID &lt;int&gt; | taxonomy &lt;chr&gt; |\n",
       "|---|---|---|\n",
       "| 1 | 228054 | k__Bacteria; p__Cyanobacteria; c__Synechococcophycideae; o__Synechococcales; f__Synechococcaceae; g__Synechococcus; s__              |\n",
       "| 2 | 228057 | k__Bacteria; p__Proteobacteria; c__Alphaproteobacteria; o__Rickettsiales; f__Pelagibacteraceae; g__; s__                             |\n",
       "| 3 |  73627 | k__Bacteria; p__Actinobacteria; c__Actinobacteria; o__Actinomycetales; f__Mycobacteriaceae; g__Mycobacterium; s__                    |\n",
       "| 4 | 378462 | k__Bacteria; p__Firmicutes; c__Bacilli; o__Bacillales; f__Staphylococcaceae; g__Staphylococcus; s__                                  |\n",
       "| 5 |  89370 | k__Bacteria; p__Firmicutes; c__Bacilli; o__Bacillales; f__Bacillaceae; g__Anoxybacillus; s__kestanbolensis                           |\n",
       "| 6 | 370251 | k__Bacteria; p__Proteobacteria; c__Gammaproteobacteria; o__Oceanospirillales; f__Endozoicimonaceae; g__Endozoicomonas; s__montiporae |\n",
       "\n"
      ],
      "text/plain": [
       "  ID    \n",
       "1 228054\n",
       "2 228057\n",
       "3  73627\n",
       "4 378462\n",
       "5  89370\n",
       "6 370251\n",
       "  taxonomy                                                                                                                            \n",
       "1 k__Bacteria; p__Cyanobacteria; c__Synechococcophycideae; o__Synechococcales; f__Synechococcaceae; g__Synechococcus; s__             \n",
       "2 k__Bacteria; p__Proteobacteria; c__Alphaproteobacteria; o__Rickettsiales; f__Pelagibacteraceae; g__; s__                            \n",
       "3 k__Bacteria; p__Actinobacteria; c__Actinobacteria; o__Actinomycetales; f__Mycobacteriaceae; g__Mycobacterium; s__                   \n",
       "4 k__Bacteria; p__Firmicutes; c__Bacilli; o__Bacillales; f__Staphylococcaceae; g__Staphylococcus; s__                                 \n",
       "5 k__Bacteria; p__Firmicutes; c__Bacilli; o__Bacillales; f__Bacillaceae; g__Anoxybacillus; s__kestanbolensis                          \n",
       "6 k__Bacteria; p__Proteobacteria; c__Gammaproteobacteria; o__Oceanospirillales; f__Endozoicimonaceae; g__Endozoicomonas; s__montiporae"
      ]
     },
     "metadata": {},
     "output_type": "display_data"
    }
   ],
   "source": [
    "taxo <- read.csv('/beegfs/db/greengenes/gg_13_8_otus/taxonomy/99_otu_taxonomy.txt',sep='\\t',header=F)\n",
    "names(taxo) <- c('ID','taxonomy')\n",
    "head(taxo)"
   ]
  },
  {
   "cell_type": "code",
   "execution_count": 15,
   "id": "11129778-1ad2-4022-8f6c-9610926408b3",
   "metadata": {},
   "outputs": [],
   "source": [
    "# function to get lowest taxomy\n",
    "\n",
    "get_low_taxon <- function(a){\n",
    "    b <-strsplit(a,';')\n",
    "    c <- rev(as.vector(unlist(b)))\n",
    "    for (i in c){\n",
    "        l <- nchar(i)\n",
    "        if (l>4){\n",
    "            d <- i\n",
    "            break           \n",
    "        }\n",
    "    }\n",
    "return(d)\n",
    "}"
   ]
  },
  {
   "cell_type": "code",
   "execution_count": 16,
   "id": "5d02ec55-e9f0-4d96-907a-838eab780f41",
   "metadata": {},
   "outputs": [
    {
     "data": {
      "text/html": [
       "<table>\n",
       "<caption>A data.frame: 6 × 3</caption>\n",
       "<thead>\n",
       "\t<tr><th></th><th scope=col>ID</th><th scope=col>taxonomy</th><th scope=col>Taxonomy</th></tr>\n",
       "\t<tr><th></th><th scope=col>&lt;int&gt;</th><th scope=col>&lt;chr&gt;</th><th scope=col>&lt;chr&gt;</th></tr>\n",
       "</thead>\n",
       "<tbody>\n",
       "\t<tr><th scope=row>1</th><td>228054</td><td>k__Bacteria; p__Cyanobacteria; c__Synechococcophycideae; o__Synechococcales; f__Synechococcaceae; g__Synechococcus; s__             </td><td> g__Synechococcus    </td></tr>\n",
       "\t<tr><th scope=row>2</th><td>228057</td><td>k__Bacteria; p__Proteobacteria; c__Alphaproteobacteria; o__Rickettsiales; f__Pelagibacteraceae; g__; s__                            </td><td> f__Pelagibacteraceae</td></tr>\n",
       "\t<tr><th scope=row>3</th><td> 73627</td><td>k__Bacteria; p__Actinobacteria; c__Actinobacteria; o__Actinomycetales; f__Mycobacteriaceae; g__Mycobacterium; s__                   </td><td> g__Mycobacterium    </td></tr>\n",
       "\t<tr><th scope=row>4</th><td>378462</td><td>k__Bacteria; p__Firmicutes; c__Bacilli; o__Bacillales; f__Staphylococcaceae; g__Staphylococcus; s__                                 </td><td> g__Staphylococcus   </td></tr>\n",
       "\t<tr><th scope=row>5</th><td> 89370</td><td>k__Bacteria; p__Firmicutes; c__Bacilli; o__Bacillales; f__Bacillaceae; g__Anoxybacillus; s__kestanbolensis                          </td><td> s__kestanbolensis   </td></tr>\n",
       "\t<tr><th scope=row>6</th><td>370251</td><td>k__Bacteria; p__Proteobacteria; c__Gammaproteobacteria; o__Oceanospirillales; f__Endozoicimonaceae; g__Endozoicomonas; s__montiporae</td><td> s__montiporae       </td></tr>\n",
       "</tbody>\n",
       "</table>\n"
      ],
      "text/latex": [
       "A data.frame: 6 × 3\n",
       "\\begin{tabular}{r|lll}\n",
       "  & ID & taxonomy & Taxonomy\\\\\n",
       "  & <int> & <chr> & <chr>\\\\\n",
       "\\hline\n",
       "\t1 & 228054 & k\\_\\_Bacteria; p\\_\\_Cyanobacteria; c\\_\\_Synechococcophycideae; o\\_\\_Synechococcales; f\\_\\_Synechococcaceae; g\\_\\_Synechococcus; s\\_\\_              &  g\\_\\_Synechococcus    \\\\\n",
       "\t2 & 228057 & k\\_\\_Bacteria; p\\_\\_Proteobacteria; c\\_\\_Alphaproteobacteria; o\\_\\_Rickettsiales; f\\_\\_Pelagibacteraceae; g\\_\\_; s\\_\\_                             &  f\\_\\_Pelagibacteraceae\\\\\n",
       "\t3 &  73627 & k\\_\\_Bacteria; p\\_\\_Actinobacteria; c\\_\\_Actinobacteria; o\\_\\_Actinomycetales; f\\_\\_Mycobacteriaceae; g\\_\\_Mycobacterium; s\\_\\_                    &  g\\_\\_Mycobacterium    \\\\\n",
       "\t4 & 378462 & k\\_\\_Bacteria; p\\_\\_Firmicutes; c\\_\\_Bacilli; o\\_\\_Bacillales; f\\_\\_Staphylococcaceae; g\\_\\_Staphylococcus; s\\_\\_                                  &  g\\_\\_Staphylococcus   \\\\\n",
       "\t5 &  89370 & k\\_\\_Bacteria; p\\_\\_Firmicutes; c\\_\\_Bacilli; o\\_\\_Bacillales; f\\_\\_Bacillaceae; g\\_\\_Anoxybacillus; s\\_\\_kestanbolensis                           &  s\\_\\_kestanbolensis   \\\\\n",
       "\t6 & 370251 & k\\_\\_Bacteria; p\\_\\_Proteobacteria; c\\_\\_Gammaproteobacteria; o\\_\\_Oceanospirillales; f\\_\\_Endozoicimonaceae; g\\_\\_Endozoicomonas; s\\_\\_montiporae &  s\\_\\_montiporae       \\\\\n",
       "\\end{tabular}\n"
      ],
      "text/markdown": [
       "\n",
       "A data.frame: 6 × 3\n",
       "\n",
       "| <!--/--> | ID &lt;int&gt; | taxonomy &lt;chr&gt; | Taxonomy &lt;chr&gt; |\n",
       "|---|---|---|---|\n",
       "| 1 | 228054 | k__Bacteria; p__Cyanobacteria; c__Synechococcophycideae; o__Synechococcales; f__Synechococcaceae; g__Synechococcus; s__              |  g__Synechococcus     |\n",
       "| 2 | 228057 | k__Bacteria; p__Proteobacteria; c__Alphaproteobacteria; o__Rickettsiales; f__Pelagibacteraceae; g__; s__                             |  f__Pelagibacteraceae |\n",
       "| 3 |  73627 | k__Bacteria; p__Actinobacteria; c__Actinobacteria; o__Actinomycetales; f__Mycobacteriaceae; g__Mycobacterium; s__                    |  g__Mycobacterium     |\n",
       "| 4 | 378462 | k__Bacteria; p__Firmicutes; c__Bacilli; o__Bacillales; f__Staphylococcaceae; g__Staphylococcus; s__                                  |  g__Staphylococcus    |\n",
       "| 5 |  89370 | k__Bacteria; p__Firmicutes; c__Bacilli; o__Bacillales; f__Bacillaceae; g__Anoxybacillus; s__kestanbolensis                           |  s__kestanbolensis    |\n",
       "| 6 | 370251 | k__Bacteria; p__Proteobacteria; c__Gammaproteobacteria; o__Oceanospirillales; f__Endozoicimonaceae; g__Endozoicomonas; s__montiporae |  s__montiporae        |\n",
       "\n"
      ],
      "text/plain": [
       "  ID    \n",
       "1 228054\n",
       "2 228057\n",
       "3  73627\n",
       "4 378462\n",
       "5  89370\n",
       "6 370251\n",
       "  taxonomy                                                                                                                            \n",
       "1 k__Bacteria; p__Cyanobacteria; c__Synechococcophycideae; o__Synechococcales; f__Synechococcaceae; g__Synechococcus; s__             \n",
       "2 k__Bacteria; p__Proteobacteria; c__Alphaproteobacteria; o__Rickettsiales; f__Pelagibacteraceae; g__; s__                            \n",
       "3 k__Bacteria; p__Actinobacteria; c__Actinobacteria; o__Actinomycetales; f__Mycobacteriaceae; g__Mycobacterium; s__                   \n",
       "4 k__Bacteria; p__Firmicutes; c__Bacilli; o__Bacillales; f__Staphylococcaceae; g__Staphylococcus; s__                                 \n",
       "5 k__Bacteria; p__Firmicutes; c__Bacilli; o__Bacillales; f__Bacillaceae; g__Anoxybacillus; s__kestanbolensis                          \n",
       "6 k__Bacteria; p__Proteobacteria; c__Gammaproteobacteria; o__Oceanospirillales; f__Endozoicimonaceae; g__Endozoicomonas; s__montiporae\n",
       "  Taxonomy             \n",
       "1  g__Synechococcus    \n",
       "2  f__Pelagibacteraceae\n",
       "3  g__Mycobacterium    \n",
       "4  g__Staphylococcus   \n",
       "5  s__kestanbolensis   \n",
       "6  s__montiporae       "
      ]
     },
     "metadata": {},
     "output_type": "display_data"
    }
   ],
   "source": [
    "taxo$Taxonomy <- apply(taxo,1,get_low_taxon)\n",
    "head(taxo)"
   ]
  },
  {
   "cell_type": "code",
   "execution_count": 17,
   "id": "0e05af0f-a136-473b-9fa1-549c90294552",
   "metadata": {},
   "outputs": [
    {
     "data": {
      "text/html": [
       "<table>\n",
       "<caption>A data.frame: 6 × 5</caption>\n",
       "<thead>\n",
       "\t<tr><th></th><th scope=col>ID</th><th scope=col>taxonomy</th><th scope=col>Taxonomy</th><th scope=col>ID_Taxonomy</th><th scope=col>Taxon</th></tr>\n",
       "\t<tr><th></th><th scope=col>&lt;int&gt;</th><th scope=col>&lt;chr&gt;</th><th scope=col>&lt;chr&gt;</th><th scope=col>&lt;chr&gt;</th><th scope=col>&lt;chr&gt;</th></tr>\n",
       "</thead>\n",
       "<tbody>\n",
       "\t<tr><th scope=row>1</th><td>228054</td><td>k__Bacteria; p__Cyanobacteria; c__Synechococcophycideae; o__Synechococcales; f__Synechococcaceae; g__Synechococcus; s__             </td><td> g__Synechococcus    </td><td>228054 \n",
       "  g__Synechococcus    </td><td>228054; g__Synechococcus    </td></tr>\n",
       "\t<tr><th scope=row>2</th><td>228057</td><td>k__Bacteria; p__Proteobacteria; c__Alphaproteobacteria; o__Rickettsiales; f__Pelagibacteraceae; g__; s__                            </td><td> f__Pelagibacteraceae</td><td>228057 \n",
       "  f__Pelagibacteraceae</td><td>228057; f__Pelagibacteraceae</td></tr>\n",
       "\t<tr><th scope=row>3</th><td> 73627</td><td>k__Bacteria; p__Actinobacteria; c__Actinobacteria; o__Actinomycetales; f__Mycobacteriaceae; g__Mycobacterium; s__                   </td><td> g__Mycobacterium    </td><td>73627 \n",
       "  g__Mycobacterium     </td><td>73627; g__Mycobacterium     </td></tr>\n",
       "\t<tr><th scope=row>4</th><td>378462</td><td>k__Bacteria; p__Firmicutes; c__Bacilli; o__Bacillales; f__Staphylococcaceae; g__Staphylococcus; s__                                 </td><td> g__Staphylococcus   </td><td>378462 \n",
       "  g__Staphylococcus   </td><td>378462; g__Staphylococcus   </td></tr>\n",
       "\t<tr><th scope=row>5</th><td> 89370</td><td>k__Bacteria; p__Firmicutes; c__Bacilli; o__Bacillales; f__Bacillaceae; g__Anoxybacillus; s__kestanbolensis                          </td><td> s__kestanbolensis   </td><td>89370 \n",
       "  s__kestanbolensis    </td><td>89370; s__kestanbolensis    </td></tr>\n",
       "\t<tr><th scope=row>6</th><td>370251</td><td>k__Bacteria; p__Proteobacteria; c__Gammaproteobacteria; o__Oceanospirillales; f__Endozoicimonaceae; g__Endozoicomonas; s__montiporae</td><td> s__montiporae       </td><td>370251 \n",
       "  s__montiporae       </td><td>370251; s__montiporae       </td></tr>\n",
       "</tbody>\n",
       "</table>\n"
      ],
      "text/latex": [
       "A data.frame: 6 × 5\n",
       "\\begin{tabular}{r|lllll}\n",
       "  & ID & taxonomy & Taxonomy & ID\\_Taxonomy & Taxon\\\\\n",
       "  & <int> & <chr> & <chr> & <chr> & <chr>\\\\\n",
       "\\hline\n",
       "\t1 & 228054 & k\\_\\_Bacteria; p\\_\\_Cyanobacteria; c\\_\\_Synechococcophycideae; o\\_\\_Synechococcales; f\\_\\_Synechococcaceae; g\\_\\_Synechococcus; s\\_\\_              &  g\\_\\_Synechococcus     & 228054 \n",
       "  g\\_\\_Synechococcus     & 228054; g\\_\\_Synechococcus    \\\\\n",
       "\t2 & 228057 & k\\_\\_Bacteria; p\\_\\_Proteobacteria; c\\_\\_Alphaproteobacteria; o\\_\\_Rickettsiales; f\\_\\_Pelagibacteraceae; g\\_\\_; s\\_\\_                             &  f\\_\\_Pelagibacteraceae & 228057 \n",
       "  f\\_\\_Pelagibacteraceae & 228057; f\\_\\_Pelagibacteraceae\\\\\n",
       "\t3 &  73627 & k\\_\\_Bacteria; p\\_\\_Actinobacteria; c\\_\\_Actinobacteria; o\\_\\_Actinomycetales; f\\_\\_Mycobacteriaceae; g\\_\\_Mycobacterium; s\\_\\_                    &  g\\_\\_Mycobacterium     & 73627 \n",
       "  g\\_\\_Mycobacterium      & 73627; g\\_\\_Mycobacterium     \\\\\n",
       "\t4 & 378462 & k\\_\\_Bacteria; p\\_\\_Firmicutes; c\\_\\_Bacilli; o\\_\\_Bacillales; f\\_\\_Staphylococcaceae; g\\_\\_Staphylococcus; s\\_\\_                                  &  g\\_\\_Staphylococcus    & 378462 \n",
       "  g\\_\\_Staphylococcus    & 378462; g\\_\\_Staphylococcus   \\\\\n",
       "\t5 &  89370 & k\\_\\_Bacteria; p\\_\\_Firmicutes; c\\_\\_Bacilli; o\\_\\_Bacillales; f\\_\\_Bacillaceae; g\\_\\_Anoxybacillus; s\\_\\_kestanbolensis                           &  s\\_\\_kestanbolensis    & 89370 \n",
       "  s\\_\\_kestanbolensis     & 89370; s\\_\\_kestanbolensis    \\\\\n",
       "\t6 & 370251 & k\\_\\_Bacteria; p\\_\\_Proteobacteria; c\\_\\_Gammaproteobacteria; o\\_\\_Oceanospirillales; f\\_\\_Endozoicimonaceae; g\\_\\_Endozoicomonas; s\\_\\_montiporae &  s\\_\\_montiporae        & 370251 \n",
       "  s\\_\\_montiporae        & 370251; s\\_\\_montiporae       \\\\\n",
       "\\end{tabular}\n"
      ],
      "text/markdown": [
       "\n",
       "A data.frame: 6 × 5\n",
       "\n",
       "| <!--/--> | ID &lt;int&gt; | taxonomy &lt;chr&gt; | Taxonomy &lt;chr&gt; | ID_Taxonomy &lt;chr&gt; | Taxon &lt;chr&gt; |\n",
       "|---|---|---|---|---|---|\n",
       "| 1 | 228054 | k__Bacteria; p__Cyanobacteria; c__Synechococcophycideae; o__Synechococcales; f__Synechococcaceae; g__Synechococcus; s__              |  g__Synechococcus     | 228054 \n",
       "  g__Synechococcus     | 228054; g__Synechococcus     |\n",
       "| 2 | 228057 | k__Bacteria; p__Proteobacteria; c__Alphaproteobacteria; o__Rickettsiales; f__Pelagibacteraceae; g__; s__                             |  f__Pelagibacteraceae | 228057 \n",
       "  f__Pelagibacteraceae | 228057; f__Pelagibacteraceae |\n",
       "| 3 |  73627 | k__Bacteria; p__Actinobacteria; c__Actinobacteria; o__Actinomycetales; f__Mycobacteriaceae; g__Mycobacterium; s__                    |  g__Mycobacterium     | 73627 \n",
       "  g__Mycobacterium      | 73627; g__Mycobacterium      |\n",
       "| 4 | 378462 | k__Bacteria; p__Firmicutes; c__Bacilli; o__Bacillales; f__Staphylococcaceae; g__Staphylococcus; s__                                  |  g__Staphylococcus    | 378462 \n",
       "  g__Staphylococcus    | 378462; g__Staphylococcus    |\n",
       "| 5 |  89370 | k__Bacteria; p__Firmicutes; c__Bacilli; o__Bacillales; f__Bacillaceae; g__Anoxybacillus; s__kestanbolensis                           |  s__kestanbolensis    | 89370 \n",
       "  s__kestanbolensis     | 89370; s__kestanbolensis     |\n",
       "| 6 | 370251 | k__Bacteria; p__Proteobacteria; c__Gammaproteobacteria; o__Oceanospirillales; f__Endozoicimonaceae; g__Endozoicomonas; s__montiporae |  s__montiporae        | 370251 \n",
       "  s__montiporae        | 370251; s__montiporae        |\n",
       "\n"
      ],
      "text/plain": [
       "  ID    \n",
       "1 228054\n",
       "2 228057\n",
       "3  73627\n",
       "4 378462\n",
       "5  89370\n",
       "6 370251\n",
       "  taxonomy                                                                                                                            \n",
       "1 k__Bacteria; p__Cyanobacteria; c__Synechococcophycideae; o__Synechococcales; f__Synechococcaceae; g__Synechococcus; s__             \n",
       "2 k__Bacteria; p__Proteobacteria; c__Alphaproteobacteria; o__Rickettsiales; f__Pelagibacteraceae; g__; s__                            \n",
       "3 k__Bacteria; p__Actinobacteria; c__Actinobacteria; o__Actinomycetales; f__Mycobacteriaceae; g__Mycobacterium; s__                   \n",
       "4 k__Bacteria; p__Firmicutes; c__Bacilli; o__Bacillales; f__Staphylococcaceae; g__Staphylococcus; s__                                 \n",
       "5 k__Bacteria; p__Firmicutes; c__Bacilli; o__Bacillales; f__Bacillaceae; g__Anoxybacillus; s__kestanbolensis                          \n",
       "6 k__Bacteria; p__Proteobacteria; c__Gammaproteobacteria; o__Oceanospirillales; f__Endozoicimonaceae; g__Endozoicomonas; s__montiporae\n",
       "  Taxonomy              ID_Taxonomy                    \n",
       "1  g__Synechococcus     228054 \\n  g__Synechococcus    \n",
       "2  f__Pelagibacteraceae 228057 \\n  f__Pelagibacteraceae\n",
       "3  g__Mycobacterium     73627 \\n  g__Mycobacterium     \n",
       "4  g__Staphylococcus    378462 \\n  g__Staphylococcus   \n",
       "5  s__kestanbolensis    89370 \\n  s__kestanbolensis    \n",
       "6  s__montiporae        370251 \\n  s__montiporae       \n",
       "  Taxon                       \n",
       "1 228054; g__Synechococcus    \n",
       "2 228057; f__Pelagibacteraceae\n",
       "3 73627; g__Mycobacterium     \n",
       "4 378462; g__Staphylococcus   \n",
       "5 89370; s__kestanbolensis    \n",
       "6 370251; s__montiporae       "
      ]
     },
     "metadata": {},
     "output_type": "display_data"
    }
   ],
   "source": [
    "taxo$ID_Taxonomy <- paste(taxo$ID,'\\n',taxo$Taxonomy)\n",
    "taxo$Taxon <- paste0(taxo$ID,';',taxo$Taxonomy)\n",
    "head(taxo)"
   ]
  },
  {
   "cell_type": "markdown",
   "id": "cff7e86d-6ba1-41a3-adf8-c85363f1e1a4",
   "metadata": {},
   "source": [
    "# read oral otu "
   ]
  },
  {
   "cell_type": "code",
   "execution_count": 18,
   "id": "e46b3e4b-7c21-4fb8-93fd-71ecb9a35305",
   "metadata": {},
   "outputs": [
    {
     "data": {
      "text/html": [
       "<table>\n",
       "<caption>A data.frame: 2 × 3877</caption>\n",
       "<thead>\n",
       "\t<tr><th></th><th scope=col>1000481</th><th scope=col>1000563</th><th scope=col>1000973</th><th scope=col>1001488</th><th scope=col>1001762</th><th scope=col>1001920</th><th scope=col>1002387</th><th scope=col>100284</th><th scope=col>1003026</th><th scope=col>1003175</th><th scope=col>⋯</th><th scope=col>996487</th><th scope=col>996933</th><th scope=col>997021</th><th scope=col>997210</th><th scope=col>997606</th><th scope=col>997803</th><th scope=col>997957</th><th scope=col>998028</th><th scope=col>998587</th><th scope=col>999477</th></tr>\n",
       "\t<tr><th></th><th scope=col>&lt;int&gt;</th><th scope=col>&lt;int&gt;</th><th scope=col>&lt;int&gt;</th><th scope=col>&lt;int&gt;</th><th scope=col>&lt;int&gt;</th><th scope=col>&lt;int&gt;</th><th scope=col>&lt;int&gt;</th><th scope=col>&lt;int&gt;</th><th scope=col>&lt;int&gt;</th><th scope=col>&lt;int&gt;</th><th scope=col>⋯</th><th scope=col>&lt;int&gt;</th><th scope=col>&lt;int&gt;</th><th scope=col>&lt;int&gt;</th><th scope=col>&lt;int&gt;</th><th scope=col>&lt;int&gt;</th><th scope=col>&lt;int&gt;</th><th scope=col>&lt;int&gt;</th><th scope=col>&lt;int&gt;</th><th scope=col>&lt;int&gt;</th><th scope=col>&lt;int&gt;</th></tr>\n",
       "</thead>\n",
       "<tbody>\n",
       "\t<tr><th scope=row>002_3433</th><td>0</td><td>0</td><td>0</td><td>0</td><td>0</td><td>0</td><td>0</td><td>0</td><td>0</td><td>0</td><td>⋯</td><td>0</td><td>0</td><td>0</td><td>0</td><td>0</td><td>0</td><td>0</td><td>0</td><td>0</td><td>0</td></tr>\n",
       "\t<tr><th scope=row>003_0566</th><td>0</td><td>0</td><td>0</td><td>0</td><td>0</td><td>0</td><td>0</td><td>0</td><td>0</td><td>0</td><td>⋯</td><td>0</td><td>0</td><td>0</td><td>0</td><td>0</td><td>0</td><td>0</td><td>0</td><td>0</td><td>0</td></tr>\n",
       "</tbody>\n",
       "</table>\n"
      ],
      "text/latex": [
       "A data.frame: 2 × 3877\n",
       "\\begin{tabular}{r|lllllllllllllllllllll}\n",
       "  & 1000481 & 1000563 & 1000973 & 1001488 & 1001762 & 1001920 & 1002387 & 100284 & 1003026 & 1003175 & ⋯ & 996487 & 996933 & 997021 & 997210 & 997606 & 997803 & 997957 & 998028 & 998587 & 999477\\\\\n",
       "  & <int> & <int> & <int> & <int> & <int> & <int> & <int> & <int> & <int> & <int> & ⋯ & <int> & <int> & <int> & <int> & <int> & <int> & <int> & <int> & <int> & <int>\\\\\n",
       "\\hline\n",
       "\t002\\_3433 & 0 & 0 & 0 & 0 & 0 & 0 & 0 & 0 & 0 & 0 & ⋯ & 0 & 0 & 0 & 0 & 0 & 0 & 0 & 0 & 0 & 0\\\\\n",
       "\t003\\_0566 & 0 & 0 & 0 & 0 & 0 & 0 & 0 & 0 & 0 & 0 & ⋯ & 0 & 0 & 0 & 0 & 0 & 0 & 0 & 0 & 0 & 0\\\\\n",
       "\\end{tabular}\n"
      ],
      "text/markdown": [
       "\n",
       "A data.frame: 2 × 3877\n",
       "\n",
       "| <!--/--> | 1000481 &lt;int&gt; | 1000563 &lt;int&gt; | 1000973 &lt;int&gt; | 1001488 &lt;int&gt; | 1001762 &lt;int&gt; | 1001920 &lt;int&gt; | 1002387 &lt;int&gt; | 100284 &lt;int&gt; | 1003026 &lt;int&gt; | 1003175 &lt;int&gt; | ⋯ ⋯ | 996487 &lt;int&gt; | 996933 &lt;int&gt; | 997021 &lt;int&gt; | 997210 &lt;int&gt; | 997606 &lt;int&gt; | 997803 &lt;int&gt; | 997957 &lt;int&gt; | 998028 &lt;int&gt; | 998587 &lt;int&gt; | 999477 &lt;int&gt; |\n",
       "|---|---|---|---|---|---|---|---|---|---|---|---|---|---|---|---|---|---|---|---|---|---|\n",
       "| 002_3433 | 0 | 0 | 0 | 0 | 0 | 0 | 0 | 0 | 0 | 0 | ⋯ | 0 | 0 | 0 | 0 | 0 | 0 | 0 | 0 | 0 | 0 |\n",
       "| 003_0566 | 0 | 0 | 0 | 0 | 0 | 0 | 0 | 0 | 0 | 0 | ⋯ | 0 | 0 | 0 | 0 | 0 | 0 | 0 | 0 | 0 | 0 |\n",
       "\n"
      ],
      "text/plain": [
       "         1000481 1000563 1000973 1001488 1001762 1001920 1002387 100284 1003026\n",
       "002_3433 0       0       0       0       0       0       0       0      0      \n",
       "003_0566 0       0       0       0       0       0       0       0      0      \n",
       "         1003175 ⋯ 996487 996933 997021 997210 997606 997803 997957 998028\n",
       "002_3433 0       ⋯ 0      0      0      0      0      0      0      0     \n",
       "003_0566 0       ⋯ 0      0      0      0      0      0      0      0     \n",
       "         998587 999477\n",
       "002_3433 0      0     \n",
       "003_0566 0      0     "
      ]
     },
     "metadata": {},
     "output_type": "display_data"
    }
   ],
   "source": [
    "oral_table <- read.csv('../rep-seqs2HOMD.tsv',sep='\\t',check.names=F,row.names = 1)\n",
    "head(oral_table,2)"
   ]
  },
  {
   "cell_type": "code",
   "execution_count": 19,
   "id": "5c92a7e9-e659-4c8e-8b46-f7e3203ff154",
   "metadata": {},
   "outputs": [],
   "source": [
    "oralotu <- names(oral_table)"
   ]
  },
  {
   "cell_type": "markdown",
   "id": "7e0ee794-66ad-4516-b04f-1944dbcfccec",
   "metadata": {},
   "source": [
    "# diff abundance analysis"
   ]
  },
  {
   "cell_type": "code",
   "execution_count": 20,
   "id": "9febd72a-b38b-4172-ba51-3954618ed9fa",
   "metadata": {},
   "outputs": [
    {
     "data": {
      "text/plain": [
       "\n",
       "     gastritis gastric_cancer \n",
       "           331            345 "
      ]
     },
     "metadata": {},
     "output_type": "display_data"
    }
   ],
   "source": [
    "table(md$Diagnosis)"
   ]
  },
  {
   "cell_type": "code",
   "execution_count": 21,
   "id": "442f793b-3ff2-4b49-ab22-eb979a9ae393",
   "metadata": {
    "collapsed": true,
    "jupyter": {
     "outputs_hidden": true
    },
    "tags": []
   },
   "outputs": [
    {
     "name": "stderr",
     "output_type": "stream",
     "text": [
      "converting counts to integer mode\n",
      "\n",
      "estimating size factors\n",
      "\n",
      "estimating dispersions\n",
      "\n",
      "gene-wise dispersion estimates\n",
      "\n",
      "mean-dispersion relationship\n",
      "\n",
      "-- note: fitType='parametric', but the dispersion trend was not well captured by the\n",
      "   function: y = a/x + b, and a local regression fit was automatically substituted.\n",
      "   specify fitType='local' or 'mean' to avoid this message next time.\n",
      "\n",
      "final dispersion estimates\n",
      "\n",
      "fitting model and testing\n",
      "\n",
      "-- replacing outliers and refitting for 145 genes\n",
      "-- DESeq argument 'minReplicatesForReplace' = 7 \n",
      "-- original counts are preserved in counts(dds)\n",
      "\n",
      "estimating dispersions\n",
      "\n",
      "fitting model and testing\n",
      "\n",
      "######PRJEB26931\n",
      "\n",
      "converting counts to integer mode\n",
      "\n",
      "estimating size factors\n",
      "\n",
      "estimating dispersions\n",
      "\n",
      "gene-wise dispersion estimates\n",
      "\n",
      "mean-dispersion relationship\n",
      "\n",
      "-- note: fitType='parametric', but the dispersion trend was not well captured by the\n",
      "   function: y = a/x + b, and a local regression fit was automatically substituted.\n",
      "   specify fitType='local' or 'mean' to avoid this message next time.\n",
      "\n",
      "final dispersion estimates\n",
      "\n",
      "fitting model and testing\n",
      "\n",
      "-- replacing outliers and refitting for 222 genes\n",
      "-- DESeq argument 'minReplicatesForReplace' = 7 \n",
      "-- original counts are preserved in counts(dds)\n",
      "\n",
      "estimating dispersions\n",
      "\n",
      "fitting model and testing\n",
      "\n",
      "######PRJNA375772_Inner_Mongolia\n",
      "\n",
      "converting counts to integer mode\n",
      "\n",
      "estimating size factors\n",
      "\n",
      "estimating dispersions\n",
      "\n",
      "gene-wise dispersion estimates\n",
      "\n",
      "mean-dispersion relationship\n",
      "\n",
      "-- note: fitType='parametric', but the dispersion trend was not well captured by the\n",
      "   function: y = a/x + b, and a local regression fit was automatically substituted.\n",
      "   specify fitType='local' or 'mean' to avoid this message next time.\n",
      "\n",
      "final dispersion estimates\n",
      "\n",
      "fitting model and testing\n",
      "\n",
      "-- replacing outliers and refitting for 172 genes\n",
      "-- DESeq argument 'minReplicatesForReplace' = 7 \n",
      "-- original counts are preserved in counts(dds)\n",
      "\n",
      "estimating dispersions\n",
      "\n",
      "fitting model and testing\n",
      "\n",
      "######PRJNA375772_Xi_an\n",
      "\n",
      "converting counts to integer mode\n",
      "\n",
      "estimating size factors\n",
      "\n",
      "estimating dispersions\n",
      "\n",
      "gene-wise dispersion estimates\n",
      "\n",
      "mean-dispersion relationship\n",
      "\n",
      "-- note: fitType='parametric', but the dispersion trend was not well captured by the\n",
      "   function: y = a/x + b, and a local regression fit was automatically substituted.\n",
      "   specify fitType='local' or 'mean' to avoid this message next time.\n",
      "\n",
      "final dispersion estimates\n",
      "\n",
      "fitting model and testing\n",
      "\n",
      "-- replacing outliers and refitting for 218 genes\n",
      "-- DESeq argument 'minReplicatesForReplace' = 7 \n",
      "-- original counts are preserved in counts(dds)\n",
      "\n",
      "estimating dispersions\n",
      "\n",
      "fitting model and testing\n",
      "\n",
      "######PRJNA481413\n",
      "\n"
     ]
    }
   ],
   "source": [
    "options( warn = -1 )\n",
    "per_study_res <- data.frame()\n",
    "\n",
    "for (cohort in study){\n",
    "\n",
    "    \n",
    "    md_s <- subset(md,Study==cohort)\n",
    "    sample_ids <- intersect(row.names(md_s),names(data))\n",
    "    md_s <- md_s[sample_ids,]\n",
    "    data_s <- data[,sample_ids]\n",
    "    data_s <-  data_s[which(rowSums(data_s) > 10),] +1  \n",
    "\n",
    "    Diagnosis <-factor(md_s$Diagnosis,levels = c('gastritis','gastric_cancer'))\n",
    "    group <- md_s['Diagnosis']\n",
    "\n",
    "    format <- DESeqDataSetFromMatrix(data_s, group, design = ~Diagnosis) \n",
    "    analyze <- DESeq(format)\n",
    "\n",
    " \n",
    "    diff_res <- results(analyze)\n",
    "    #diff_taxon <- subset(result, padj < 0.05 & abs(log2FoldChange) > 1)\n",
    "    diff_res <- as.data.frame(diff_res) %>% \n",
    "    mutate('diff_otu'=row.names(diff_res),'Study'=cohort)\n",
    "    message('######',cohort )\n",
    "    per_study_res <- rbind(per_study_res,diff_res)\n",
    "}    "
   ]
  },
  {
   "cell_type": "code",
   "execution_count": 22,
   "id": "ac832836-08b7-4583-8457-87460c1fb16e",
   "metadata": {
    "tags": []
   },
   "outputs": [],
   "source": [
    "per_study_res <- per_study_res %>% mutate(CI_low= per_study_res$log2FoldChange-1.95*per_study_res$lfcSE,\n",
    "                        CI_hig= per_study_res$log2FoldChange+1.95*per_study_res$lfcSE)"
   ]
  },
  {
   "cell_type": "code",
   "execution_count": 23,
   "id": "7cca17f6-a8eb-4d1f-8352-821713926ad0",
   "metadata": {},
   "outputs": [
    {
     "data": {
      "text/html": [
       "<table>\n",
       "<caption>A data.frame: 6 × 10</caption>\n",
       "<thead>\n",
       "\t<tr><th></th><th scope=col>baseMean</th><th scope=col>log2FoldChange</th><th scope=col>lfcSE</th><th scope=col>stat</th><th scope=col>pvalue</th><th scope=col>padj</th><th scope=col>diff_otu</th><th scope=col>Study</th><th scope=col>CI_low</th><th scope=col>CI_hig</th></tr>\n",
       "\t<tr><th></th><th scope=col>&lt;dbl&gt;</th><th scope=col>&lt;dbl&gt;</th><th scope=col>&lt;dbl&gt;</th><th scope=col>&lt;dbl&gt;</th><th scope=col>&lt;dbl&gt;</th><th scope=col>&lt;dbl&gt;</th><th scope=col>&lt;chr&gt;</th><th scope=col>&lt;chr&gt;</th><th scope=col>&lt;dbl&gt;</th><th scope=col>&lt;dbl&gt;</th></tr>\n",
       "</thead>\n",
       "<tbody>\n",
       "\t<tr><th scope=row>1000477</th><td> 1.304679</td><td>-0.50370871</td><td>0.2434915</td><td>-2.0686910</td><td>3.857509e-02</td><td>6.570209e-02</td><td>1000477</td><td>PRJEB26931</td><td>-0.97851717</td><td>-0.02890026</td></tr>\n",
       "\t<tr><th scope=row>1001155</th><td> 1.445967</td><td>-0.07684687</td><td>0.2420116</td><td>-0.3175338</td><td>7.508386e-01</td><td>7.944745e-01</td><td>1001155</td><td>PRJEB26931</td><td>-0.54876948</td><td> 0.39507575</td></tr>\n",
       "\t<tr><th scope=row>1001920</th><td> 2.230140</td><td> 1.16814836</td><td>0.3197923</td><td> 3.6528350</td><td>2.593609e-04</td><td>7.207502e-04</td><td>1001920</td><td>PRJEB26931</td><td> 0.54455345</td><td> 1.79174326</td></tr>\n",
       "\t<tr><th scope=row>1003026</th><td> 1.518172</td><td> 0.41434496</td><td>0.2546137</td><td> 1.6273472</td><td>1.036634e-01</td><td>1.516185e-01</td><td>1003026</td><td>PRJEB26931</td><td>-0.08215184</td><td> 0.91084176</td></tr>\n",
       "\t<tr><th scope=row>1004910</th><td>11.264242</td><td>-2.85046771</td><td>0.3260781</td><td>-8.7416706</td><td>2.296883e-18</td><td>2.004553e-17</td><td>1004910</td><td>PRJEB26931</td><td>-3.48632009</td><td>-2.21461533</td></tr>\n",
       "\t<tr><th scope=row>1005820</th><td> 1.476184</td><td>-0.42914880</td><td>0.2495400</td><td>-1.7197594</td><td>8.547619e-02</td><td>1.295020e-01</td><td>1005820</td><td>PRJEB26931</td><td>-0.91575186</td><td> 0.05745426</td></tr>\n",
       "</tbody>\n",
       "</table>\n"
      ],
      "text/latex": [
       "A data.frame: 6 × 10\n",
       "\\begin{tabular}{r|llllllllll}\n",
       "  & baseMean & log2FoldChange & lfcSE & stat & pvalue & padj & diff\\_otu & Study & CI\\_low & CI\\_hig\\\\\n",
       "  & <dbl> & <dbl> & <dbl> & <dbl> & <dbl> & <dbl> & <chr> & <chr> & <dbl> & <dbl>\\\\\n",
       "\\hline\n",
       "\t1000477 &  1.304679 & -0.50370871 & 0.2434915 & -2.0686910 & 3.857509e-02 & 6.570209e-02 & 1000477 & PRJEB26931 & -0.97851717 & -0.02890026\\\\\n",
       "\t1001155 &  1.445967 & -0.07684687 & 0.2420116 & -0.3175338 & 7.508386e-01 & 7.944745e-01 & 1001155 & PRJEB26931 & -0.54876948 &  0.39507575\\\\\n",
       "\t1001920 &  2.230140 &  1.16814836 & 0.3197923 &  3.6528350 & 2.593609e-04 & 7.207502e-04 & 1001920 & PRJEB26931 &  0.54455345 &  1.79174326\\\\\n",
       "\t1003026 &  1.518172 &  0.41434496 & 0.2546137 &  1.6273472 & 1.036634e-01 & 1.516185e-01 & 1003026 & PRJEB26931 & -0.08215184 &  0.91084176\\\\\n",
       "\t1004910 & 11.264242 & -2.85046771 & 0.3260781 & -8.7416706 & 2.296883e-18 & 2.004553e-17 & 1004910 & PRJEB26931 & -3.48632009 & -2.21461533\\\\\n",
       "\t1005820 &  1.476184 & -0.42914880 & 0.2495400 & -1.7197594 & 8.547619e-02 & 1.295020e-01 & 1005820 & PRJEB26931 & -0.91575186 &  0.05745426\\\\\n",
       "\\end{tabular}\n"
      ],
      "text/markdown": [
       "\n",
       "A data.frame: 6 × 10\n",
       "\n",
       "| <!--/--> | baseMean &lt;dbl&gt; | log2FoldChange &lt;dbl&gt; | lfcSE &lt;dbl&gt; | stat &lt;dbl&gt; | pvalue &lt;dbl&gt; | padj &lt;dbl&gt; | diff_otu &lt;chr&gt; | Study &lt;chr&gt; | CI_low &lt;dbl&gt; | CI_hig &lt;dbl&gt; |\n",
       "|---|---|---|---|---|---|---|---|---|---|---|\n",
       "| 1000477 |  1.304679 | -0.50370871 | 0.2434915 | -2.0686910 | 3.857509e-02 | 6.570209e-02 | 1000477 | PRJEB26931 | -0.97851717 | -0.02890026 |\n",
       "| 1001155 |  1.445967 | -0.07684687 | 0.2420116 | -0.3175338 | 7.508386e-01 | 7.944745e-01 | 1001155 | PRJEB26931 | -0.54876948 |  0.39507575 |\n",
       "| 1001920 |  2.230140 |  1.16814836 | 0.3197923 |  3.6528350 | 2.593609e-04 | 7.207502e-04 | 1001920 | PRJEB26931 |  0.54455345 |  1.79174326 |\n",
       "| 1003026 |  1.518172 |  0.41434496 | 0.2546137 |  1.6273472 | 1.036634e-01 | 1.516185e-01 | 1003026 | PRJEB26931 | -0.08215184 |  0.91084176 |\n",
       "| 1004910 | 11.264242 | -2.85046771 | 0.3260781 | -8.7416706 | 2.296883e-18 | 2.004553e-17 | 1004910 | PRJEB26931 | -3.48632009 | -2.21461533 |\n",
       "| 1005820 |  1.476184 | -0.42914880 | 0.2495400 | -1.7197594 | 8.547619e-02 | 1.295020e-01 | 1005820 | PRJEB26931 | -0.91575186 |  0.05745426 |\n",
       "\n"
      ],
      "text/plain": [
       "        baseMean  log2FoldChange lfcSE     stat       pvalue       padj        \n",
       "1000477  1.304679 -0.50370871    0.2434915 -2.0686910 3.857509e-02 6.570209e-02\n",
       "1001155  1.445967 -0.07684687    0.2420116 -0.3175338 7.508386e-01 7.944745e-01\n",
       "1001920  2.230140  1.16814836    0.3197923  3.6528350 2.593609e-04 7.207502e-04\n",
       "1003026  1.518172  0.41434496    0.2546137  1.6273472 1.036634e-01 1.516185e-01\n",
       "1004910 11.264242 -2.85046771    0.3260781 -8.7416706 2.296883e-18 2.004553e-17\n",
       "1005820  1.476184 -0.42914880    0.2495400 -1.7197594 8.547619e-02 1.295020e-01\n",
       "        diff_otu Study      CI_low      CI_hig     \n",
       "1000477 1000477  PRJEB26931 -0.97851717 -0.02890026\n",
       "1001155 1001155  PRJEB26931 -0.54876948  0.39507575\n",
       "1001920 1001920  PRJEB26931  0.54455345  1.79174326\n",
       "1003026 1003026  PRJEB26931 -0.08215184  0.91084176\n",
       "1004910 1004910  PRJEB26931 -3.48632009 -2.21461533\n",
       "1005820 1005820  PRJEB26931 -0.91575186  0.05745426"
      ]
     },
     "metadata": {},
     "output_type": "display_data"
    }
   ],
   "source": [
    "head(per_study_res)"
   ]
  },
  {
   "cell_type": "code",
   "execution_count": 24,
   "id": "c545dd50-3517-45c5-b01f-e101ab6625cd",
   "metadata": {
    "tags": []
   },
   "outputs": [],
   "source": [
    "# select otu appears in more than three data sets\n",
    "r <- per_study_res %>% group_by(diff_otu) %>% summarize(count=n()) %>% subset(count>=3) #diff_otu\n",
    "#r"
   ]
  },
  {
   "cell_type": "code",
   "execution_count": 25,
   "id": "96f6f34c-f17b-4144-834c-e68d6b16386b",
   "metadata": {},
   "outputs": [],
   "source": [
    "# calculate combined logFC for otus that appears in more than three data sets\n",
    "\n",
    "Per_otu <- data.frame()\n",
    "otu <- c()\n",
    "for (i in r$diff_otu){\n",
    "    per_otu <- per_study_res %>% subset(diff_otu==i)\n",
    "    ma_model_1 <- rma(log2FoldChange,lfcSE, data = per_otu)\n",
    "    p <- ma_model_1$pval\n",
    "    \n",
    "    if (p < 0.01){ \n",
    "        otu <- c(otu,i)\n",
    "        per_otu_combind <- data.frame(baseMean='', log2FoldChange=ma_model_1$b[1], \n",
    "                      lfcSE='', stat='',pvalue='', \n",
    "                      padj=p, diff_otu=i,Study ='Combined', CI_low=ma_model_1$ci.lb,CI_hig=ma_model_1$ci.ub)\n",
    "        per_otu_res <- rbind(per_otu,per_otu_combind)\n",
    "        Per_otu <- rbind(Per_otu,per_otu_res)\n",
    "    \n",
    "    }\n",
    "}"
   ]
  },
  {
   "cell_type": "code",
   "execution_count": 26,
   "id": "c7512306-01b9-4863-b3ef-1297f60de249",
   "metadata": {},
   "outputs": [
    {
     "data": {
      "text/html": [
       "44"
      ],
      "text/latex": [
       "44"
      ],
      "text/markdown": [
       "44"
      ],
      "text/plain": [
       "[1] 44"
      ]
     },
     "metadata": {},
     "output_type": "display_data"
    }
   ],
   "source": [
    "length(otu)"
   ]
  },
  {
   "cell_type": "code",
   "execution_count": 27,
   "id": "cb431b43-78c1-4f6a-a097-8253ef5f1517",
   "metadata": {},
   "outputs": [],
   "source": [
    "\n",
    "Per_otu <- Per_otu %>% mutate(Significant=case_when(\n",
    "padj<=0.01 & log2FoldChange>0 ~ \"GC enriched\",\n",
    "padj<=0.01 & log2FoldChange<0 ~ \"Gastritis enriched\",\n",
    "TRUE~\"ns\"\n",
    ")) \n",
    "\n",
    "Per_otu$Significant <- factor(Per_otu$Significant,levels=c(\"GC enriched\",\"Gastritis enriched\",\"ns\"))\n",
    "Per_otu <- merge(Per_otu,taxo,by.x='diff_otu',by.y='ID')\n",
    "#Per_otu <- merge(Per_otu,otu,by.x='diff_otu',by.y='otu')"
   ]
  },
  {
   "cell_type": "code",
   "execution_count": 28,
   "id": "0c8d1c47-f2ed-4cef-bc42-74bd9094e0a8",
   "metadata": {},
   "outputs": [
    {
     "data": {
      "text/html": [
       "<table>\n",
       "<caption>A data.frame: 2 × 15</caption>\n",
       "<thead>\n",
       "\t<tr><th></th><th scope=col>diff_otu</th><th scope=col>baseMean</th><th scope=col>log2FoldChange</th><th scope=col>lfcSE</th><th scope=col>stat</th><th scope=col>pvalue</th><th scope=col>padj</th><th scope=col>Study</th><th scope=col>CI_low</th><th scope=col>CI_hig</th><th scope=col>Significant</th><th scope=col>taxonomy</th><th scope=col>Taxonomy</th><th scope=col>ID_Taxonomy</th><th scope=col>Taxon</th></tr>\n",
       "\t<tr><th></th><th scope=col>&lt;chr&gt;</th><th scope=col>&lt;chr&gt;</th><th scope=col>&lt;dbl&gt;</th><th scope=col>&lt;chr&gt;</th><th scope=col>&lt;chr&gt;</th><th scope=col>&lt;chr&gt;</th><th scope=col>&lt;dbl&gt;</th><th scope=col>&lt;chr&gt;</th><th scope=col>&lt;dbl&gt;</th><th scope=col>&lt;dbl&gt;</th><th scope=col>&lt;fct&gt;</th><th scope=col>&lt;chr&gt;</th><th scope=col>&lt;chr&gt;</th><th scope=col>&lt;chr&gt;</th><th scope=col>&lt;chr&gt;</th></tr>\n",
       "</thead>\n",
       "<tbody>\n",
       "\t<tr><th scope=row>1</th><td>1007646</td><td>4.61751119012647</td><td>-1.2634501</td><td>0.251723008821232</td><td>-5.01920797031515</td><td>5.18849549129029e-07</td><td>1.838608e-06</td><td>PRJEB26931                </td><td>-1.754310</td><td>-0.7725903</td><td>Gastritis enriched</td><td>k__Bacteria; p__Proteobacteria; c__Gammaproteobacteria; o__Pseudomonadales; f__Moraxellaceae; g__Acinetobacter; s__</td><td> g__Acinetobacter</td><td>1007646 \n",
       "  g__Acinetobacter</td><td>1007646; g__Acinetobacter</td></tr>\n",
       "\t<tr><th scope=row>2</th><td>1007646</td><td>67.9677935166759</td><td>-0.3809722</td><td>0.339834379297875</td><td>-1.12105264928926</td><td>0.262265452319627   </td><td>4.777466e-01</td><td>PRJNA375772_Inner_Mongolia</td><td>-1.043649</td><td> 0.2817048</td><td>ns                </td><td>k__Bacteria; p__Proteobacteria; c__Gammaproteobacteria; o__Pseudomonadales; f__Moraxellaceae; g__Acinetobacter; s__</td><td> g__Acinetobacter</td><td>1007646 \n",
       "  g__Acinetobacter</td><td>1007646; g__Acinetobacter</td></tr>\n",
       "</tbody>\n",
       "</table>\n"
      ],
      "text/latex": [
       "A data.frame: 2 × 15\n",
       "\\begin{tabular}{r|lllllllllllllll}\n",
       "  & diff\\_otu & baseMean & log2FoldChange & lfcSE & stat & pvalue & padj & Study & CI\\_low & CI\\_hig & Significant & taxonomy & Taxonomy & ID\\_Taxonomy & Taxon\\\\\n",
       "  & <chr> & <chr> & <dbl> & <chr> & <chr> & <chr> & <dbl> & <chr> & <dbl> & <dbl> & <fct> & <chr> & <chr> & <chr> & <chr>\\\\\n",
       "\\hline\n",
       "\t1 & 1007646 & 4.61751119012647 & -1.2634501 & 0.251723008821232 & -5.01920797031515 & 5.18849549129029e-07 & 1.838608e-06 & PRJEB26931                 & -1.754310 & -0.7725903 & Gastritis enriched & k\\_\\_Bacteria; p\\_\\_Proteobacteria; c\\_\\_Gammaproteobacteria; o\\_\\_Pseudomonadales; f\\_\\_Moraxellaceae; g\\_\\_Acinetobacter; s\\_\\_ &  g\\_\\_Acinetobacter & 1007646 \n",
       "  g\\_\\_Acinetobacter & 1007646; g\\_\\_Acinetobacter\\\\\n",
       "\t2 & 1007646 & 67.9677935166759 & -0.3809722 & 0.339834379297875 & -1.12105264928926 & 0.262265452319627    & 4.777466e-01 & PRJNA375772\\_Inner\\_Mongolia & -1.043649 &  0.2817048 & ns                 & k\\_\\_Bacteria; p\\_\\_Proteobacteria; c\\_\\_Gammaproteobacteria; o\\_\\_Pseudomonadales; f\\_\\_Moraxellaceae; g\\_\\_Acinetobacter; s\\_\\_ &  g\\_\\_Acinetobacter & 1007646 \n",
       "  g\\_\\_Acinetobacter & 1007646; g\\_\\_Acinetobacter\\\\\n",
       "\\end{tabular}\n"
      ],
      "text/markdown": [
       "\n",
       "A data.frame: 2 × 15\n",
       "\n",
       "| <!--/--> | diff_otu &lt;chr&gt; | baseMean &lt;chr&gt; | log2FoldChange &lt;dbl&gt; | lfcSE &lt;chr&gt; | stat &lt;chr&gt; | pvalue &lt;chr&gt; | padj &lt;dbl&gt; | Study &lt;chr&gt; | CI_low &lt;dbl&gt; | CI_hig &lt;dbl&gt; | Significant &lt;fct&gt; | taxonomy &lt;chr&gt; | Taxonomy &lt;chr&gt; | ID_Taxonomy &lt;chr&gt; | Taxon &lt;chr&gt; |\n",
       "|---|---|---|---|---|---|---|---|---|---|---|---|---|---|---|---|\n",
       "| 1 | 1007646 | 4.61751119012647 | -1.2634501 | 0.251723008821232 | -5.01920797031515 | 5.18849549129029e-07 | 1.838608e-06 | PRJEB26931                 | -1.754310 | -0.7725903 | Gastritis enriched | k__Bacteria; p__Proteobacteria; c__Gammaproteobacteria; o__Pseudomonadales; f__Moraxellaceae; g__Acinetobacter; s__ |  g__Acinetobacter | 1007646 \n",
       "  g__Acinetobacter | 1007646; g__Acinetobacter |\n",
       "| 2 | 1007646 | 67.9677935166759 | -0.3809722 | 0.339834379297875 | -1.12105264928926 | 0.262265452319627    | 4.777466e-01 | PRJNA375772_Inner_Mongolia | -1.043649 |  0.2817048 | ns                 | k__Bacteria; p__Proteobacteria; c__Gammaproteobacteria; o__Pseudomonadales; f__Moraxellaceae; g__Acinetobacter; s__ |  g__Acinetobacter | 1007646 \n",
       "  g__Acinetobacter | 1007646; g__Acinetobacter |\n",
       "\n"
      ],
      "text/plain": [
       "  diff_otu baseMean         log2FoldChange lfcSE             stat             \n",
       "1 1007646  4.61751119012647 -1.2634501     0.251723008821232 -5.01920797031515\n",
       "2 1007646  67.9677935166759 -0.3809722     0.339834379297875 -1.12105264928926\n",
       "  pvalue               padj         Study                      CI_low   \n",
       "1 5.18849549129029e-07 1.838608e-06 PRJEB26931                 -1.754310\n",
       "2 0.262265452319627    4.777466e-01 PRJNA375772_Inner_Mongolia -1.043649\n",
       "  CI_hig     Significant       \n",
       "1 -0.7725903 Gastritis enriched\n",
       "2  0.2817048 ns                \n",
       "  taxonomy                                                                                                           \n",
       "1 k__Bacteria; p__Proteobacteria; c__Gammaproteobacteria; o__Pseudomonadales; f__Moraxellaceae; g__Acinetobacter; s__\n",
       "2 k__Bacteria; p__Proteobacteria; c__Gammaproteobacteria; o__Pseudomonadales; f__Moraxellaceae; g__Acinetobacter; s__\n",
       "  Taxonomy          ID_Taxonomy                  Taxon                    \n",
       "1  g__Acinetobacter 1007646 \\n  g__Acinetobacter 1007646; g__Acinetobacter\n",
       "2  g__Acinetobacter 1007646 \\n  g__Acinetobacter 1007646; g__Acinetobacter"
      ]
     },
     "metadata": {},
     "output_type": "display_data"
    }
   ],
   "source": [
    "head(Per_otu,2)"
   ]
  },
  {
   "cell_type": "markdown",
   "id": "c075fb28-7729-4df9-8c68-c2aaa0505adc",
   "metadata": {},
   "source": [
    "## plot for diff OTUs"
   ]
  },
  {
   "cell_type": "code",
   "execution_count": 29,
   "id": "8d2ce0b4-0c70-4ce6-a94d-ecf10b342cfa",
   "metadata": {},
   "outputs": [],
   "source": [
    "Per_otu$diff_oral <- ''\n",
    "Per_otu[Per_otu$diff_otu %in% oralotu,]$diff_oral <- '*' \n",
    "\n",
    "Per_otu$Taxon_oral <- paste(Per_otu$diff_oral,Per_otu$Taxon) #use for \n",
    "Per_otu$taxon_oral <- paste(Per_otu$diff_oral,Per_otu$ID_Taxonomy) # use for single plot\n",
    "\n",
    "Per_otu$absFC <- abs(Per_otu$log2FoldChange)  #use for filter top FC otu"
   ]
  },
  {
   "cell_type": "code",
   "execution_count": null,
   "id": "18414346-389f-47b7-b2ad-ba72fccbf41d",
   "metadata": {
    "tags": []
   },
   "outputs": [],
   "source": []
  },
  {
   "cell_type": "code",
   "execution_count": 30,
   "id": "d9f081ed-ccce-4fbd-9571-08c691537920",
   "metadata": {},
   "outputs": [],
   "source": [
    "# order by logFC for plot\n",
    "Per_otu <- Per_otu[order(Per_otu$absFC, decreasing=T),] \n",
    "Per_otu$taxon_oral <- factor(Per_otu$taxon_oral,levels=subset(Per_otu,Study=='Combined')$taxon_oral) "
   ]
  },
  {
   "cell_type": "code",
   "execution_count": 31,
   "id": "afc4fcd1-cd72-4b25-bb7a-0705637bf0df",
   "metadata": {},
   "outputs": [],
   "source": [
    "write.csv(Per_otu,'diff-otu-DESeq2.csv')"
   ]
  },
  {
   "cell_type": "code",
   "execution_count": null,
   "id": "f8fb7083-f41e-48f5-a0fd-9ae24960cb1c",
   "metadata": {},
   "outputs": [],
   "source": []
  },
  {
   "cell_type": "code",
   "execution_count": 32,
   "id": "c350f830-f9a6-4eb8-b9fb-6aa1e78e2ad9",
   "metadata": {},
   "outputs": [
    {
     "data": {
      "text/html": [
       "<table>\n",
       "<caption>A data.frame: 2 × 9</caption>\n",
       "<thead>\n",
       "\t<tr><th></th><th scope=col>X_feature_id</th><th scope=col>taxonomy</th><th scope=col>kingdom</th><th scope=col>phylum</th><th scope=col>class</th><th scope=col>order</th><th scope=col>family</th><th scope=col>genus</th><th scope=col>species</th></tr>\n",
       "\t<tr><th></th><th scope=col>&lt;int&gt;</th><th scope=col>&lt;chr&gt;</th><th scope=col>&lt;chr&gt;</th><th scope=col>&lt;chr&gt;</th><th scope=col>&lt;chr&gt;</th><th scope=col>&lt;chr&gt;</th><th scope=col>&lt;chr&gt;</th><th scope=col>&lt;chr&gt;</th><th scope=col>&lt;chr&gt;</th></tr>\n",
       "</thead>\n",
       "<tbody>\n",
       "\t<tr><th scope=row>1000113</th><td>1000113</td><td>k__Bacteria; p__Firmicutes; c__Clostridia; o__Clostridiales; f__; g__; s__                            </td><td>k__Bacteria</td><td> p__Firmicutes    </td><td> c__Clostridia        </td><td> o__Clostridiales  </td><td> f__              </td><td> g__</td><td> s__</td></tr>\n",
       "\t<tr><th scope=row>1000148</th><td>1000148</td><td>k__Bacteria; p__Proteobacteria; c__Betaproteobacteria; o__Burkholderiales; f__Comamonadaceae; g__; s__</td><td>k__Bacteria</td><td> p__Proteobacteria</td><td> c__Betaproteobacteria</td><td> o__Burkholderiales</td><td> f__Comamonadaceae</td><td> g__</td><td> s__</td></tr>\n",
       "</tbody>\n",
       "</table>\n"
      ],
      "text/latex": [
       "A data.frame: 2 × 9\n",
       "\\begin{tabular}{r|lllllllll}\n",
       "  & X\\_feature\\_id & taxonomy & kingdom & phylum & class & order & family & genus & species\\\\\n",
       "  & <int> & <chr> & <chr> & <chr> & <chr> & <chr> & <chr> & <chr> & <chr>\\\\\n",
       "\\hline\n",
       "\t1000113 & 1000113 & k\\_\\_Bacteria; p\\_\\_Firmicutes; c\\_\\_Clostridia; o\\_\\_Clostridiales; f\\_\\_; g\\_\\_; s\\_\\_                             & k\\_\\_Bacteria &  p\\_\\_Firmicutes     &  c\\_\\_Clostridia         &  o\\_\\_Clostridiales   &  f\\_\\_               &  g\\_\\_ &  s\\_\\_\\\\\n",
       "\t1000148 & 1000148 & k\\_\\_Bacteria; p\\_\\_Proteobacteria; c\\_\\_Betaproteobacteria; o\\_\\_Burkholderiales; f\\_\\_Comamonadaceae; g\\_\\_; s\\_\\_ & k\\_\\_Bacteria &  p\\_\\_Proteobacteria &  c\\_\\_Betaproteobacteria &  o\\_\\_Burkholderiales &  f\\_\\_Comamonadaceae &  g\\_\\_ &  s\\_\\_\\\\\n",
       "\\end{tabular}\n"
      ],
      "text/markdown": [
       "\n",
       "A data.frame: 2 × 9\n",
       "\n",
       "| <!--/--> | X_feature_id &lt;int&gt; | taxonomy &lt;chr&gt; | kingdom &lt;chr&gt; | phylum &lt;chr&gt; | class &lt;chr&gt; | order &lt;chr&gt; | family &lt;chr&gt; | genus &lt;chr&gt; | species &lt;chr&gt; |\n",
       "|---|---|---|---|---|---|---|---|---|---|\n",
       "| 1000113 | 1000113 | k__Bacteria; p__Firmicutes; c__Clostridia; o__Clostridiales; f__; g__; s__                             | k__Bacteria |  p__Firmicutes     |  c__Clostridia         |  o__Clostridiales   |  f__               |  g__ |  s__ |\n",
       "| 1000148 | 1000148 | k__Bacteria; p__Proteobacteria; c__Betaproteobacteria; o__Burkholderiales; f__Comamonadaceae; g__; s__ | k__Bacteria |  p__Proteobacteria |  c__Betaproteobacteria |  o__Burkholderiales |  f__Comamonadaceae |  g__ |  s__ |\n",
       "\n"
      ],
      "text/plain": [
       "        X_feature_id\n",
       "1000113 1000113     \n",
       "1000148 1000148     \n",
       "        taxonomy                                                                                              \n",
       "1000113 k__Bacteria; p__Firmicutes; c__Clostridia; o__Clostridiales; f__; g__; s__                            \n",
       "1000148 k__Bacteria; p__Proteobacteria; c__Betaproteobacteria; o__Burkholderiales; f__Comamonadaceae; g__; s__\n",
       "        kingdom     phylum             class                 \n",
       "1000113 k__Bacteria  p__Firmicutes      c__Clostridia        \n",
       "1000148 k__Bacteria  p__Proteobacteria  c__Betaproteobacteria\n",
       "        order               family             genus species\n",
       "1000113  o__Clostridiales    f__                g__   s__   \n",
       "1000148  o__Burkholderiales  f__Comamonadaceae  g__   s__   "
      ]
     },
     "metadata": {},
     "output_type": "display_data"
    }
   ],
   "source": [
    "\n",
    "s_taxon <- read.csv('line_taxonomy.csv',row.names = 1)\n",
    "head(s_taxon,2)"
   ]
  },
  {
   "cell_type": "code",
   "execution_count": 33,
   "id": "5f74e112-1871-42eb-a887-ee1cac4230a7",
   "metadata": {},
   "outputs": [
    {
     "data": {
      "text/html": [
       "<style>\n",
       ".list-inline {list-style: none; margin:0; padding: 0}\n",
       ".list-inline>li {display: inline-block}\n",
       ".list-inline>li:not(:last-child)::after {content: \"\\00b7\"; padding: 0 .5ex}\n",
       "</style>\n",
       "<ol class=list-inline><li>211</li><li>27</li></ol>\n"
      ],
      "text/latex": [
       "\\begin{enumerate*}\n",
       "\\item 211\n",
       "\\item 27\n",
       "\\end{enumerate*}\n"
      ],
      "text/markdown": [
       "1. 211\n",
       "2. 27\n",
       "\n",
       "\n"
      ],
      "text/plain": [
       "[1] 211  27"
      ]
     },
     "metadata": {},
     "output_type": "display_data"
    }
   ],
   "source": [
    "Per_otu_new <- merge(Per_otu,s_taxon,by.x='diff_otu',by.y='X_feature_id')\n",
    "dim(Per_otu_new)"
   ]
  },
  {
   "cell_type": "code",
   "execution_count": 34,
   "id": "d20a0558-35cf-48d3-a503-9a6d2608d4b0",
   "metadata": {},
   "outputs": [],
   "source": [
    "Per_otu_new$line_taxon <- paste(Per_otu_new$diff_oral,Per_otu_new$diff_otu,'\\n',Per_otu_new$order,'\\n',Per_otu_new$family,'\\n',Per_otu_new$genus,'\\n',Per_otu_new$species)"
   ]
  },
  {
   "cell_type": "code",
   "execution_count": 35,
   "id": "f7059d0b-3c4f-4e0d-8ceb-3be289eaafe3",
   "metadata": {
    "tags": []
   },
   "outputs": [
    {
     "data": {
      "text/html": [
       "<table>\n",
       "<caption>A data.frame: 2 × 28</caption>\n",
       "<thead>\n",
       "\t<tr><th></th><th scope=col>diff_otu</th><th scope=col>baseMean</th><th scope=col>log2FoldChange</th><th scope=col>lfcSE</th><th scope=col>stat</th><th scope=col>pvalue</th><th scope=col>padj</th><th scope=col>Study</th><th scope=col>CI_low</th><th scope=col>CI_hig</th><th scope=col>⋯</th><th scope=col>absFC</th><th scope=col>taxonomy.y</th><th scope=col>kingdom</th><th scope=col>phylum</th><th scope=col>class</th><th scope=col>order</th><th scope=col>family</th><th scope=col>genus</th><th scope=col>species</th><th scope=col>line_taxon</th></tr>\n",
       "\t<tr><th></th><th scope=col>&lt;chr&gt;</th><th scope=col>&lt;chr&gt;</th><th scope=col>&lt;dbl&gt;</th><th scope=col>&lt;chr&gt;</th><th scope=col>&lt;chr&gt;</th><th scope=col>&lt;chr&gt;</th><th scope=col>&lt;dbl&gt;</th><th scope=col>&lt;chr&gt;</th><th scope=col>&lt;dbl&gt;</th><th scope=col>&lt;dbl&gt;</th><th scope=col>⋯</th><th scope=col>&lt;dbl&gt;</th><th scope=col>&lt;chr&gt;</th><th scope=col>&lt;chr&gt;</th><th scope=col>&lt;chr&gt;</th><th scope=col>&lt;chr&gt;</th><th scope=col>&lt;chr&gt;</th><th scope=col>&lt;chr&gt;</th><th scope=col>&lt;chr&gt;</th><th scope=col>&lt;chr&gt;</th><th scope=col>&lt;chr&gt;</th></tr>\n",
       "</thead>\n",
       "<tbody>\n",
       "\t<tr><th scope=row>1</th><td>1007646</td><td>4.61751119012647</td><td>-1.2634501</td><td>0.251723008821232</td><td>-5.01920797031515</td><td>5.18849549129029e-07</td><td>1.838608e-06</td><td>PRJEB26931                </td><td>-1.754310</td><td>-0.7725903</td><td>⋯</td><td>1.2634501</td><td>k__Bacteria; p__Proteobacteria; c__Gammaproteobacteria; o__Pseudomonadales; f__Moraxellaceae; g__Acinetobacter; s__</td><td>k__Bacteria</td><td> p__Proteobacteria</td><td> c__Gammaproteobacteria</td><td> o__Pseudomonadales</td><td> f__Moraxellaceae</td><td> g__Acinetobacter</td><td> s__</td><td>* 1007646 \n",
       "  o__Pseudomonadales \n",
       "  f__Moraxellaceae \n",
       "  g__Acinetobacter \n",
       "  s__</td></tr>\n",
       "\t<tr><th scope=row>2</th><td>1007646</td><td>67.9677935166759</td><td>-0.3809722</td><td>0.339834379297875</td><td>-1.12105264928926</td><td>0.262265452319627   </td><td>4.777466e-01</td><td>PRJNA375772_Inner_Mongolia</td><td>-1.043649</td><td> 0.2817048</td><td>⋯</td><td>0.3809722</td><td>k__Bacteria; p__Proteobacteria; c__Gammaproteobacteria; o__Pseudomonadales; f__Moraxellaceae; g__Acinetobacter; s__</td><td>k__Bacteria</td><td> p__Proteobacteria</td><td> c__Gammaproteobacteria</td><td> o__Pseudomonadales</td><td> f__Moraxellaceae</td><td> g__Acinetobacter</td><td> s__</td><td>* 1007646 \n",
       "  o__Pseudomonadales \n",
       "  f__Moraxellaceae \n",
       "  g__Acinetobacter \n",
       "  s__</td></tr>\n",
       "</tbody>\n",
       "</table>\n"
      ],
      "text/latex": [
       "A data.frame: 2 × 28\n",
       "\\begin{tabular}{r|lllllllllllllllllllll}\n",
       "  & diff\\_otu & baseMean & log2FoldChange & lfcSE & stat & pvalue & padj & Study & CI\\_low & CI\\_hig & ⋯ & absFC & taxonomy.y & kingdom & phylum & class & order & family & genus & species & line\\_taxon\\\\\n",
       "  & <chr> & <chr> & <dbl> & <chr> & <chr> & <chr> & <dbl> & <chr> & <dbl> & <dbl> & ⋯ & <dbl> & <chr> & <chr> & <chr> & <chr> & <chr> & <chr> & <chr> & <chr> & <chr>\\\\\n",
       "\\hline\n",
       "\t1 & 1007646 & 4.61751119012647 & -1.2634501 & 0.251723008821232 & -5.01920797031515 & 5.18849549129029e-07 & 1.838608e-06 & PRJEB26931                 & -1.754310 & -0.7725903 & ⋯ & 1.2634501 & k\\_\\_Bacteria; p\\_\\_Proteobacteria; c\\_\\_Gammaproteobacteria; o\\_\\_Pseudomonadales; f\\_\\_Moraxellaceae; g\\_\\_Acinetobacter; s\\_\\_ & k\\_\\_Bacteria &  p\\_\\_Proteobacteria &  c\\_\\_Gammaproteobacteria &  o\\_\\_Pseudomonadales &  f\\_\\_Moraxellaceae &  g\\_\\_Acinetobacter &  s\\_\\_ & * 1007646 \n",
       "  o\\_\\_Pseudomonadales \n",
       "  f\\_\\_Moraxellaceae \n",
       "  g\\_\\_Acinetobacter \n",
       "  s\\_\\_\\\\\n",
       "\t2 & 1007646 & 67.9677935166759 & -0.3809722 & 0.339834379297875 & -1.12105264928926 & 0.262265452319627    & 4.777466e-01 & PRJNA375772\\_Inner\\_Mongolia & -1.043649 &  0.2817048 & ⋯ & 0.3809722 & k\\_\\_Bacteria; p\\_\\_Proteobacteria; c\\_\\_Gammaproteobacteria; o\\_\\_Pseudomonadales; f\\_\\_Moraxellaceae; g\\_\\_Acinetobacter; s\\_\\_ & k\\_\\_Bacteria &  p\\_\\_Proteobacteria &  c\\_\\_Gammaproteobacteria &  o\\_\\_Pseudomonadales &  f\\_\\_Moraxellaceae &  g\\_\\_Acinetobacter &  s\\_\\_ & * 1007646 \n",
       "  o\\_\\_Pseudomonadales \n",
       "  f\\_\\_Moraxellaceae \n",
       "  g\\_\\_Acinetobacter \n",
       "  s\\_\\_\\\\\n",
       "\\end{tabular}\n"
      ],
      "text/markdown": [
       "\n",
       "A data.frame: 2 × 28\n",
       "\n",
       "| <!--/--> | diff_otu &lt;chr&gt; | baseMean &lt;chr&gt; | log2FoldChange &lt;dbl&gt; | lfcSE &lt;chr&gt; | stat &lt;chr&gt; | pvalue &lt;chr&gt; | padj &lt;dbl&gt; | Study &lt;chr&gt; | CI_low &lt;dbl&gt; | CI_hig &lt;dbl&gt; | ⋯ ⋯ | absFC &lt;dbl&gt; | taxonomy.y &lt;chr&gt; | kingdom &lt;chr&gt; | phylum &lt;chr&gt; | class &lt;chr&gt; | order &lt;chr&gt; | family &lt;chr&gt; | genus &lt;chr&gt; | species &lt;chr&gt; | line_taxon &lt;chr&gt; |\n",
       "|---|---|---|---|---|---|---|---|---|---|---|---|---|---|---|---|---|---|---|---|---|---|\n",
       "| 1 | 1007646 | 4.61751119012647 | -1.2634501 | 0.251723008821232 | -5.01920797031515 | 5.18849549129029e-07 | 1.838608e-06 | PRJEB26931                 | -1.754310 | -0.7725903 | ⋯ | 1.2634501 | k__Bacteria; p__Proteobacteria; c__Gammaproteobacteria; o__Pseudomonadales; f__Moraxellaceae; g__Acinetobacter; s__ | k__Bacteria |  p__Proteobacteria |  c__Gammaproteobacteria |  o__Pseudomonadales |  f__Moraxellaceae |  g__Acinetobacter |  s__ | * 1007646 \n",
       "  o__Pseudomonadales \n",
       "  f__Moraxellaceae \n",
       "  g__Acinetobacter \n",
       "  s__ |\n",
       "| 2 | 1007646 | 67.9677935166759 | -0.3809722 | 0.339834379297875 | -1.12105264928926 | 0.262265452319627    | 4.777466e-01 | PRJNA375772_Inner_Mongolia | -1.043649 |  0.2817048 | ⋯ | 0.3809722 | k__Bacteria; p__Proteobacteria; c__Gammaproteobacteria; o__Pseudomonadales; f__Moraxellaceae; g__Acinetobacter; s__ | k__Bacteria |  p__Proteobacteria |  c__Gammaproteobacteria |  o__Pseudomonadales |  f__Moraxellaceae |  g__Acinetobacter |  s__ | * 1007646 \n",
       "  o__Pseudomonadales \n",
       "  f__Moraxellaceae \n",
       "  g__Acinetobacter \n",
       "  s__ |\n",
       "\n"
      ],
      "text/plain": [
       "  diff_otu baseMean         log2FoldChange lfcSE             stat             \n",
       "1 1007646  4.61751119012647 -1.2634501     0.251723008821232 -5.01920797031515\n",
       "2 1007646  67.9677935166759 -0.3809722     0.339834379297875 -1.12105264928926\n",
       "  pvalue               padj         Study                      CI_low   \n",
       "1 5.18849549129029e-07 1.838608e-06 PRJEB26931                 -1.754310\n",
       "2 0.262265452319627    4.777466e-01 PRJNA375772_Inner_Mongolia -1.043649\n",
       "  CI_hig     ⋯ absFC    \n",
       "1 -0.7725903 ⋯ 1.2634501\n",
       "2  0.2817048 ⋯ 0.3809722\n",
       "  taxonomy.y                                                                                                         \n",
       "1 k__Bacteria; p__Proteobacteria; c__Gammaproteobacteria; o__Pseudomonadales; f__Moraxellaceae; g__Acinetobacter; s__\n",
       "2 k__Bacteria; p__Proteobacteria; c__Gammaproteobacteria; o__Pseudomonadales; f__Moraxellaceae; g__Acinetobacter; s__\n",
       "  kingdom     phylum             class                   order              \n",
       "1 k__Bacteria  p__Proteobacteria  c__Gammaproteobacteria  o__Pseudomonadales\n",
       "2 k__Bacteria  p__Proteobacteria  c__Gammaproteobacteria  o__Pseudomonadales\n",
       "  family            genus             species\n",
       "1  f__Moraxellaceae  g__Acinetobacter  s__   \n",
       "2  f__Moraxellaceae  g__Acinetobacter  s__   \n",
       "  line_taxon                                                                        \n",
       "1 * 1007646 \\n  o__Pseudomonadales \\n  f__Moraxellaceae \\n  g__Acinetobacter \\n  s__\n",
       "2 * 1007646 \\n  o__Pseudomonadales \\n  f__Moraxellaceae \\n  g__Acinetobacter \\n  s__"
      ]
     },
     "metadata": {},
     "output_type": "display_data"
    }
   ],
   "source": [
    "head(Per_otu_new,2)"
   ]
  },
  {
   "cell_type": "code",
   "execution_count": 36,
   "id": "694f284d-9076-47b8-835a-9fd2b0b87406",
   "metadata": {},
   "outputs": [],
   "source": [
    "# order for plot\n",
    "Per_otu_new <- Per_otu_new[order(Per_otu_new$absFC, decreasing=T),] \n",
    "Per_otu_new$line_taxon <- factor(Per_otu_new$line_taxon,levels=subset(Per_otu_new,Study=='Combined')$line_taxon) "
   ]
  },
  {
   "cell_type": "code",
   "execution_count": 37,
   "id": "e3755251-0a7e-486e-b1ea-29e72159f318",
   "metadata": {},
   "outputs": [
    {
     "data": {
      "image/png": "[encoded data removed]",
      "text/plain": [
       "plot without title"
      ]
     },
     "metadata": {
      "image/png": {
       "height": 420,
       "width": 420
      }
     },
     "output_type": "display_data"
    }
   ],
   "source": [
    "ggplot(Per_otu_new,aes(x=log2FoldChange, y=Study, color=Significant)) +  \n",
    "geom_vline(xintercept = 0, linetype=\"dashed\", color=\"grey50\") +\n",
    "geom_errorbarh(aes(xmin=CI_low, xmax=CI_hig), height=0 ) +\n",
    "geom_point(size=3) +\n",
    "facet_wrap(~line_taxon,ncol=8,scales=\"free_x\") +\n",
    "theme_MicrobeR() +\n",
    "scale_color_manual(values=c(H,L,'black'))  +\n",
    "theme(panel.border = element_blank(), axis.line = element_line()) +\n",
    "theme(axis.text.x=element_text(angle=45, hjust=1,size=9),\n",
    "      axis.text = element_text(size = 9,colour = 'black'),\n",
    "      legend.title = element_text(size = 9),\n",
    "      legend.text = element_text(size = 10),\n",
    "      strip.text = element_text(size = 7,face = \"bold\"))+\n",
    "theme(legend.position = c(.8,0.05))+\n",
    "xlim(min(Per_otu$CI_low)+0.1,max(Per_otu$CI_hig)+0.1)+labs(y='cohort',color='Significance')\n",
    "             \n",
    "ggsave(\"figures/combined_diff_otu_forest_plot.pdf\", device=\"pdf\", height=11, width=11, useDingbats=F)"
   ]
  },
  {
   "cell_type": "markdown",
   "id": "95663b6c-09f2-4d7c-a73c-d531c61e7d04",
   "metadata": {},
   "source": [
    "## plot for top 20 OTUs"
   ]
  },
  {
   "cell_type": "code",
   "execution_count": 38,
   "id": "c3694d77-668c-45dc-873e-584d9ee16c7f",
   "metadata": {},
   "outputs": [],
   "source": [
    "# select top diff OTUs\n",
    "con <- subset(Per_otu,Study=='Combined')\n",
    "con <- con[order(con$absFC, decreasing=T),] \n",
    "top<-con$diff_otu[1:20]\n",
    "top_data <- Per_otu[Per_otu$diff_otu %in% top,]\n",
    "\n",
    "# order for plot\n",
    "top_data <- top_data[order(top_data$log2FoldChange, decreasing=F),]\n",
    "\n",
    "# y axis\n",
    "top_data$Taxon <- factor(top_data$Taxon,levels=subset(top_data,Study=='Combined')$Taxon) \n",
    "top_data$Taxon_oral <- factor(top_data$Taxon_oral,levels=subset(top_data,Study=='Combined')$Taxon_oral) "
   ]
  },
  {
   "cell_type": "code",
   "execution_count": 39,
   "id": "1499a3a5-3fba-48c8-a54a-7b05756ebd40",
   "metadata": {},
   "outputs": [],
   "source": [
    "#write_csv(subset(top_data,Study=='Combined'),'top_sig_diff_otu.csv')"
   ]
  },
  {
   "cell_type": "code",
   "execution_count": 40,
   "id": "5301d8d3-8821-482f-9aef-f5222d03e226",
   "metadata": {},
   "outputs": [
    {
     "data": {
      "text/html": [
       "<table>\n",
       "<caption>A data.frame: 2 × 2</caption>\n",
       "<thead>\n",
       "\t<tr><th></th><th scope=col>X_feature_id</th><th scope=col>align_taxa</th></tr>\n",
       "\t<tr><th></th><th scope=col>&lt;int&gt;</th><th scope=col>&lt;chr&gt;</th></tr>\n",
       "</thead>\n",
       "<tbody>\n",
       "\t<tr><th scope=row>1018784</th><td>1018784</td><td>1018784 o__Bacteroidales     f__Prevotellaceae       g__Prevotella      s__                </td></tr>\n",
       "\t<tr><th scope=row>1049979</th><td>1049979</td><td>1049979 o__Bacteroidales     f__[Paraprevotellaceae] g__[Prevotella]    s__                </td></tr>\n",
       "</tbody>\n",
       "</table>\n"
      ],
      "text/latex": [
       "A data.frame: 2 × 2\n",
       "\\begin{tabular}{r|ll}\n",
       "  & X\\_feature\\_id & align\\_taxa\\\\\n",
       "  & <int> & <chr>\\\\\n",
       "\\hline\n",
       "\t1018784 & 1018784 & 1018784 o\\_\\_Bacteroidales     f\\_\\_Prevotellaceae       g\\_\\_Prevotella      s\\_\\_                \\\\\n",
       "\t1049979 & 1049979 & 1049979 o\\_\\_Bacteroidales     f\\_\\_{[}Paraprevotellaceae{]} g\\_\\_{[}Prevotella{]}    s\\_\\_                \\\\\n",
       "\\end{tabular}\n"
      ],
      "text/markdown": [
       "\n",
       "A data.frame: 2 × 2\n",
       "\n",
       "| <!--/--> | X_feature_id &lt;int&gt; | align_taxa &lt;chr&gt; |\n",
       "|---|---|---|\n",
       "| 1018784 | 1018784 | 1018784 o__Bacteroidales     f__Prevotellaceae       g__Prevotella      s__                 |\n",
       "| 1049979 | 1049979 | 1049979 o__Bacteroidales     f__[Paraprevotellaceae] g__[Prevotella]    s__                 |\n",
       "\n"
      ],
      "text/plain": [
       "        X_feature_id\n",
       "1018784 1018784     \n",
       "1049979 1049979     \n",
       "        align_taxa                                                                                 \n",
       "1018784 1018784 o__Bacteroidales     f__Prevotellaceae       g__Prevotella      s__                \n",
       "1049979 1049979 o__Bacteroidales     f__[Paraprevotellaceae] g__[Prevotella]    s__                "
      ]
     },
     "metadata": {},
     "output_type": "display_data"
    }
   ],
   "source": [
    "#aligned taxonomy for plotting\n",
    "taxonomy <- read.csv('aligned-taxonomy.csv',row.names = 1)\n",
    "head(taxonomy,2)"
   ]
  },
  {
   "cell_type": "code",
   "execution_count": 41,
   "id": "15b6a6e1-b468-4c40-b688-626f46082b7a",
   "metadata": {},
   "outputs": [],
   "source": [
    "new_top_data <- merge(top_data,taxonomy,by.x='diff_otu',by.y='X_feature_id')"
   ]
  },
  {
   "cell_type": "code",
   "execution_count": 42,
   "id": "a91ea778-94ae-4b9d-8ce0-809f46e60c72",
   "metadata": {},
   "outputs": [],
   "source": [
    "# order for plotting\n",
    "new_top_data <- new_top_data[order(new_top_data$log2FoldChange, decreasing=F),]\n",
    "new_top_data$align_taxa <- factor(new_top_data$align_taxa,levels=subset(new_top_data,Study=='Combined')$align_taxa) "
   ]
  },
  {
   "cell_type": "code",
   "execution_count": 45,
   "id": "0a29409d-f5e5-427b-ab39-71d6ae6a975b",
   "metadata": {},
   "outputs": [
    {
     "data": {
      "image/png": "[encoded data removed]",
      "text/plain": [
       "plot without title"
      ]
     },
     "metadata": {
      "image/png": {
       "height": 420,
       "width": 420
      }
     },
     "output_type": "display_data"
    }
   ],
   "source": [
    "ggplot(new_top_data,aes(x=log2FoldChange, y=align_taxa, color=Significant)) +  \n",
    "geom_vline(xintercept = 0, linetype=\"dashed\", color=\"grey50\") + \n",
    "geom_errorbarh(aes(xmin=CI_low, xmax=CI_hig),data=subset(new_top_data,Study=='Combined'), height=0 ) +\n",
    "geom_point(aes(shape =Study),size=3)+\n",
    "theme_MicrobeR() +\n",
    "scale_color_manual(values=c(L,H,'grey'))  +\n",
    "theme(panel.border = element_blank(), axis.line = element_line()) +\n",
    "theme(axis.text.x=element_text(angle=45, hjust=1,size=12,colour = 'black'),\n",
    "      axis.text.y = element_text(size = 12,colour = 'black',family = \"mono\"),\n",
    "      axis.title=element_text(colour='black', size=12),\n",
    "      legend.title = element_text(size = 10),\n",
    "      legend.text = element_text(size = 11),\n",
    "      )+ \n",
    "scale_shape_manual(values=c(17,1,3,4,5,7))+\n",
    "xlim(min(Per_otu$CI_low)+0.3,max(Per_otu$CI_hig)+0.1) +labs(shape='Cohort',color='Significance',y='Taxon')\n",
    "\n",
    "ggsave(\"figures/top20-diff_combined_sign_diff_otu_aliged_forest_plot.pdf\",\n",
    "       device=\"pdf\", height=6, width=15, useDingbats=F)"
   ]
  },
  {
   "cell_type": "code",
   "execution_count": null,
   "id": "d1fc1661-53ae-4938-ab27-5506adcfcd8f",
   "metadata": {},
   "outputs": [],
   "source": []
  }
 ],
 "metadata": {
  "kernelspec": {
   "display_name": "R",
   "language": "R",
   "name": "ir"
  },
  "language_info": {
   "codemirror_mode": "r",
   "file_extension": ".r",
   "mimetype": "text/x-r-source",
   "name": "R",
   "pygments_lexer": "r",
   "version": "4.0.0"
  }
 },
 "nbformat": 4,
 "nbformat_minor": 5
}
