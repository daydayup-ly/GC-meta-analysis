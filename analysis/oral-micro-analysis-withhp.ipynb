{
 "cells": [
  {
   "cell_type": "code",
   "execution_count": 2,
   "id": "d0ad58e4-ad56-41ad-b1a5-40875011c7ee",
   "metadata": {},
   "outputs": [],
   "source": [
    "library(ggplot2)\n",
    "library(tidyverse)\n",
    "library(readxl)\n",
    "library(MicrobeR)"
   ]
  },
  {
   "cell_type": "code",
   "execution_count": 3,
   "id": "c27db052-5cc0-406d-8a7f-a3407b08493a",
   "metadata": {
    "tags": []
   },
   "outputs": [
    {
     "data": {
      "text/html": [
       "<table>\n",
       "<caption>A data.frame: 6 × 62</caption>\n",
       "<thead>\n",
       "\t<tr><th></th><th scope=col>SampleID</th><th scope=col>Age</th><th scope=col>BMI</th><th scope=col>BioProject</th><th scope=col>CagA</th><th scope=col>Center_Name</th><th scope=col>Collection_Date</th><th scope=col>Condition</th><th scope=col>Country</th><th scope=col>Gender</th><th scope=col>⋯</th><th scope=col>shannon</th><th scope=col>faith_pd</th><th scope=col>observed_otus</th><th scope=col>pielou_e</th><th scope=col>oral_feature_relative_abundance</th><th scope=col>Instrument</th><th scope=col>Mean_sequence_length</th><th scope=col>sampleloc</th><th scope=col>bioproject</th><th scope=col>Diag_order</th></tr>\n",
       "\t<tr><th></th><th scope=col>&lt;chr&gt;</th><th scope=col>&lt;dbl&gt;</th><th scope=col>&lt;chr&gt;</th><th scope=col>&lt;chr&gt;</th><th scope=col>&lt;chr&gt;</th><th scope=col>&lt;chr&gt;</th><th scope=col>&lt;chr&gt;</th><th scope=col>&lt;chr&gt;</th><th scope=col>&lt;chr&gt;</th><th scope=col>&lt;chr&gt;</th><th scope=col>⋯</th><th scope=col>&lt;dbl&gt;</th><th scope=col>&lt;dbl&gt;</th><th scope=col>&lt;dbl&gt;</th><th scope=col>&lt;dbl&gt;</th><th scope=col>&lt;dbl&gt;</th><th scope=col>&lt;chr&gt;</th><th scope=col>&lt;dbl&gt;</th><th scope=col>&lt;chr&gt;</th><th scope=col>&lt;chr&gt;</th><th scope=col>&lt;chr&gt;</th></tr>\n",
       "</thead>\n",
       "<tbody>\n",
       "\t<tr><th scope=row>ERR1995049</th><td>ERR1995049</td><td>NA</td><td></td><td>PRJEB21104</td><td></td><td>CGR</td><td></td><td>gastric cancer    </td><td>United Kingdom</td><td></td><td>⋯</td><td>4.750194</td><td>11.313380</td><td>40</td><td>0.8925700</td><td> 8.2191781</td><td></td><td>NA</td><td></td><td>PRJEB21104</td><td>D</td></tr>\n",
       "\t<tr><th scope=row>ERR1995038</th><td>ERR1995038</td><td>NA</td><td></td><td>PRJEB21104</td><td></td><td>CGR</td><td></td><td>gastric cancer    </td><td>United Kingdom</td><td></td><td>⋯</td><td>2.441495</td><td> 7.556159</td><td>24</td><td>0.5325006</td><td>42.0091324</td><td></td><td>NA</td><td></td><td>PRJEB21104</td><td>D</td></tr>\n",
       "\t<tr><th scope=row>ERR1995100</th><td>ERR1995100</td><td>NA</td><td></td><td>PRJEB21104</td><td></td><td>CGR</td><td></td><td>healthy           </td><td>United Kingdom</td><td></td><td>⋯</td><td>4.594717</td><td>13.440958</td><td>59</td><td>0.7810634</td><td>38.2800609</td><td></td><td>NA</td><td></td><td>PRJEB21104</td><td>A</td></tr>\n",
       "\t<tr><th scope=row>ERR1995099</th><td>ERR1995099</td><td>NA</td><td></td><td>PRJEB21104</td><td></td><td>CGR</td><td></td><td>healthy           </td><td>United Kingdom</td><td></td><td>⋯</td><td>4.397661</td><td>11.486416</td><td>42</td><td>0.8155420</td><td>28.9954338</td><td></td><td>NA</td><td></td><td>PRJEB21104</td><td>A</td></tr>\n",
       "\t<tr><th scope=row>ERR1995073</th><td>ERR1995073</td><td>NA</td><td></td><td>PRJEB21104</td><td></td><td>CGR</td><td></td><td>healthy           </td><td>United Kingdom</td><td></td><td>⋯</td><td>3.893526</td><td>11.033402</td><td>45</td><td>0.7089639</td><td>33.2572298</td><td></td><td>NA</td><td></td><td>PRJEB21104</td><td>A</td></tr>\n",
       "\t<tr><th scope=row>ERR1994996</th><td>ERR1994996</td><td>NA</td><td></td><td>PRJEB21104</td><td></td><td>CGR</td><td></td><td>H.pylori gastritis</td><td>United Kingdom</td><td></td><td>⋯</td><td>1.584963</td><td> 1.398417</td><td> 3</td><td>1.0000000</td><td> 0.2283105</td><td></td><td>NA</td><td></td><td>PRJEB21104</td><td>B</td></tr>\n",
       "</tbody>\n",
       "</table>\n"
      ],
      "text/latex": [
       "A data.frame: 6 × 62\n",
       "\\begin{tabular}{r|lllllllllllllllllllll}\n",
       "  & SampleID & Age & BMI & BioProject & CagA & Center\\_Name & Collection\\_Date & Condition & Country & Gender & ⋯ & shannon & faith\\_pd & observed\\_otus & pielou\\_e & oral\\_feature\\_relative\\_abundance & Instrument & Mean\\_sequence\\_length & sampleloc & bioproject & Diag\\_order\\\\\n",
       "  & <chr> & <dbl> & <chr> & <chr> & <chr> & <chr> & <chr> & <chr> & <chr> & <chr> & ⋯ & <dbl> & <dbl> & <dbl> & <dbl> & <dbl> & <chr> & <dbl> & <chr> & <chr> & <chr>\\\\\n",
       "\\hline\n",
       "\tERR1995049 & ERR1995049 & NA &  & PRJEB21104 &  & CGR &  & gastric cancer     & United Kingdom &  & ⋯ & 4.750194 & 11.313380 & 40 & 0.8925700 &  8.2191781 &  & NA &  & PRJEB21104 & D\\\\\n",
       "\tERR1995038 & ERR1995038 & NA &  & PRJEB21104 &  & CGR &  & gastric cancer     & United Kingdom &  & ⋯ & 2.441495 &  7.556159 & 24 & 0.5325006 & 42.0091324 &  & NA &  & PRJEB21104 & D\\\\\n",
       "\tERR1995100 & ERR1995100 & NA &  & PRJEB21104 &  & CGR &  & healthy            & United Kingdom &  & ⋯ & 4.594717 & 13.440958 & 59 & 0.7810634 & 38.2800609 &  & NA &  & PRJEB21104 & A\\\\\n",
       "\tERR1995099 & ERR1995099 & NA &  & PRJEB21104 &  & CGR &  & healthy            & United Kingdom &  & ⋯ & 4.397661 & 11.486416 & 42 & 0.8155420 & 28.9954338 &  & NA &  & PRJEB21104 & A\\\\\n",
       "\tERR1995073 & ERR1995073 & NA &  & PRJEB21104 &  & CGR &  & healthy            & United Kingdom &  & ⋯ & 3.893526 & 11.033402 & 45 & 0.7089639 & 33.2572298 &  & NA &  & PRJEB21104 & A\\\\\n",
       "\tERR1994996 & ERR1994996 & NA &  & PRJEB21104 &  & CGR &  & H.pylori gastritis & United Kingdom &  & ⋯ & 1.584963 &  1.398417 &  3 & 1.0000000 &  0.2283105 &  & NA &  & PRJEB21104 & B\\\\\n",
       "\\end{tabular}\n"
      ],
      "text/markdown": [
       "\n",
       "A data.frame: 6 × 62\n",
       "\n",
       "| <!--/--> | SampleID &lt;chr&gt; | Age &lt;dbl&gt; | BMI &lt;chr&gt; | BioProject &lt;chr&gt; | CagA &lt;chr&gt; | Center_Name &lt;chr&gt; | Collection_Date &lt;chr&gt; | Condition &lt;chr&gt; | Country &lt;chr&gt; | Gender &lt;chr&gt; | ⋯ ⋯ | shannon &lt;dbl&gt; | faith_pd &lt;dbl&gt; | observed_otus &lt;dbl&gt; | pielou_e &lt;dbl&gt; | oral_feature_relative_abundance &lt;dbl&gt; | Instrument &lt;chr&gt; | Mean_sequence_length &lt;dbl&gt; | sampleloc &lt;chr&gt; | bioproject &lt;chr&gt; | Diag_order &lt;chr&gt; |\n",
       "|---|---|---|---|---|---|---|---|---|---|---|---|---|---|---|---|---|---|---|---|---|---|\n",
       "| ERR1995049 | ERR1995049 | NA | <!----> | PRJEB21104 | <!----> | CGR | <!----> | gastric cancer     | United Kingdom | <!----> | ⋯ | 4.750194 | 11.313380 | 40 | 0.8925700 |  8.2191781 | <!----> | NA | <!----> | PRJEB21104 | D |\n",
       "| ERR1995038 | ERR1995038 | NA | <!----> | PRJEB21104 | <!----> | CGR | <!----> | gastric cancer     | United Kingdom | <!----> | ⋯ | 2.441495 |  7.556159 | 24 | 0.5325006 | 42.0091324 | <!----> | NA | <!----> | PRJEB21104 | D |\n",
       "| ERR1995100 | ERR1995100 | NA | <!----> | PRJEB21104 | <!----> | CGR | <!----> | healthy            | United Kingdom | <!----> | ⋯ | 4.594717 | 13.440958 | 59 | 0.7810634 | 38.2800609 | <!----> | NA | <!----> | PRJEB21104 | A |\n",
       "| ERR1995099 | ERR1995099 | NA | <!----> | PRJEB21104 | <!----> | CGR | <!----> | healthy            | United Kingdom | <!----> | ⋯ | 4.397661 | 11.486416 | 42 | 0.8155420 | 28.9954338 | <!----> | NA | <!----> | PRJEB21104 | A |\n",
       "| ERR1995073 | ERR1995073 | NA | <!----> | PRJEB21104 | <!----> | CGR | <!----> | healthy            | United Kingdom | <!----> | ⋯ | 3.893526 | 11.033402 | 45 | 0.7089639 | 33.2572298 | <!----> | NA | <!----> | PRJEB21104 | A |\n",
       "| ERR1994996 | ERR1994996 | NA | <!----> | PRJEB21104 | <!----> | CGR | <!----> | H.pylori gastritis | United Kingdom | <!----> | ⋯ | 1.584963 |  1.398417 |  3 | 1.0000000 |  0.2283105 | <!----> | NA | <!----> | PRJEB21104 | B |\n",
       "\n"
      ],
      "text/plain": [
       "           SampleID   Age BMI BioProject CagA Center_Name Collection_Date\n",
       "ERR1995049 ERR1995049 NA      PRJEB21104      CGR                        \n",
       "ERR1995038 ERR1995038 NA      PRJEB21104      CGR                        \n",
       "ERR1995100 ERR1995100 NA      PRJEB21104      CGR                        \n",
       "ERR1995099 ERR1995099 NA      PRJEB21104      CGR                        \n",
       "ERR1995073 ERR1995073 NA      PRJEB21104      CGR                        \n",
       "ERR1994996 ERR1994996 NA      PRJEB21104      CGR                        \n",
       "           Condition          Country        Gender ⋯ shannon  faith_pd \n",
       "ERR1995049 gastric cancer     United Kingdom        ⋯ 4.750194 11.313380\n",
       "ERR1995038 gastric cancer     United Kingdom        ⋯ 2.441495  7.556159\n",
       "ERR1995100 healthy            United Kingdom        ⋯ 4.594717 13.440958\n",
       "ERR1995099 healthy            United Kingdom        ⋯ 4.397661 11.486416\n",
       "ERR1995073 healthy            United Kingdom        ⋯ 3.893526 11.033402\n",
       "ERR1994996 H.pylori gastritis United Kingdom        ⋯ 1.584963  1.398417\n",
       "           observed_otus pielou_e  oral_feature_relative_abundance Instrument\n",
       "ERR1995049 40            0.8925700  8.2191781                                \n",
       "ERR1995038 24            0.5325006 42.0091324                                \n",
       "ERR1995100 59            0.7810634 38.2800609                                \n",
       "ERR1995099 42            0.8155420 28.9954338                                \n",
       "ERR1995073 45            0.7089639 33.2572298                                \n",
       "ERR1994996  3            1.0000000  0.2283105                                \n",
       "           Mean_sequence_length sampleloc bioproject Diag_order\n",
       "ERR1995049 NA                             PRJEB21104 D         \n",
       "ERR1995038 NA                             PRJEB21104 D         \n",
       "ERR1995100 NA                             PRJEB21104 A         \n",
       "ERR1995099 NA                             PRJEB21104 A         \n",
       "ERR1995073 NA                             PRJEB21104 A         \n",
       "ERR1994996 NA                             PRJEB21104 B         "
      ]
     },
     "metadata": {},
     "output_type": "display_data"
    }
   ],
   "source": [
    "md<-read.csv('data_for_oral_alpha_FC.csv',row.names='Name') %>% rownames_to_column(\"SampleID\") \n",
    "row.names(md)<-md$SampleID\n",
    "head(md)"
   ]
  },
  {
   "cell_type": "code",
   "execution_count": 4,
   "id": "b045854a-ce38-492b-908a-d02aa342e8d4",
   "metadata": {},
   "outputs": [
    {
     "data": {
      "text/html": [
       "<table>\n",
       "<caption>A data.frame: 6 × 62</caption>\n",
       "<thead>\n",
       "\t<tr><th></th><th scope=col>SampleID</th><th scope=col>Age</th><th scope=col>BMI</th><th scope=col>BioProject</th><th scope=col>CagA</th><th scope=col>Center_Name</th><th scope=col>Collection_Date</th><th scope=col>Condition</th><th scope=col>Country</th><th scope=col>Gender</th><th scope=col>⋯</th><th scope=col>shannon</th><th scope=col>faith_pd</th><th scope=col>observed_otus</th><th scope=col>pielou_e</th><th scope=col>oral_feature_relative_abundance</th><th scope=col>Instrument</th><th scope=col>Mean_sequence_length</th><th scope=col>sampleloc</th><th scope=col>bioproject</th><th scope=col>Diag_order</th></tr>\n",
       "\t<tr><th></th><th scope=col>&lt;chr&gt;</th><th scope=col>&lt;dbl&gt;</th><th scope=col>&lt;chr&gt;</th><th scope=col>&lt;chr&gt;</th><th scope=col>&lt;chr&gt;</th><th scope=col>&lt;chr&gt;</th><th scope=col>&lt;chr&gt;</th><th scope=col>&lt;chr&gt;</th><th scope=col>&lt;chr&gt;</th><th scope=col>&lt;chr&gt;</th><th scope=col>⋯</th><th scope=col>&lt;dbl&gt;</th><th scope=col>&lt;dbl&gt;</th><th scope=col>&lt;dbl&gt;</th><th scope=col>&lt;dbl&gt;</th><th scope=col>&lt;dbl&gt;</th><th scope=col>&lt;chr&gt;</th><th scope=col>&lt;dbl&gt;</th><th scope=col>&lt;chr&gt;</th><th scope=col>&lt;chr&gt;</th><th scope=col>&lt;chr&gt;</th></tr>\n",
       "</thead>\n",
       "<tbody>\n",
       "\t<tr><th scope=row>ERR1995049</th><td>ERR1995049</td><td>NA</td><td></td><td>PRJEB21104</td><td></td><td>CGR</td><td></td><td>gastric cancer    </td><td>United Kingdom</td><td></td><td>⋯</td><td>4.750194</td><td>11.313380</td><td>40</td><td>0.8925700</td><td> 8.2191781</td><td></td><td>NA</td><td></td><td>PRJEB21104</td><td>D</td></tr>\n",
       "\t<tr><th scope=row>ERR1995038</th><td>ERR1995038</td><td>NA</td><td></td><td>PRJEB21104</td><td></td><td>CGR</td><td></td><td>gastric cancer    </td><td>United Kingdom</td><td></td><td>⋯</td><td>2.441495</td><td> 7.556159</td><td>24</td><td>0.5325006</td><td>42.0091324</td><td></td><td>NA</td><td></td><td>PRJEB21104</td><td>D</td></tr>\n",
       "\t<tr><th scope=row>ERR1995100</th><td>ERR1995100</td><td>NA</td><td></td><td>PRJEB21104</td><td></td><td>CGR</td><td></td><td>healthy           </td><td>United Kingdom</td><td></td><td>⋯</td><td>4.594717</td><td>13.440958</td><td>59</td><td>0.7810634</td><td>38.2800609</td><td></td><td>NA</td><td></td><td>PRJEB21104</td><td>A</td></tr>\n",
       "\t<tr><th scope=row>ERR1995099</th><td>ERR1995099</td><td>NA</td><td></td><td>PRJEB21104</td><td></td><td>CGR</td><td></td><td>healthy           </td><td>United Kingdom</td><td></td><td>⋯</td><td>4.397661</td><td>11.486416</td><td>42</td><td>0.8155420</td><td>28.9954338</td><td></td><td>NA</td><td></td><td>PRJEB21104</td><td>A</td></tr>\n",
       "\t<tr><th scope=row>ERR1995073</th><td>ERR1995073</td><td>NA</td><td></td><td>PRJEB21104</td><td></td><td>CGR</td><td></td><td>healthy           </td><td>United Kingdom</td><td></td><td>⋯</td><td>3.893526</td><td>11.033402</td><td>45</td><td>0.7089639</td><td>33.2572298</td><td></td><td>NA</td><td></td><td>PRJEB21104</td><td>A</td></tr>\n",
       "\t<tr><th scope=row>ERR1994996</th><td>ERR1994996</td><td>NA</td><td></td><td>PRJEB21104</td><td></td><td>CGR</td><td></td><td>H.pylori gastritis</td><td>United Kingdom</td><td></td><td>⋯</td><td>1.584963</td><td> 1.398417</td><td> 3</td><td>1.0000000</td><td> 0.2283105</td><td></td><td>NA</td><td></td><td>PRJEB21104</td><td>B</td></tr>\n",
       "</tbody>\n",
       "</table>\n"
      ],
      "text/latex": [
       "A data.frame: 6 × 62\n",
       "\\begin{tabular}{r|lllllllllllllllllllll}\n",
       "  & SampleID & Age & BMI & BioProject & CagA & Center\\_Name & Collection\\_Date & Condition & Country & Gender & ⋯ & shannon & faith\\_pd & observed\\_otus & pielou\\_e & oral\\_feature\\_relative\\_abundance & Instrument & Mean\\_sequence\\_length & sampleloc & bioproject & Diag\\_order\\\\\n",
       "  & <chr> & <dbl> & <chr> & <chr> & <chr> & <chr> & <chr> & <chr> & <chr> & <chr> & ⋯ & <dbl> & <dbl> & <dbl> & <dbl> & <dbl> & <chr> & <dbl> & <chr> & <chr> & <chr>\\\\\n",
       "\\hline\n",
       "\tERR1995049 & ERR1995049 & NA &  & PRJEB21104 &  & CGR &  & gastric cancer     & United Kingdom &  & ⋯ & 4.750194 & 11.313380 & 40 & 0.8925700 &  8.2191781 &  & NA &  & PRJEB21104 & D\\\\\n",
       "\tERR1995038 & ERR1995038 & NA &  & PRJEB21104 &  & CGR &  & gastric cancer     & United Kingdom &  & ⋯ & 2.441495 &  7.556159 & 24 & 0.5325006 & 42.0091324 &  & NA &  & PRJEB21104 & D\\\\\n",
       "\tERR1995100 & ERR1995100 & NA &  & PRJEB21104 &  & CGR &  & healthy            & United Kingdom &  & ⋯ & 4.594717 & 13.440958 & 59 & 0.7810634 & 38.2800609 &  & NA &  & PRJEB21104 & A\\\\\n",
       "\tERR1995099 & ERR1995099 & NA &  & PRJEB21104 &  & CGR &  & healthy            & United Kingdom &  & ⋯ & 4.397661 & 11.486416 & 42 & 0.8155420 & 28.9954338 &  & NA &  & PRJEB21104 & A\\\\\n",
       "\tERR1995073 & ERR1995073 & NA &  & PRJEB21104 &  & CGR &  & healthy            & United Kingdom &  & ⋯ & 3.893526 & 11.033402 & 45 & 0.7089639 & 33.2572298 &  & NA &  & PRJEB21104 & A\\\\\n",
       "\tERR1994996 & ERR1994996 & NA &  & PRJEB21104 &  & CGR &  & H.pylori gastritis & United Kingdom &  & ⋯ & 1.584963 &  1.398417 &  3 & 1.0000000 &  0.2283105 &  & NA &  & PRJEB21104 & B\\\\\n",
       "\\end{tabular}\n"
      ],
      "text/markdown": [
       "\n",
       "A data.frame: 6 × 62\n",
       "\n",
       "| <!--/--> | SampleID &lt;chr&gt; | Age &lt;dbl&gt; | BMI &lt;chr&gt; | BioProject &lt;chr&gt; | CagA &lt;chr&gt; | Center_Name &lt;chr&gt; | Collection_Date &lt;chr&gt; | Condition &lt;chr&gt; | Country &lt;chr&gt; | Gender &lt;chr&gt; | ⋯ ⋯ | shannon &lt;dbl&gt; | faith_pd &lt;dbl&gt; | observed_otus &lt;dbl&gt; | pielou_e &lt;dbl&gt; | oral_feature_relative_abundance &lt;dbl&gt; | Instrument &lt;chr&gt; | Mean_sequence_length &lt;dbl&gt; | sampleloc &lt;chr&gt; | bioproject &lt;chr&gt; | Diag_order &lt;chr&gt; |\n",
       "|---|---|---|---|---|---|---|---|---|---|---|---|---|---|---|---|---|---|---|---|---|---|\n",
       "| ERR1995049 | ERR1995049 | NA | <!----> | PRJEB21104 | <!----> | CGR | <!----> | gastric cancer     | United Kingdom | <!----> | ⋯ | 4.750194 | 11.313380 | 40 | 0.8925700 |  8.2191781 | <!----> | NA | <!----> | PRJEB21104 | D |\n",
       "| ERR1995038 | ERR1995038 | NA | <!----> | PRJEB21104 | <!----> | CGR | <!----> | gastric cancer     | United Kingdom | <!----> | ⋯ | 2.441495 |  7.556159 | 24 | 0.5325006 | 42.0091324 | <!----> | NA | <!----> | PRJEB21104 | D |\n",
       "| ERR1995100 | ERR1995100 | NA | <!----> | PRJEB21104 | <!----> | CGR | <!----> | healthy            | United Kingdom | <!----> | ⋯ | 4.594717 | 13.440958 | 59 | 0.7810634 | 38.2800609 | <!----> | NA | <!----> | PRJEB21104 | A |\n",
       "| ERR1995099 | ERR1995099 | NA | <!----> | PRJEB21104 | <!----> | CGR | <!----> | healthy            | United Kingdom | <!----> | ⋯ | 4.397661 | 11.486416 | 42 | 0.8155420 | 28.9954338 | <!----> | NA | <!----> | PRJEB21104 | A |\n",
       "| ERR1995073 | ERR1995073 | NA | <!----> | PRJEB21104 | <!----> | CGR | <!----> | healthy            | United Kingdom | <!----> | ⋯ | 3.893526 | 11.033402 | 45 | 0.7089639 | 33.2572298 | <!----> | NA | <!----> | PRJEB21104 | A |\n",
       "| ERR1994996 | ERR1994996 | NA | <!----> | PRJEB21104 | <!----> | CGR | <!----> | H.pylori gastritis | United Kingdom | <!----> | ⋯ | 1.584963 |  1.398417 |  3 | 1.0000000 |  0.2283105 | <!----> | NA | <!----> | PRJEB21104 | B |\n",
       "\n"
      ],
      "text/plain": [
       "           SampleID   Age BMI BioProject CagA Center_Name Collection_Date\n",
       "ERR1995049 ERR1995049 NA      PRJEB21104      CGR                        \n",
       "ERR1995038 ERR1995038 NA      PRJEB21104      CGR                        \n",
       "ERR1995100 ERR1995100 NA      PRJEB21104      CGR                        \n",
       "ERR1995099 ERR1995099 NA      PRJEB21104      CGR                        \n",
       "ERR1995073 ERR1995073 NA      PRJEB21104      CGR                        \n",
       "ERR1994996 ERR1994996 NA      PRJEB21104      CGR                        \n",
       "           Condition          Country        Gender ⋯ shannon  faith_pd \n",
       "ERR1995049 gastric cancer     United Kingdom        ⋯ 4.750194 11.313380\n",
       "ERR1995038 gastric cancer     United Kingdom        ⋯ 2.441495  7.556159\n",
       "ERR1995100 healthy            United Kingdom        ⋯ 4.594717 13.440958\n",
       "ERR1995099 healthy            United Kingdom        ⋯ 4.397661 11.486416\n",
       "ERR1995073 healthy            United Kingdom        ⋯ 3.893526 11.033402\n",
       "ERR1994996 H.pylori gastritis United Kingdom        ⋯ 1.584963  1.398417\n",
       "           observed_otus pielou_e  oral_feature_relative_abundance Instrument\n",
       "ERR1995049 40            0.8925700  8.2191781                                \n",
       "ERR1995038 24            0.5325006 42.0091324                                \n",
       "ERR1995100 59            0.7810634 38.2800609                                \n",
       "ERR1995099 42            0.8155420 28.9954338                                \n",
       "ERR1995073 45            0.7089639 33.2572298                                \n",
       "ERR1994996  3            1.0000000  0.2283105                                \n",
       "           Mean_sequence_length sampleloc bioproject Diag_order\n",
       "ERR1995049 NA                             PRJEB21104 D         \n",
       "ERR1995038 NA                             PRJEB21104 D         \n",
       "ERR1995100 NA                             PRJEB21104 A         \n",
       "ERR1995099 NA                             PRJEB21104 A         \n",
       "ERR1995073 NA                             PRJEB21104 A         \n",
       "ERR1994996 NA                             PRJEB21104 B         "
      ]
     },
     "metadata": {},
     "output_type": "display_data"
    }
   ],
   "source": [
    "md[which(md$Diagnosis=='intestinal metaplasia'),'Diagnosis'] <-'intestinal_metaplasia'\n",
    "head(md)"
   ]
  },
  {
   "cell_type": "code",
   "execution_count": 5,
   "id": "57a99109-b753-4e9b-b63d-8fb9234a3155",
   "metadata": {},
   "outputs": [
    {
     "data": {
      "text/html": [
       "<table>\n",
       "<caption>A data.frame: 6 × 62</caption>\n",
       "<thead>\n",
       "\t<tr><th></th><th scope=col>SampleID</th><th scope=col>Age</th><th scope=col>BMI</th><th scope=col>BioProject</th><th scope=col>CagA</th><th scope=col>Center_Name</th><th scope=col>Collection_Date</th><th scope=col>Condition</th><th scope=col>Country</th><th scope=col>Gender</th><th scope=col>⋯</th><th scope=col>shannon</th><th scope=col>faith_pd</th><th scope=col>observed_otus</th><th scope=col>pielou_e</th><th scope=col>oral_feature_relative_abundance</th><th scope=col>Instrument</th><th scope=col>Mean_sequence_length</th><th scope=col>sampleloc</th><th scope=col>bioproject</th><th scope=col>Diag_order</th></tr>\n",
       "\t<tr><th></th><th scope=col>&lt;chr&gt;</th><th scope=col>&lt;dbl&gt;</th><th scope=col>&lt;chr&gt;</th><th scope=col>&lt;chr&gt;</th><th scope=col>&lt;chr&gt;</th><th scope=col>&lt;chr&gt;</th><th scope=col>&lt;chr&gt;</th><th scope=col>&lt;chr&gt;</th><th scope=col>&lt;chr&gt;</th><th scope=col>&lt;chr&gt;</th><th scope=col>⋯</th><th scope=col>&lt;dbl&gt;</th><th scope=col>&lt;dbl&gt;</th><th scope=col>&lt;dbl&gt;</th><th scope=col>&lt;dbl&gt;</th><th scope=col>&lt;dbl&gt;</th><th scope=col>&lt;chr&gt;</th><th scope=col>&lt;dbl&gt;</th><th scope=col>&lt;chr&gt;</th><th scope=col>&lt;chr&gt;</th><th scope=col>&lt;chr&gt;</th></tr>\n",
       "</thead>\n",
       "<tbody>\n",
       "\t<tr><th scope=row>ERR1995049</th><td>ERR1995049</td><td>NA</td><td></td><td>PRJEB21104</td><td></td><td>CGR</td><td></td><td>gastric cancer    </td><td>United Kingdom</td><td></td><td>⋯</td><td>4.750194</td><td>11.313380</td><td>40</td><td>0.8925700</td><td> 8.2191781</td><td></td><td>NA</td><td></td><td>PRJEB21104</td><td>D</td></tr>\n",
       "\t<tr><th scope=row>ERR1995038</th><td>ERR1995038</td><td>NA</td><td></td><td>PRJEB21104</td><td></td><td>CGR</td><td></td><td>gastric cancer    </td><td>United Kingdom</td><td></td><td>⋯</td><td>2.441495</td><td> 7.556159</td><td>24</td><td>0.5325006</td><td>42.0091324</td><td></td><td>NA</td><td></td><td>PRJEB21104</td><td>D</td></tr>\n",
       "\t<tr><th scope=row>ERR1995100</th><td>ERR1995100</td><td>NA</td><td></td><td>PRJEB21104</td><td></td><td>CGR</td><td></td><td>healthy           </td><td>United Kingdom</td><td></td><td>⋯</td><td>4.594717</td><td>13.440958</td><td>59</td><td>0.7810634</td><td>38.2800609</td><td></td><td>NA</td><td></td><td>PRJEB21104</td><td>A</td></tr>\n",
       "\t<tr><th scope=row>ERR1995099</th><td>ERR1995099</td><td>NA</td><td></td><td>PRJEB21104</td><td></td><td>CGR</td><td></td><td>healthy           </td><td>United Kingdom</td><td></td><td>⋯</td><td>4.397661</td><td>11.486416</td><td>42</td><td>0.8155420</td><td>28.9954338</td><td></td><td>NA</td><td></td><td>PRJEB21104</td><td>A</td></tr>\n",
       "\t<tr><th scope=row>ERR1995073</th><td>ERR1995073</td><td>NA</td><td></td><td>PRJEB21104</td><td></td><td>CGR</td><td></td><td>healthy           </td><td>United Kingdom</td><td></td><td>⋯</td><td>3.893526</td><td>11.033402</td><td>45</td><td>0.7089639</td><td>33.2572298</td><td></td><td>NA</td><td></td><td>PRJEB21104</td><td>A</td></tr>\n",
       "\t<tr><th scope=row>ERR1994996</th><td>ERR1994996</td><td>NA</td><td></td><td>PRJEB21104</td><td></td><td>CGR</td><td></td><td>H.pylori gastritis</td><td>United Kingdom</td><td></td><td>⋯</td><td>1.584963</td><td> 1.398417</td><td> 3</td><td>1.0000000</td><td> 0.2283105</td><td></td><td>NA</td><td></td><td>PRJEB21104</td><td>B</td></tr>\n",
       "</tbody>\n",
       "</table>\n"
      ],
      "text/latex": [
       "A data.frame: 6 × 62\n",
       "\\begin{tabular}{r|lllllllllllllllllllll}\n",
       "  & SampleID & Age & BMI & BioProject & CagA & Center\\_Name & Collection\\_Date & Condition & Country & Gender & ⋯ & shannon & faith\\_pd & observed\\_otus & pielou\\_e & oral\\_feature\\_relative\\_abundance & Instrument & Mean\\_sequence\\_length & sampleloc & bioproject & Diag\\_order\\\\\n",
       "  & <chr> & <dbl> & <chr> & <chr> & <chr> & <chr> & <chr> & <chr> & <chr> & <chr> & ⋯ & <dbl> & <dbl> & <dbl> & <dbl> & <dbl> & <chr> & <dbl> & <chr> & <chr> & <chr>\\\\\n",
       "\\hline\n",
       "\tERR1995049 & ERR1995049 & NA &  & PRJEB21104 &  & CGR &  & gastric cancer     & United Kingdom &  & ⋯ & 4.750194 & 11.313380 & 40 & 0.8925700 &  8.2191781 &  & NA &  & PRJEB21104 & D\\\\\n",
       "\tERR1995038 & ERR1995038 & NA &  & PRJEB21104 &  & CGR &  & gastric cancer     & United Kingdom &  & ⋯ & 2.441495 &  7.556159 & 24 & 0.5325006 & 42.0091324 &  & NA &  & PRJEB21104 & D\\\\\n",
       "\tERR1995100 & ERR1995100 & NA &  & PRJEB21104 &  & CGR &  & healthy            & United Kingdom &  & ⋯ & 4.594717 & 13.440958 & 59 & 0.7810634 & 38.2800609 &  & NA &  & PRJEB21104 & A\\\\\n",
       "\tERR1995099 & ERR1995099 & NA &  & PRJEB21104 &  & CGR &  & healthy            & United Kingdom &  & ⋯ & 4.397661 & 11.486416 & 42 & 0.8155420 & 28.9954338 &  & NA &  & PRJEB21104 & A\\\\\n",
       "\tERR1995073 & ERR1995073 & NA &  & PRJEB21104 &  & CGR &  & healthy            & United Kingdom &  & ⋯ & 3.893526 & 11.033402 & 45 & 0.7089639 & 33.2572298 &  & NA &  & PRJEB21104 & A\\\\\n",
       "\tERR1994996 & ERR1994996 & NA &  & PRJEB21104 &  & CGR &  & H.pylori gastritis & United Kingdom &  & ⋯ & 1.584963 &  1.398417 &  3 & 1.0000000 &  0.2283105 &  & NA &  & PRJEB21104 & B\\\\\n",
       "\\end{tabular}\n"
      ],
      "text/markdown": [
       "\n",
       "A data.frame: 6 × 62\n",
       "\n",
       "| <!--/--> | SampleID &lt;chr&gt; | Age &lt;dbl&gt; | BMI &lt;chr&gt; | BioProject &lt;chr&gt; | CagA &lt;chr&gt; | Center_Name &lt;chr&gt; | Collection_Date &lt;chr&gt; | Condition &lt;chr&gt; | Country &lt;chr&gt; | Gender &lt;chr&gt; | ⋯ ⋯ | shannon &lt;dbl&gt; | faith_pd &lt;dbl&gt; | observed_otus &lt;dbl&gt; | pielou_e &lt;dbl&gt; | oral_feature_relative_abundance &lt;dbl&gt; | Instrument &lt;chr&gt; | Mean_sequence_length &lt;dbl&gt; | sampleloc &lt;chr&gt; | bioproject &lt;chr&gt; | Diag_order &lt;chr&gt; |\n",
       "|---|---|---|---|---|---|---|---|---|---|---|---|---|---|---|---|---|---|---|---|---|---|\n",
       "| ERR1995049 | ERR1995049 | NA | <!----> | PRJEB21104 | <!----> | CGR | <!----> | gastric cancer     | United Kingdom | <!----> | ⋯ | 4.750194 | 11.313380 | 40 | 0.8925700 |  8.2191781 | <!----> | NA | <!----> | PRJEB21104 | D |\n",
       "| ERR1995038 | ERR1995038 | NA | <!----> | PRJEB21104 | <!----> | CGR | <!----> | gastric cancer     | United Kingdom | <!----> | ⋯ | 2.441495 |  7.556159 | 24 | 0.5325006 | 42.0091324 | <!----> | NA | <!----> | PRJEB21104 | D |\n",
       "| ERR1995100 | ERR1995100 | NA | <!----> | PRJEB21104 | <!----> | CGR | <!----> | healthy            | United Kingdom | <!----> | ⋯ | 4.594717 | 13.440958 | 59 | 0.7810634 | 38.2800609 | <!----> | NA | <!----> | PRJEB21104 | A |\n",
       "| ERR1995099 | ERR1995099 | NA | <!----> | PRJEB21104 | <!----> | CGR | <!----> | healthy            | United Kingdom | <!----> | ⋯ | 4.397661 | 11.486416 | 42 | 0.8155420 | 28.9954338 | <!----> | NA | <!----> | PRJEB21104 | A |\n",
       "| ERR1995073 | ERR1995073 | NA | <!----> | PRJEB21104 | <!----> | CGR | <!----> | healthy            | United Kingdom | <!----> | ⋯ | 3.893526 | 11.033402 | 45 | 0.7089639 | 33.2572298 | <!----> | NA | <!----> | PRJEB21104 | A |\n",
       "| ERR1994996 | ERR1994996 | NA | <!----> | PRJEB21104 | <!----> | CGR | <!----> | H.pylori gastritis | United Kingdom | <!----> | ⋯ | 1.584963 |  1.398417 |  3 | 1.0000000 |  0.2283105 | <!----> | NA | <!----> | PRJEB21104 | B |\n",
       "\n"
      ],
      "text/plain": [
       "           SampleID   Age BMI BioProject CagA Center_Name Collection_Date\n",
       "ERR1995049 ERR1995049 NA      PRJEB21104      CGR                        \n",
       "ERR1995038 ERR1995038 NA      PRJEB21104      CGR                        \n",
       "ERR1995100 ERR1995100 NA      PRJEB21104      CGR                        \n",
       "ERR1995099 ERR1995099 NA      PRJEB21104      CGR                        \n",
       "ERR1995073 ERR1995073 NA      PRJEB21104      CGR                        \n",
       "ERR1994996 ERR1994996 NA      PRJEB21104      CGR                        \n",
       "           Condition          Country        Gender ⋯ shannon  faith_pd \n",
       "ERR1995049 gastric cancer     United Kingdom        ⋯ 4.750194 11.313380\n",
       "ERR1995038 gastric cancer     United Kingdom        ⋯ 2.441495  7.556159\n",
       "ERR1995100 healthy            United Kingdom        ⋯ 4.594717 13.440958\n",
       "ERR1995099 healthy            United Kingdom        ⋯ 4.397661 11.486416\n",
       "ERR1995073 healthy            United Kingdom        ⋯ 3.893526 11.033402\n",
       "ERR1994996 H.pylori gastritis United Kingdom        ⋯ 1.584963  1.398417\n",
       "           observed_otus pielou_e  oral_feature_relative_abundance Instrument\n",
       "ERR1995049 40            0.8925700  8.2191781                                \n",
       "ERR1995038 24            0.5325006 42.0091324                                \n",
       "ERR1995100 59            0.7810634 38.2800609                                \n",
       "ERR1995099 42            0.8155420 28.9954338                                \n",
       "ERR1995073 45            0.7089639 33.2572298                                \n",
       "ERR1994996  3            1.0000000  0.2283105                                \n",
       "           Mean_sequence_length sampleloc bioproject Diag_order\n",
       "ERR1995049 NA                             PRJEB21104 D         \n",
       "ERR1995038 NA                             PRJEB21104 D         \n",
       "ERR1995100 NA                             PRJEB21104 A         \n",
       "ERR1995099 NA                             PRJEB21104 A         \n",
       "ERR1995073 NA                             PRJEB21104 A         \n",
       "ERR1994996 NA                             PRJEB21104 B         "
      ]
     },
     "metadata": {},
     "output_type": "display_data"
    }
   ],
   "source": [
    "md[which(md$Diagnosis=='gastric cancer'),'Diagnosis'] <-'gastric_cancer'\n",
    "head(md)"
   ]
  },
  {
   "cell_type": "code",
   "execution_count": 6,
   "id": "5f8e171a-1bf0-42e1-8191-faa3e06e0d2f",
   "metadata": {},
   "outputs": [],
   "source": [
    "names(md)[names(md) =='oral_feature_relative_abundance' ] <- 'Rel.abundance'\n",
    "names(md)[names(md) =='fraction_of_oral_feature' ] <- 'fraction'"
   ]
  },
  {
   "cell_type": "code",
   "execution_count": 7,
   "id": "dba8c40c-7576-4ba1-ab00-56e3ee4646cb",
   "metadata": {},
   "outputs": [],
   "source": [
    "alphas<-c('shannon','faith_pd', 'observed_otus', 'Rel.abundance','fraction')"
   ]
  },
  {
   "cell_type": "code",
   "execution_count": 8,
   "id": "4b480c20-6f79-46d7-9480-3495778d0ede",
   "metadata": {},
   "outputs": [],
   "source": [
    "Hcolor=\"#E69F00\"\n",
    "Lcolor=\"#0072B2\""
   ]
  },
  {
   "cell_type": "code",
   "execution_count": 9,
   "id": "0a0f41e0-252d-4a69-a90f-39a93948a424",
   "metadata": {},
   "outputs": [],
   "source": [
    "set_front <- function (size=9){\n",
    "    theme(axis.text.x=element_text(angle=45, hjust=1,size=size),\n",
    "          axis.text.y=element_text(size=size),\n",
    "      axis.text = element_text(size = size,colour = 'black'),\n",
    "      legend.title = element_text(size = size),\n",
    "     legend.text = element_text(size = size),\n",
    "     strip.text = element_text(size = size))\n",
    "    #return(p)\n",
    "}  "
   ]
  },
  {
   "cell_type": "code",
   "execution_count": 10,
   "id": "f0a2372b-fc50-413e-b23b-0cba6459eccf",
   "metadata": {},
   "outputs": [],
   "source": [
    "md <- subset(md,Condition!='atrophic gastritis') %>%subset(Condition!='H.pylori atrophic gastritis')"
   ]
  },
  {
   "cell_type": "markdown",
   "id": "5cc4ab85-25bb-436f-987a-ed50c184521f",
   "metadata": {},
   "source": [
    "## healthy vs gastritis"
   ]
  },
  {
   "cell_type": "code",
   "execution_count": 11,
   "id": "2692fcbc-8da2-4c76-baf7-cf2e1b2b92e4",
   "metadata": {},
   "outputs": [],
   "source": [
    "Project=c('PRJEB26931','PRJEB21104','PRJEB22107')"
   ]
  },
  {
   "cell_type": "code",
   "execution_count": 12,
   "id": "6f9578ba-ca09-4662-984d-177c296f6205",
   "metadata": {},
   "outputs": [],
   "source": [
    "Alpha_stat<- function(p){\n",
    "\n",
    "\n",
    "    As <-list()\n",
    "\n",
    "    As$md <-subset(md,bioproject==p) %>% subset(Diagnosis=='healthy'| Diagnosis=='gastritis') #*\n",
    "\n",
    "    for (Alpha in alphas){\n",
    "        min_alpha=min(As$md[which(As$md[Alpha]!=0),Alpha])\n",
    "        As$md[which(As$md[Alpha]==0),Alpha]<- min_alpha \n",
    "    }\n",
    "\n",
    "\n",
    "    As$alpha_div <- As$md %>%\n",
    "    as_tibble() %>%  # 变成tibble ，dataframe的一种\n",
    "    gather( key=\"Metric\", value=\"Diversity\",shannon,faith_pd, observed_otus,Rel.abundance,fraction) %>% \n",
    "    select(SampleID,BioProject, Diagnosis, Metric, Diversity)\n",
    "    #alpha_div\n",
    "\n",
    "    As$alpha_div <- As$alpha_div %>%\n",
    "    left_join(\n",
    "        As$alpha_div %>%\n",
    "        group_by(Metric, Diagnosis) %>%\n",
    "        summarize(mean=mean(log2(Diversity))) %>%  \n",
    "       spread(key=Diagnosis, value=mean) %>%\n",
    "       rename(mean_log2HC=healthy, mean_log2CG=gastritis) #*\n",
    "    ) %>%\n",
    "\n",
    "    mutate(log2FC=log2(Diversity)-mean_log2HC)\n",
    "\n",
    "\n",
    "\n",
    "    As$AlphaDiversity_Stats <-\n",
    "    As$alpha_div %>%\n",
    "    group_by(Metric) %>% \n",
    "    do(\n",
    "      broom::tidy(t.test(log2FC~Diagnosis, data=., conf.int=TRUE, conf.level=0.95))\n",
    "    ) %>%\n",
    "    mutate(BioProject= p) %>%\n",
    "    select(BioProject, Metric, log2FC=estimate, Pvalue=p.value, \n",
    "           mean_HC=estimate2, mean_CG=estimate1, CI_low=conf.low, CI_high=conf.high) #* estimate1 对应谁怎么看\n",
    "\n",
    "    return(As)\n",
    "}"
   ]
  },
  {
   "cell_type": "code",
   "execution_count": 13,
   "id": "110dba9c-c9e9-46f8-a8ba-9097ff408850",
   "metadata": {},
   "outputs": [
    {
     "name": "stderr",
     "output_type": "stream",
     "text": [
      "--------------------->PRJEB26931\n",
      "\n",
      "\u001b[1m\u001b[22m`summarise()` has grouped output by 'Metric'. You can override using the\n",
      "`.groups` argument.\n",
      "\u001b[1m\u001b[22mJoining, by = \"Metric\"\n",
      "--------------------->PRJEB21104\n",
      "\n",
      "\u001b[1m\u001b[22m`summarise()` has grouped output by 'Metric'. You can override using the\n",
      "`.groups` argument.\n",
      "\u001b[1m\u001b[22mJoining, by = \"Metric\"\n",
      "--------------------->PRJEB22107\n",
      "\n",
      "\u001b[1m\u001b[22m`summarise()` has grouped output by 'Metric'. You can override using the\n",
      "`.groups` argument.\n",
      "\u001b[1m\u001b[22mJoining, by = \"Metric\"\n"
     ]
    }
   ],
   "source": [
    "PerStudy<-list()\n",
    "  for(p in Project){\n",
    "    message(\"--------------------->\", p)\n",
    "    PerStudy[[p]]<-Alpha_stat(p)\n",
    "  }"
   ]
  },
  {
   "cell_type": "code",
   "execution_count": 14,
   "id": "c0f5d256-3e3d-4640-8e6e-fdd615444eed",
   "metadata": {
    "collapsed": true,
    "jupyter": {
     "outputs_hidden": true
    },
    "tags": []
   },
   "outputs": [
    {
     "name": "stderr",
     "output_type": "stream",
     "text": [
      "Computing profile confidence intervals ...\n",
      "\n",
      "Computing profile confidence intervals ...\n",
      "\n",
      "Computing profile confidence intervals ...\n",
      "\n",
      "Computing profile confidence intervals ...\n",
      "\n",
      "boundary (singular) fit: see ?isSingular\n",
      "\n",
      "Computing profile confidence intervals ...\n",
      "\n"
     ]
    }
   ],
   "source": [
    "\n",
    "\n",
    "mod<-lapply(PerStudy, function(x) x$alpha_div) %>%\n",
    "  do.call(bind_rows, .) %>%\n",
    "  mutate(Diagnosis=factor(Diagnosis, levels=c(\"healthy\",\"gastritis\"))) %>% #*\n",
    "  group_by(Metric)\n",
    "\n",
    "AlphaCombined<-tibble(BioProject=character(0), Metric=character(0), \n",
    "                      log2FC=numeric(0), Pvalue=numeric(0), mean_HC=numeric(0), \n",
    "                      mean_CG=numeric(0), CI_low=numeric(0), CI_high=numeric(0))\n",
    "\n",
    "for(i in unique(mod$Metric)){\n",
    "  fit<-lmerTest:::lmer(log2FC~Diagnosis+(1|BioProject), data=subset(mod, Metric==i))\n",
    "  cf<-confint(fit,level = 0.95)\n",
    "  \n",
    "  AlphaCombined<-bind_rows(AlphaCombined, tibble(\n",
    "    BioProject=\"Combined\", \n",
    "    Metric=i, \n",
    "    log2FC=summary(fit)$coefficients[\"Diagnosisgastritis\", \"Estimate\"],  \n",
    "    Pvalue=anova(fit)$`Pr(>F)`,  \n",
    "    mean_HC=NA, \n",
    "    mean_CG=NA, \n",
    "    CI_low=cf[\"Diagnosisgastritis\",1],  \n",
    "    CI_high=cf[\"Diagnosisgastritis\",2]  \n",
    "  ))\n",
    "}"
   ]
  },
  {
   "cell_type": "code",
   "execution_count": 15,
   "id": "0771d59b-9d71-4ded-8fa8-c376b1b711c6",
   "metadata": {},
   "outputs": [
    {
     "name": "stderr",
     "output_type": "stream",
     "text": [
      "\u001b[1m\u001b[22mJoining, by = \"BioProject\"\n"
     ]
    },
    {
     "data": {
      "image/png": "[encoded data removed]",
      "text/plain": [
       "plot without title"
      ]
     },
     "metadata": {
      "image/png": {
       "height": 420,
       "width": 420
      }
     },
     "output_type": "display_data"
    }
   ],
   "source": [
    "NSamples<-\n",
    "  lapply(names(PerStudy), function(x) tibble(BioProject=x, Nsamples=length(unique(PerStudy[[x]]$alpha_div$SampleID)))) %>% \n",
    "  do.call(bind_rows, .) %>% \n",
    "  arrange(desc(Nsamples)) %>% \n",
    "  mutate(Study=paste0(BioProject, \" (n=\", Nsamples,\")\")) %>% \n",
    "  bind_rows(tibble(BioProject=\"Combined\", Study=\"Combined\")) %>%\n",
    "  mutate(Study=factor(Study, levels=rev(Study)))\n",
    "         \n",
    "\n",
    "res<- lapply(PerStudy, function(x) x$AlphaDiversity_Stats) %>%\n",
    "do.call(bind_rows, .) %>%\n",
    "bind_rows(AlphaCombined) %>%\n",
    "mutate(Significant=case_when(\n",
    "Pvalue<0.05 & log2FC>0 ~ \"* higher in gastritis\",\n",
    "Pvalue<0.05 & log2FC<0 ~ \"* higher in healthy\",\n",
    "TRUE~\"ns\"\n",
    ")) %>%\n",
    "ungroup() %>%\n",
    "mutate(Metric=factor(Metric, levels=alphas))%>%\n",
    "left_join(NSamples) \n",
    "       \n",
    "ggplot(res,aes(x=log2FC, y=BioProject, color=Significant)) +  \n",
    "geom_vline(xintercept = 0, linetype=\"dashed\", color=\"grey50\") +\n",
    "geom_errorbarh(aes(xmin=CI_low, xmax=CI_high), height=0 ) +\n",
    "geom_point() +\n",
    "facet_grid(~Metric, scales=\"free_x\") +\n",
    "theme_MicrobeR() +\n",
    "scale_color_manual(values=c(Hcolor, Lcolor, \"black\"))  +\n",
    "theme(panel.border = element_blank(), axis.line = element_line()) +\n",
    "#theme(axis.text.x=element_text(angle=45, hjust=1,size=7),\n",
    "#      axis.text = element_text(size = 9,colour = 'black'))+\n",
    "             ylab('healthy vs gastritis') + set_front(9)+xlab('log2(fold difference)')\n",
    "             \n",
    "#ggsave(\"figures/healthy_vs_CG_forestplot.pdf\", device=\"pdf\", height=2, width=8.5, useDingbats=F)\n",
    "#write.csv(res,'healthy_vs_CG_logFC_result.csv')"
   ]
  },
  {
   "cell_type": "code",
   "execution_count": 16,
   "id": "332b40b2-c953-4041-86aa-5f905a5a5892",
   "metadata": {},
   "outputs": [],
   "source": [
    "hg <-res"
   ]
  },
  {
   "cell_type": "markdown",
   "id": "3c626b90-20a5-444c-8b2c-23cbe771e9ef",
   "metadata": {},
   "source": [
    "## healthy vs GC"
   ]
  },
  {
   "cell_type": "code",
   "execution_count": 17,
   "id": "35e3ca44-cd63-4ed0-8058-6fa628b1b880",
   "metadata": {},
   "outputs": [],
   "source": [
    "Project=c('PRJEB21104','PRJEB26931','PRJEB21497')"
   ]
  },
  {
   "cell_type": "code",
   "execution_count": 18,
   "id": "145e0960-cc9b-4312-bb16-c3b99fa3513a",
   "metadata": {},
   "outputs": [],
   "source": [
    "Alpha_stat<- function(p){\n",
    "\n",
    "\n",
    "    As <-list()\n",
    "\n",
    "    As$md <-subset(md,bioproject==p) %>% subset(Diagnosis=='healthy'| Diagnosis=='gastric_cancer') #*\n",
    "\n",
    "    for (Alpha in alphas){\n",
    "        min_alpha=min(As$md[which(As$md[Alpha]!=0),Alpha])\n",
    "        As$md[which(As$md[Alpha]==0),Alpha]<- min_alpha \n",
    "    }\n",
    "\n",
    "\n",
    "    As$alpha_div <- As$md %>%\n",
    "    as_tibble() %>%  \n",
    "    gather( key=\"Metric\", value=\"Diversity\",shannon,faith_pd, observed_otus, Rel.abundance,fraction) %>% #wide to long\n",
    "    select(SampleID,BioProject, Diagnosis, Metric, Diversity)\n",
    "    \n",
    "\n",
    "    As$alpha_div <- As$alpha_div %>%\n",
    "    left_join(\n",
    "        As$alpha_div %>%\n",
    "        group_by(Metric, Diagnosis) %>%\n",
    "        summarize(mean=mean(log2(Diversity))) %>%  \n",
    "       spread(key=Diagnosis, value=mean) %>%\n",
    "       rename(mean_log2HC=healthy, mean_log2GC=gastric_cancer)  #*\n",
    "    ) %>%\n",
    "\n",
    "    mutate(log2FC=log2(Diversity)-mean_log2HC) #*\n",
    "\n",
    "\n",
    "\n",
    "    As$AlphaDiversity_Stats <-\n",
    "    As$alpha_div %>%\n",
    "    group_by(Metric) %>% \n",
    "    do(\n",
    "      broom::tidy(t.test(log2FC~Diagnosis, data=., conf.int=TRUE, conf.level=0.95))\n",
    "    ) %>%\n",
    "    mutate(BioProject= p) %>%\n",
    "    select(BioProject, Metric, log2FC=estimate, Pvalue=p.value, \n",
    "           mean_HC=estimate2, mean_GC=estimate1, CI_low=conf.low, CI_high=conf.high) # *\n",
    "\n",
    "    return(As)\n",
    "}"
   ]
  },
  {
   "cell_type": "code",
   "execution_count": 19,
   "id": "7575d82c-80b6-4f86-a79c-031e09cb74ef",
   "metadata": {
    "collapsed": true,
    "jupyter": {
     "outputs_hidden": true
    },
    "tags": []
   },
   "outputs": [
    {
     "name": "stderr",
     "output_type": "stream",
     "text": [
      "--------------------->PRJEB21104\n",
      "\n",
      "\u001b[1m\u001b[22m`summarise()` has grouped output by 'Metric'. You can override using the\n",
      "`.groups` argument.\n",
      "\u001b[1m\u001b[22mJoining, by = \"Metric\"\n",
      "--------------------->PRJEB26931\n",
      "\n",
      "\u001b[1m\u001b[22m`summarise()` has grouped output by 'Metric'. You can override using the\n",
      "`.groups` argument.\n",
      "\u001b[1m\u001b[22mJoining, by = \"Metric\"\n",
      "--------------------->PRJEB21497\n",
      "\n",
      "\u001b[1m\u001b[22m`summarise()` has grouped output by 'Metric'. You can override using the\n",
      "`.groups` argument.\n",
      "\u001b[1m\u001b[22mJoining, by = \"Metric\"\n"
     ]
    }
   ],
   "source": [
    "PerStudy<-list()\n",
    "  for(p in Project){\n",
    "    message(\"--------------------->\", p)\n",
    "    PerStudy[[p]]<-Alpha_stat(p)\n",
    "  }"
   ]
  },
  {
   "cell_type": "code",
   "execution_count": 20,
   "id": "7ceae1ab-bb16-47bd-8ab3-d9d7584dbf82",
   "metadata": {
    "collapsed": true,
    "jupyter": {
     "outputs_hidden": true
    },
    "tags": []
   },
   "outputs": [
    {
     "name": "stderr",
     "output_type": "stream",
     "text": [
      "Computing profile confidence intervals ...\n",
      "\n",
      "Computing profile confidence intervals ...\n",
      "\n",
      "Computing profile confidence intervals ...\n",
      "\n",
      "Computing profile confidence intervals ...\n",
      "\n",
      "Computing profile confidence intervals ...\n",
      "\n"
     ]
    }
   ],
   "source": [
    "\n",
    "\n",
    "mod<-lapply(PerStudy, function(x) x$alpha_div) %>% \n",
    "  do.call(bind_rows, .) %>%\n",
    "  mutate(Diagnosis=factor(Diagnosis, levels=c(\"healthy\",\"gastric_cancer\"))) %>%\n",
    "  group_by(Metric)\n",
    "\n",
    "AlphaCombined<-tibble(BioProject=character(0), Metric=character(0), log2FC=numeric(0), \n",
    "                      Pvalue=numeric(0), mean_HC=numeric(0), mean_GC=numeric(0), \n",
    "                      CI_low=numeric(0), CI_high=numeric(0))  \n",
    "#AlphaCombined\n",
    "for(i in unique(mod$Metric)){\n",
    "  fit<-lmerTest:::lmer(log2FC~Diagnosis+(1|BioProject), data=subset(mod, Metric==i))\n",
    "  cf<-confint(fit,level = 0.95)\n",
    "  \n",
    "  AlphaCombined<-bind_rows(AlphaCombined, tibble(\n",
    "    BioProject=\"Combined\", \n",
    "    Metric=i, \n",
    "    log2FC=summary(fit)$coefficients[\"Diagnosisgastric_cancer\", \"Estimate\"], \n",
    "    Pvalue=anova(fit)$`Pr(>F)`,  \n",
    "    mean_HC=NA, #\n",
    "    mean_GC=NA, #\n",
    "    CI_low=cf[\"Diagnosisgastric_cancer\",1], \n",
    "    CI_high=cf[\"Diagnosisgastric_cancer\",2] \n",
    "  ))\n",
    "}"
   ]
  },
  {
   "cell_type": "code",
   "execution_count": 21,
   "id": "482cb756-b230-4a47-9cc9-6fe30b0ed157",
   "metadata": {},
   "outputs": [
    {
     "name": "stderr",
     "output_type": "stream",
     "text": [
      "\u001b[1m\u001b[22mJoining, by = \"BioProject\"\n"
     ]
    },
    {
     "data": {
      "image/png": "[encoded data removed]",
      "text/plain": [
       "plot without title"
      ]
     },
     "metadata": {
      "image/png": {
       "height": 420,
       "width": 420
      }
     },
     "output_type": "display_data"
    }
   ],
   "source": [
    "NSamples<-\n",
    "  lapply(names(PerStudy), function(x) tibble(BioProject=x, Nsamples=length(unique(PerStudy[[x]]$alpha_div$SampleID)))) %>% \n",
    "  do.call(bind_rows, .) %>% \n",
    "  arrange(desc(Nsamples)) %>% \n",
    "  mutate(Study=paste0(BioProject, \" (n=\", Nsamples,\")\")) %>% \n",
    "  bind_rows(tibble(BioProject=\"Combined\", Study=\"Combined\")) %>%\n",
    "  mutate(Study=factor(Study, levels=rev(Study)))\n",
    "         \n",
    "\n",
    "res<- lapply(PerStudy, function(x) x$AlphaDiversity_Stats) %>%\n",
    "do.call(bind_rows, .) %>%\n",
    "bind_rows(AlphaCombined) %>%\n",
    "mutate(Significant=case_when(\n",
    "Pvalue<0.05 & log2FC>0 ~ \"* higher in GC\",\n",
    "Pvalue<0.05 & log2FC<0 ~ \"* higher in healthy\",\n",
    "TRUE~\"ns\"\n",
    ")) %>%\n",
    "ungroup() %>%\n",
    "mutate(Metric=factor(Metric, levels=alphas))%>%\n",
    "left_join(NSamples) \n",
    "       \n",
    "ggplot(res,aes(x=log2FC, y=BioProject, color=Significant)) +  \n",
    "geom_vline(xintercept = 0, linetype=\"dashed\", color=\"grey50\") +\n",
    "geom_errorbarh(aes(xmin=CI_low, xmax=CI_high), height=0 ) +\n",
    "geom_point() +\n",
    "facet_grid(~Metric, scales=\"free_x\") +\n",
    "theme_MicrobeR() +\n",
    "scale_color_manual(values=c(Lcolor, Hcolor,\"black\"))  +\n",
    "theme(panel.border = element_blank(), axis.line = element_line()) +\n",
    "#theme(axis.text.x=element_text(angle=45, hjust=1,size=7),\n",
    "#      axis.text = element_text(size = 9,colour = 'black')) + \n",
    "             ylab('healthy vs GC') + set_front(9)+xlab('log2(fold difference)')\n",
    "\n",
    "#ggsave(\"figures/healthy_vs_GC_forestplot.pdf\", device=\"pdf\", height=2, width=8.5, useDingbats=F)\n",
    "#write.csv(res,'healthy_vs_GC_logFC_result.csv')"
   ]
  },
  {
   "cell_type": "code",
   "execution_count": 22,
   "id": "82729856-cee0-46dc-8745-5ee29c57742e",
   "metadata": {},
   "outputs": [],
   "source": [
    "hgc <- res"
   ]
  },
  {
   "cell_type": "markdown",
   "id": "3dbb374d-5991-4055-90df-3bcbd9cf5e85",
   "metadata": {},
   "source": [
    "## gastritis vs IM"
   ]
  },
  {
   "cell_type": "code",
   "execution_count": 23,
   "id": "5440f24b-1faa-41fe-a8c8-4924a6c055b1",
   "metadata": {},
   "outputs": [],
   "source": [
    "Project=c('PRJEB21104','PRJEB26931','PRJNA375772_Xi_an','PRJNA481413')"
   ]
  },
  {
   "cell_type": "code",
   "execution_count": 24,
   "id": "3620504b-587e-47fb-812a-e042bb634be2",
   "metadata": {},
   "outputs": [],
   "source": [
    "Alpha_stat<- function(p){\n",
    "\n",
    "\n",
    "    As <-list()\n",
    "\n",
    "    As$md <-subset(md,bioproject==p) %>% subset(Diagnosis=='gastritis'| Diagnosis=='intestinal_metaplasia') %>%  #*\n",
    "    mutate(Diagnosis=factor(Diagnosis, levels=c(\"intestinal_metaplasia\",\"gastritis\")))\n",
    "    for (Alpha in alphas){\n",
    "        min_alpha=min(As$md[which(As$md[Alpha]!=0),Alpha])\n",
    "        As$md[which(As$md[Alpha]==0),Alpha]<- min_alpha \n",
    "    }\n",
    "\n",
    "\n",
    "    As$alpha_div <- As$md %>%\n",
    "    as_tibble() %>%  \n",
    "    gather( key=\"Metric\", value=\"Diversity\",shannon,faith_pd, observed_otus, Rel.abundance,fraction) %>% #wide to long\n",
    "    select(SampleID,BioProject, Diagnosis, Metric, Diversity)\n",
    "    \n",
    "\n",
    "    As$alpha_div <- As$alpha_div %>%\n",
    "    left_join(\n",
    "        As$alpha_div %>%\n",
    "        group_by(Metric, Diagnosis) %>%\n",
    "        summarize(mean=mean(log2(Diversity))) %>%  \n",
    "       spread(key=Diagnosis, value=mean) %>%\n",
    "       rename(mean_log2CG=gastritis, mean_log2IM=intestinal_metaplasia)  \n",
    "    ) %>%\n",
    "\n",
    "    mutate(log2FC=log2(Diversity)-mean_log2CG) \n",
    "\n",
    "\n",
    "\n",
    "    As$AlphaDiversity_Stats <-\n",
    "    As$alpha_div %>%\n",
    "    group_by(Metric) %>% \n",
    "    do(\n",
    "      broom::tidy(t.test(log2FC~Diagnosis, data=., conf.int=TRUE, conf.level=0.95))\n",
    "    ) %>%\n",
    "    mutate(BioProject= p) %>%\n",
    "    select(BioProject, Metric, log2FC=estimate, Pvalue=p.value, \n",
    "           mean_CG=estimate1, mean_IM=estimate2, CI_low=conf.low, CI_high=conf.high) \n",
    "\n",
    "    return(As)\n",
    "}"
   ]
  },
  {
   "cell_type": "code",
   "execution_count": 25,
   "id": "fc75b6a6-f7b3-45bb-80a2-d8634dc88fcb",
   "metadata": {
    "collapsed": true,
    "jupyter": {
     "outputs_hidden": true
    },
    "tags": []
   },
   "outputs": [
    {
     "name": "stderr",
     "output_type": "stream",
     "text": [
      "--------------------->PRJEB21104\n",
      "\n",
      "\u001b[1m\u001b[22m`summarise()` has grouped output by 'Metric'. You can override using the\n",
      "`.groups` argument.\n",
      "\u001b[1m\u001b[22mJoining, by = \"Metric\"\n",
      "--------------------->PRJEB26931\n",
      "\n",
      "\u001b[1m\u001b[22m`summarise()` has grouped output by 'Metric'. You can override using the\n",
      "`.groups` argument.\n",
      "\u001b[1m\u001b[22mJoining, by = \"Metric\"\n",
      "--------------------->PRJNA375772_Xi_an\n",
      "\n",
      "\u001b[1m\u001b[22m`summarise()` has grouped output by 'Metric'. You can override using the\n",
      "`.groups` argument.\n",
      "\u001b[1m\u001b[22mJoining, by = \"Metric\"\n",
      "--------------------->PRJNA481413\n",
      "\n",
      "\u001b[1m\u001b[22m`summarise()` has grouped output by 'Metric'. You can override using the\n",
      "`.groups` argument.\n",
      "\u001b[1m\u001b[22mJoining, by = \"Metric\"\n"
     ]
    }
   ],
   "source": [
    "PerStudy<-list()\n",
    "  for(p in Project){\n",
    "    message(\"--------------------->\", p)\n",
    "    PerStudy[[p]]<-Alpha_stat(p)\n",
    "  }"
   ]
  },
  {
   "cell_type": "code",
   "execution_count": 26,
   "id": "a2b4e3f5-cb86-426c-a6b3-e8ecd52db6ce",
   "metadata": {
    "collapsed": true,
    "jupyter": {
     "outputs_hidden": true
    },
    "tags": []
   },
   "outputs": [
    {
     "name": "stderr",
     "output_type": "stream",
     "text": [
      "boundary (singular) fit: see ?isSingular\n",
      "\n",
      "Computing profile confidence intervals ...\n",
      "\n",
      "Warning message in nextpar(mat, cc, i, delta, lowcut, upcut):\n",
      "“Last two rows have identical or NA .zeta values: using minstep”\n",
      "Warning message in FUN(X[[i]], ...):\n",
      "“non-monotonic profile for .sig01”\n",
      "Warning message in confint.thpr(pp, level = level, zeta = zeta):\n",
      "“bad spline fit for .sig01: falling back to linear interpolation”\n",
      "Warning message in regularize.values(x, y, ties, missing(ties), na.rm = na.rm):\n",
      "“collapsing to unique 'x' values”\n",
      "boundary (singular) fit: see ?isSingular\n",
      "\n",
      "Computing profile confidence intervals ...\n",
      "\n",
      "boundary (singular) fit: see ?isSingular\n",
      "\n",
      "Computing profile confidence intervals ...\n",
      "\n",
      "boundary (singular) fit: see ?isSingular\n",
      "\n",
      "Computing profile confidence intervals ...\n",
      "\n",
      "Computing profile confidence intervals ...\n",
      "\n",
      "Warning message in nextpar(mat, cc, i, delta, lowcut, upcut):\n",
      "“Last two rows have identical or NA .zeta values: using minstep”\n",
      "Warning message in FUN(X[[i]], ...):\n",
      "“non-monotonic profile for .sig01”\n",
      "Warning message in confint.thpr(pp, level = level, zeta = zeta):\n",
      "“bad spline fit for .sig01: falling back to linear interpolation”\n",
      "Warning message in regularize.values(x, y, ties, missing(ties), na.rm = na.rm):\n",
      "“collapsing to unique 'x' values”\n"
     ]
    }
   ],
   "source": [
    "mod<-lapply(PerStudy, function(x) x$alpha_div) %>%\n",
    "  do.call(bind_rows, .) %>%\n",
    "  mutate(Diagnosis=factor(Diagnosis, levels=c(\"gastritis\",\"intestinal_metaplasia\"))) %>%\n",
    "  group_by(Metric)\n",
    "\n",
    "AlphaCombined<-tibble(BioProject=character(0), Metric=character(0), log2FC=numeric(0), \n",
    "                      Pvalue=numeric(0), mean_CG=numeric(0), mean_IM=numeric(0), \n",
    "                      CI_low=numeric(0), CI_high=numeric(0))  \n",
    "#AlphaCombined\n",
    "for(i in unique(mod$Metric)){\n",
    "  fit<-lmerTest:::lmer(log2FC~Diagnosis+(1|BioProject), data=subset(mod, Metric==i))\n",
    "  cf<-confint(fit,level = 0.95)\n",
    "  \n",
    "  AlphaCombined<-bind_rows(AlphaCombined, tibble(\n",
    "    BioProject=\"Combined\", \n",
    "    Metric=i, \n",
    "    log2FC=summary(fit)$coefficients[\"Diagnosisintestinal_metaplasia\", \"Estimate\"],  \n",
    "    Pvalue=anova(fit)$`Pr(>F)`,  \n",
    "    mean_CG=NA, \n",
    "    mean_IM=NA,\n",
    "    CI_low=cf[\"Diagnosisintestinal_metaplasia\",1], \n",
    "    CI_high=cf[\"Diagnosisintestinal_metaplasia\",2] \n",
    "  ))\n",
    "}"
   ]
  },
  {
   "cell_type": "code",
   "execution_count": 27,
   "id": "bbd1591d-e51b-467e-8542-650e07bf710d",
   "metadata": {},
   "outputs": [
    {
     "name": "stderr",
     "output_type": "stream",
     "text": [
      "\u001b[1m\u001b[22mJoining, by = \"BioProject\"\n"
     ]
    },
    {
     "data": {
      "image/png": "[encoded data removed]",
      "text/plain": [
       "plot without title"
      ]
     },
     "metadata": {
      "image/png": {
       "height": 420,
       "width": 420
      }
     },
     "output_type": "display_data"
    }
   ],
   "source": [
    "NSamples<-\n",
    "  lapply(names(PerStudy), function(x) tibble(BioProject=x, Nsamples=length(unique(PerStudy[[x]]$alpha_div$SampleID)))) %>% \n",
    "  do.call(bind_rows, .) %>% \n",
    "  arrange(desc(Nsamples)) %>% \n",
    "  mutate(Study=paste0(BioProject, \" (n=\", Nsamples,\")\")) %>% \n",
    "  bind_rows(tibble(BioProject=\"Combined\", Study=\"Combined\")) %>%\n",
    "  mutate(Study=factor(Study, levels=rev(Study)))\n",
    "         \n",
    "\n",
    "res<- lapply(PerStudy, function(x) x$AlphaDiversity_Stats) %>%\n",
    "do.call(bind_rows, .) %>%\n",
    "bind_rows(AlphaCombined) %>%\n",
    "mutate(Significant=case_when(\n",
    "Pvalue<0.05 & log2FC>0 ~ \"* higher in IM\",\n",
    "Pvalue<0.05 & log2FC<0 ~ \"* higher in gastritis\",\n",
    "TRUE~\"ns\"\n",
    ")) %>%\n",
    "ungroup() %>%\n",
    "mutate(Metric=factor(Metric, levels=alphas))%>%\n",
    "left_join(NSamples) \n",
    "       \n",
    "ggplot(res,aes(x=log2FC, y=BioProject, color=Significant)) +  \n",
    "geom_vline(xintercept = 0, linetype=\"dashed\", color=\"grey50\") +\n",
    "geom_errorbarh(aes(xmin=CI_low, xmax=CI_high), height=0 ) +\n",
    "geom_point() +\n",
    "facet_grid(~Metric, scales=\"free_x\") +\n",
    "theme_MicrobeR() +\n",
    "scale_color_manual(values=c(Lcolor, \"black\"))  +\n",
    "theme(panel.border = element_blank(), axis.line = element_line()) +\n",
    "#theme(axis.text.x=element_text(angle=45, hjust=1,size=7),\n",
    "#      axis.text = element_text(size = 9,colour = 'black')) \n",
    "              ylab('gastirtis vs IM')+ set_front(9)+xlab('log2(fold difference)')\n",
    "\n",
    "#ggsave(\"figures/gastritis_vs_IM_forestplot.pdf\", device=\"pdf\", height=2, width=9, useDingbats=F)\n",
    "#write.csv(res,'gastritis_vs_IM_logFC_result.csv')             "
   ]
  },
  {
   "cell_type": "code",
   "execution_count": 28,
   "id": "42e170de-bd01-4b85-94a1-c9a815470192",
   "metadata": {},
   "outputs": [],
   "source": [
    "gim <- res"
   ]
  },
  {
   "cell_type": "markdown",
   "id": "3bfe0001-d27b-44a7-8fbc-743cb3c9c49f",
   "metadata": {},
   "source": [
    "## gastritis vs GC"
   ]
  },
  {
   "cell_type": "code",
   "execution_count": 29,
   "id": "2a51c347-503f-4980-966d-a29b7326426b",
   "metadata": {},
   "outputs": [],
   "source": [
    "Project<-c('PRJEB21104','PRJEB26931','PRJNA375772_Inner_Mongolia','PRJNA375772_Xi_an',\n",
    "'PRJNA481413')"
   ]
  },
  {
   "cell_type": "code",
   "execution_count": 30,
   "id": "b29c8d47-ac8b-485e-9da8-2c069d0ed450",
   "metadata": {},
   "outputs": [],
   "source": [
    "Alpha_stat<- function(p){\n",
    "\n",
    "\n",
    "    As <-list()\n",
    "\n",
    "    As$md <-subset(md,bioproject==p) %>% subset(Diagnosis=='gastritis'| Diagnosis=='gastric_cancer')\n",
    "\n",
    "    for (Alpha in alphas){\n",
    "        min_alpha=min(As$md[which(As$md[Alpha]!=0),Alpha])\n",
    "        As$md[which(As$md[Alpha]==0),Alpha]<- min_alpha \n",
    "    }\n",
    "\n",
    "\n",
    "    As$alpha_div <- As$md %>%\n",
    "    as_tibble() %>%  \n",
    "    gather( key=\"Metric\", value=\"Diversity\",shannon,faith_pd, observed_otus, Rel.abundance,fraction) %>% #wide to long\n",
    "    select(SampleID,BioProject, Diagnosis, Metric, Diversity)\n",
    "    #alpha_div\n",
    "\n",
    "    As$alpha_div <- As$alpha_div %>%\n",
    "    left_join(\n",
    "        As$alpha_div %>%\n",
    "        group_by(Metric, Diagnosis) %>%\n",
    "        summarize(mean=mean(log2(Diversity))) %>%  \n",
    "       spread(key=Diagnosis, value=mean) %>%\n",
    "       rename(mean_log2GC=gastric_cancer, mean_log2CG=gastritis)\n",
    "    ) %>%\n",
    "\n",
    "    mutate(log2FC=log2(Diversity)-mean_log2CG)\n",
    "\n",
    "\n",
    "\n",
    "    As$AlphaDiversity_Stats <-\n",
    "    As$alpha_div %>%\n",
    "    group_by(Metric) %>% \n",
    "    do(\n",
    "      broom::tidy(t.test(log2FC~Diagnosis, data=., conf.int=TRUE, conf.level=0.95))\n",
    "    ) %>%\n",
    "    mutate(BioProject= p) %>%\n",
    "    select(BioProject, Metric, log2FC=estimate, Pvalue=p.value, mean_CG=estimate2, \n",
    "           mean_GC=estimate1, CI_low=conf.low, CI_high=conf.high)\n",
    "\n",
    "    return(As)\n",
    "}"
   ]
  },
  {
   "cell_type": "code",
   "execution_count": 31,
   "id": "204a3174-ddce-4506-a84e-d8b45cc75f40",
   "metadata": {
    "collapsed": true,
    "jupyter": {
     "outputs_hidden": true
    },
    "tags": []
   },
   "outputs": [
    {
     "name": "stderr",
     "output_type": "stream",
     "text": [
      "--------------------->PRJEB21104\n",
      "\n",
      "\u001b[1m\u001b[22m`summarise()` has grouped output by 'Metric'. You can override using the\n",
      "`.groups` argument.\n",
      "\u001b[1m\u001b[22mJoining, by = \"Metric\"\n",
      "--------------------->PRJEB26931\n",
      "\n",
      "\u001b[1m\u001b[22m`summarise()` has grouped output by 'Metric'. You can override using the\n",
      "`.groups` argument.\n",
      "\u001b[1m\u001b[22mJoining, by = \"Metric\"\n",
      "--------------------->PRJNA375772_Inner_Mongolia\n",
      "\n",
      "\u001b[1m\u001b[22m`summarise()` has grouped output by 'Metric'. You can override using the\n",
      "`.groups` argument.\n",
      "\u001b[1m\u001b[22mJoining, by = \"Metric\"\n",
      "--------------------->PRJNA375772_Xi_an\n",
      "\n",
      "\u001b[1m\u001b[22m`summarise()` has grouped output by 'Metric'. You can override using the\n",
      "`.groups` argument.\n",
      "\u001b[1m\u001b[22mJoining, by = \"Metric\"\n",
      "--------------------->PRJNA481413\n",
      "\n",
      "\u001b[1m\u001b[22m`summarise()` has grouped output by 'Metric'. You can override using the\n",
      "`.groups` argument.\n",
      "\u001b[1m\u001b[22mJoining, by = \"Metric\"\n"
     ]
    }
   ],
   "source": [
    "PerStudy<-list()\n",
    "  for(p in Project){\n",
    "    message(\"--------------------->\", p)\n",
    "    PerStudy[[p]]<-Alpha_stat(p)\n",
    "  }\n"
   ]
  },
  {
   "cell_type": "code",
   "execution_count": null,
   "id": "366e4c76-29a3-4d60-ad4c-b733c38acefb",
   "metadata": {},
   "outputs": [],
   "source": []
  },
  {
   "cell_type": "code",
   "execution_count": 32,
   "id": "4f660672-9d11-4486-8b4a-8073631a34bd",
   "metadata": {
    "collapsed": true,
    "jupyter": {
     "outputs_hidden": true
    },
    "tags": []
   },
   "outputs": [
    {
     "name": "stderr",
     "output_type": "stream",
     "text": [
      "Computing profile confidence intervals ...\n",
      "\n",
      "Computing profile confidence intervals ...\n",
      "\n",
      "Computing profile confidence intervals ...\n",
      "\n",
      "Computing profile confidence intervals ...\n",
      "\n",
      "Computing profile confidence intervals ...\n",
      "\n"
     ]
    }
   ],
   "source": [
    "mod<-lapply(PerStudy, function(x) x$alpha_div) %>%\n",
    "  do.call(bind_rows, .) %>%\n",
    "  mutate(Diagnosis=factor(Diagnosis, levels=c(\"gastritis\",\"gastric_cancer\"))) %>%\n",
    "  group_by(Metric)\n",
    "\n",
    "AlphaCombined<-tibble(BioProject=character(0), Metric=character(0), log2FC=numeric(0), Pvalue=numeric(0), \n",
    "                      mean_CG=numeric(0), \n",
    "                      mean_GC=numeric(0), CI_low=numeric(0), CI_high=numeric(0)) \n",
    "#AlphaCombined\n",
    "for(i in unique(mod$Metric)){\n",
    "  fit<-lmerTest:::lmer(log2FC~Diagnosis+(1|BioProject), data=subset(mod, Metric==i))\n",
    "  cf<-confint(fit,level = 0.95)\n",
    "  \n",
    "  AlphaCombined<-bind_rows(AlphaCombined, tibble(\n",
    "    BioProject=\"Combined\", \n",
    "    Metric=i, \n",
    "    log2FC=summary(fit)$coefficients[\"Diagnosisgastric_cancer\", \"Estimate\"], \n",
    "    Pvalue=anova(fit)$`Pr(>F)`,  \n",
    "    mean_CG=NA, \n",
    "    mean_GC=NA, \n",
    "    CI_low=cf[\"Diagnosisgastric_cancer\",1], \n",
    "    CI_high=cf[\"Diagnosisgastric_cancer\",2]\n",
    "  ))\n",
    "}"
   ]
  },
  {
   "cell_type": "code",
   "execution_count": 33,
   "id": "0d8f1295-4ded-46f5-ae21-ac6547cb45c1",
   "metadata": {},
   "outputs": [
    {
     "name": "stderr",
     "output_type": "stream",
     "text": [
      "\u001b[1m\u001b[22mJoining, by = \"BioProject\"\n"
     ]
    },
    {
     "data": {
      "image/png": "[encoded data removed]",
      "text/plain": [
       "plot without title"
      ]
     },
     "metadata": {
      "image/png": {
       "height": 420,
       "width": 420
      }
     },
     "output_type": "display_data"
    }
   ],
   "source": [
    "NSamples<-\n",
    "  lapply(names(PerStudy), function(x) tibble(BioProject=x, Nsamples=length(unique(PerStudy[[x]]$alpha_div$SampleID)))) %>% \n",
    "  do.call(bind_rows, .) %>% \n",
    "  arrange(desc(Nsamples)) %>% \n",
    "  mutate(Study=paste0(BioProject, \" (n=\", Nsamples,\")\")) %>% \n",
    "  bind_rows(tibble(BioProject=\"Combined\", Study=\"Combined\")) %>%\n",
    "  mutate(Study=factor(Study, levels=rev(Study)))\n",
    "         \n",
    "\n",
    "res<- lapply(PerStudy, function(x) x$AlphaDiversity_Stats) %>%\n",
    "do.call(bind_rows, .) %>%\n",
    "bind_rows(AlphaCombined) %>%\n",
    "mutate(Significant=case_when(\n",
    "Pvalue<0.05 & log2FC>0 ~ \"* higher in GC\",\n",
    "Pvalue<0.05 & log2FC<0 ~ \"* higher in gastritis\",\n",
    "TRUE~\"ns\"\n",
    ")) %>%\n",
    "ungroup() %>%\n",
    "mutate(Metric=factor(Metric, levels=alphas))%>%\n",
    "left_join(NSamples) \n",
    "       \n",
    "ggplot(res,aes(x=log2FC, y=Study, color=Significant)) +  \n",
    "geom_vline(xintercept = 0, linetype=\"dashed\", color=\"grey50\") +\n",
    "geom_errorbarh(aes(xmin=CI_low, xmax=CI_high), height=0 ) +\n",
    "geom_point() +\n",
    "facet_grid(~Metric, scales=\"free_x\") +\n",
    "theme_MicrobeR() +\n",
    "scale_color_manual(values=c(Lcolor, Hcolor,\"black\"))  +\n",
    "theme(panel.border = element_blank(), axis.line = element_line()) +\n",
    "#theme(axis.text.x=element_text(angle=45, hjust=1,size=7),\n",
    "#      axis.text = element_text(size = 9,colour = 'black')) + \n",
    "             ylab('gastritis vs GC')+ set_front(9)+xlab('log2(fold difference)')\n",
    "#ggsave(\"figures/gastritis_vs_GC_forestplot.pdf\", device=\"pdf\", height=3, width=10, useDingbats=F)\n",
    "#write.csv(res,'gastritis_vs_GC_logFC_result.csv') \n",
    "             \n"
   ]
  },
  {
   "cell_type": "code",
   "execution_count": 34,
   "id": "84e504c8-aca8-40ba-9283-597f57bac991",
   "metadata": {},
   "outputs": [],
   "source": [
    "ggc <- res"
   ]
  },
  {
   "cell_type": "markdown",
   "id": "d98c70e6-b5f5-4042-9438-8595c406e563",
   "metadata": {},
   "source": [
    "## IM vs GC"
   ]
  },
  {
   "cell_type": "code",
   "execution_count": 35,
   "id": "aa17dd4f-6c95-440a-b81a-cc60b94acaaa",
   "metadata": {},
   "outputs": [],
   "source": [
    "Project<-c('PRJEB21104','PRJEB26931','PRJNA375772_Xi_an',\n",
    "'PRJNA481413')"
   ]
  },
  {
   "cell_type": "code",
   "execution_count": 36,
   "id": "48c6b4b5-5900-4b39-b23f-c266734b3a1a",
   "metadata": {},
   "outputs": [],
   "source": [
    "Alpha_stat<- function(p){\n",
    "\n",
    "\n",
    "    As <-list()\n",
    "\n",
    "    As$md <-subset(md,bioproject==p) %>% subset(Diagnosis=='intestinal_metaplasia'| Diagnosis=='gastric_cancer')\n",
    "\n",
    "    for (Alpha in alphas){\n",
    "        min_alpha=min(As$md[which(As$md[Alpha]!=0),Alpha])\n",
    "        As$md[which(As$md[Alpha]==0),Alpha]<- min_alpha \n",
    "    }\n",
    "\n",
    "\n",
    "    As$alpha_div <- As$md %>%\n",
    "    as_tibble() %>%  \n",
    "    gather( key=\"Metric\", value=\"Diversity\",shannon,faith_pd, observed_otus, Rel.abundance,fraction) %>% #wide to long\n",
    "    select(SampleID,BioProject, Diagnosis, Metric, Diversity)\n",
    "    #alpha_div\n",
    "\n",
    "    As$alpha_div <- As$alpha_div %>%\n",
    "    left_join(\n",
    "        As$alpha_div %>%\n",
    "        group_by(Metric, Diagnosis) %>%\n",
    "        summarize(mean=mean(log2(Diversity))) %>% \n",
    "       spread(key=Diagnosis, value=mean) %>%\n",
    "       rename(mean_log2GC=gastric_cancer, mean_log2IM=intestinal_metaplasia) \n",
    "    ) %>%\n",
    "\n",
    "    mutate(log2FC=log2(Diversity)-mean_log2IM)\n",
    "\n",
    "\n",
    "\n",
    "    As$AlphaDiversity_Stats <-\n",
    "    As$alpha_div %>%\n",
    "    group_by(Metric) %>% \n",
    "    do(\n",
    "      broom::tidy(t.test(log2FC~Diagnosis, data=., conf.int=TRUE, conf.level=0.95))\n",
    "    ) %>%\n",
    "    mutate(BioProject= p) %>%\n",
    "    select(BioProject, Metric, log2FC=estimate, Pvalue=p.value, mean_IM=estimate2, \n",
    "           mean_GC=estimate1, CI_low=conf.low, CI_high=conf.high)\n",
    "\n",
    "    return(As)\n",
    "}"
   ]
  },
  {
   "cell_type": "code",
   "execution_count": 37,
   "id": "a5c1aeb6-8701-4378-b637-841a177889df",
   "metadata": {
    "collapsed": true,
    "jupyter": {
     "outputs_hidden": true
    },
    "tags": []
   },
   "outputs": [
    {
     "name": "stderr",
     "output_type": "stream",
     "text": [
      "--------------------->PRJEB21104\n",
      "\n",
      "\u001b[1m\u001b[22m`summarise()` has grouped output by 'Metric'. You can override using the\n",
      "`.groups` argument.\n",
      "\u001b[1m\u001b[22mJoining, by = \"Metric\"\n",
      "--------------------->PRJEB26931\n",
      "\n",
      "\u001b[1m\u001b[22m`summarise()` has grouped output by 'Metric'. You can override using the\n",
      "`.groups` argument.\n",
      "\u001b[1m\u001b[22mJoining, by = \"Metric\"\n",
      "--------------------->PRJNA375772_Xi_an\n",
      "\n",
      "\u001b[1m\u001b[22m`summarise()` has grouped output by 'Metric'. You can override using the\n",
      "`.groups` argument.\n",
      "\u001b[1m\u001b[22mJoining, by = \"Metric\"\n",
      "--------------------->PRJNA481413\n",
      "\n",
      "\u001b[1m\u001b[22m`summarise()` has grouped output by 'Metric'. You can override using the\n",
      "`.groups` argument.\n",
      "\u001b[1m\u001b[22mJoining, by = \"Metric\"\n"
     ]
    }
   ],
   "source": [
    "PerStudy<-list()\n",
    "  for(p in Project){\n",
    "    message(\"--------------------->\", p)\n",
    "    PerStudy[[p]]<-Alpha_stat(p)\n",
    "  }"
   ]
  },
  {
   "cell_type": "code",
   "execution_count": 38,
   "id": "48ca6fd3-ab40-44fd-937d-3e19bed5f839",
   "metadata": {
    "tags": []
   },
   "outputs": [
    {
     "name": "stderr",
     "output_type": "stream",
     "text": [
      "Computing profile confidence intervals ...\n",
      "\n",
      "Computing profile confidence intervals ...\n",
      "\n",
      "Computing profile confidence intervals ...\n",
      "\n",
      "boundary (singular) fit: see ?isSingular\n",
      "\n",
      "Computing profile confidence intervals ...\n",
      "\n",
      "Computing profile confidence intervals ...\n",
      "\n"
     ]
    }
   ],
   "source": [
    "mod<-lapply(PerStudy, function(x) x$alpha_div) %>%\n",
    "  do.call(bind_rows, .) %>%\n",
    "  mutate(Diagnosis=factor(Diagnosis, levels=c(\"intestinal_metaplasia\",\"gastric_cancer\"))) %>%\n",
    "  group_by(Metric)\n",
    "\n",
    "AlphaCombined<-tibble(BioProject=character(0), Metric=character(0), log2FC=numeric(0), Pvalue=numeric(0), \n",
    "                      mean_IM=numeric(0), \n",
    "                      mean_GC=numeric(0), CI_low=numeric(0), CI_high=numeric(0)) \n",
    "#AlphaCombined\n",
    "for(i in unique(mod$Metric)){\n",
    "  fit<-lmerTest:::lmer(log2FC~Diagnosis+(1|BioProject), data=subset(mod, Metric==i))\n",
    "  cf<-confint(fit,level = 0.95)\n",
    "  \n",
    "  AlphaCombined<-bind_rows(AlphaCombined, tibble(\n",
    "    BioProject=\"Combined\", \n",
    "    Metric=i, \n",
    "    log2FC=summary(fit)$coefficients[\"Diagnosisgastric_cancer\", \"Estimate\"], \n",
    "    Pvalue=anova(fit)$`Pr(>F)`, \n",
    "    mean_IM=NA, #*\n",
    "    mean_GC=NA, #*\n",
    "    CI_low=cf[\"Diagnosisgastric_cancer\",1], \n",
    "    CI_high=cf[\"Diagnosisgastric_cancer\",2]\n",
    "  ))\n",
    "}"
   ]
  },
  {
   "cell_type": "code",
   "execution_count": 39,
   "id": "f1a5fc3b-9329-41df-936a-1d0f6770b423",
   "metadata": {},
   "outputs": [
    {
     "name": "stderr",
     "output_type": "stream",
     "text": [
      "\u001b[1m\u001b[22mJoining, by = \"BioProject\"\n"
     ]
    },
    {
     "data": {
      "image/png": "[encoded data removed]",
      "text/plain": [
       "plot without title"
      ]
     },
     "metadata": {
      "image/png": {
       "height": 420,
       "width": 420
      }
     },
     "output_type": "display_data"
    }
   ],
   "source": [
    "NSamples<-\n",
    "  lapply(names(PerStudy), function(x) tibble(BioProject=x, Nsamples=length(unique(PerStudy[[x]]$alpha_div$SampleID)))) %>% \n",
    "  do.call(bind_rows, .) %>% \n",
    "  arrange(desc(Nsamples)) %>% \n",
    "  mutate(Study=paste0(BioProject, \" (n=\", Nsamples,\")\")) %>% \n",
    "  bind_rows(tibble(BioProject=\"Combined\", Study=\"Combined\")) %>%\n",
    "  mutate(Study=factor(Study, levels=rev(Study)))\n",
    "         \n",
    "\n",
    "res<-lapply(PerStudy, function(x) x$AlphaDiversity_Stats) %>%\n",
    "do.call(bind_rows, .) %>%\n",
    "bind_rows(AlphaCombined) %>%\n",
    "mutate(Significant=case_when(\n",
    "Pvalue<0.05 & log2FC>0 ~ \"* higher in GC\",\n",
    "Pvalue<0.05 & log2FC<0 ~ \"* higher in IM\",\n",
    "TRUE~\"ns\"\n",
    ")) %>%\n",
    "ungroup() %>%\n",
    "mutate(Metric=factor(Metric, levels=alphas))%>%\n",
    "left_join(NSamples) \n",
    "ggplot(res,aes(x=log2FC, y=BioProject, color=Significant)) +  \n",
    "geom_vline(xintercept = 0, linetype=\"dashed\", color=\"grey50\") +\n",
    "geom_errorbarh(aes(xmin=CI_low, xmax=CI_high), height=0 ) +\n",
    "geom_point() +\n",
    "facet_grid(~Metric, scales=\"free_x\") +\n",
    "theme_MicrobeR() +\n",
    "scale_color_manual(values=c(Hcolor, Lcolor, \"black\"))  +\n",
    "theme(panel.border = element_blank(), axis.line = element_line()) +\n",
    "#theme(axis.text.x=element_text(angle=45, hjust=1,size=7),\n",
    "#      axis.text = element_text(size = 9,colour = 'black')) + \n",
    "            ylab('IM vs GC')+ set_front(9)+xlab('log2(fold difference)')\n",
    "             \n",
    "#ggsave(\"figures/IM_vs_GC_forestplot.pdf\", device=\"pdf\", height=3, width=9, useDingbats=F)\n",
    "#write.csv(res,'IM_vs_GC_logFC_result.csv')"
   ]
  },
  {
   "cell_type": "code",
   "execution_count": 40,
   "id": "5a266ab5-3b5e-4b29-9be9-dcd883ad0a93",
   "metadata": {},
   "outputs": [],
   "source": [
    "imgc <- res"
   ]
  },
  {
   "cell_type": "markdown",
   "id": "4f18bb48-c74c-4fcb-a3d7-8f5fab6b3049",
   "metadata": {},
   "source": [
    "# combine"
   ]
  },
  {
   "cell_type": "code",
   "execution_count": 41,
   "id": "a8a69480-b864-4156-b4b1-0aabb82ecfe8",
   "metadata": {},
   "outputs": [
    {
     "data": {
      "text/html": [
       "<table>\n",
       "<caption>A tibble: 5 × 8</caption>\n",
       "<thead>\n",
       "\t<tr><th scope=col>BioProject</th><th scope=col>Metric</th><th scope=col>log2FC</th><th scope=col>Pvalue</th><th scope=col>CI_low</th><th scope=col>CI_high</th><th scope=col>Significance</th><th scope=col>Compare_status</th></tr>\n",
       "\t<tr><th scope=col>&lt;chr&gt;</th><th scope=col>&lt;fct&gt;</th><th scope=col>&lt;dbl&gt;</th><th scope=col>&lt;dbl&gt;</th><th scope=col>&lt;dbl&gt;</th><th scope=col>&lt;dbl&gt;</th><th scope=col>&lt;chr&gt;</th><th scope=col>&lt;chr&gt;</th></tr>\n",
       "</thead>\n",
       "<tbody>\n",
       "\t<tr><td>Combined</td><td>shannon      </td><td>-0.1436586</td><td>9.177677e-02</td><td>-0.30940671</td><td> 0.02325301</td><td>ns</td><td>Healthy vs. Gastritis</td></tr>\n",
       "\t<tr><td>Combined</td><td>faith_pd     </td><td>-0.6198188</td><td>3.875363e-06</td><td>-0.87232824</td><td>-0.36409115</td><td>**</td><td>Healthy vs. Gastritis</td></tr>\n",
       "\t<tr><td>Combined</td><td>observed_otus</td><td>-0.8402741</td><td>2.842308e-06</td><td>-1.17775352</td><td>-0.49892610</td><td>**</td><td>Healthy vs. Gastritis</td></tr>\n",
       "\t<tr><td>Combined</td><td>Rel.abundance</td><td>-2.0615809</td><td>1.105817e-11</td><td>-2.60847098</td><td>-1.50736536</td><td>**</td><td>Healthy vs. Gastritis</td></tr>\n",
       "\t<tr><td>Combined</td><td>fraction     </td><td> 0.1237538</td><td>1.961868e-01</td><td>-0.06303139</td><td> 0.31053894</td><td>ns</td><td>Healthy vs. Gastritis</td></tr>\n",
       "</tbody>\n",
       "</table>\n"
      ],
      "text/latex": [
       "A tibble: 5 × 8\n",
       "\\begin{tabular}{llllllll}\n",
       " BioProject & Metric & log2FC & Pvalue & CI\\_low & CI\\_high & Significance & Compare\\_status\\\\\n",
       " <chr> & <fct> & <dbl> & <dbl> & <dbl> & <dbl> & <chr> & <chr>\\\\\n",
       "\\hline\n",
       "\t Combined & shannon       & -0.1436586 & 9.177677e-02 & -0.30940671 &  0.02325301 & ns & Healthy vs. Gastritis\\\\\n",
       "\t Combined & faith\\_pd      & -0.6198188 & 3.875363e-06 & -0.87232824 & -0.36409115 & ** & Healthy vs. Gastritis\\\\\n",
       "\t Combined & observed\\_otus & -0.8402741 & 2.842308e-06 & -1.17775352 & -0.49892610 & ** & Healthy vs. Gastritis\\\\\n",
       "\t Combined & Rel.abundance & -2.0615809 & 1.105817e-11 & -2.60847098 & -1.50736536 & ** & Healthy vs. Gastritis\\\\\n",
       "\t Combined & fraction      &  0.1237538 & 1.961868e-01 & -0.06303139 &  0.31053894 & ns & Healthy vs. Gastritis\\\\\n",
       "\\end{tabular}\n"
      ],
      "text/markdown": [
       "\n",
       "A tibble: 5 × 8\n",
       "\n",
       "| BioProject &lt;chr&gt; | Metric &lt;fct&gt; | log2FC &lt;dbl&gt; | Pvalue &lt;dbl&gt; | CI_low &lt;dbl&gt; | CI_high &lt;dbl&gt; | Significance &lt;chr&gt; | Compare_status &lt;chr&gt; |\n",
       "|---|---|---|---|---|---|---|---|\n",
       "| Combined | shannon       | -0.1436586 | 9.177677e-02 | -0.30940671 |  0.02325301 | ns | Healthy vs. Gastritis |\n",
       "| Combined | faith_pd      | -0.6198188 | 3.875363e-06 | -0.87232824 | -0.36409115 | ** | Healthy vs. Gastritis |\n",
       "| Combined | observed_otus | -0.8402741 | 2.842308e-06 | -1.17775352 | -0.49892610 | ** | Healthy vs. Gastritis |\n",
       "| Combined | Rel.abundance | -2.0615809 | 1.105817e-11 | -2.60847098 | -1.50736536 | ** | Healthy vs. Gastritis |\n",
       "| Combined | fraction      |  0.1237538 | 1.961868e-01 | -0.06303139 |  0.31053894 | ns | Healthy vs. Gastritis |\n",
       "\n"
      ],
      "text/plain": [
       "  BioProject Metric        log2FC     Pvalue       CI_low      CI_high    \n",
       "1 Combined   shannon       -0.1436586 9.177677e-02 -0.30940671  0.02325301\n",
       "2 Combined   faith_pd      -0.6198188 3.875363e-06 -0.87232824 -0.36409115\n",
       "3 Combined   observed_otus -0.8402741 2.842308e-06 -1.17775352 -0.49892610\n",
       "4 Combined   Rel.abundance -2.0615809 1.105817e-11 -2.60847098 -1.50736536\n",
       "5 Combined   fraction       0.1237538 1.961868e-01 -0.06303139  0.31053894\n",
       "  Significance Compare_status       \n",
       "1 ns           Healthy vs. Gastritis\n",
       "2 **           Healthy vs. Gastritis\n",
       "3 **           Healthy vs. Gastritis\n",
       "4 **           Healthy vs. Gastritis\n",
       "5 ns           Healthy vs. Gastritis"
      ]
     },
     "metadata": {},
     "output_type": "display_data"
    }
   ],
   "source": [
    "hg_c <- hg %>% subset(BioProject=='Combined') %>% \n",
    "select(BioProject,Metric,log2FC,Pvalue,CI_low,CI_high)%>%\n",
    "mutate(Significance=case_when(\n",
    "Pvalue<0.01 ~ \"**\",\n",
    "Pvalue>0.05 ~ \"ns\",\n",
    "TRUE~\"*\"),Compare_status='Healthy vs. Gastritis')\n",
    "hg_c"
   ]
  },
  {
   "cell_type": "code",
   "execution_count": 42,
   "id": "7a405e9b-6394-4eda-9b1f-806cfc56d1c0",
   "metadata": {},
   "outputs": [
    {
     "data": {
      "text/html": [
       "<table>\n",
       "<caption>A tibble: 5 × 8</caption>\n",
       "<thead>\n",
       "\t<tr><th scope=col>BioProject</th><th scope=col>Metric</th><th scope=col>log2FC</th><th scope=col>Pvalue</th><th scope=col>CI_low</th><th scope=col>CI_high</th><th scope=col>Significance</th><th scope=col>Compare_status</th></tr>\n",
       "\t<tr><th scope=col>&lt;chr&gt;</th><th scope=col>&lt;fct&gt;</th><th scope=col>&lt;dbl&gt;</th><th scope=col>&lt;dbl&gt;</th><th scope=col>&lt;dbl&gt;</th><th scope=col>&lt;dbl&gt;</th><th scope=col>&lt;chr&gt;</th><th scope=col>&lt;chr&gt;</th></tr>\n",
       "</thead>\n",
       "<tbody>\n",
       "\t<tr><td>Combined</td><td>shannon      </td><td>-0.04720533</td><td>4.637522e-01</td><td>-0.1695032</td><td>0.08948123</td><td>ns</td><td>Healthy vs. GC</td></tr>\n",
       "\t<tr><td>Combined</td><td>faith_pd     </td><td>-0.02506869</td><td>6.778432e-01</td><td>-0.1440646</td><td>0.09225260</td><td>ns</td><td>Healthy vs. GC</td></tr>\n",
       "\t<tr><td>Combined</td><td>observed_otus</td><td>-0.10565895</td><td>2.217420e-01</td><td>-0.2751383</td><td>0.06267604</td><td>ns</td><td>Healthy vs. GC</td></tr>\n",
       "\t<tr><td>Combined</td><td>Rel.abundance</td><td>-0.14259424</td><td>4.753064e-01</td><td>-0.5358496</td><td>0.24598120</td><td>ns</td><td>Healthy vs. GC</td></tr>\n",
       "\t<tr><td>Combined</td><td>fraction     </td><td> 0.90102468</td><td>1.156825e-17</td><td> 0.7177467</td><td>1.09409482</td><td>**</td><td>Healthy vs. GC</td></tr>\n",
       "</tbody>\n",
       "</table>\n"
      ],
      "text/latex": [
       "A tibble: 5 × 8\n",
       "\\begin{tabular}{llllllll}\n",
       " BioProject & Metric & log2FC & Pvalue & CI\\_low & CI\\_high & Significance & Compare\\_status\\\\\n",
       " <chr> & <fct> & <dbl> & <dbl> & <dbl> & <dbl> & <chr> & <chr>\\\\\n",
       "\\hline\n",
       "\t Combined & shannon       & -0.04720533 & 4.637522e-01 & -0.1695032 & 0.08948123 & ns & Healthy vs. GC\\\\\n",
       "\t Combined & faith\\_pd      & -0.02506869 & 6.778432e-01 & -0.1440646 & 0.09225260 & ns & Healthy vs. GC\\\\\n",
       "\t Combined & observed\\_otus & -0.10565895 & 2.217420e-01 & -0.2751383 & 0.06267604 & ns & Healthy vs. GC\\\\\n",
       "\t Combined & Rel.abundance & -0.14259424 & 4.753064e-01 & -0.5358496 & 0.24598120 & ns & Healthy vs. GC\\\\\n",
       "\t Combined & fraction      &  0.90102468 & 1.156825e-17 &  0.7177467 & 1.09409482 & ** & Healthy vs. GC\\\\\n",
       "\\end{tabular}\n"
      ],
      "text/markdown": [
       "\n",
       "A tibble: 5 × 8\n",
       "\n",
       "| BioProject &lt;chr&gt; | Metric &lt;fct&gt; | log2FC &lt;dbl&gt; | Pvalue &lt;dbl&gt; | CI_low &lt;dbl&gt; | CI_high &lt;dbl&gt; | Significance &lt;chr&gt; | Compare_status &lt;chr&gt; |\n",
       "|---|---|---|---|---|---|---|---|\n",
       "| Combined | shannon       | -0.04720533 | 4.637522e-01 | -0.1695032 | 0.08948123 | ns | Healthy vs. GC |\n",
       "| Combined | faith_pd      | -0.02506869 | 6.778432e-01 | -0.1440646 | 0.09225260 | ns | Healthy vs. GC |\n",
       "| Combined | observed_otus | -0.10565895 | 2.217420e-01 | -0.2751383 | 0.06267604 | ns | Healthy vs. GC |\n",
       "| Combined | Rel.abundance | -0.14259424 | 4.753064e-01 | -0.5358496 | 0.24598120 | ns | Healthy vs. GC |\n",
       "| Combined | fraction      |  0.90102468 | 1.156825e-17 |  0.7177467 | 1.09409482 | ** | Healthy vs. GC |\n",
       "\n"
      ],
      "text/plain": [
       "  BioProject Metric        log2FC      Pvalue       CI_low     CI_high   \n",
       "1 Combined   shannon       -0.04720533 4.637522e-01 -0.1695032 0.08948123\n",
       "2 Combined   faith_pd      -0.02506869 6.778432e-01 -0.1440646 0.09225260\n",
       "3 Combined   observed_otus -0.10565895 2.217420e-01 -0.2751383 0.06267604\n",
       "4 Combined   Rel.abundance -0.14259424 4.753064e-01 -0.5358496 0.24598120\n",
       "5 Combined   fraction       0.90102468 1.156825e-17  0.7177467 1.09409482\n",
       "  Significance Compare_status\n",
       "1 ns           Healthy vs. GC\n",
       "2 ns           Healthy vs. GC\n",
       "3 ns           Healthy vs. GC\n",
       "4 ns           Healthy vs. GC\n",
       "5 **           Healthy vs. GC"
      ]
     },
     "metadata": {},
     "output_type": "display_data"
    }
   ],
   "source": [
    "hgc_c <- hgc%>% subset(BioProject=='Combined') %>% \n",
    "select(BioProject,Metric,log2FC,Pvalue,CI_low,CI_high)%>%\n",
    "mutate(Significance=case_when(\n",
    "Pvalue<0.01 ~ \"**\",\n",
    "Pvalue>0.05 ~ \"ns\",\n",
    "TRUE~\"*\"),Compare_status='Healthy vs. GC')\n",
    "hgc_c"
   ]
  },
  {
   "cell_type": "code",
   "execution_count": 43,
   "id": "3a3f59d1-3117-43e9-9ac2-bc1167b85a3d",
   "metadata": {},
   "outputs": [
    {
     "data": {
      "text/html": [
       "<table>\n",
       "<caption>A tibble: 5 × 8</caption>\n",
       "<thead>\n",
       "\t<tr><th scope=col>BioProject</th><th scope=col>Metric</th><th scope=col>log2FC</th><th scope=col>Pvalue</th><th scope=col>CI_low</th><th scope=col>CI_high</th><th scope=col>Significance</th><th scope=col>Compare_status</th></tr>\n",
       "\t<tr><th scope=col>&lt;chr&gt;</th><th scope=col>&lt;fct&gt;</th><th scope=col>&lt;dbl&gt;</th><th scope=col>&lt;dbl&gt;</th><th scope=col>&lt;dbl&gt;</th><th scope=col>&lt;dbl&gt;</th><th scope=col>&lt;chr&gt;</th><th scope=col>&lt;chr&gt;</th></tr>\n",
       "</thead>\n",
       "<tbody>\n",
       "\t<tr><td>Combined</td><td>shannon      </td><td>-0.07605737</td><td>0.2368441</td><td>-0.2018641</td><td>0.04974936</td><td>ns</td><td>Gastritis vs. IM</td></tr>\n",
       "\t<tr><td>Combined</td><td>faith_pd     </td><td>-0.03923564</td><td>0.6538854</td><td>-0.2105923</td><td>0.13212101</td><td>ns</td><td>Gastritis vs. IM</td></tr>\n",
       "\t<tr><td>Combined</td><td>observed_otus</td><td>-0.03485661</td><td>0.7552361</td><td>-0.2538225</td><td>0.18410931</td><td>ns</td><td>Gastritis vs. IM</td></tr>\n",
       "\t<tr><td>Combined</td><td>Rel.abundance</td><td> 0.06347807</td><td>0.7801725</td><td>-0.3819380</td><td>0.50889419</td><td>ns</td><td>Gastritis vs. IM</td></tr>\n",
       "\t<tr><td>Combined</td><td>fraction     </td><td>-0.01774407</td><td>0.7757333</td><td>-0.1395667</td><td>0.10432539</td><td>ns</td><td>Gastritis vs. IM</td></tr>\n",
       "</tbody>\n",
       "</table>\n"
      ],
      "text/latex": [
       "A tibble: 5 × 8\n",
       "\\begin{tabular}{llllllll}\n",
       " BioProject & Metric & log2FC & Pvalue & CI\\_low & CI\\_high & Significance & Compare\\_status\\\\\n",
       " <chr> & <fct> & <dbl> & <dbl> & <dbl> & <dbl> & <chr> & <chr>\\\\\n",
       "\\hline\n",
       "\t Combined & shannon       & -0.07605737 & 0.2368441 & -0.2018641 & 0.04974936 & ns & Gastritis vs. IM\\\\\n",
       "\t Combined & faith\\_pd      & -0.03923564 & 0.6538854 & -0.2105923 & 0.13212101 & ns & Gastritis vs. IM\\\\\n",
       "\t Combined & observed\\_otus & -0.03485661 & 0.7552361 & -0.2538225 & 0.18410931 & ns & Gastritis vs. IM\\\\\n",
       "\t Combined & Rel.abundance &  0.06347807 & 0.7801725 & -0.3819380 & 0.50889419 & ns & Gastritis vs. IM\\\\\n",
       "\t Combined & fraction      & -0.01774407 & 0.7757333 & -0.1395667 & 0.10432539 & ns & Gastritis vs. IM\\\\\n",
       "\\end{tabular}\n"
      ],
      "text/markdown": [
       "\n",
       "A tibble: 5 × 8\n",
       "\n",
       "| BioProject &lt;chr&gt; | Metric &lt;fct&gt; | log2FC &lt;dbl&gt; | Pvalue &lt;dbl&gt; | CI_low &lt;dbl&gt; | CI_high &lt;dbl&gt; | Significance &lt;chr&gt; | Compare_status &lt;chr&gt; |\n",
       "|---|---|---|---|---|---|---|---|\n",
       "| Combined | shannon       | -0.07605737 | 0.2368441 | -0.2018641 | 0.04974936 | ns | Gastritis vs. IM |\n",
       "| Combined | faith_pd      | -0.03923564 | 0.6538854 | -0.2105923 | 0.13212101 | ns | Gastritis vs. IM |\n",
       "| Combined | observed_otus | -0.03485661 | 0.7552361 | -0.2538225 | 0.18410931 | ns | Gastritis vs. IM |\n",
       "| Combined | Rel.abundance |  0.06347807 | 0.7801725 | -0.3819380 | 0.50889419 | ns | Gastritis vs. IM |\n",
       "| Combined | fraction      | -0.01774407 | 0.7757333 | -0.1395667 | 0.10432539 | ns | Gastritis vs. IM |\n",
       "\n"
      ],
      "text/plain": [
       "  BioProject Metric        log2FC      Pvalue    CI_low     CI_high   \n",
       "1 Combined   shannon       -0.07605737 0.2368441 -0.2018641 0.04974936\n",
       "2 Combined   faith_pd      -0.03923564 0.6538854 -0.2105923 0.13212101\n",
       "3 Combined   observed_otus -0.03485661 0.7552361 -0.2538225 0.18410931\n",
       "4 Combined   Rel.abundance  0.06347807 0.7801725 -0.3819380 0.50889419\n",
       "5 Combined   fraction      -0.01774407 0.7757333 -0.1395667 0.10432539\n",
       "  Significance Compare_status  \n",
       "1 ns           Gastritis vs. IM\n",
       "2 ns           Gastritis vs. IM\n",
       "3 ns           Gastritis vs. IM\n",
       "4 ns           Gastritis vs. IM\n",
       "5 ns           Gastritis vs. IM"
      ]
     },
     "metadata": {},
     "output_type": "display_data"
    }
   ],
   "source": [
    "gim_c <- gim %>% subset(BioProject=='Combined') %>% \n",
    "select(BioProject,Metric,log2FC,Pvalue,CI_low,CI_high)%>%\n",
    "mutate(Significance=case_when(\n",
    "Pvalue<0.01 ~ \"**\",\n",
    "Pvalue>0.05 ~ \"ns\",\n",
    "TRUE~\"*\"),Compare_status='Gastritis vs. IM')\n",
    "gim_c"
   ]
  },
  {
   "cell_type": "code",
   "execution_count": 44,
   "id": "7ca5916d-0513-46df-942c-e6ade1a2070f",
   "metadata": {},
   "outputs": [
    {
     "data": {
      "text/html": [
       "<table>\n",
       "<caption>A tibble: 5 × 8</caption>\n",
       "<thead>\n",
       "\t<tr><th scope=col>BioProject</th><th scope=col>Metric</th><th scope=col>log2FC</th><th scope=col>Pvalue</th><th scope=col>CI_low</th><th scope=col>CI_high</th><th scope=col>Significance</th><th scope=col>Compare_status</th></tr>\n",
       "\t<tr><th scope=col>&lt;chr&gt;</th><th scope=col>&lt;fct&gt;</th><th scope=col>&lt;dbl&gt;</th><th scope=col>&lt;dbl&gt;</th><th scope=col>&lt;dbl&gt;</th><th scope=col>&lt;dbl&gt;</th><th scope=col>&lt;chr&gt;</th><th scope=col>&lt;chr&gt;</th></tr>\n",
       "</thead>\n",
       "<tbody>\n",
       "\t<tr><td>Combined</td><td>shannon      </td><td>0.06931165</td><td>1.555711e-01</td><td>-0.02861545</td><td>0.1633859</td><td>ns</td><td>Gastritis vs. GC</td></tr>\n",
       "\t<tr><td>Combined</td><td>faith_pd     </td><td>0.25022351</td><td>2.176439e-04</td><td> 0.11590160</td><td>0.3803168</td><td>**</td><td>Gastritis vs. GC</td></tr>\n",
       "\t<tr><td>Combined</td><td>observed_otus</td><td>0.34642475</td><td>9.386831e-05</td><td> 0.17050532</td><td>0.5168028</td><td>**</td><td>Gastritis vs. GC</td></tr>\n",
       "\t<tr><td>Combined</td><td>Rel.abundance</td><td>0.77303158</td><td>1.048707e-05</td><td> 0.38950642</td><td>1.0604602</td><td>**</td><td>Gastritis vs. GC</td></tr>\n",
       "\t<tr><td>Combined</td><td>fraction     </td><td>0.43794945</td><td>1.570878e-12</td><td> 0.32071853</td><td>0.5585665</td><td>**</td><td>Gastritis vs. GC</td></tr>\n",
       "</tbody>\n",
       "</table>\n"
      ],
      "text/latex": [
       "A tibble: 5 × 8\n",
       "\\begin{tabular}{llllllll}\n",
       " BioProject & Metric & log2FC & Pvalue & CI\\_low & CI\\_high & Significance & Compare\\_status\\\\\n",
       " <chr> & <fct> & <dbl> & <dbl> & <dbl> & <dbl> & <chr> & <chr>\\\\\n",
       "\\hline\n",
       "\t Combined & shannon       & 0.06931165 & 1.555711e-01 & -0.02861545 & 0.1633859 & ns & Gastritis vs. GC\\\\\n",
       "\t Combined & faith\\_pd      & 0.25022351 & 2.176439e-04 &  0.11590160 & 0.3803168 & ** & Gastritis vs. GC\\\\\n",
       "\t Combined & observed\\_otus & 0.34642475 & 9.386831e-05 &  0.17050532 & 0.5168028 & ** & Gastritis vs. GC\\\\\n",
       "\t Combined & Rel.abundance & 0.77303158 & 1.048707e-05 &  0.38950642 & 1.0604602 & ** & Gastritis vs. GC\\\\\n",
       "\t Combined & fraction      & 0.43794945 & 1.570878e-12 &  0.32071853 & 0.5585665 & ** & Gastritis vs. GC\\\\\n",
       "\\end{tabular}\n"
      ],
      "text/markdown": [
       "\n",
       "A tibble: 5 × 8\n",
       "\n",
       "| BioProject &lt;chr&gt; | Metric &lt;fct&gt; | log2FC &lt;dbl&gt; | Pvalue &lt;dbl&gt; | CI_low &lt;dbl&gt; | CI_high &lt;dbl&gt; | Significance &lt;chr&gt; | Compare_status &lt;chr&gt; |\n",
       "|---|---|---|---|---|---|---|---|\n",
       "| Combined | shannon       | 0.06931165 | 1.555711e-01 | -0.02861545 | 0.1633859 | ns | Gastritis vs. GC |\n",
       "| Combined | faith_pd      | 0.25022351 | 2.176439e-04 |  0.11590160 | 0.3803168 | ** | Gastritis vs. GC |\n",
       "| Combined | observed_otus | 0.34642475 | 9.386831e-05 |  0.17050532 | 0.5168028 | ** | Gastritis vs. GC |\n",
       "| Combined | Rel.abundance | 0.77303158 | 1.048707e-05 |  0.38950642 | 1.0604602 | ** | Gastritis vs. GC |\n",
       "| Combined | fraction      | 0.43794945 | 1.570878e-12 |  0.32071853 | 0.5585665 | ** | Gastritis vs. GC |\n",
       "\n"
      ],
      "text/plain": [
       "  BioProject Metric        log2FC     Pvalue       CI_low      CI_high  \n",
       "1 Combined   shannon       0.06931165 1.555711e-01 -0.02861545 0.1633859\n",
       "2 Combined   faith_pd      0.25022351 2.176439e-04  0.11590160 0.3803168\n",
       "3 Combined   observed_otus 0.34642475 9.386831e-05  0.17050532 0.5168028\n",
       "4 Combined   Rel.abundance 0.77303158 1.048707e-05  0.38950642 1.0604602\n",
       "5 Combined   fraction      0.43794945 1.570878e-12  0.32071853 0.5585665\n",
       "  Significance Compare_status  \n",
       "1 ns           Gastritis vs. GC\n",
       "2 **           Gastritis vs. GC\n",
       "3 **           Gastritis vs. GC\n",
       "4 **           Gastritis vs. GC\n",
       "5 **           Gastritis vs. GC"
      ]
     },
     "metadata": {},
     "output_type": "display_data"
    }
   ],
   "source": [
    "ggc_c <- ggc %>% subset(BioProject=='Combined') %>% \n",
    "select(BioProject,Metric,log2FC,Pvalue,CI_low,CI_high)%>%\n",
    "mutate(Significance=case_when(\n",
    "Pvalue<0.01 ~ \"**\",\n",
    "Pvalue>0.05 ~ \"ns\",\n",
    "TRUE~\"*\"),Compare_status='Gastritis vs. GC')\n",
    "ggc_c"
   ]
  },
  {
   "cell_type": "code",
   "execution_count": null,
   "id": "1986c965-c5e6-4738-a97c-35aed04c7e61",
   "metadata": {},
   "outputs": [],
   "source": []
  },
  {
   "cell_type": "code",
   "execution_count": 45,
   "id": "4b8ecfdf-e933-468a-bec2-5a0059e2ebb1",
   "metadata": {},
   "outputs": [
    {
     "data": {
      "text/html": [
       "<table>\n",
       "<caption>A tibble: 5 × 8</caption>\n",
       "<thead>\n",
       "\t<tr><th scope=col>BioProject</th><th scope=col>Metric</th><th scope=col>log2FC</th><th scope=col>Pvalue</th><th scope=col>CI_low</th><th scope=col>CI_high</th><th scope=col>Significance</th><th scope=col>Compare_status</th></tr>\n",
       "\t<tr><th scope=col>&lt;chr&gt;</th><th scope=col>&lt;fct&gt;</th><th scope=col>&lt;dbl&gt;</th><th scope=col>&lt;dbl&gt;</th><th scope=col>&lt;dbl&gt;</th><th scope=col>&lt;dbl&gt;</th><th scope=col>&lt;chr&gt;</th><th scope=col>&lt;chr&gt;</th></tr>\n",
       "</thead>\n",
       "<tbody>\n",
       "\t<tr><td>Combined</td><td>shannon      </td><td>0.1019839</td><td>2.422605e-02</td><td>0.0130702</td><td>0.1900731</td><td>* </td><td>IM vs. GC</td></tr>\n",
       "\t<tr><td>Combined</td><td>faith_pd     </td><td>0.2888615</td><td>1.197346e-03</td><td>0.1135368</td><td>0.4614988</td><td>**</td><td>IM vs. GC</td></tr>\n",
       "\t<tr><td>Combined</td><td>observed_otus</td><td>0.3629344</td><td>1.190680e-03</td><td>0.1429263</td><td>0.5797884</td><td>**</td><td>IM vs. GC</td></tr>\n",
       "\t<tr><td>Combined</td><td>Rel.abundance</td><td>0.6807265</td><td>1.798958e-03</td><td>0.2561257</td><td>1.1053273</td><td>**</td><td>IM vs. GC</td></tr>\n",
       "\t<tr><td>Combined</td><td>fraction     </td><td>0.5178288</td><td>2.053163e-14</td><td>0.3904080</td><td>0.6466627</td><td>**</td><td>IM vs. GC</td></tr>\n",
       "</tbody>\n",
       "</table>\n"
      ],
      "text/latex": [
       "A tibble: 5 × 8\n",
       "\\begin{tabular}{llllllll}\n",
       " BioProject & Metric & log2FC & Pvalue & CI\\_low & CI\\_high & Significance & Compare\\_status\\\\\n",
       " <chr> & <fct> & <dbl> & <dbl> & <dbl> & <dbl> & <chr> & <chr>\\\\\n",
       "\\hline\n",
       "\t Combined & shannon       & 0.1019839 & 2.422605e-02 & 0.0130702 & 0.1900731 & *  & IM vs. GC\\\\\n",
       "\t Combined & faith\\_pd      & 0.2888615 & 1.197346e-03 & 0.1135368 & 0.4614988 & ** & IM vs. GC\\\\\n",
       "\t Combined & observed\\_otus & 0.3629344 & 1.190680e-03 & 0.1429263 & 0.5797884 & ** & IM vs. GC\\\\\n",
       "\t Combined & Rel.abundance & 0.6807265 & 1.798958e-03 & 0.2561257 & 1.1053273 & ** & IM vs. GC\\\\\n",
       "\t Combined & fraction      & 0.5178288 & 2.053163e-14 & 0.3904080 & 0.6466627 & ** & IM vs. GC\\\\\n",
       "\\end{tabular}\n"
      ],
      "text/markdown": [
       "\n",
       "A tibble: 5 × 8\n",
       "\n",
       "| BioProject &lt;chr&gt; | Metric &lt;fct&gt; | log2FC &lt;dbl&gt; | Pvalue &lt;dbl&gt; | CI_low &lt;dbl&gt; | CI_high &lt;dbl&gt; | Significance &lt;chr&gt; | Compare_status &lt;chr&gt; |\n",
       "|---|---|---|---|---|---|---|---|\n",
       "| Combined | shannon       | 0.1019839 | 2.422605e-02 | 0.0130702 | 0.1900731 | *  | IM vs. GC |\n",
       "| Combined | faith_pd      | 0.2888615 | 1.197346e-03 | 0.1135368 | 0.4614988 | ** | IM vs. GC |\n",
       "| Combined | observed_otus | 0.3629344 | 1.190680e-03 | 0.1429263 | 0.5797884 | ** | IM vs. GC |\n",
       "| Combined | Rel.abundance | 0.6807265 | 1.798958e-03 | 0.2561257 | 1.1053273 | ** | IM vs. GC |\n",
       "| Combined | fraction      | 0.5178288 | 2.053163e-14 | 0.3904080 | 0.6466627 | ** | IM vs. GC |\n",
       "\n"
      ],
      "text/plain": [
       "  BioProject Metric        log2FC    Pvalue       CI_low    CI_high  \n",
       "1 Combined   shannon       0.1019839 2.422605e-02 0.0130702 0.1900731\n",
       "2 Combined   faith_pd      0.2888615 1.197346e-03 0.1135368 0.4614988\n",
       "3 Combined   observed_otus 0.3629344 1.190680e-03 0.1429263 0.5797884\n",
       "4 Combined   Rel.abundance 0.6807265 1.798958e-03 0.2561257 1.1053273\n",
       "5 Combined   fraction      0.5178288 2.053163e-14 0.3904080 0.6466627\n",
       "  Significance Compare_status\n",
       "1 *            IM vs. GC     \n",
       "2 **           IM vs. GC     \n",
       "3 **           IM vs. GC     \n",
       "4 **           IM vs. GC     \n",
       "5 **           IM vs. GC     "
      ]
     },
     "metadata": {},
     "output_type": "display_data"
    }
   ],
   "source": [
    "imgc_c <- imgc %>% subset(BioProject=='Combined') %>% \n",
    "select(BioProject,Metric,log2FC,Pvalue,CI_low,CI_high)%>%\n",
    "mutate(Significance=case_when(\n",
    "Pvalue<0.01 ~ \"**\",\n",
    "Pvalue>0.05 ~ \"ns\",\n",
    "TRUE~\"*\"),Compare_status='IM vs. GC')\n",
    "imgc_c"
   ]
  },
  {
   "cell_type": "code",
   "execution_count": 46,
   "id": "440cbdf9-0fb3-401c-9b4f-d1ef90c2673c",
   "metadata": {
    "tags": []
   },
   "outputs": [
    {
     "data": {
      "text/html": [
       "<table>\n",
       "<caption>A tibble: 25 × 8</caption>\n",
       "<thead>\n",
       "\t<tr><th scope=col>BioProject</th><th scope=col>Metric</th><th scope=col>log2FC</th><th scope=col>Pvalue</th><th scope=col>CI_low</th><th scope=col>CI_high</th><th scope=col>Significance</th><th scope=col>Compare_status</th></tr>\n",
       "\t<tr><th scope=col>&lt;chr&gt;</th><th scope=col>&lt;fct&gt;</th><th scope=col>&lt;dbl&gt;</th><th scope=col>&lt;dbl&gt;</th><th scope=col>&lt;dbl&gt;</th><th scope=col>&lt;dbl&gt;</th><th scope=col>&lt;chr&gt;</th><th scope=col>&lt;chr&gt;</th></tr>\n",
       "</thead>\n",
       "<tbody>\n",
       "\t<tr><td>Combined</td><td>shannon      </td><td>-0.14365858</td><td>9.177677e-02</td><td>-0.30940671</td><td> 0.02325301</td><td>ns</td><td>Healthy vs. Gastritis</td></tr>\n",
       "\t<tr><td>Combined</td><td>faith_pd     </td><td>-0.61981885</td><td>3.875363e-06</td><td>-0.87232824</td><td>-0.36409115</td><td>**</td><td>Healthy vs. Gastritis</td></tr>\n",
       "\t<tr><td>Combined</td><td>observed_otus</td><td>-0.84027407</td><td>2.842308e-06</td><td>-1.17775352</td><td>-0.49892610</td><td>**</td><td>Healthy vs. Gastritis</td></tr>\n",
       "\t<tr><td>Combined</td><td>Rel.abundance</td><td>-2.06158089</td><td>1.105817e-11</td><td>-2.60847098</td><td>-1.50736536</td><td>**</td><td>Healthy vs. Gastritis</td></tr>\n",
       "\t<tr><td>Combined</td><td>fraction     </td><td> 0.12375377</td><td>1.961868e-01</td><td>-0.06303139</td><td> 0.31053894</td><td>ns</td><td>Healthy vs. Gastritis</td></tr>\n",
       "\t<tr><td>Combined</td><td>shannon      </td><td>-0.04720533</td><td>4.637522e-01</td><td>-0.16950315</td><td> 0.08948123</td><td>ns</td><td>Healthy vs. GC       </td></tr>\n",
       "\t<tr><td>Combined</td><td>faith_pd     </td><td>-0.02506869</td><td>6.778432e-01</td><td>-0.14406457</td><td> 0.09225260</td><td>ns</td><td>Healthy vs. GC       </td></tr>\n",
       "\t<tr><td>Combined</td><td>observed_otus</td><td>-0.10565895</td><td>2.217420e-01</td><td>-0.27513827</td><td> 0.06267604</td><td>ns</td><td>Healthy vs. GC       </td></tr>\n",
       "\t<tr><td>Combined</td><td>Rel.abundance</td><td>-0.14259424</td><td>4.753064e-01</td><td>-0.53584955</td><td> 0.24598120</td><td>ns</td><td>Healthy vs. GC       </td></tr>\n",
       "\t<tr><td>Combined</td><td>fraction     </td><td> 0.90102468</td><td>1.156825e-17</td><td> 0.71774665</td><td> 1.09409482</td><td>**</td><td>Healthy vs. GC       </td></tr>\n",
       "\t<tr><td>Combined</td><td>shannon      </td><td>-0.07605737</td><td>2.368441e-01</td><td>-0.20186409</td><td> 0.04974936</td><td>ns</td><td>Gastritis vs. IM     </td></tr>\n",
       "\t<tr><td>Combined</td><td>faith_pd     </td><td>-0.03923564</td><td>6.538854e-01</td><td>-0.21059230</td><td> 0.13212101</td><td>ns</td><td>Gastritis vs. IM     </td></tr>\n",
       "\t<tr><td>Combined</td><td>observed_otus</td><td>-0.03485661</td><td>7.552361e-01</td><td>-0.25382254</td><td> 0.18410931</td><td>ns</td><td>Gastritis vs. IM     </td></tr>\n",
       "\t<tr><td>Combined</td><td>Rel.abundance</td><td> 0.06347807</td><td>7.801725e-01</td><td>-0.38193804</td><td> 0.50889419</td><td>ns</td><td>Gastritis vs. IM     </td></tr>\n",
       "\t<tr><td>Combined</td><td>fraction     </td><td>-0.01774407</td><td>7.757333e-01</td><td>-0.13956671</td><td> 0.10432539</td><td>ns</td><td>Gastritis vs. IM     </td></tr>\n",
       "\t<tr><td>Combined</td><td>shannon      </td><td> 0.06931165</td><td>1.555711e-01</td><td>-0.02861545</td><td> 0.16338590</td><td>ns</td><td>Gastritis vs. GC     </td></tr>\n",
       "\t<tr><td>Combined</td><td>faith_pd     </td><td> 0.25022351</td><td>2.176439e-04</td><td> 0.11590160</td><td> 0.38031683</td><td>**</td><td>Gastritis vs. GC     </td></tr>\n",
       "\t<tr><td>Combined</td><td>observed_otus</td><td> 0.34642475</td><td>9.386831e-05</td><td> 0.17050532</td><td> 0.51680277</td><td>**</td><td>Gastritis vs. GC     </td></tr>\n",
       "\t<tr><td>Combined</td><td>Rel.abundance</td><td> 0.77303158</td><td>1.048707e-05</td><td> 0.38950642</td><td> 1.06046016</td><td>**</td><td>Gastritis vs. GC     </td></tr>\n",
       "\t<tr><td>Combined</td><td>fraction     </td><td> 0.43794945</td><td>1.570878e-12</td><td> 0.32071853</td><td> 0.55856650</td><td>**</td><td>Gastritis vs. GC     </td></tr>\n",
       "\t<tr><td>Combined</td><td>shannon      </td><td> 0.10198389</td><td>2.422605e-02</td><td> 0.01307020</td><td> 0.19007312</td><td>* </td><td>IM vs. GC            </td></tr>\n",
       "\t<tr><td>Combined</td><td>faith_pd     </td><td> 0.28886150</td><td>1.197346e-03</td><td> 0.11353684</td><td> 0.46149884</td><td>**</td><td>IM vs. GC            </td></tr>\n",
       "\t<tr><td>Combined</td><td>observed_otus</td><td> 0.36293438</td><td>1.190680e-03</td><td> 0.14292630</td><td> 0.57978844</td><td>**</td><td>IM vs. GC            </td></tr>\n",
       "\t<tr><td>Combined</td><td>Rel.abundance</td><td> 0.68072652</td><td>1.798958e-03</td><td> 0.25612573</td><td> 1.10532731</td><td>**</td><td>IM vs. GC            </td></tr>\n",
       "\t<tr><td>Combined</td><td>fraction     </td><td> 0.51782882</td><td>2.053163e-14</td><td> 0.39040796</td><td> 0.64666270</td><td>**</td><td>IM vs. GC            </td></tr>\n",
       "</tbody>\n",
       "</table>\n"
      ],
      "text/latex": [
       "A tibble: 25 × 8\n",
       "\\begin{tabular}{llllllll}\n",
       " BioProject & Metric & log2FC & Pvalue & CI\\_low & CI\\_high & Significance & Compare\\_status\\\\\n",
       " <chr> & <fct> & <dbl> & <dbl> & <dbl> & <dbl> & <chr> & <chr>\\\\\n",
       "\\hline\n",
       "\t Combined & shannon       & -0.14365858 & 9.177677e-02 & -0.30940671 &  0.02325301 & ns & Healthy vs. Gastritis\\\\\n",
       "\t Combined & faith\\_pd      & -0.61981885 & 3.875363e-06 & -0.87232824 & -0.36409115 & ** & Healthy vs. Gastritis\\\\\n",
       "\t Combined & observed\\_otus & -0.84027407 & 2.842308e-06 & -1.17775352 & -0.49892610 & ** & Healthy vs. Gastritis\\\\\n",
       "\t Combined & Rel.abundance & -2.06158089 & 1.105817e-11 & -2.60847098 & -1.50736536 & ** & Healthy vs. Gastritis\\\\\n",
       "\t Combined & fraction      &  0.12375377 & 1.961868e-01 & -0.06303139 &  0.31053894 & ns & Healthy vs. Gastritis\\\\\n",
       "\t Combined & shannon       & -0.04720533 & 4.637522e-01 & -0.16950315 &  0.08948123 & ns & Healthy vs. GC       \\\\\n",
       "\t Combined & faith\\_pd      & -0.02506869 & 6.778432e-01 & -0.14406457 &  0.09225260 & ns & Healthy vs. GC       \\\\\n",
       "\t Combined & observed\\_otus & -0.10565895 & 2.217420e-01 & -0.27513827 &  0.06267604 & ns & Healthy vs. GC       \\\\\n",
       "\t Combined & Rel.abundance & -0.14259424 & 4.753064e-01 & -0.53584955 &  0.24598120 & ns & Healthy vs. GC       \\\\\n",
       "\t Combined & fraction      &  0.90102468 & 1.156825e-17 &  0.71774665 &  1.09409482 & ** & Healthy vs. GC       \\\\\n",
       "\t Combined & shannon       & -0.07605737 & 2.368441e-01 & -0.20186409 &  0.04974936 & ns & Gastritis vs. IM     \\\\\n",
       "\t Combined & faith\\_pd      & -0.03923564 & 6.538854e-01 & -0.21059230 &  0.13212101 & ns & Gastritis vs. IM     \\\\\n",
       "\t Combined & observed\\_otus & -0.03485661 & 7.552361e-01 & -0.25382254 &  0.18410931 & ns & Gastritis vs. IM     \\\\\n",
       "\t Combined & Rel.abundance &  0.06347807 & 7.801725e-01 & -0.38193804 &  0.50889419 & ns & Gastritis vs. IM     \\\\\n",
       "\t Combined & fraction      & -0.01774407 & 7.757333e-01 & -0.13956671 &  0.10432539 & ns & Gastritis vs. IM     \\\\\n",
       "\t Combined & shannon       &  0.06931165 & 1.555711e-01 & -0.02861545 &  0.16338590 & ns & Gastritis vs. GC     \\\\\n",
       "\t Combined & faith\\_pd      &  0.25022351 & 2.176439e-04 &  0.11590160 &  0.38031683 & ** & Gastritis vs. GC     \\\\\n",
       "\t Combined & observed\\_otus &  0.34642475 & 9.386831e-05 &  0.17050532 &  0.51680277 & ** & Gastritis vs. GC     \\\\\n",
       "\t Combined & Rel.abundance &  0.77303158 & 1.048707e-05 &  0.38950642 &  1.06046016 & ** & Gastritis vs. GC     \\\\\n",
       "\t Combined & fraction      &  0.43794945 & 1.570878e-12 &  0.32071853 &  0.55856650 & ** & Gastritis vs. GC     \\\\\n",
       "\t Combined & shannon       &  0.10198389 & 2.422605e-02 &  0.01307020 &  0.19007312 & *  & IM vs. GC            \\\\\n",
       "\t Combined & faith\\_pd      &  0.28886150 & 1.197346e-03 &  0.11353684 &  0.46149884 & ** & IM vs. GC            \\\\\n",
       "\t Combined & observed\\_otus &  0.36293438 & 1.190680e-03 &  0.14292630 &  0.57978844 & ** & IM vs. GC            \\\\\n",
       "\t Combined & Rel.abundance &  0.68072652 & 1.798958e-03 &  0.25612573 &  1.10532731 & ** & IM vs. GC            \\\\\n",
       "\t Combined & fraction      &  0.51782882 & 2.053163e-14 &  0.39040796 &  0.64666270 & ** & IM vs. GC            \\\\\n",
       "\\end{tabular}\n"
      ],
      "text/markdown": [
       "\n",
       "A tibble: 25 × 8\n",
       "\n",
       "| BioProject &lt;chr&gt; | Metric &lt;fct&gt; | log2FC &lt;dbl&gt; | Pvalue &lt;dbl&gt; | CI_low &lt;dbl&gt; | CI_high &lt;dbl&gt; | Significance &lt;chr&gt; | Compare_status &lt;chr&gt; |\n",
       "|---|---|---|---|---|---|---|---|\n",
       "| Combined | shannon       | -0.14365858 | 9.177677e-02 | -0.30940671 |  0.02325301 | ns | Healthy vs. Gastritis |\n",
       "| Combined | faith_pd      | -0.61981885 | 3.875363e-06 | -0.87232824 | -0.36409115 | ** | Healthy vs. Gastritis |\n",
       "| Combined | observed_otus | -0.84027407 | 2.842308e-06 | -1.17775352 | -0.49892610 | ** | Healthy vs. Gastritis |\n",
       "| Combined | Rel.abundance | -2.06158089 | 1.105817e-11 | -2.60847098 | -1.50736536 | ** | Healthy vs. Gastritis |\n",
       "| Combined | fraction      |  0.12375377 | 1.961868e-01 | -0.06303139 |  0.31053894 | ns | Healthy vs. Gastritis |\n",
       "| Combined | shannon       | -0.04720533 | 4.637522e-01 | -0.16950315 |  0.08948123 | ns | Healthy vs. GC        |\n",
       "| Combined | faith_pd      | -0.02506869 | 6.778432e-01 | -0.14406457 |  0.09225260 | ns | Healthy vs. GC        |\n",
       "| Combined | observed_otus | -0.10565895 | 2.217420e-01 | -0.27513827 |  0.06267604 | ns | Healthy vs. GC        |\n",
       "| Combined | Rel.abundance | -0.14259424 | 4.753064e-01 | -0.53584955 |  0.24598120 | ns | Healthy vs. GC        |\n",
       "| Combined | fraction      |  0.90102468 | 1.156825e-17 |  0.71774665 |  1.09409482 | ** | Healthy vs. GC        |\n",
       "| Combined | shannon       | -0.07605737 | 2.368441e-01 | -0.20186409 |  0.04974936 | ns | Gastritis vs. IM      |\n",
       "| Combined | faith_pd      | -0.03923564 | 6.538854e-01 | -0.21059230 |  0.13212101 | ns | Gastritis vs. IM      |\n",
       "| Combined | observed_otus | -0.03485661 | 7.552361e-01 | -0.25382254 |  0.18410931 | ns | Gastritis vs. IM      |\n",
       "| Combined | Rel.abundance |  0.06347807 | 7.801725e-01 | -0.38193804 |  0.50889419 | ns | Gastritis vs. IM      |\n",
       "| Combined | fraction      | -0.01774407 | 7.757333e-01 | -0.13956671 |  0.10432539 | ns | Gastritis vs. IM      |\n",
       "| Combined | shannon       |  0.06931165 | 1.555711e-01 | -0.02861545 |  0.16338590 | ns | Gastritis vs. GC      |\n",
       "| Combined | faith_pd      |  0.25022351 | 2.176439e-04 |  0.11590160 |  0.38031683 | ** | Gastritis vs. GC      |\n",
       "| Combined | observed_otus |  0.34642475 | 9.386831e-05 |  0.17050532 |  0.51680277 | ** | Gastritis vs. GC      |\n",
       "| Combined | Rel.abundance |  0.77303158 | 1.048707e-05 |  0.38950642 |  1.06046016 | ** | Gastritis vs. GC      |\n",
       "| Combined | fraction      |  0.43794945 | 1.570878e-12 |  0.32071853 |  0.55856650 | ** | Gastritis vs. GC      |\n",
       "| Combined | shannon       |  0.10198389 | 2.422605e-02 |  0.01307020 |  0.19007312 | *  | IM vs. GC             |\n",
       "| Combined | faith_pd      |  0.28886150 | 1.197346e-03 |  0.11353684 |  0.46149884 | ** | IM vs. GC             |\n",
       "| Combined | observed_otus |  0.36293438 | 1.190680e-03 |  0.14292630 |  0.57978844 | ** | IM vs. GC             |\n",
       "| Combined | Rel.abundance |  0.68072652 | 1.798958e-03 |  0.25612573 |  1.10532731 | ** | IM vs. GC             |\n",
       "| Combined | fraction      |  0.51782882 | 2.053163e-14 |  0.39040796 |  0.64666270 | ** | IM vs. GC             |\n",
       "\n"
      ],
      "text/plain": [
       "   BioProject Metric        log2FC      Pvalue       CI_low      CI_high    \n",
       "1  Combined   shannon       -0.14365858 9.177677e-02 -0.30940671  0.02325301\n",
       "2  Combined   faith_pd      -0.61981885 3.875363e-06 -0.87232824 -0.36409115\n",
       "3  Combined   observed_otus -0.84027407 2.842308e-06 -1.17775352 -0.49892610\n",
       "4  Combined   Rel.abundance -2.06158089 1.105817e-11 -2.60847098 -1.50736536\n",
       "5  Combined   fraction       0.12375377 1.961868e-01 -0.06303139  0.31053894\n",
       "6  Combined   shannon       -0.04720533 4.637522e-01 -0.16950315  0.08948123\n",
       "7  Combined   faith_pd      -0.02506869 6.778432e-01 -0.14406457  0.09225260\n",
       "8  Combined   observed_otus -0.10565895 2.217420e-01 -0.27513827  0.06267604\n",
       "9  Combined   Rel.abundance -0.14259424 4.753064e-01 -0.53584955  0.24598120\n",
       "10 Combined   fraction       0.90102468 1.156825e-17  0.71774665  1.09409482\n",
       "11 Combined   shannon       -0.07605737 2.368441e-01 -0.20186409  0.04974936\n",
       "12 Combined   faith_pd      -0.03923564 6.538854e-01 -0.21059230  0.13212101\n",
       "13 Combined   observed_otus -0.03485661 7.552361e-01 -0.25382254  0.18410931\n",
       "14 Combined   Rel.abundance  0.06347807 7.801725e-01 -0.38193804  0.50889419\n",
       "15 Combined   fraction      -0.01774407 7.757333e-01 -0.13956671  0.10432539\n",
       "16 Combined   shannon        0.06931165 1.555711e-01 -0.02861545  0.16338590\n",
       "17 Combined   faith_pd       0.25022351 2.176439e-04  0.11590160  0.38031683\n",
       "18 Combined   observed_otus  0.34642475 9.386831e-05  0.17050532  0.51680277\n",
       "19 Combined   Rel.abundance  0.77303158 1.048707e-05  0.38950642  1.06046016\n",
       "20 Combined   fraction       0.43794945 1.570878e-12  0.32071853  0.55856650\n",
       "21 Combined   shannon        0.10198389 2.422605e-02  0.01307020  0.19007312\n",
       "22 Combined   faith_pd       0.28886150 1.197346e-03  0.11353684  0.46149884\n",
       "23 Combined   observed_otus  0.36293438 1.190680e-03  0.14292630  0.57978844\n",
       "24 Combined   Rel.abundance  0.68072652 1.798958e-03  0.25612573  1.10532731\n",
       "25 Combined   fraction       0.51782882 2.053163e-14  0.39040796  0.64666270\n",
       "   Significance Compare_status       \n",
       "1  ns           Healthy vs. Gastritis\n",
       "2  **           Healthy vs. Gastritis\n",
       "3  **           Healthy vs. Gastritis\n",
       "4  **           Healthy vs. Gastritis\n",
       "5  ns           Healthy vs. Gastritis\n",
       "6  ns           Healthy vs. GC       \n",
       "7  ns           Healthy vs. GC       \n",
       "8  ns           Healthy vs. GC       \n",
       "9  ns           Healthy vs. GC       \n",
       "10 **           Healthy vs. GC       \n",
       "11 ns           Gastritis vs. IM     \n",
       "12 ns           Gastritis vs. IM     \n",
       "13 ns           Gastritis vs. IM     \n",
       "14 ns           Gastritis vs. IM     \n",
       "15 ns           Gastritis vs. IM     \n",
       "16 ns           Gastritis vs. GC     \n",
       "17 **           Gastritis vs. GC     \n",
       "18 **           Gastritis vs. GC     \n",
       "19 **           Gastritis vs. GC     \n",
       "20 **           Gastritis vs. GC     \n",
       "21 *            IM vs. GC            \n",
       "22 **           IM vs. GC            \n",
       "23 **           IM vs. GC            \n",
       "24 **           IM vs. GC            \n",
       "25 **           IM vs. GC            "
      ]
     },
     "metadata": {},
     "output_type": "display_data"
    }
   ],
   "source": [
    "con <- rbind(hg_c,hgc_c,gim_c,ggc_c,imgc_c)\n",
    "con"
   ]
  },
  {
   "cell_type": "code",
   "execution_count": 47,
   "id": "2baac82d-37fd-463a-b029-db3dbbe4d56e",
   "metadata": {},
   "outputs": [],
   "source": [
    "con$Compare.disease.status<-factor(con$Compare_status,levels=c('IM vs. GC','Gastritis vs. GC','Gastritis vs. IM','Healthy vs. GC','Healthy vs. Gastritis'))"
   ]
  },
  {
   "cell_type": "code",
   "execution_count": 48,
   "id": "21c538dc-e754-463f-a597-3940867b2204",
   "metadata": {},
   "outputs": [
    {
     "data": {
      "text/html": [
       "<style>\n",
       ".list-inline {list-style: none; margin:0; padding: 0}\n",
       ".list-inline>li {display: inline-block}\n",
       ".list-inline>li:not(:last-child)::after {content: \"\\00b7\"; padding: 0 .5ex}\n",
       "</style>\n",
       "<ol class=list-inline><li>shannon</li><li>faith_pd</li><li>observed_otus</li><li>Rel.abundance</li><li>fraction</li></ol>\n",
       "\n",
       "<details>\n",
       "\t<summary style=display:list-item;cursor:pointer>\n",
       "\t\t<strong>Levels</strong>:\n",
       "\t</summary>\n",
       "\t<style>\n",
       "\t.list-inline {list-style: none; margin:0; padding: 0}\n",
       "\t.list-inline>li {display: inline-block}\n",
       "\t.list-inline>li:not(:last-child)::after {content: \"\\00b7\"; padding: 0 .5ex}\n",
       "\t</style>\n",
       "\t<ol class=list-inline><li>'shannon'</li><li>'faith_pd'</li><li>'observed_otus'</li><li>'Rel.abundance'</li><li>'fraction'</li></ol>\n",
       "</details>"
      ],
      "text/latex": [
       "\\begin{enumerate*}\n",
       "\\item shannon\n",
       "\\item faith\\_pd\n",
       "\\item observed\\_otus\n",
       "\\item Rel.abundance\n",
       "\\item fraction\n",
       "\\end{enumerate*}\n",
       "\n",
       "\\emph{Levels}: \\begin{enumerate*}\n",
       "\\item 'shannon'\n",
       "\\item 'faith\\_pd'\n",
       "\\item 'observed\\_otus'\n",
       "\\item 'Rel.abundance'\n",
       "\\item 'fraction'\n",
       "\\end{enumerate*}\n"
      ],
      "text/markdown": [
       "1. shannon\n",
       "2. faith_pd\n",
       "3. observed_otus\n",
       "4. Rel.abundance\n",
       "5. fraction\n",
       "\n",
       "\n",
       "\n",
       "**Levels**: 1. 'shannon'\n",
       "2. 'faith_pd'\n",
       "3. 'observed_otus'\n",
       "4. 'Rel.abundance'\n",
       "5. 'fraction'\n",
       "\n",
       "\n"
      ],
      "text/plain": [
       "[1] shannon       faith_pd      observed_otus Rel.abundance fraction     \n",
       "Levels: shannon faith_pd observed_otus Rel.abundance fraction"
      ]
     },
     "metadata": {},
     "output_type": "display_data"
    }
   ],
   "source": [
    "unique(con$Metric)"
   ]
  },
  {
   "cell_type": "code",
   "execution_count": 49,
   "id": "c856f935-9557-4d75-a313-609b0f94da9a",
   "metadata": {},
   "outputs": [],
   "source": [
    "con <- con %>% mutate(Metric = recode(Metric,'shannon'='Shannon',\n",
    "                     'faith_pd'=\"Faith's PD\",'observed_otus'='Observed OTUs',\n",
    "                       'fraction'='Fraction', 'Rel.abundance' ='Relative\\nabundance'))"
   ]
  },
  {
   "cell_type": "code",
   "execution_count": 50,
   "id": "7c4981d6-3d04-4014-a9dd-af902df5b419",
   "metadata": {},
   "outputs": [],
   "source": [
    "names(con)[names(con) == 'Pvalue'] <- 'pvalue'"
   ]
  },
  {
   "cell_type": "code",
   "execution_count": 51,
   "id": "a48de62f-f94f-4975-83d5-a4a9474e208c",
   "metadata": {},
   "outputs": [],
   "source": [
    "con <- con %>% mutate(Pvalue = recode(Significance,'*'=\"0.01 < P < 0.05\",'**'='P < 0.01'))"
   ]
  },
  {
   "cell_type": "code",
   "execution_count": 52,
   "id": "569ea845-0996-4829-bcc4-332d1079bc54",
   "metadata": {},
   "outputs": [],
   "source": [
    "con$Pvalue<-factor(con$Pvalue,levels=c('ns','0.01 < P < 0.05','P < 0.01'))"
   ]
  },
  {
   "cell_type": "code",
   "execution_count": 53,
   "id": "406ddbf9-d650-4ad3-8d0b-a220c04f6d8b",
   "metadata": {},
   "outputs": [
    {
     "data": {
      "image/png": "[encoded data removed]",
      "text/plain": [
       "plot without title"
      ]
     },
     "metadata": {
      "image/png": {
       "height": 420,
       "width": 420
      }
     },
     "output_type": "display_data"
    }
   ],
   "source": [
    "ggplot(con,aes(x=log2FC, y=Compare.disease.status, color=Pvalue)) +  \n",
    "geom_vline(xintercept = 0, linetype=\"dashed\", color=\"grey50\") +\n",
    "geom_errorbarh(aes(xmin=CI_low, xmax=CI_high), height=0 ) +\n",
    "geom_point() +\n",
    "facet_grid(~Metric, scales=\"free_x\") +\n",
    "theme_MicrobeR() +\n",
    "scale_color_manual(values=c(\"black\",Lcolor,Hcolor))  +\n",
    "theme(panel.border = element_blank(), axis.line = element_line()) +\n",
    "# theme(axis.text.x=element_text(angle=45, hjust=1,size=7),\n",
    "#       axis.text = element_text(size = 9,colour = 'black'))\n",
    " ylab('') +set_front(9)+xlab('log2(fold difference)')+\n",
    "#xlim(-2.8,1.2)+\n",
    "labs(title='With HP')+theme(plot.title = element_text(hjust = 0.5))             \n",
    "#ggsave(\"figures/conbine_withhp.pdf\", device=\"pdf\", height=3, width=8, useDingbats=F)"
   ]
  },
  {
   "cell_type": "code",
   "execution_count": null,
   "id": "b12c06f7-293b-44ce-bd9b-a05b3e204ea0",
   "metadata": {},
   "outputs": [],
   "source": []
  },
  {
   "cell_type": "code",
   "execution_count": null,
   "id": "4604c049-9d6a-45b5-ab89-209bc712979e",
   "metadata": {},
   "outputs": [],
   "source": []
  }
 ],
 "metadata": {
  "kernelspec": {
   "display_name": "R",
   "language": "R",
   "name": "ir"
  },
  "language_info": {
   "codemirror_mode": "r",
   "file_extension": ".r",
   "mimetype": "text/x-r-source",
   "name": "R",
   "pygments_lexer": "r",
   "version": "4.0.0"
  }
 },
 "nbformat": 4,
 "nbformat_minor": 5
}
