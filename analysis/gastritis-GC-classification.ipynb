{
 "cells": [
  {
   "cell_type": "code",
   "execution_count": 1,
   "metadata": {
    "ExecuteTime": {
     "end_time": "2021-03-25T00:41:11.274237Z",
     "start_time": "2021-03-25T00:41:08.162782Z"
    }
   },
   "outputs": [],
   "source": [
    "import calour as ca \n",
    "import pandas as pd\n",
    "from scipy import stats\n",
    "import seaborn as sns\n",
    "from itertools import combinations\n",
    "%matplotlib inline"
   ]
  },
  {
   "cell_type": "code",
   "execution_count": 2,
   "metadata": {
    "ExecuteTime": {
     "end_time": "2021-03-25T00:41:15.659395Z",
     "start_time": "2021-03-25T00:41:15.448056Z"
    }
   },
   "outputs": [],
   "source": [
    "from sklearn.ensemble import RandomForestClassifier\n",
    "from calour.training import plot_roc, plot_cm\n",
    "from sklearn.metrics import confusion_matrix\n",
    "from sklearn.model_selection import train_test_split\n",
    "import numpy as np\n",
    "from matplotlib import pyplot as plt\n",
    "from sklearn.metrics import roc_curve, auc\n",
    "from sklearn.model_selection import StratifiedKFold,KFold,cross_val_score\n",
    "from scipy.sparse import csr_matrix"
   ]
  },
  {
   "cell_type": "code",
   "execution_count": 3,
   "metadata": {},
   "outputs": [],
   "source": [
    "pd.set_option('max_colwidth',500)\n",
    "pd.set_option('max_rows',500)"
   ]
  },
  {
   "cell_type": "code",
   "execution_count": 4,
   "metadata": {},
   "outputs": [],
   "source": [
    "from itertools import permutations\n",
    "from matplotlib.backends.backend_pdf import PdfPages"
   ]
  },
  {
   "cell_type": "markdown",
   "metadata": {},
   "source": [
    "# function"
   ]
  },
  {
   "cell_type": "code",
   "execution_count": 5,
   "metadata": {
    "ExecuteTime": {
     "end_time": "2021-03-25T00:41:34.236111Z",
     "start_time": "2021-03-25T00:41:34.219701Z"
    }
   },
   "outputs": [],
   "source": [
    "\n",
    "def classification(exp,field,col):\n",
    "    ''' \n",
    "    exp : calour exp\n",
    "    field:\n",
    "    col: str,colunms of impF\n",
    "    \n",
    "    retrun:   res: DataFrame,the results of classification\n",
    "              impF: DataFrame,each features importances\n",
    "    '''\n",
    "    \n",
    "    rskf = StratifiedKFold(n_splits=5,random_state=0)\n",
    "\n",
    "    rs=[]\n",
    "    for i, (train_index, test_index) in enumerate(rskf.split(exp.data,\n",
    "                                              exp.sample_metadata[field])):\n",
    "            x_train = exp.data[train_index]\n",
    "            y_train =exp.sample_metadata[field][train_index]\n",
    "            rfc = RandomForestClassifier(random_state=0)\n",
    "            rfc.fit(x_train, y_train)\n",
    "\n",
    "            x_test = exp.data[test_index]\n",
    "            y_test = exp.sample_metadata[field][test_index]\n",
    "            r = pd.DataFrame(rfc.predict_proba(x_test), columns=rfc.classes_)\n",
    "            r.insert(2, 'Y_TRUE', y_test.tolist())\n",
    "            r.insert(3, 'CV', i)\n",
    "            rs.append(r)\n",
    "    res=pd.concat(rs)\n",
    "\n",
    "    impF=pd.DataFrame(data=rfc.feature_importances_,index=exp.to_pandas(sparse=False).columns,columns=[col])\n",
    "    \n",
    "    return res,impF"
   ]
  },
  {
   "cell_type": "code",
   "execution_count": 6,
   "metadata": {
    "ExecuteTime": {
     "end_time": "2021-03-25T00:41:49.440810Z",
     "start_time": "2021-03-25T00:41:49.436782Z"
    }
   },
   "outputs": [],
   "source": [
    "ca.set_log_level(11)"
   ]
  },
  {
   "cell_type": "markdown",
   "metadata": {},
   "source": [
    "# read data"
   ]
  },
  {
   "cell_type": "code",
   "execution_count": 7,
   "metadata": {
    "ExecuteTime": {
     "end_time": "2021-03-25T00:41:52.788363Z",
     "start_time": "2021-03-25T00:41:50.169966Z"
    },
    "collapsed": true,
    "jupyter": {
     "outputs_hidden": true
    },
    "tags": []
   },
   "outputs": [
    {
     "name": "stdout",
     "output_type": "stream",
     "text": [
      "2022-04-15 00:15:39 INFO loaded 586 samples, 2026 features\n",
      "2022-04-15 00:15:39 WARNING These have metadata but do not have data - dropped (90): {'SRR3194032', 'SRR3195190', 'SRR3194103', 'SRR3194020', 'SRR3194137', 'SRR3194124', 'SRR3194119', 'SRR3194030', 'SRR3194141', 'SRR3195185', 'SRR3194108', 'SRR3195184', 'SRR3194110', 'SRR3194003', 'SRR3194116', 'SRR3194149', 'SRR3194097', 'SRR3194101', 'SRR3194025', 'SRR3194128', 'SRR3194033', 'SRR3194151', 'SRR3194154', 'SRR3194098', 'SRR3193967', 'SRR3194099', 'SRR3194017', 'SRR3194100', 'SRR3194146', 'SRR3194129', 'SRR3194132', 'SRR3194016', 'SRR3193964', 'SRR3194112', 'SRR3194125', 'SRR3194113', 'SRR3194015', 'SRR3193975', 'SRR3194034', 'SRR3194131', 'SRR3194121', 'SRR3194095', 'SRR3194036', 'SRR3194117', 'SRR3194035', 'SRR3195186', 'SRR3194118', 'SRR3194009', 'SRR3195188', 'SRR3193996', 'SRR3194024', 'SRR3194022', 'SRR3194147', 'SRR3194135', 'SRR3194142', 'SRR3194037', 'SRR3195187', 'SRR3194114', 'SRR3194018', 'SRR3194123', 'SRR3194105', 'SRR3194014', 'SRR3195183', 'SRR3194115', 'SRR3193992', 'SRR3194144', 'SRR3194023', 'SRR3194120', 'SRR3194122', 'SRR3194145', 'SRR3194013', 'SRR3194038', 'SRR3194133', 'SRR3195191', 'SRR3195182', 'SRR3194152', 'SRR3195189', 'SRR3194155', 'SRR3194157', 'SRR3194136', 'SRR3194134', 'SRR3194150', 'SRR3193998', 'SRR3194139', 'SRR3193979', 'SRR3194158', 'SRR3193972', 'SRR3194126', 'SRR3194008', 'SRR3194096'}\n"
     ]
    }
   ],
   "source": [
    "exp=ca.read_amplicon('gastritis-and-GC-data.tsv',\n",
    "                     'gastritis-and-GC-metadata.tsv',\n",
    "                     data_file_type='tsv',normalize=100,min_reads=None)"
   ]
  },
  {
   "cell_type": "code",
   "execution_count": 8,
   "metadata": {},
   "outputs": [
    {
     "data": {
      "text/html": [
       "<div>\n",
       "<style scoped>\n",
       "    .dataframe tbody tr th:only-of-type {\n",
       "        vertical-align: middle;\n",
       "    }\n",
       "\n",
       "    .dataframe tbody tr th {\n",
       "        vertical-align: top;\n",
       "    }\n",
       "\n",
       "    .dataframe thead th {\n",
       "        text-align: right;\n",
       "    }\n",
       "</style>\n",
       "<table border=\"1\" class=\"dataframe\">\n",
       "  <thead>\n",
       "    <tr style=\"text-align: right;\">\n",
       "      <th></th>\n",
       "      <th>_feature_id</th>\n",
       "    </tr>\n",
       "    <tr>\n",
       "      <th>Unnamed: 0</th>\n",
       "      <th></th>\n",
       "    </tr>\n",
       "  </thead>\n",
       "  <tbody>\n",
       "    <tr>\n",
       "      <th>1000477</th>\n",
       "      <td>1000477</td>\n",
       "    </tr>\n",
       "    <tr>\n",
       "      <th>1001155</th>\n",
       "      <td>1001155</td>\n",
       "    </tr>\n",
       "  </tbody>\n",
       "</table>\n",
       "</div>"
      ],
      "text/plain": [
       "            _feature_id\n",
       "Unnamed: 0             \n",
       "1000477         1000477\n",
       "1001155         1001155"
      ]
     },
     "execution_count": 8,
     "metadata": {},
     "output_type": "execute_result"
    }
   ],
   "source": [
    "exp.feature_metadata.head(2)"
   ]
  },
  {
   "cell_type": "code",
   "execution_count": 9,
   "metadata": {},
   "outputs": [
    {
     "data": {
      "text/plain": [
       "gastric mucosa    586\n",
       "Name: Sample_type, dtype: int64"
      ]
     },
     "execution_count": 9,
     "metadata": {},
     "output_type": "execute_result"
    }
   ],
   "source": [
    "exp.sample_metadata['Sample_type'].value_counts()"
   ]
  },
  {
   "cell_type": "code",
   "execution_count": 10,
   "metadata": {
    "ExecuteTime": {
     "end_time": "2021-03-25T00:43:44.906528Z",
     "start_time": "2021-03-25T00:43:44.895542Z"
    }
   },
   "outputs": [
    {
     "data": {
      "text/plain": [
       "gastritis         301\n",
       "gastric cancer    285\n",
       "Name: Diagnosis, dtype: int64"
      ]
     },
     "execution_count": 10,
     "metadata": {},
     "output_type": "execute_result"
    }
   ],
   "source": [
    "exp.sample_metadata['Diagnosis'].value_counts()"
   ]
  },
  {
   "cell_type": "code",
   "execution_count": 11,
   "metadata": {
    "ExecuteTime": {
     "end_time": "2021-03-25T00:43:45.982889Z",
     "start_time": "2021-03-25T00:43:45.972009Z"
    }
   },
   "outputs": [
    {
     "data": {
      "text/plain": [
       "PRJNA481413    230\n",
       "PRJNA375772    186\n",
       "PRJEB26931     125\n",
       "PRJEB21104      45\n",
       "Name: BioProject, dtype: int64"
      ]
     },
     "execution_count": 11,
     "metadata": {},
     "output_type": "execute_result"
    }
   ],
   "source": [
    "exp.sample_metadata['BioProject'].value_counts()"
   ]
  },
  {
   "cell_type": "code",
   "execution_count": 12,
   "metadata": {},
   "outputs": [
    {
     "data": {
      "text/plain": [
       "AmpliconExperiment with 541 samples, 2026 features"
      ]
     },
     "execution_count": 12,
     "metadata": {},
     "output_type": "execute_result"
    }
   ],
   "source": [
    "exp_ggc=exp.filter_samples('BioProject',\n",
    "                            ['PRJEB26931','PRJNA375772','PRJNA481413']).filter_samples('Sample_type','gastric fluid',negate=True).filter_samples('Diagnosis',\n",
    "                                                                                                    ['gastritis','gastric cancer'])\n",
    "exp_ggc\n"
   ]
  },
  {
   "cell_type": "code",
   "execution_count": 13,
   "metadata": {
    "ExecuteTime": {
     "end_time": "2021-03-25T00:43:47.936215Z",
     "start_time": "2021-03-25T00:43:47.925523Z"
    }
   },
   "outputs": [
    {
     "data": {
      "text/plain": [
       "gastric cancer    275\n",
       "gastritis         266\n",
       "Name: Diagnosis, dtype: int64"
      ]
     },
     "execution_count": 13,
     "metadata": {},
     "output_type": "execute_result"
    }
   ],
   "source": [
    "exp_ggc.sample_metadata['Diagnosis'].value_counts()"
   ]
  },
  {
   "cell_type": "code",
   "execution_count": 14,
   "metadata": {},
   "outputs": [
    {
     "data": {
      "text/html": [
       "<div>\n",
       "<style scoped>\n",
       "    .dataframe tbody tr th:only-of-type {\n",
       "        vertical-align: middle;\n",
       "    }\n",
       "\n",
       "    .dataframe tbody tr th {\n",
       "        vertical-align: top;\n",
       "    }\n",
       "\n",
       "    .dataframe thead th {\n",
       "        text-align: right;\n",
       "    }\n",
       "</style>\n",
       "<table border=\"1\" class=\"dataframe\">\n",
       "  <thead>\n",
       "    <tr style=\"text-align: right;\">\n",
       "      <th>Diagnosis</th>\n",
       "      <th>gastric cancer</th>\n",
       "      <th>gastritis</th>\n",
       "    </tr>\n",
       "    <tr>\n",
       "      <th>Study</th>\n",
       "      <th></th>\n",
       "      <th></th>\n",
       "    </tr>\n",
       "  </thead>\n",
       "  <tbody>\n",
       "    <tr>\n",
       "      <th>PRJEB26931</th>\n",
       "      <td>84</td>\n",
       "      <td>41</td>\n",
       "    </tr>\n",
       "    <tr>\n",
       "      <th>PRJNA375772_Inner_Mongolia</th>\n",
       "      <td>36</td>\n",
       "      <td>56</td>\n",
       "    </tr>\n",
       "    <tr>\n",
       "      <th>PRJNA375772_Xi_an</th>\n",
       "      <td>40</td>\n",
       "      <td>54</td>\n",
       "    </tr>\n",
       "    <tr>\n",
       "      <th>PRJNA481413</th>\n",
       "      <td>115</td>\n",
       "      <td>115</td>\n",
       "    </tr>\n",
       "  </tbody>\n",
       "</table>\n",
       "</div>"
      ],
      "text/plain": [
       "Diagnosis                   gastric cancer  gastritis\n",
       "Study                                                \n",
       "PRJEB26931                              84         41\n",
       "PRJNA375772_Inner_Mongolia              36         56\n",
       "PRJNA375772_Xi_an                       40         54\n",
       "PRJNA481413                            115        115"
      ]
     },
     "execution_count": 14,
     "metadata": {},
     "output_type": "execute_result"
    }
   ],
   "source": [
    "exp_ggc.sample_metadata.pivot_table(values='Name',index='Study',columns='Diagnosis',aggfunc='count')"
   ]
  },
  {
   "cell_type": "code",
   "execution_count": 15,
   "metadata": {},
   "outputs": [
    {
     "data": {
      "text/plain": [
       "PRJNA481413                   230\n",
       "PRJEB26931                    125\n",
       "PRJNA375772_Xi_an              94\n",
       "PRJNA375772_Inner_Mongolia     92\n",
       "Name: Study, dtype: int64"
      ]
     },
     "execution_count": 15,
     "metadata": {},
     "output_type": "execute_result"
    }
   ],
   "source": [
    "exp_ggc.sample_metadata['Study'].value_counts()"
   ]
  },
  {
   "cell_type": "code",
   "execution_count": 16,
   "metadata": {},
   "outputs": [
    {
     "data": {
      "text/plain": [
       "AmpliconExperiment with 541 samples, 2026 features"
      ]
     },
     "execution_count": 16,
     "metadata": {},
     "output_type": "execute_result"
    }
   ],
   "source": [
    "exp_ggc"
   ]
  },
  {
   "cell_type": "code",
   "execution_count": 17,
   "metadata": {},
   "outputs": [
    {
     "data": {
      "text/plain": [
       "(AmpliconExperiment with 125 samples, 2026 features,\n",
       " AmpliconExperiment with 94 samples, 2026 features,\n",
       " AmpliconExperiment with 92 samples, 2026 features,\n",
       " AmpliconExperiment with 230 samples, 2026 features)"
      ]
     },
     "execution_count": 17,
     "metadata": {},
     "output_type": "execute_result"
    }
   ],
   "source": [
    "p26931=exp_ggc.filter_samples('BioProject','PRJEB26931')\n",
    "p375772_xian=exp_ggc.filter_samples('Study','PRJNA375772_Xi_an')\n",
    "p375772_im=exp_ggc.filter_samples('Study','PRJNA375772_Inner_Mongolia')\n",
    "p481413=exp_ggc.filter_samples('BioProject','PRJNA481413')\n",
    "p26931,p375772_xian,p375772_im,p481413"
   ]
  },
  {
   "cell_type": "code",
   "execution_count": 18,
   "metadata": {},
   "outputs": [],
   "source": [
    "exp_gg=exp_ggc"
   ]
  },
  {
   "cell_type": "markdown",
   "metadata": {},
   "source": [
    "# classification"
   ]
  },
  {
   "cell_type": "code",
   "execution_count": 19,
   "metadata": {
    "collapsed": true,
    "jupyter": {
     "outputs_hidden": true
    },
    "tags": []
   },
   "outputs": [
    {
     "name": "stderr",
     "output_type": "stream",
     "text": [
      "/home/liyan/.conda/envs/qiime2-2020.2/lib/python3.6/site-packages/sklearn/model_selection/_split.py:296: FutureWarning: Setting a random_state has no effect since shuffle is False. This will raise an error in 0.24. You should leave random_state to its default (None), or set shuffle=True.\n",
      "  FutureWarning\n",
      "/home/liyan/.conda/envs/qiime2-2020.2/lib/python3.6/site-packages/sklearn/model_selection/_split.py:296: FutureWarning: Setting a random_state has no effect since shuffle is False. This will raise an error in 0.24. You should leave random_state to its default (None), or set shuffle=True.\n",
      "  FutureWarning\n",
      "/home/liyan/.conda/envs/qiime2-2020.2/lib/python3.6/site-packages/sklearn/model_selection/_split.py:296: FutureWarning: Setting a random_state has no effect since shuffle is False. This will raise an error in 0.24. You should leave random_state to its default (None), or set shuffle=True.\n",
      "  FutureWarning\n",
      "/home/liyan/.conda/envs/qiime2-2020.2/lib/python3.6/site-packages/sklearn/model_selection/_split.py:296: FutureWarning: Setting a random_state has no effect since shuffle is False. This will raise an error in 0.24. You should leave random_state to its default (None), or set shuffle=True.\n",
      "  FutureWarning\n"
     ]
    }
   ],
   "source": [
    "class_res=[]\n",
    "imp_otu=[]\n",
    "\n",
    "for dataset in ['PRJEB26931',\n",
    "                \"PRJNA375772_Xi_an\",\n",
    "                'PRJNA375772_Inner_Mongolia','PRJNA481413']:\n",
    "    data=exp_gg.filter_samples('Study',dataset)\n",
    "    resc,important=classification(data,'Diagnosis',dataset)\n",
    "    resc['Study']=dataset\n",
    "   # plot_roc(resc,title=dataset)\n",
    "    class_res.append(resc)\n",
    "    imp_otu.append(important)\n",
    "imp_OTU=pd.concat(imp_otu,axis=1)\n",
    "classify_res=pd.concat(class_res)"
   ]
  },
  {
   "cell_type": "code",
   "execution_count": 20,
   "metadata": {},
   "outputs": [],
   "source": [
    "def plot_roc_curve(result, classes=None, title='ROC', col='red',cv=True, cmap=None, ax=None):\n",
    "    \n",
    "    from matplotlib import pyplot as plt\n",
    "    if cmap is None:\n",
    "        cmap = plt.cm.Dark2\n",
    "    if ax is None:\n",
    "        fig, ax = plt.subplots()\n",
    "\n",
    "    ax.set_aspect('equal')\n",
    "    ax.plot([0, 1], [0, 1], linestyle='--', lw=1, color='grey', alpha=1)\n",
    "\n",
    "    if classes is None:\n",
    "        classes = np.unique(result['Y_TRUE'].values)\n",
    "        classes.sort()\n",
    "\n",
    "    #col = dict(zip(classes, itertools.cycle(cmap.colors))) ##\n",
    "    study=result['Study'].unique().tolist()[0]\n",
    "    \n",
    "    mean_fpr = np.linspace(0, 1, 100)\n",
    "    for cls in classes:\n",
    "        tprs = []\n",
    "        aucs = []\n",
    "        if cv is True:\n",
    "            for grp, df in result.groupby('CV'):\n",
    "                y_true = df['Y_TRUE'].values == cls\n",
    "                fpr, tpr, thresholds = roc_curve(y_true.astype(int), df[cls])\n",
    "                if np.isnan(fpr[-1]) or np.isnan(tpr[-1]):\n",
    "                    logger.warning(\n",
    "                        'The cross validation fold %r is skipped because the true positive rate or '\n",
    "                        'false positive rate computation failed. This is likely because you '\n",
    "                        'have either no true positive or no negative samples in this '\n",
    "                        'cross validation for the class %r' % (grp, cls))\n",
    "                    continue\n",
    "                mean_tpr = np.interp(mean_fpr, fpr, tpr)\n",
    "                tprs.append(mean_tpr)\n",
    "                tprs[-1][0] = 0.0\n",
    "                roc_auc = auc(mean_fpr, mean_tpr)\n",
    "                aucs.append(roc_auc)\n",
    "\n",
    "            mean_tpr = np.mean(tprs, axis=0)\n",
    "            mean_tpr[-1] = 1.0\n",
    "            mean_auc = np.mean(aucs)\n",
    "            std_auc = np.std(aucs)\n",
    "            ax.plot(mean_fpr, mean_tpr, color=col,\n",
    "                    label='{0} ({1:.2f} $\\\\pm$ {2:.2f})'.format(study, mean_auc, std_auc),\n",
    "                    lw=2, alpha=.8) #\n",
    "\n",
    "            std_tpr = np.std(tprs, axis=0)\n",
    "            tprs_upper = np.minimum(mean_tpr + std_tpr, 1)\n",
    "            tprs_lower = np.maximum(mean_tpr - std_tpr, 0)\n",
    "            ax.fill_between(mean_fpr, tprs_lower, tprs_upper, color=col, alpha=.4)\n",
    "        else:\n",
    "            y_true = result['Y_TRUE'].values == cls\n",
    "            fpr, tpr, thresholds = roc_curve(y_true.astype(int), result[cls])\n",
    "            if np.isnan(fpr[-1]) or np.isnan(tpr[-1]):\n",
    "                logger.warning(\n",
    "                    'The class %r is skipped because the true positive rate or '\n",
    "                    'false positive rate computation failed. This is likely because you '\n",
    "                    'have either no true positive or no negative samples for this class' % cls)\n",
    "            roc_auc = auc(fpr, tpr)\n",
    "            # prepend zero because, if not, the curve may start in the middle of the plot.\n",
    "            ax.plot(np.insert(fpr, 0, 0), np.insert(tpr, 0, 0), label='{0} ({1:.2f})'.format(cls, roc_auc), lw=2)\n",
    "\n",
    "    ax.set_xlim(-0.05, 1.05)\n",
    "    ax.set_ylim(-0.05, 1.05)\n",
    "    ax.set_xlabel('False Positive Rate')\n",
    "    ax.set_ylabel('True Positive Rate')\n",
    "    ax.set_title(title)\n",
    "    #ax.legend(loc=\"lower right\")\n",
    "    ax.legend(title='',loc=\"lower right\",frameon=False,prop={'size':7.5})\n",
    "              #bbox_to_anchor=(1.05,1.0),\n",
    "              #borderaxespad = 0.)\n",
    "    return ax, mean_auc if cv else roc_auc"
   ]
  },
  {
   "cell_type": "code",
   "execution_count": 21,
   "metadata": {},
   "outputs": [],
   "source": [
    "cmap = plt.cm.tab10\n",
    "colmap = dict(zip(['PRJEB26931',\n",
    "                   \"PRJNA375772_Xi_an\",\n",
    "                'PRJNA375772_Inner_Mongolia','PRJNA481413'], cmap.colors))"
   ]
  },
  {
   "cell_type": "code",
   "execution_count": 22,
   "metadata": {},
   "outputs": [
    {
     "data": {
      "image/png": "[encoded data removed]",
      "text/plain": [
       "<Figure size 360x360 with 1 Axes>"
      ]
     },
     "metadata": {
      "needs_background": "light"
     },
     "output_type": "display_data"
    }
   ],
   "source": [
    "fig, ax = plt.subplots(figsize=(5,5))\n",
    "for dataset in ['PRJEB26931',\n",
    "                \"PRJNA375772_Xi_an\",\n",
    "                'PRJNA375772_Inner_Mongolia','PRJNA481413']:\n",
    "                   \n",
    "    plot_roc_curve(classify_res.query('Study==\"%s\"' %dataset),col=colmap[dataset],\n",
    "                    title='gastritis and GC',\n",
    "                    classes=['gastric cancer'],ax=ax)\n",
    "plt.savefig('figures/withhp-each-study-classfication-roc-plot.pdf')    "
   ]
  },
  {
   "cell_type": "code",
   "execution_count": 23,
   "metadata": {},
   "outputs": [
    {
     "data": {
      "text/plain": [
       "PRJNA481413                   230\n",
       "PRJEB26931                    125\n",
       "PRJNA375772_Xi_an              94\n",
       "PRJNA375772_Inner_Mongolia     92\n",
       "Name: Study, dtype: int64"
      ]
     },
     "execution_count": 23,
     "metadata": {},
     "output_type": "execute_result"
    }
   ],
   "source": [
    "exp_gg.sample_metadata['Study'].value_counts()"
   ]
  },
  {
   "cell_type": "code",
   "execution_count": 24,
   "metadata": {},
   "outputs": [],
   "source": [
    "# trained on dataset1，predict dataset2\n",
    "\n",
    "def OTO_RFC(dataset1,dataset2,field='Diagnosis'):\n",
    "    skf = StratifiedKFold(n_splits=5, random_state=0)\n",
    "    rs=[]\n",
    "    for i, (train_index, test_index) in enumerate(skf.split(dataset1.data,\n",
    "                                              dataset1.sample_metadata[field])):\n",
    "            x_train = dataset1.data[train_index]\n",
    "            y_train =dataset1.sample_metadata[field][train_index]\n",
    "            rfc = RandomForestClassifier(n_estimators=1000,random_state=0)\n",
    "            rfc.fit(x_train, y_train)\n",
    "            x_test = dataset1.data[test_index]\n",
    "            y_test = dataset1.sample_metadata[field][test_index]\n",
    "            r = pd.DataFrame(rfc.predict_proba(x_test), columns=rfc.classes_)\n",
    "            r.insert(2, 'Y_TRUE', y_test.tolist())\n",
    "            r.insert(3, 'CV', i)\n",
    "            rs.append(r)\n",
    "    DS1_res=pd.concat(rs)\n",
    "    \n",
    "\n",
    "    x_test2 =dataset2.data\n",
    "    y_test2 =dataset2.sample_metadata['Diagnosis']\n",
    "\n",
    "    DS2_res = pd.DataFrame(rfc.predict_proba(x_test2), columns=rfc.classes_)\n",
    "    DS2_res.insert(2, 'Y_TRUE', y_test2.tolist())\n",
    "    DS2_res.insert(3, 'CV', 0)\n",
    "    \n",
    "    impF=pd.DataFrame(data=rfc.feature_importances_,index=dataset1.to_pandas(sparse=False).columns,columns=['imp_score'])\n",
    "    impF.sort_values(by='imp_score',ascending=False)\n",
    "    impF_list=impF.index.tolist()\n",
    "   \n",
    "    return DS1_res,DS2_res,impF_list\n"
   ]
  },
  {
   "cell_type": "code",
   "execution_count": 25,
   "metadata": {},
   "outputs": [],
   "source": [
    "# calculate ROC\n",
    "\n",
    "def ca_roc(result, cv=True,classes=None):\n",
    "    if classes is None:\n",
    "        classes = np.unique(result['Y_TRUE'].values)\n",
    "        classes.sort()\n",
    "\n",
    "\n",
    "    mean_fpr = np.linspace(0, 1, 100)\n",
    "    for cls in classes:\n",
    "        tprs = []\n",
    "        aucs = []\n",
    "        if cv is True:\n",
    "            for grp, df in result.groupby('CV'):\n",
    "                y_true = df['Y_TRUE'].values == cls\n",
    "                fpr, tpr, thresholds = roc_curve(y_true.astype(int), df[cls])\n",
    "                if np.isnan(fpr[-1]) or np.isnan(tpr[-1]):\n",
    "                    logger.warning(\n",
    "                        'The cross validation fold %r is skipped because the true positive rate or '\n",
    "                        'false positive rate computation failed. This is likely because you '\n",
    "                        'have either no true positive or no negative samples in this '\n",
    "                        'cross validation for the class %r' % (grp, cls))\n",
    "                    continue\n",
    "                mean_tpr = np.interp(mean_fpr, fpr, tpr)\n",
    "                tprs.append(mean_tpr)\n",
    "                tprs[-1][0] = 0.0\n",
    "                roc_auc = auc(mean_fpr, mean_tpr)\n",
    "                aucs.append(roc_auc)\n",
    "\n",
    "            mean_tpr = np.mean(tprs, axis=0)\n",
    "            mean_tpr[-1] = 1.0\n",
    "            mean_auc = np.mean(aucs)\n",
    "            std_auc = np.std(aucs)\n",
    "        else:\n",
    "            y_true = result['Y_TRUE'].values == cls\n",
    "            fpr, tpr, thresholds = roc_curve(y_true.astype(int), result[cls])\n",
    "            if np.isnan(fpr[-1]) or np.isnan(tpr[-1]):\n",
    "                logger.warning(\n",
    "                    'The class %r is skipped because the true positive rate or '\n",
    "                    'false positive rate computation failed. This is likely because you '\n",
    "                    'have either no true positive or no negative samples for this class' % cls)\n",
    "            roc_auc = auc(fpr, tpr)\n",
    "    return mean_auc if cv else roc_auc  "
   ]
  },
  {
   "cell_type": "code",
   "execution_count": 26,
   "metadata": {},
   "outputs": [],
   "source": [
    "def plot_roc_curve2(result, classes=None, title='ROC', col='red',cv=True, cmap=None, ax=None):\n",
    "    \n",
    "    from matplotlib import pyplot as plt\n",
    "    if cmap is None:\n",
    "        cmap = plt.cm.Dark2\n",
    "    if ax is None:\n",
    "        fig, ax = plt.subplots()\n",
    "\n",
    "    ax.set_aspect('equal')\n",
    "    ax.plot([0, 1], [0, 1], linestyle='--', lw=1, color='grey', alpha=1)\n",
    "\n",
    "    if classes is None:\n",
    "        classes = np.unique(result['Y_TRUE'].values)\n",
    "        classes.sort()\n",
    "\n",
    "    #col = dict(zip(classes, itertools.cycle(cmap.colors))) ##\n",
    "    #study=result['Study'].unique().tolist()[0]\n",
    "    \n",
    "    mean_fpr = np.linspace(0, 1, 100)\n",
    "    for cls in classes:\n",
    "        tprs = []\n",
    "        aucs = []\n",
    "        if cv is True:\n",
    "            for grp, df in result.groupby('CV'):\n",
    "                y_true = df['Y_TRUE'].values == cls\n",
    "                fpr, tpr, thresholds = roc_curve(y_true.astype(int), df[cls])\n",
    "                if np.isnan(fpr[-1]) or np.isnan(tpr[-1]):\n",
    "                    logger.warning(\n",
    "                        'The cross validation fold %r is skipped because the true positive rate or '\n",
    "                        'false positive rate computation failed. This is likely because you '\n",
    "                        'have either no true positive or no negative samples in this '\n",
    "                        'cross validation for the class %r' % (grp, cls))\n",
    "                    continue\n",
    "                mean_tpr = np.interp(mean_fpr, fpr, tpr)\n",
    "                tprs.append(mean_tpr)\n",
    "                tprs[-1][0] = 0.0\n",
    "                roc_auc = auc(mean_fpr, mean_tpr)\n",
    "                aucs.append(roc_auc)\n",
    "\n",
    "            mean_tpr = np.mean(tprs, axis=0)\n",
    "            mean_tpr[-1] = 1.0\n",
    "            mean_auc = np.mean(aucs)\n",
    "            std_auc = np.std(aucs)\n",
    "            ax.plot(mean_fpr, mean_tpr, color=col,\n",
    "                    label='AUC: ({0:.2f} $\\\\pm$ {1:.2f})'.format(mean_auc, std_auc),\n",
    "                    lw=2, alpha=.8) #\n",
    "\n",
    "            std_tpr = np.std(tprs, axis=0)\n",
    "            tprs_upper = np.minimum(mean_tpr + std_tpr, 1)\n",
    "            tprs_lower = np.maximum(mean_tpr - std_tpr, 0)\n",
    "            ax.fill_between(mean_fpr, tprs_lower, tprs_upper, color=col, alpha=.4)\n",
    "        else:\n",
    "            y_true = result['Y_TRUE'].values == cls\n",
    "            fpr, tpr, thresholds = roc_curve(y_true.astype(int), result[cls])\n",
    "            if np.isnan(fpr[-1]) or np.isnan(tpr[-1]):\n",
    "                logger.warning(\n",
    "                    'The class %r is skipped because the true positive rate or '\n",
    "                    'false positive rate computation failed. This is likely because you '\n",
    "                    'have either no true positive or no negative samples for this class' % cls)\n",
    "            roc_auc = auc(fpr, tpr)\n",
    "            # prepend zero because, if not, the curve may start in the middle of the plot.\n",
    "            ax.plot(np.insert(fpr, 0, 0), np.insert(tpr, 0, 0), label='{0} ({1:.2f})'.format(cls, roc_auc), lw=2)\n",
    "\n",
    "    ax.set_xlim(-0.05, 1.05)\n",
    "    ax.set_ylim(-0.05, 1.05)\n",
    "    ax.set_xlabel('False Positive Rate')\n",
    "    ax.set_ylabel('True Positive Rate')\n",
    "    ax.set_title(title)\n",
    "    #ax.legend(loc=\"lower right\")\n",
    "    ax.legend(title='',loc=\"lower right\",frameon=False,prop={'size':7.5})\n",
    "              #bbox_to_anchor=(1.05,1.0),\n",
    "              #borderaxespad = 0.)\n",
    "    return ax, mean_auc if cv else roc_auc"
   ]
  },
  {
   "cell_type": "code",
   "execution_count": null,
   "metadata": {},
   "outputs": [],
   "source": []
  },
  {
   "cell_type": "markdown",
   "metadata": {},
   "source": [
    "## classfication by diff otu"
   ]
  },
  {
   "cell_type": "code",
   "execution_count": 27,
   "metadata": {
    "collapsed": true,
    "jupyter": {
     "outputs_hidden": true
    },
    "tags": []
   },
   "outputs": [
    {
     "data": {
      "text/plain": [
       "(AmpliconExperiment with 541 samples, 2026 features,\n",
       " AmpliconExperiment with 125 samples, 2026 features,\n",
       " AmpliconExperiment with 94 samples, 2026 features,\n",
       " AmpliconExperiment with 92 samples, 2026 features,\n",
       " AmpliconExperiment with 230 samples, 2026 features)"
      ]
     },
     "execution_count": 27,
     "metadata": {},
     "output_type": "execute_result"
    }
   ],
   "source": [
    "D26931=exp_gg.filter_samples('BioProject','PRJEB26931')\n",
    "D375772_xian=exp_gg.filter_samples('Study','PRJNA375772_Xi_an')\n",
    "D375772_im=exp_gg.filter_samples('Study','PRJNA375772_Inner_Mongolia')\n",
    "D481413=exp_gg.filter_samples('BioProject','PRJNA481413')\n",
    "exp_gg,D26931,D375772_xian,D375772_im,D481413"
   ]
  },
  {
   "cell_type": "code",
   "execution_count": 28,
   "metadata": {
    "collapsed": true,
    "jupyter": {
     "outputs_hidden": true
    },
    "tags": []
   },
   "outputs": [
    {
     "data": {
      "text/html": [
       "<div>\n",
       "<style scoped>\n",
       "    .dataframe tbody tr th:only-of-type {\n",
       "        vertical-align: middle;\n",
       "    }\n",
       "\n",
       "    .dataframe tbody tr th {\n",
       "        vertical-align: top;\n",
       "    }\n",
       "\n",
       "    .dataframe thead th {\n",
       "        text-align: right;\n",
       "    }\n",
       "</style>\n",
       "<table border=\"1\" class=\"dataframe\">\n",
       "  <thead>\n",
       "    <tr style=\"text-align: right;\">\n",
       "      <th></th>\n",
       "      <th>Unnamed: 0</th>\n",
       "      <th>diff_otu</th>\n",
       "      <th>baseMean</th>\n",
       "      <th>log2FoldChange</th>\n",
       "      <th>lfcSE</th>\n",
       "      <th>stat</th>\n",
       "      <th>pvalue</th>\n",
       "      <th>padj</th>\n",
       "      <th>Study</th>\n",
       "      <th>CI_low</th>\n",
       "      <th>CI_hig</th>\n",
       "      <th>Significant</th>\n",
       "      <th>taxonomy</th>\n",
       "      <th>Taxonomy</th>\n",
       "      <th>ID_Taxonomy</th>\n",
       "      <th>Taxon</th>\n",
       "      <th>diff_oral</th>\n",
       "      <th>Taxon_oral</th>\n",
       "      <th>taxon_oral</th>\n",
       "      <th>absFC</th>\n",
       "    </tr>\n",
       "  </thead>\n",
       "  <tbody>\n",
       "    <tr>\n",
       "      <th>0</th>\n",
       "      <td>80</td>\n",
       "      <td>359079</td>\n",
       "      <td>28.337522</td>\n",
       "      <td>3.686162</td>\n",
       "      <td>0.374837</td>\n",
       "      <td>9.834042</td>\n",
       "      <td>8.032871e-23</td>\n",
       "      <td>6.426297e-20</td>\n",
       "      <td>PRJNA375772_Xi_an</td>\n",
       "      <td>2.625373</td>\n",
       "      <td>4.746950</td>\n",
       "      <td>GC enriched</td>\n",
       "      <td>k__Bacteria; p__Firmicutes; c__Bacilli; o__Lactobacillales; f__Streptococcaceae; g__Streptococcus; s__anginosus</td>\n",
       "      <td>s__anginosus</td>\n",
       "      <td>359079 \\n  s__anginosus</td>\n",
       "      <td>359079; s__anginosus</td>\n",
       "      <td>*</td>\n",
       "      <td>* 359079; s__anginosus</td>\n",
       "      <td>* 359079 \\n  s__anginosus</td>\n",
       "      <td>3.686162</td>\n",
       "    </tr>\n",
       "    <tr>\n",
       "      <th>1</th>\n",
       "      <td>108</td>\n",
       "      <td>4318284</td>\n",
       "      <td>22.016874</td>\n",
       "      <td>3.417849</td>\n",
       "      <td>0.446139</td>\n",
       "      <td>7.660948</td>\n",
       "      <td>1.845652e-14</td>\n",
       "      <td>3.281160e-12</td>\n",
       "      <td>PRJNA375772_Xi_an</td>\n",
       "      <td>2.155275</td>\n",
       "      <td>4.680423</td>\n",
       "      <td>GC enriched</td>\n",
       "      <td>k__Bacteria; p__Firmicutes; c__Clostridia; o__Clostridiales; f__Veillonellaceae; g__Dialister; s__</td>\n",
       "      <td>g__Dialister</td>\n",
       "      <td>4318284 \\n  g__Dialister</td>\n",
       "      <td>4318284; g__Dialister</td>\n",
       "      <td>*</td>\n",
       "      <td>* 4318284; g__Dialister</td>\n",
       "      <td>* 4318284 \\n  g__Dialister</td>\n",
       "      <td>3.417849</td>\n",
       "    </tr>\n",
       "    <tr>\n",
       "      <th>2</th>\n",
       "      <td>92</td>\n",
       "      <td>4297119</td>\n",
       "      <td>21.440922</td>\n",
       "      <td>3.372829</td>\n",
       "      <td>0.459005</td>\n",
       "      <td>7.348127</td>\n",
       "      <td>2.010029e-13</td>\n",
       "      <td>1.406015e-10</td>\n",
       "      <td>PRJNA375772_Inner_Mongolia</td>\n",
       "      <td>2.073844</td>\n",
       "      <td>4.671814</td>\n",
       "      <td>GC enriched</td>\n",
       "      <td>k__Bacteria; p__Fusobacteria; c__Fusobacteriia; o__Fusobacteriales; f__Leptotrichiaceae; g__Leptotrichia; s__</td>\n",
       "      <td>g__Leptotrichia</td>\n",
       "      <td>4297119 \\n  g__Leptotrichia</td>\n",
       "      <td>4297119; g__Leptotrichia</td>\n",
       "      <td>*</td>\n",
       "      <td>* 4297119; g__Leptotrichia</td>\n",
       "      <td>* 4297119 \\n  g__Leptotrichia</td>\n",
       "      <td>3.372829</td>\n",
       "    </tr>\n",
       "    <tr>\n",
       "      <th>3</th>\n",
       "      <td>129</td>\n",
       "      <td>4396516</td>\n",
       "      <td>8.103700</td>\n",
       "      <td>3.311667</td>\n",
       "      <td>0.286076</td>\n",
       "      <td>11.576189</td>\n",
       "      <td>5.441185e-31</td>\n",
       "      <td>2.920103e-29</td>\n",
       "      <td>PRJNA481413</td>\n",
       "      <td>2.502073</td>\n",
       "      <td>4.121262</td>\n",
       "      <td>GC enriched</td>\n",
       "      <td>k__Bacteria; p__Firmicutes; c__Clostridia; o__Clostridiales; f__Lachnospiraceae; g__; s__</td>\n",
       "      <td>f__Lachnospiraceae</td>\n",
       "      <td>4396516 \\n  f__Lachnospiraceae</td>\n",
       "      <td>4396516; f__Lachnospiraceae</td>\n",
       "      <td>NaN</td>\n",
       "      <td>4396516; f__Lachnospiraceae</td>\n",
       "      <td>4396516 \\n  f__Lachnospiraceae</td>\n",
       "      <td>3.311667</td>\n",
       "    </tr>\n",
       "    <tr>\n",
       "      <th>4</th>\n",
       "      <td>148</td>\n",
       "      <td>4458501</td>\n",
       "      <td>53.124428</td>\n",
       "      <td>3.303541</td>\n",
       "      <td>0.437114</td>\n",
       "      <td>7.557616</td>\n",
       "      <td>4.105224e-14</td>\n",
       "      <td>6.568359e-12</td>\n",
       "      <td>PRJNA375772_Xi_an</td>\n",
       "      <td>2.066508</td>\n",
       "      <td>4.540574</td>\n",
       "      <td>GC enriched</td>\n",
       "      <td>k__Bacteria; p__Firmicutes; c__Clostridia; o__Clostridiales; f__[Tissierellaceae]; g__Parvimonas; s__</td>\n",
       "      <td>g__Parvimonas</td>\n",
       "      <td>4458501 \\n  g__Parvimonas</td>\n",
       "      <td>4458501; g__Parvimonas</td>\n",
       "      <td>*</td>\n",
       "      <td>* 4458501; g__Parvimonas</td>\n",
       "      <td>* 4458501 \\n  g__Parvimonas</td>\n",
       "      <td>3.303541</td>\n",
       "    </tr>\n",
       "  </tbody>\n",
       "</table>\n",
       "</div>"
      ],
      "text/plain": [
       "   Unnamed: 0  diff_otu   baseMean  log2FoldChange     lfcSE       stat  \\\n",
       "0          80    359079  28.337522        3.686162  0.374837   9.834042   \n",
       "1         108   4318284  22.016874        3.417849  0.446139   7.660948   \n",
       "2          92   4297119  21.440922        3.372829  0.459005   7.348127   \n",
       "3         129   4396516   8.103700        3.311667  0.286076  11.576189   \n",
       "4         148   4458501  53.124428        3.303541  0.437114   7.557616   \n",
       "\n",
       "         pvalue          padj                       Study    CI_low    CI_hig  \\\n",
       "0  8.032871e-23  6.426297e-20           PRJNA375772_Xi_an  2.625373  4.746950   \n",
       "1  1.845652e-14  3.281160e-12           PRJNA375772_Xi_an  2.155275  4.680423   \n",
       "2  2.010029e-13  1.406015e-10  PRJNA375772_Inner_Mongolia  2.073844  4.671814   \n",
       "3  5.441185e-31  2.920103e-29                 PRJNA481413  2.502073  4.121262   \n",
       "4  4.105224e-14  6.568359e-12           PRJNA375772_Xi_an  2.066508  4.540574   \n",
       "\n",
       "   Significant  \\\n",
       "0  GC enriched   \n",
       "1  GC enriched   \n",
       "2  GC enriched   \n",
       "3  GC enriched   \n",
       "4  GC enriched   \n",
       "\n",
       "                                                                                                          taxonomy  \\\n",
       "0  k__Bacteria; p__Firmicutes; c__Bacilli; o__Lactobacillales; f__Streptococcaceae; g__Streptococcus; s__anginosus   \n",
       "1               k__Bacteria; p__Firmicutes; c__Clostridia; o__Clostridiales; f__Veillonellaceae; g__Dialister; s__   \n",
       "2    k__Bacteria; p__Fusobacteria; c__Fusobacteriia; o__Fusobacteriales; f__Leptotrichiaceae; g__Leptotrichia; s__   \n",
       "3                        k__Bacteria; p__Firmicutes; c__Clostridia; o__Clostridiales; f__Lachnospiraceae; g__; s__   \n",
       "4            k__Bacteria; p__Firmicutes; c__Clostridia; o__Clostridiales; f__[Tissierellaceae]; g__Parvimonas; s__   \n",
       "\n",
       "              Taxonomy                     ID_Taxonomy  \\\n",
       "0         s__anginosus         359079 \\n  s__anginosus   \n",
       "1         g__Dialister        4318284 \\n  g__Dialister   \n",
       "2      g__Leptotrichia     4297119 \\n  g__Leptotrichia   \n",
       "3   f__Lachnospiraceae  4396516 \\n  f__Lachnospiraceae   \n",
       "4        g__Parvimonas       4458501 \\n  g__Parvimonas   \n",
       "\n",
       "                         Taxon diff_oral                    Taxon_oral  \\\n",
       "0         359079; s__anginosus         *        * 359079; s__anginosus   \n",
       "1        4318284; g__Dialister         *       * 4318284; g__Dialister   \n",
       "2     4297119; g__Leptotrichia         *    * 4297119; g__Leptotrichia   \n",
       "3  4396516; f__Lachnospiraceae       NaN   4396516; f__Lachnospiraceae   \n",
       "4       4458501; g__Parvimonas         *      * 4458501; g__Parvimonas   \n",
       "\n",
       "                        taxon_oral     absFC  \n",
       "0        * 359079 \\n  s__anginosus  3.686162  \n",
       "1       * 4318284 \\n  g__Dialister  3.417849  \n",
       "2    * 4297119 \\n  g__Leptotrichia  3.372829  \n",
       "3   4396516 \\n  f__Lachnospiraceae  3.311667  \n",
       "4      * 4458501 \\n  g__Parvimonas  3.303541  "
      ]
     },
     "execution_count": 28,
     "metadata": {},
     "output_type": "execute_result"
    }
   ],
   "source": [
    "diff_otu = pd.read_csv('diff-otu-DESeq2.csv')\n",
    "diff_otu.head()"
   ]
  },
  {
   "cell_type": "code",
   "execution_count": 29,
   "metadata": {},
   "outputs": [
    {
     "data": {
      "text/plain": [
       "44"
      ]
     },
     "execution_count": 29,
     "metadata": {},
     "output_type": "execute_result"
    }
   ],
   "source": [
    "f= diff_otu['diff_otu'].unique().tolist()\n",
    "len(f)"
   ]
  },
  {
   "cell_type": "code",
   "execution_count": 30,
   "metadata": {},
   "outputs": [
    {
     "data": {
      "text/plain": [
       "(AmpliconExperiment with 541 samples, 44 features,\n",
       " AmpliconExperiment with 125 samples, 44 features,\n",
       " AmpliconExperiment with 92 samples, 44 features,\n",
       " AmpliconExperiment with 94 samples, 44 features,\n",
       " AmpliconExperiment with 230 samples, 44 features)"
      ]
     },
     "execution_count": 30,
     "metadata": {},
     "output_type": "execute_result"
    }
   ],
   "source": [
    "D26931f=D26931.filter_ids(f)\n",
    "D375772f_im=D375772_im.filter_ids(f)\n",
    "D375772f_xian=D375772_xian.filter_ids(f)\n",
    "D481413f=D481413.filter_ids(f)\n",
    "exp_ggf=exp_gg.filter_ids(f)\n",
    "exp_ggf,D26931f,D375772f_im,D375772f_xian,D481413f"
   ]
  },
  {
   "cell_type": "code",
   "execution_count": 31,
   "metadata": {},
   "outputs": [
    {
     "name": "stderr",
     "output_type": "stream",
     "text": [
      "/home/liyan/.conda/envs/qiime2-2020.2/lib/python3.6/site-packages/sklearn/model_selection/_split.py:296: FutureWarning: Setting a random_state has no effect since shuffle is False. This will raise an error in 0.24. You should leave random_state to its default (None), or set shuffle=True.\n",
      "  FutureWarning\n"
     ]
    },
    {
     "data": {
      "text/plain": [
       "(<matplotlib.axes._subplots.AxesSubplot at 0x7f738e014d30>, 0.8196166311509117)"
      ]
     },
     "execution_count": 31,
     "metadata": {},
     "output_type": "execute_result"
    },
    {
     "data": {
      "image/png": "[encoded data removed]",
      "text/plain": [
       "<Figure size 432x288 with 1 Axes>"
      ]
     },
     "metadata": {
      "needs_background": "light"
     },
     "output_type": "display_data"
    }
   ],
   "source": [
    "res,d=classification(exp_ggf,field='Diagnosis',col='all')\n",
    "plot_roc(res)"
   ]
  },
  {
   "cell_type": "code",
   "execution_count": 32,
   "metadata": {},
   "outputs": [],
   "source": [
    "datasets=['PRJEB26931',\n",
    "    \"PRJNA375772_Xi_an\",'PRJNA375772_Inner_Mongolia','PRJNA481413']\n",
    "expDS=[D26931f,D375772f_xian,D375772f_im,D481413f]"
   ]
  },
  {
   "cell_type": "code",
   "execution_count": 33,
   "metadata": {},
   "outputs": [
    {
     "data": {
      "text/plain": [
       "[AmpliconExperiment with 125 samples, 44 features,\n",
       " AmpliconExperiment with 94 samples, 44 features,\n",
       " AmpliconExperiment with 92 samples, 44 features,\n",
       " AmpliconExperiment with 230 samples, 44 features]"
      ]
     },
     "execution_count": 33,
     "metadata": {},
     "output_type": "execute_result"
    }
   ],
   "source": [
    "expDS"
   ]
  },
  {
   "cell_type": "code",
   "execution_count": 34,
   "metadata": {
    "collapsed": true,
    "jupyter": {
     "outputs_hidden": true
    },
    "tags": []
   },
   "outputs": [
    {
     "name": "stderr",
     "output_type": "stream",
     "text": [
      "/home/liyan/.conda/envs/qiime2-2020.2/lib/python3.6/site-packages/sklearn/model_selection/_split.py:296: FutureWarning: Setting a random_state has no effect since shuffle is False. This will raise an error in 0.24. You should leave random_state to its default (None), or set shuffle=True.\n",
      "  FutureWarning\n",
      "/home/liyan/.conda/envs/qiime2-2020.2/lib/python3.6/site-packages/sklearn/model_selection/_split.py:296: FutureWarning: Setting a random_state has no effect since shuffle is False. This will raise an error in 0.24. You should leave random_state to its default (None), or set shuffle=True.\n",
      "  FutureWarning\n",
      "/home/liyan/.conda/envs/qiime2-2020.2/lib/python3.6/site-packages/sklearn/model_selection/_split.py:296: FutureWarning: Setting a random_state has no effect since shuffle is False. This will raise an error in 0.24. You should leave random_state to its default (None), or set shuffle=True.\n",
      "  FutureWarning\n",
      "/home/liyan/.conda/envs/qiime2-2020.2/lib/python3.6/site-packages/sklearn/model_selection/_split.py:296: FutureWarning: Setting a random_state has no effect since shuffle is False. This will raise an error in 0.24. You should leave random_state to its default (None), or set shuffle=True.\n",
      "  FutureWarning\n",
      "/home/liyan/.conda/envs/qiime2-2020.2/lib/python3.6/site-packages/sklearn/model_selection/_split.py:296: FutureWarning: Setting a random_state has no effect since shuffle is False. This will raise an error in 0.24. You should leave random_state to its default (None), or set shuffle=True.\n",
      "  FutureWarning\n",
      "/home/liyan/.conda/envs/qiime2-2020.2/lib/python3.6/site-packages/sklearn/model_selection/_split.py:296: FutureWarning: Setting a random_state has no effect since shuffle is False. This will raise an error in 0.24. You should leave random_state to its default (None), or set shuffle=True.\n",
      "  FutureWarning\n",
      "/home/liyan/.conda/envs/qiime2-2020.2/lib/python3.6/site-packages/sklearn/model_selection/_split.py:296: FutureWarning: Setting a random_state has no effect since shuffle is False. This will raise an error in 0.24. You should leave random_state to its default (None), or set shuffle=True.\n",
      "  FutureWarning\n",
      "/home/liyan/.conda/envs/qiime2-2020.2/lib/python3.6/site-packages/sklearn/model_selection/_split.py:296: FutureWarning: Setting a random_state has no effect since shuffle is False. This will raise an error in 0.24. You should leave random_state to its default (None), or set shuffle=True.\n",
      "  FutureWarning\n",
      "/home/liyan/.conda/envs/qiime2-2020.2/lib/python3.6/site-packages/sklearn/model_selection/_split.py:296: FutureWarning: Setting a random_state has no effect since shuffle is False. This will raise an error in 0.24. You should leave random_state to its default (None), or set shuffle=True.\n",
      "  FutureWarning\n",
      "/home/liyan/.conda/envs/qiime2-2020.2/lib/python3.6/site-packages/sklearn/model_selection/_split.py:296: FutureWarning: Setting a random_state has no effect since shuffle is False. This will raise an error in 0.24. You should leave random_state to its default (None), or set shuffle=True.\n",
      "  FutureWarning\n",
      "/home/liyan/.conda/envs/qiime2-2020.2/lib/python3.6/site-packages/sklearn/model_selection/_split.py:296: FutureWarning: Setting a random_state has no effect since shuffle is False. This will raise an error in 0.24. You should leave random_state to its default (None), or set shuffle=True.\n",
      "  FutureWarning\n",
      "/home/liyan/.conda/envs/qiime2-2020.2/lib/python3.6/site-packages/sklearn/model_selection/_split.py:296: FutureWarning: Setting a random_state has no effect since shuffle is False. This will raise an error in 0.24. You should leave random_state to its default (None), or set shuffle=True.\n",
      "  FutureWarning\n"
     ]
    }
   ],
   "source": [
    "\n",
    "auc_df=pd.DataFrame(columns=datasets+['Average'],index=datasets+['Average'])\n",
    "with PdfPages('figures/onestudy_predict_another_ROC_cruve_withhp.pdf') as pdf:\n",
    "    for ds1,ds2 in permutations(expDS,2):\n",
    "        ds1_name=ds1.sample_metadata['Study'][0]\n",
    "        ds2_name= ds2.sample_metadata['Study'][0]\n",
    "        res1,res2,_=OTO_RFC(ds1,ds2)\n",
    "        auc_df.loc[ds1_name,ds1_name]=ca_roc(res1,cv=True)\n",
    "        auc_df.loc[ds1_name,ds2_name]=ca_roc(res2,cv=False)\n",
    "        #plot_roc(res1,title=ds1_name,classes=['gastric cancer'])\n",
    "        plot_roc(res2,title=ds1_name+' predict '+ds2_name,classes=['gastric cancer'])\n",
    "        pdf.savefig()\n",
    "        plt.close()"
   ]
  },
  {
   "cell_type": "code",
   "execution_count": 35,
   "metadata": {},
   "outputs": [
    {
     "data": {
      "text/html": [
       "<div>\n",
       "<style scoped>\n",
       "    .dataframe tbody tr th:only-of-type {\n",
       "        vertical-align: middle;\n",
       "    }\n",
       "\n",
       "    .dataframe tbody tr th {\n",
       "        vertical-align: top;\n",
       "    }\n",
       "\n",
       "    .dataframe thead th {\n",
       "        text-align: right;\n",
       "    }\n",
       "</style>\n",
       "<table border=\"1\" class=\"dataframe\">\n",
       "  <thead>\n",
       "    <tr style=\"text-align: right;\">\n",
       "      <th></th>\n",
       "      <th>PRJEB26931</th>\n",
       "      <th>PRJNA375772_Xi_an</th>\n",
       "      <th>PRJNA375772_Inner_Mongolia</th>\n",
       "      <th>PRJNA481413</th>\n",
       "      <th>Average</th>\n",
       "    </tr>\n",
       "  </thead>\n",
       "  <tbody>\n",
       "    <tr>\n",
       "      <th>PRJEB26931</th>\n",
       "      <td>0.994949</td>\n",
       "      <td>0.644444</td>\n",
       "      <td>0.723214</td>\n",
       "      <td>0.708658</td>\n",
       "      <td>0.767817</td>\n",
       "    </tr>\n",
       "    <tr>\n",
       "      <th>PRJNA375772_Xi_an</th>\n",
       "      <td>0.639518</td>\n",
       "      <td>0.826961</td>\n",
       "      <td>0.703125</td>\n",
       "      <td>0.68155</td>\n",
       "      <td>0.712788</td>\n",
       "    </tr>\n",
       "    <tr>\n",
       "      <th>PRJNA375772_Inner_Mongolia</th>\n",
       "      <td>0.75842</td>\n",
       "      <td>0.763889</td>\n",
       "      <td>0.747505</td>\n",
       "      <td>0.680038</td>\n",
       "      <td>0.737463</td>\n",
       "    </tr>\n",
       "    <tr>\n",
       "      <th>PRJNA481413</th>\n",
       "      <td>0.733304</td>\n",
       "      <td>0.743519</td>\n",
       "      <td>0.741319</td>\n",
       "      <td>0.802442</td>\n",
       "      <td>0.755146</td>\n",
       "    </tr>\n",
       "    <tr>\n",
       "      <th>Average</th>\n",
       "      <td>0.781548</td>\n",
       "      <td>0.744703</td>\n",
       "      <td>0.728791</td>\n",
       "      <td>0.718172</td>\n",
       "      <td>0.842964</td>\n",
       "    </tr>\n",
       "  </tbody>\n",
       "</table>\n",
       "</div>"
      ],
      "text/plain": [
       "                           PRJEB26931 PRJNA375772_Xi_an  \\\n",
       "PRJEB26931                   0.994949          0.644444   \n",
       "PRJNA375772_Xi_an            0.639518          0.826961   \n",
       "PRJNA375772_Inner_Mongolia    0.75842          0.763889   \n",
       "PRJNA481413                  0.733304          0.743519   \n",
       "Average                      0.781548          0.744703   \n",
       "\n",
       "                           PRJNA375772_Inner_Mongolia PRJNA481413   Average  \n",
       "PRJEB26931                                   0.723214    0.708658  0.767817  \n",
       "PRJNA375772_Xi_an                            0.703125     0.68155  0.712788  \n",
       "PRJNA375772_Inner_Mongolia                   0.747505    0.680038  0.737463  \n",
       "PRJNA481413                                  0.741319    0.802442  0.755146  \n",
       "Average                                      0.728791    0.718172  0.842964  "
      ]
     },
     "execution_count": 35,
     "metadata": {},
     "output_type": "execute_result"
    }
   ],
   "source": [
    "auc_df['Average']=auc_df.mean(axis=1)\n",
    "auc_df.loc['Average']=auc_df.mean()\n",
    "auc_df.loc['Average','Average']=np.diagonal(auc_df)[:-1].mean()\n",
    "auc_df"
   ]
  },
  {
   "cell_type": "code",
   "execution_count": 36,
   "metadata": {},
   "outputs": [
    {
     "name": "stderr",
     "output_type": "stream",
     "text": [
      "/home/liyan/.conda/envs/qiime2-2020.2/lib/python3.6/site-packages/sklearn/model_selection/_split.py:296: FutureWarning: Setting a random_state has no effect since shuffle is False. This will raise an error in 0.24. You should leave random_state to its default (None), or set shuffle=True.\n",
      "  FutureWarning\n",
      "/home/liyan/.conda/envs/qiime2-2020.2/lib/python3.6/site-packages/sklearn/model_selection/_split.py:296: FutureWarning: Setting a random_state has no effect since shuffle is False. This will raise an error in 0.24. You should leave random_state to its default (None), or set shuffle=True.\n",
      "  FutureWarning\n",
      "/home/liyan/.conda/envs/qiime2-2020.2/lib/python3.6/site-packages/sklearn/model_selection/_split.py:296: FutureWarning: Setting a random_state has no effect since shuffle is False. This will raise an error in 0.24. You should leave random_state to its default (None), or set shuffle=True.\n",
      "  FutureWarning\n",
      "/home/liyan/.conda/envs/qiime2-2020.2/lib/python3.6/site-packages/sklearn/model_selection/_split.py:296: FutureWarning: Setting a random_state has no effect since shuffle is False. This will raise an error in 0.24. You should leave random_state to its default (None), or set shuffle=True.\n",
      "  FutureWarning\n"
     ]
    },
    {
     "data": {
      "image/png": "[encoded data removed]",
      "text/plain": [
       "<Figure size 216x216 with 1 Axes>"
      ]
     },
     "metadata": {
      "needs_background": "light"
     },
     "output_type": "display_data"
    },
    {
     "data": {
      "image/png": "[encoded data removed]",
      "text/plain": [
       "<Figure size 216x216 with 1 Axes>"
      ]
     },
     "metadata": {
      "needs_background": "light"
     },
     "output_type": "display_data"
    },
    {
     "data": {
      "image/png": "[encoded data removed]",
      "text/plain": [
       "<Figure size 216x216 with 1 Axes>"
      ]
     },
     "metadata": {
      "needs_background": "light"
     },
     "output_type": "display_data"
    },
    {
     "data": {
      "image/png": "[encoded data removed]",
      "text/plain": [
       "<Figure size 216x216 with 1 Axes>"
      ]
     },
     "metadata": {
      "needs_background": "light"
     },
     "output_type": "display_data"
    }
   ],
   "source": [
    "# diff feature leave one study out classification\n",
    "roc_l=[]\n",
    "with PdfPages('figures/leave_onestudy_ROC_cruve_withhp-diff-feature.pdf') as pdf:\n",
    "    for ds,expds in zip(datasets,expDS):\n",
    "        expe=exp_ggf.filter_samples('Study',ds,negate=True)\n",
    "\n",
    "        res1,res2,_=OTO_RFC(expe,expds)  \n",
    "        #plot_roc(res1,title=ds,classes=['gastric cancer'])\n",
    "        roc_value=ca_roc(res2,cv=False)\n",
    "        roc_l.append(roc_value)\n",
    "        \n",
    "        \n",
    "        fig, ax = plt.subplots(figsize=(3,3))\n",
    "        for dataset,c in zip([res1,res2],cmap.colors[:2]):\n",
    "\n",
    "            plot_roc_curve2(dataset,\n",
    "                        title=ds,col=c,\n",
    "                        classes=['gastric cancer'],ax=ax)\n",
    "\n",
    "        plt.tight_layout()    \n",
    "        pdf.savefig()"
   ]
  },
  {
   "cell_type": "code",
   "execution_count": 37,
   "metadata": {},
   "outputs": [
    {
     "data": {
      "text/html": [
       "<div>\n",
       "<style scoped>\n",
       "    .dataframe tbody tr th:only-of-type {\n",
       "        vertical-align: middle;\n",
       "    }\n",
       "\n",
       "    .dataframe tbody tr th {\n",
       "        vertical-align: top;\n",
       "    }\n",
       "\n",
       "    .dataframe thead th {\n",
       "        text-align: right;\n",
       "    }\n",
       "</style>\n",
       "<table border=\"1\" class=\"dataframe\">\n",
       "  <thead>\n",
       "    <tr style=\"text-align: right;\">\n",
       "      <th></th>\n",
       "      <th>PRJEB26931</th>\n",
       "      <th>PRJNA375772_Xi_an</th>\n",
       "      <th>PRJNA375772_Inner_Mongolia</th>\n",
       "      <th>PRJNA481413</th>\n",
       "      <th>Average</th>\n",
       "      <th>type</th>\n",
       "    </tr>\n",
       "  </thead>\n",
       "  <tbody>\n",
       "    <tr>\n",
       "      <th>Leave one cohort out</th>\n",
       "      <td>0.87108</td>\n",
       "      <td>0.70463</td>\n",
       "      <td>0.739583</td>\n",
       "      <td>0.774367</td>\n",
       "      <td>0.772415</td>\n",
       "      <td>LOO</td>\n",
       "    </tr>\n",
       "  </tbody>\n",
       "</table>\n",
       "</div>"
      ],
      "text/plain": [
       "                      PRJEB26931  PRJNA375772_Xi_an  \\\n",
       "Leave one cohort out     0.87108            0.70463   \n",
       "\n",
       "                      PRJNA375772_Inner_Mongolia  PRJNA481413   Average type  \n",
       "Leave one cohort out                    0.739583     0.774367  0.772415  LOO  "
      ]
     },
     "execution_count": 37,
     "metadata": {},
     "output_type": "execute_result"
    }
   ],
   "source": [
    "roc_df2=pd.DataFrame(index=datasets,data=roc_l)\n",
    "roc_df2=roc_df2.T\n",
    "roc_df2['Average']=roc_df2.mean(axis=1)\n",
    "\n",
    "roc_df2['type']='LOO'\n",
    "roc_df2.index=['Leave one cohort out']\n",
    "roc_df2"
   ]
  },
  {
   "cell_type": "code",
   "execution_count": 38,
   "metadata": {},
   "outputs": [
    {
     "name": "stderr",
     "output_type": "stream",
     "text": [
      "/home/liyan/.conda/envs/qiime2-2020.2/lib/python3.6/site-packages/ipykernel_launcher.py:1: FutureWarning: Sorting because non-concatenation axis is not aligned. A future version\n",
      "of pandas will change to not sort by default.\n",
      "\n",
      "To accept the future behavior, pass 'sort=False'.\n",
      "\n",
      "To retain the current behavior and silence the warning, pass 'sort=True'.\n",
      "\n",
      "  \"\"\"Entry point for launching an IPython kernel.\n"
     ]
    },
    {
     "data": {
      "image/png": "[encoded data removed]",
      "text/plain": [
       "<Figure size 504x504 with 2 Axes>"
      ]
     },
     "metadata": {
      "needs_background": "light"
     },
     "output_type": "display_data"
    }
   ],
   "source": [
    "datap=pd.concat([auc_df,roc_df2])\n",
    "fig,ax=plt.subplots(figsize=(7,7),sharex=True)\n",
    "\n",
    "data=datap[datasets+['Average']]\n",
    "data=pd.DataFrame(columns=data.columns,index=data.index,data=data.values.astype(float)).round(2)\n",
    "\n",
    "sns.heatmap(data, vmin=0.6,annot=True, fmt='',cmap='YlGnBu_r',center=0.7,cbar=True,square=True,\n",
    "            cbar_kws={\"shrink\": 0.4 },\n",
    "               annot_kws={'size':14},ax=ax)\n",
    "\n",
    "\n",
    "ax.xaxis.tick_top() \n",
    "ax.xaxis.set_label_position('top')\n",
    "plt.setp(ax.get_xticklabels(), rotation=25, ha='left',size=12)\n",
    "plt.setp(ax.get_yticklabels(),size=12)\n",
    "plt.tight_layout()"
   ]
  },
  {
   "cell_type": "code",
   "execution_count": null,
   "metadata": {},
   "outputs": [],
   "source": []
  }
 ],
 "metadata": {
  "kernelspec": {
   "display_name": "qiime2-2020.2",
   "language": "python",
   "name": "qiime2-2020.2"
  },
  "language_info": {
   "codemirror_mode": {
    "name": "ipython",
    "version": 3
   },
   "file_extension": ".py",
   "mimetype": "text/x-python",
   "name": "python",
   "nbconvert_exporter": "python",
   "pygments_lexer": "ipython3",
   "version": "3.6.7"
  },
  "toc": {
   "base_numbering": 1,
   "nav_menu": {},
   "number_sections": true,
   "sideBar": true,
   "skip_h1_title": false,
   "title_cell": "Table of Contents",
   "title_sidebar": "Contents",
   "toc_cell": false,
   "toc_position": {
    "height": "calc(100% - 180px)",
    "left": "10px",
    "top": "150px",
    "width": "224.711px"
   },
   "toc_section_display": true,
   "toc_window_display": true
  },
  "toc-autonumbering": true
 },
 "nbformat": 4,
 "nbformat_minor": 4
}
