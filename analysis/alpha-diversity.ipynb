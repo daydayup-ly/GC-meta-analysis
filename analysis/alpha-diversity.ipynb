{
 "cells": [
  {
   "cell_type": "code",
   "execution_count": 2,
   "id": "d0ad58e4-ad56-41ad-b1a5-40875011c7ee",
   "metadata": {},
   "outputs": [],
   "source": [
    "library(ggplot2)\n",
    "library(tidyverse)\n",
    "library(readxl)\n",
    "library(MicrobeR)\n",
    "library(vegan)"
   ]
  },
  {
   "cell_type": "code",
   "execution_count": 3,
   "id": "c27db052-5cc0-406d-8a7f-a3407b08493a",
   "metadata": {},
   "outputs": [
    {
     "data": {
      "text/html": [
       "<table>\n",
       "<caption>A data.frame: 6 × 58</caption>\n",
       "<thead>\n",
       "\t<tr><th></th><th scope=col>SampleID</th><th scope=col>Age</th><th scope=col>BMI</th><th scope=col>BioProject</th><th scope=col>CagA</th><th scope=col>Center_Name</th><th scope=col>Collection_Date</th><th scope=col>Condition</th><th scope=col>Country</th><th scope=col>Diagnosis</th><th scope=col>⋯</th><th scope=col>hp_relative_abundance</th><th scope=col>observed_otus</th><th scope=col>paried.sample</th><th scope=col>pielou_e</th><th scope=col>primer</th><th scope=col>sampleloc</th><th scope=col>sampling_method</th><th scope=col>shannon</th><th scope=col>smoker</th><th scope=col>Diag_order</th></tr>\n",
       "\t<tr><th></th><th scope=col>&lt;chr&gt;</th><th scope=col>&lt;dbl&gt;</th><th scope=col>&lt;chr&gt;</th><th scope=col>&lt;chr&gt;</th><th scope=col>&lt;chr&gt;</th><th scope=col>&lt;chr&gt;</th><th scope=col>&lt;chr&gt;</th><th scope=col>&lt;chr&gt;</th><th scope=col>&lt;chr&gt;</th><th scope=col>&lt;chr&gt;</th><th scope=col>⋯</th><th scope=col>&lt;dbl&gt;</th><th scope=col>&lt;int&gt;</th><th scope=col>&lt;chr&gt;</th><th scope=col>&lt;dbl&gt;</th><th scope=col>&lt;chr&gt;</th><th scope=col>&lt;chr&gt;</th><th scope=col>&lt;chr&gt;</th><th scope=col>&lt;dbl&gt;</th><th scope=col>&lt;chr&gt;</th><th scope=col>&lt;chr&gt;</th></tr>\n",
       "</thead>\n",
       "<tbody>\n",
       "\t<tr><th scope=row>ERR1995049</th><td>ERR1995049</td><td>NA</td><td></td><td>PRJEB21104</td><td></td><td>CGR</td><td></td><td>gastric cancer    </td><td>United Kingdom</td><td>gastric cancer</td><td>⋯</td><td>78.20510135</td><td>118</td><td></td><td>0.45590514</td><td>27F _388R</td><td></td><td>gastric mucosa biopsy</td><td>3.1378323</td><td></td><td>D</td></tr>\n",
       "\t<tr><th scope=row>ERR1995038</th><td>ERR1995038</td><td>NA</td><td></td><td>PRJEB21104</td><td></td><td>CGR</td><td></td><td>gastric cancer    </td><td>United Kingdom</td><td>gastric cancer</td><td>⋯</td><td>11.57239357</td><td> 91</td><td></td><td>0.62164375</td><td>27F _388R</td><td></td><td>gastric mucosa biopsy</td><td>4.0455299</td><td></td><td>D</td></tr>\n",
       "\t<tr><th scope=row>ERR1995100</th><td>ERR1995100</td><td>NA</td><td></td><td>PRJEB21104</td><td></td><td>CGR</td><td></td><td>healthy           </td><td>United Kingdom</td><td>healthy       </td><td>⋯</td><td> 0.07878151</td><td>217</td><td></td><td>0.84573990</td><td>27F _388R</td><td></td><td>gastric mucosa biopsy</td><td>6.5642536</td><td></td><td>A</td></tr>\n",
       "\t<tr><th scope=row>ERR1995099</th><td>ERR1995099</td><td>NA</td><td></td><td>PRJEB21104</td><td></td><td>CGR</td><td></td><td>healthy           </td><td>United Kingdom</td><td>healthy       </td><td>⋯</td><td> 0.15202189</td><td>181</td><td></td><td>0.85661812</td><td>27F _388R</td><td></td><td>gastric mucosa biopsy</td><td>6.4245039</td><td></td><td>A</td></tr>\n",
       "\t<tr><th scope=row>ERR1995073</th><td>ERR1995073</td><td>NA</td><td></td><td>PRJEB21104</td><td></td><td>CGR</td><td></td><td>healthy           </td><td>United Kingdom</td><td>healthy       </td><td>⋯</td><td> 0.00000000</td><td>199</td><td></td><td>0.78710595</td><td>27F _388R</td><td></td><td>gastric mucosa biopsy</td><td>6.0108327</td><td></td><td>A</td></tr>\n",
       "\t<tr><th scope=row>ERR1994996</th><td>ERR1994996</td><td>NA</td><td></td><td>PRJEB21104</td><td></td><td>CGR</td><td></td><td>H.pylori gastritis</td><td>United Kingdom</td><td>gastritis     </td><td>⋯</td><td>99.82093294</td><td>  5</td><td></td><td>0.01547059</td><td>27F _388R</td><td></td><td>gastric mucosa biopsy</td><td>0.0359216</td><td></td><td>B</td></tr>\n",
       "</tbody>\n",
       "</table>\n"
      ],
      "text/latex": [
       "A data.frame: 6 × 58\n",
       "\\begin{tabular}{r|lllllllllllllllllllll}\n",
       "  & SampleID & Age & BMI & BioProject & CagA & Center\\_Name & Collection\\_Date & Condition & Country & Diagnosis & ⋯ & hp\\_relative\\_abundance & observed\\_otus & paried.sample & pielou\\_e & primer & sampleloc & sampling\\_method & shannon & smoker & Diag\\_order\\\\\n",
       "  & <chr> & <dbl> & <chr> & <chr> & <chr> & <chr> & <chr> & <chr> & <chr> & <chr> & ⋯ & <dbl> & <int> & <chr> & <dbl> & <chr> & <chr> & <chr> & <dbl> & <chr> & <chr>\\\\\n",
       "\\hline\n",
       "\tERR1995049 & ERR1995049 & NA &  & PRJEB21104 &  & CGR &  & gastric cancer     & United Kingdom & gastric cancer & ⋯ & 78.20510135 & 118 &  & 0.45590514 & 27F \\_388R &  & gastric mucosa biopsy & 3.1378323 &  & D\\\\\n",
       "\tERR1995038 & ERR1995038 & NA &  & PRJEB21104 &  & CGR &  & gastric cancer     & United Kingdom & gastric cancer & ⋯ & 11.57239357 &  91 &  & 0.62164375 & 27F \\_388R &  & gastric mucosa biopsy & 4.0455299 &  & D\\\\\n",
       "\tERR1995100 & ERR1995100 & NA &  & PRJEB21104 &  & CGR &  & healthy            & United Kingdom & healthy        & ⋯ &  0.07878151 & 217 &  & 0.84573990 & 27F \\_388R &  & gastric mucosa biopsy & 6.5642536 &  & A\\\\\n",
       "\tERR1995099 & ERR1995099 & NA &  & PRJEB21104 &  & CGR &  & healthy            & United Kingdom & healthy        & ⋯ &  0.15202189 & 181 &  & 0.85661812 & 27F \\_388R &  & gastric mucosa biopsy & 6.4245039 &  & A\\\\\n",
       "\tERR1995073 & ERR1995073 & NA &  & PRJEB21104 &  & CGR &  & healthy            & United Kingdom & healthy        & ⋯ &  0.00000000 & 199 &  & 0.78710595 & 27F \\_388R &  & gastric mucosa biopsy & 6.0108327 &  & A\\\\\n",
       "\tERR1994996 & ERR1994996 & NA &  & PRJEB21104 &  & CGR &  & H.pylori gastritis & United Kingdom & gastritis      & ⋯ & 99.82093294 &   5 &  & 0.01547059 & 27F \\_388R &  & gastric mucosa biopsy & 0.0359216 &  & B\\\\\n",
       "\\end{tabular}\n"
      ],
      "text/markdown": [
       "\n",
       "A data.frame: 6 × 58\n",
       "\n",
       "| <!--/--> | SampleID &lt;chr&gt; | Age &lt;dbl&gt; | BMI &lt;chr&gt; | BioProject &lt;chr&gt; | CagA &lt;chr&gt; | Center_Name &lt;chr&gt; | Collection_Date &lt;chr&gt; | Condition &lt;chr&gt; | Country &lt;chr&gt; | Diagnosis &lt;chr&gt; | ⋯ ⋯ | hp_relative_abundance &lt;dbl&gt; | observed_otus &lt;int&gt; | paried.sample &lt;chr&gt; | pielou_e &lt;dbl&gt; | primer &lt;chr&gt; | sampleloc &lt;chr&gt; | sampling_method &lt;chr&gt; | shannon &lt;dbl&gt; | smoker &lt;chr&gt; | Diag_order &lt;chr&gt; |\n",
       "|---|---|---|---|---|---|---|---|---|---|---|---|---|---|---|---|---|---|---|---|---|---|\n",
       "| ERR1995049 | ERR1995049 | NA | <!----> | PRJEB21104 | <!----> | CGR | <!----> | gastric cancer     | United Kingdom | gastric cancer | ⋯ | 78.20510135 | 118 | <!----> | 0.45590514 | 27F _388R | <!----> | gastric mucosa biopsy | 3.1378323 | <!----> | D |\n",
       "| ERR1995038 | ERR1995038 | NA | <!----> | PRJEB21104 | <!----> | CGR | <!----> | gastric cancer     | United Kingdom | gastric cancer | ⋯ | 11.57239357 |  91 | <!----> | 0.62164375 | 27F _388R | <!----> | gastric mucosa biopsy | 4.0455299 | <!----> | D |\n",
       "| ERR1995100 | ERR1995100 | NA | <!----> | PRJEB21104 | <!----> | CGR | <!----> | healthy            | United Kingdom | healthy        | ⋯ |  0.07878151 | 217 | <!----> | 0.84573990 | 27F _388R | <!----> | gastric mucosa biopsy | 6.5642536 | <!----> | A |\n",
       "| ERR1995099 | ERR1995099 | NA | <!----> | PRJEB21104 | <!----> | CGR | <!----> | healthy            | United Kingdom | healthy        | ⋯ |  0.15202189 | 181 | <!----> | 0.85661812 | 27F _388R | <!----> | gastric mucosa biopsy | 6.4245039 | <!----> | A |\n",
       "| ERR1995073 | ERR1995073 | NA | <!----> | PRJEB21104 | <!----> | CGR | <!----> | healthy            | United Kingdom | healthy        | ⋯ |  0.00000000 | 199 | <!----> | 0.78710595 | 27F _388R | <!----> | gastric mucosa biopsy | 6.0108327 | <!----> | A |\n",
       "| ERR1994996 | ERR1994996 | NA | <!----> | PRJEB21104 | <!----> | CGR | <!----> | H.pylori gastritis | United Kingdom | gastritis      | ⋯ | 99.82093294 |   5 | <!----> | 0.01547059 | 27F _388R | <!----> | gastric mucosa biopsy | 0.0359216 | <!----> | B |\n",
       "\n"
      ],
      "text/plain": [
       "           SampleID   Age BMI BioProject CagA Center_Name Collection_Date\n",
       "ERR1995049 ERR1995049 NA      PRJEB21104      CGR                        \n",
       "ERR1995038 ERR1995038 NA      PRJEB21104      CGR                        \n",
       "ERR1995100 ERR1995100 NA      PRJEB21104      CGR                        \n",
       "ERR1995099 ERR1995099 NA      PRJEB21104      CGR                        \n",
       "ERR1995073 ERR1995073 NA      PRJEB21104      CGR                        \n",
       "ERR1994996 ERR1994996 NA      PRJEB21104      CGR                        \n",
       "           Condition          Country        Diagnosis      ⋯\n",
       "ERR1995049 gastric cancer     United Kingdom gastric cancer ⋯\n",
       "ERR1995038 gastric cancer     United Kingdom gastric cancer ⋯\n",
       "ERR1995100 healthy            United Kingdom healthy        ⋯\n",
       "ERR1995099 healthy            United Kingdom healthy        ⋯\n",
       "ERR1995073 healthy            United Kingdom healthy        ⋯\n",
       "ERR1994996 H.pylori gastritis United Kingdom gastritis      ⋯\n",
       "           hp_relative_abundance observed_otus paried.sample pielou_e  \n",
       "ERR1995049 78.20510135           118                         0.45590514\n",
       "ERR1995038 11.57239357            91                         0.62164375\n",
       "ERR1995100  0.07878151           217                         0.84573990\n",
       "ERR1995099  0.15202189           181                         0.85661812\n",
       "ERR1995073  0.00000000           199                         0.78710595\n",
       "ERR1994996 99.82093294             5                         0.01547059\n",
       "           primer    sampleloc sampling_method       shannon   smoker\n",
       "ERR1995049 27F _388R           gastric mucosa biopsy 3.1378323       \n",
       "ERR1995038 27F _388R           gastric mucosa biopsy 4.0455299       \n",
       "ERR1995100 27F _388R           gastric mucosa biopsy 6.5642536       \n",
       "ERR1995099 27F _388R           gastric mucosa biopsy 6.4245039       \n",
       "ERR1995073 27F _388R           gastric mucosa biopsy 6.0108327       \n",
       "ERR1994996 27F _388R           gastric mucosa biopsy 0.0359216       \n",
       "           Diag_order\n",
       "ERR1995049 D         \n",
       "ERR1995038 D         \n",
       "ERR1995100 A         \n",
       "ERR1995099 A         \n",
       "ERR1995073 A         \n",
       "ERR1994996 B         "
      ]
     },
     "metadata": {},
     "output_type": "display_data"
    }
   ],
   "source": [
    "md<-read.csv('data-for-div-foldchange-withhp.csv',row.names=1) %>% rownames_to_column(\"SampleID\") \n",
    "row.names(md)<-md$SampleID\n",
    "head(md)"
   ]
  },
  {
   "cell_type": "code",
   "execution_count": 4,
   "id": "301d6875-40d2-4053-b300-137b99df2510",
   "metadata": {},
   "outputs": [
    {
     "data": {
      "text/plain": [
       "\n",
       "       gastric cancer             gastritis               healthy \n",
       "                 1301                   489                    97 \n",
       "intestinal metaplasia \n",
       "                  208 "
      ]
     },
     "metadata": {},
     "output_type": "display_data"
    }
   ],
   "source": [
    "table(md$Diagnosis)"
   ]
  },
  {
   "cell_type": "code",
   "execution_count": 5,
   "id": "b045854a-ce38-492b-908a-d02aa342e8d4",
   "metadata": {},
   "outputs": [
    {
     "data": {
      "text/html": [
       "<table>\n",
       "<caption>A data.frame: 6 × 58</caption>\n",
       "<thead>\n",
       "\t<tr><th></th><th scope=col>SampleID</th><th scope=col>Age</th><th scope=col>BMI</th><th scope=col>BioProject</th><th scope=col>CagA</th><th scope=col>Center_Name</th><th scope=col>Collection_Date</th><th scope=col>Condition</th><th scope=col>Country</th><th scope=col>Diagnosis</th><th scope=col>⋯</th><th scope=col>hp_relative_abundance</th><th scope=col>observed_otus</th><th scope=col>paried.sample</th><th scope=col>pielou_e</th><th scope=col>primer</th><th scope=col>sampleloc</th><th scope=col>sampling_method</th><th scope=col>shannon</th><th scope=col>smoker</th><th scope=col>Diag_order</th></tr>\n",
       "\t<tr><th></th><th scope=col>&lt;chr&gt;</th><th scope=col>&lt;dbl&gt;</th><th scope=col>&lt;chr&gt;</th><th scope=col>&lt;chr&gt;</th><th scope=col>&lt;chr&gt;</th><th scope=col>&lt;chr&gt;</th><th scope=col>&lt;chr&gt;</th><th scope=col>&lt;chr&gt;</th><th scope=col>&lt;chr&gt;</th><th scope=col>&lt;chr&gt;</th><th scope=col>⋯</th><th scope=col>&lt;dbl&gt;</th><th scope=col>&lt;int&gt;</th><th scope=col>&lt;chr&gt;</th><th scope=col>&lt;dbl&gt;</th><th scope=col>&lt;chr&gt;</th><th scope=col>&lt;chr&gt;</th><th scope=col>&lt;chr&gt;</th><th scope=col>&lt;dbl&gt;</th><th scope=col>&lt;chr&gt;</th><th scope=col>&lt;chr&gt;</th></tr>\n",
       "</thead>\n",
       "<tbody>\n",
       "\t<tr><th scope=row>ERR1995049</th><td>ERR1995049</td><td>NA</td><td></td><td>PRJEB21104</td><td></td><td>CGR</td><td></td><td>gastric cancer    </td><td>United Kingdom</td><td>gastric cancer</td><td>⋯</td><td>78.20510135</td><td>118</td><td></td><td>0.45590514</td><td>27F _388R</td><td></td><td>gastric mucosa biopsy</td><td>3.1378323</td><td></td><td>D</td></tr>\n",
       "\t<tr><th scope=row>ERR1995038</th><td>ERR1995038</td><td>NA</td><td></td><td>PRJEB21104</td><td></td><td>CGR</td><td></td><td>gastric cancer    </td><td>United Kingdom</td><td>gastric cancer</td><td>⋯</td><td>11.57239357</td><td> 91</td><td></td><td>0.62164375</td><td>27F _388R</td><td></td><td>gastric mucosa biopsy</td><td>4.0455299</td><td></td><td>D</td></tr>\n",
       "\t<tr><th scope=row>ERR1995100</th><td>ERR1995100</td><td>NA</td><td></td><td>PRJEB21104</td><td></td><td>CGR</td><td></td><td>healthy           </td><td>United Kingdom</td><td>healthy       </td><td>⋯</td><td> 0.07878151</td><td>217</td><td></td><td>0.84573990</td><td>27F _388R</td><td></td><td>gastric mucosa biopsy</td><td>6.5642536</td><td></td><td>A</td></tr>\n",
       "\t<tr><th scope=row>ERR1995099</th><td>ERR1995099</td><td>NA</td><td></td><td>PRJEB21104</td><td></td><td>CGR</td><td></td><td>healthy           </td><td>United Kingdom</td><td>healthy       </td><td>⋯</td><td> 0.15202189</td><td>181</td><td></td><td>0.85661812</td><td>27F _388R</td><td></td><td>gastric mucosa biopsy</td><td>6.4245039</td><td></td><td>A</td></tr>\n",
       "\t<tr><th scope=row>ERR1995073</th><td>ERR1995073</td><td>NA</td><td></td><td>PRJEB21104</td><td></td><td>CGR</td><td></td><td>healthy           </td><td>United Kingdom</td><td>healthy       </td><td>⋯</td><td> 0.00000000</td><td>199</td><td></td><td>0.78710595</td><td>27F _388R</td><td></td><td>gastric mucosa biopsy</td><td>6.0108327</td><td></td><td>A</td></tr>\n",
       "\t<tr><th scope=row>ERR1994996</th><td>ERR1994996</td><td>NA</td><td></td><td>PRJEB21104</td><td></td><td>CGR</td><td></td><td>H.pylori gastritis</td><td>United Kingdom</td><td>gastritis     </td><td>⋯</td><td>99.82093294</td><td>  5</td><td></td><td>0.01547059</td><td>27F _388R</td><td></td><td>gastric mucosa biopsy</td><td>0.0359216</td><td></td><td>B</td></tr>\n",
       "</tbody>\n",
       "</table>\n"
      ],
      "text/latex": [
       "A data.frame: 6 × 58\n",
       "\\begin{tabular}{r|lllllllllllllllllllll}\n",
       "  & SampleID & Age & BMI & BioProject & CagA & Center\\_Name & Collection\\_Date & Condition & Country & Diagnosis & ⋯ & hp\\_relative\\_abundance & observed\\_otus & paried.sample & pielou\\_e & primer & sampleloc & sampling\\_method & shannon & smoker & Diag\\_order\\\\\n",
       "  & <chr> & <dbl> & <chr> & <chr> & <chr> & <chr> & <chr> & <chr> & <chr> & <chr> & ⋯ & <dbl> & <int> & <chr> & <dbl> & <chr> & <chr> & <chr> & <dbl> & <chr> & <chr>\\\\\n",
       "\\hline\n",
       "\tERR1995049 & ERR1995049 & NA &  & PRJEB21104 &  & CGR &  & gastric cancer     & United Kingdom & gastric cancer & ⋯ & 78.20510135 & 118 &  & 0.45590514 & 27F \\_388R &  & gastric mucosa biopsy & 3.1378323 &  & D\\\\\n",
       "\tERR1995038 & ERR1995038 & NA &  & PRJEB21104 &  & CGR &  & gastric cancer     & United Kingdom & gastric cancer & ⋯ & 11.57239357 &  91 &  & 0.62164375 & 27F \\_388R &  & gastric mucosa biopsy & 4.0455299 &  & D\\\\\n",
       "\tERR1995100 & ERR1995100 & NA &  & PRJEB21104 &  & CGR &  & healthy            & United Kingdom & healthy        & ⋯ &  0.07878151 & 217 &  & 0.84573990 & 27F \\_388R &  & gastric mucosa biopsy & 6.5642536 &  & A\\\\\n",
       "\tERR1995099 & ERR1995099 & NA &  & PRJEB21104 &  & CGR &  & healthy            & United Kingdom & healthy        & ⋯ &  0.15202189 & 181 &  & 0.85661812 & 27F \\_388R &  & gastric mucosa biopsy & 6.4245039 &  & A\\\\\n",
       "\tERR1995073 & ERR1995073 & NA &  & PRJEB21104 &  & CGR &  & healthy            & United Kingdom & healthy        & ⋯ &  0.00000000 & 199 &  & 0.78710595 & 27F \\_388R &  & gastric mucosa biopsy & 6.0108327 &  & A\\\\\n",
       "\tERR1994996 & ERR1994996 & NA &  & PRJEB21104 &  & CGR &  & H.pylori gastritis & United Kingdom & gastritis      & ⋯ & 99.82093294 &   5 &  & 0.01547059 & 27F \\_388R &  & gastric mucosa biopsy & 0.0359216 &  & B\\\\\n",
       "\\end{tabular}\n"
      ],
      "text/markdown": [
       "\n",
       "A data.frame: 6 × 58\n",
       "\n",
       "| <!--/--> | SampleID &lt;chr&gt; | Age &lt;dbl&gt; | BMI &lt;chr&gt; | BioProject &lt;chr&gt; | CagA &lt;chr&gt; | Center_Name &lt;chr&gt; | Collection_Date &lt;chr&gt; | Condition &lt;chr&gt; | Country &lt;chr&gt; | Diagnosis &lt;chr&gt; | ⋯ ⋯ | hp_relative_abundance &lt;dbl&gt; | observed_otus &lt;int&gt; | paried.sample &lt;chr&gt; | pielou_e &lt;dbl&gt; | primer &lt;chr&gt; | sampleloc &lt;chr&gt; | sampling_method &lt;chr&gt; | shannon &lt;dbl&gt; | smoker &lt;chr&gt; | Diag_order &lt;chr&gt; |\n",
       "|---|---|---|---|---|---|---|---|---|---|---|---|---|---|---|---|---|---|---|---|---|---|\n",
       "| ERR1995049 | ERR1995049 | NA | <!----> | PRJEB21104 | <!----> | CGR | <!----> | gastric cancer     | United Kingdom | gastric cancer | ⋯ | 78.20510135 | 118 | <!----> | 0.45590514 | 27F _388R | <!----> | gastric mucosa biopsy | 3.1378323 | <!----> | D |\n",
       "| ERR1995038 | ERR1995038 | NA | <!----> | PRJEB21104 | <!----> | CGR | <!----> | gastric cancer     | United Kingdom | gastric cancer | ⋯ | 11.57239357 |  91 | <!----> | 0.62164375 | 27F _388R | <!----> | gastric mucosa biopsy | 4.0455299 | <!----> | D |\n",
       "| ERR1995100 | ERR1995100 | NA | <!----> | PRJEB21104 | <!----> | CGR | <!----> | healthy            | United Kingdom | healthy        | ⋯ |  0.07878151 | 217 | <!----> | 0.84573990 | 27F _388R | <!----> | gastric mucosa biopsy | 6.5642536 | <!----> | A |\n",
       "| ERR1995099 | ERR1995099 | NA | <!----> | PRJEB21104 | <!----> | CGR | <!----> | healthy            | United Kingdom | healthy        | ⋯ |  0.15202189 | 181 | <!----> | 0.85661812 | 27F _388R | <!----> | gastric mucosa biopsy | 6.4245039 | <!----> | A |\n",
       "| ERR1995073 | ERR1995073 | NA | <!----> | PRJEB21104 | <!----> | CGR | <!----> | healthy            | United Kingdom | healthy        | ⋯ |  0.00000000 | 199 | <!----> | 0.78710595 | 27F _388R | <!----> | gastric mucosa biopsy | 6.0108327 | <!----> | A |\n",
       "| ERR1994996 | ERR1994996 | NA | <!----> | PRJEB21104 | <!----> | CGR | <!----> | H.pylori gastritis | United Kingdom | gastritis      | ⋯ | 99.82093294 |   5 | <!----> | 0.01547059 | 27F _388R | <!----> | gastric mucosa biopsy | 0.0359216 | <!----> | B |\n",
       "\n"
      ],
      "text/plain": [
       "           SampleID   Age BMI BioProject CagA Center_Name Collection_Date\n",
       "ERR1995049 ERR1995049 NA      PRJEB21104      CGR                        \n",
       "ERR1995038 ERR1995038 NA      PRJEB21104      CGR                        \n",
       "ERR1995100 ERR1995100 NA      PRJEB21104      CGR                        \n",
       "ERR1995099 ERR1995099 NA      PRJEB21104      CGR                        \n",
       "ERR1995073 ERR1995073 NA      PRJEB21104      CGR                        \n",
       "ERR1994996 ERR1994996 NA      PRJEB21104      CGR                        \n",
       "           Condition          Country        Diagnosis      ⋯\n",
       "ERR1995049 gastric cancer     United Kingdom gastric cancer ⋯\n",
       "ERR1995038 gastric cancer     United Kingdom gastric cancer ⋯\n",
       "ERR1995100 healthy            United Kingdom healthy        ⋯\n",
       "ERR1995099 healthy            United Kingdom healthy        ⋯\n",
       "ERR1995073 healthy            United Kingdom healthy        ⋯\n",
       "ERR1994996 H.pylori gastritis United Kingdom gastritis      ⋯\n",
       "           hp_relative_abundance observed_otus paried.sample pielou_e  \n",
       "ERR1995049 78.20510135           118                         0.45590514\n",
       "ERR1995038 11.57239357            91                         0.62164375\n",
       "ERR1995100  0.07878151           217                         0.84573990\n",
       "ERR1995099  0.15202189           181                         0.85661812\n",
       "ERR1995073  0.00000000           199                         0.78710595\n",
       "ERR1994996 99.82093294             5                         0.01547059\n",
       "           primer    sampleloc sampling_method       shannon   smoker\n",
       "ERR1995049 27F _388R           gastric mucosa biopsy 3.1378323       \n",
       "ERR1995038 27F _388R           gastric mucosa biopsy 4.0455299       \n",
       "ERR1995100 27F _388R           gastric mucosa biopsy 6.5642536       \n",
       "ERR1995099 27F _388R           gastric mucosa biopsy 6.4245039       \n",
       "ERR1995073 27F _388R           gastric mucosa biopsy 6.0108327       \n",
       "ERR1994996 27F _388R           gastric mucosa biopsy 0.0359216       \n",
       "           Diag_order\n",
       "ERR1995049 D         \n",
       "ERR1995038 D         \n",
       "ERR1995100 A         \n",
       "ERR1995099 A         \n",
       "ERR1995073 A         \n",
       "ERR1994996 B         "
      ]
     },
     "metadata": {},
     "output_type": "display_data"
    }
   ],
   "source": [
    "md[which(md$Diagnosis=='intestinal metaplasia'),'Diagnosis'] <-'intestinal_metaplasia'\n",
    "head(md)"
   ]
  },
  {
   "cell_type": "code",
   "execution_count": 6,
   "id": "57a99109-b753-4e9b-b63d-8fb9234a3155",
   "metadata": {},
   "outputs": [
    {
     "data": {
      "text/html": [
       "<table>\n",
       "<caption>A data.frame: 6 × 58</caption>\n",
       "<thead>\n",
       "\t<tr><th></th><th scope=col>SampleID</th><th scope=col>Age</th><th scope=col>BMI</th><th scope=col>BioProject</th><th scope=col>CagA</th><th scope=col>Center_Name</th><th scope=col>Collection_Date</th><th scope=col>Condition</th><th scope=col>Country</th><th scope=col>Diagnosis</th><th scope=col>⋯</th><th scope=col>hp_relative_abundance</th><th scope=col>observed_otus</th><th scope=col>paried.sample</th><th scope=col>pielou_e</th><th scope=col>primer</th><th scope=col>sampleloc</th><th scope=col>sampling_method</th><th scope=col>shannon</th><th scope=col>smoker</th><th scope=col>Diag_order</th></tr>\n",
       "\t<tr><th></th><th scope=col>&lt;chr&gt;</th><th scope=col>&lt;dbl&gt;</th><th scope=col>&lt;chr&gt;</th><th scope=col>&lt;chr&gt;</th><th scope=col>&lt;chr&gt;</th><th scope=col>&lt;chr&gt;</th><th scope=col>&lt;chr&gt;</th><th scope=col>&lt;chr&gt;</th><th scope=col>&lt;chr&gt;</th><th scope=col>&lt;chr&gt;</th><th scope=col>⋯</th><th scope=col>&lt;dbl&gt;</th><th scope=col>&lt;int&gt;</th><th scope=col>&lt;chr&gt;</th><th scope=col>&lt;dbl&gt;</th><th scope=col>&lt;chr&gt;</th><th scope=col>&lt;chr&gt;</th><th scope=col>&lt;chr&gt;</th><th scope=col>&lt;dbl&gt;</th><th scope=col>&lt;chr&gt;</th><th scope=col>&lt;chr&gt;</th></tr>\n",
       "</thead>\n",
       "<tbody>\n",
       "\t<tr><th scope=row>ERR1995049</th><td>ERR1995049</td><td>NA</td><td></td><td>PRJEB21104</td><td></td><td>CGR</td><td></td><td>gastric cancer    </td><td>United Kingdom</td><td>gastric_cancer</td><td>⋯</td><td>78.20510135</td><td>118</td><td></td><td>0.45590514</td><td>27F _388R</td><td></td><td>gastric mucosa biopsy</td><td>3.1378323</td><td></td><td>D</td></tr>\n",
       "\t<tr><th scope=row>ERR1995038</th><td>ERR1995038</td><td>NA</td><td></td><td>PRJEB21104</td><td></td><td>CGR</td><td></td><td>gastric cancer    </td><td>United Kingdom</td><td>gastric_cancer</td><td>⋯</td><td>11.57239357</td><td> 91</td><td></td><td>0.62164375</td><td>27F _388R</td><td></td><td>gastric mucosa biopsy</td><td>4.0455299</td><td></td><td>D</td></tr>\n",
       "\t<tr><th scope=row>ERR1995100</th><td>ERR1995100</td><td>NA</td><td></td><td>PRJEB21104</td><td></td><td>CGR</td><td></td><td>healthy           </td><td>United Kingdom</td><td>healthy       </td><td>⋯</td><td> 0.07878151</td><td>217</td><td></td><td>0.84573990</td><td>27F _388R</td><td></td><td>gastric mucosa biopsy</td><td>6.5642536</td><td></td><td>A</td></tr>\n",
       "\t<tr><th scope=row>ERR1995099</th><td>ERR1995099</td><td>NA</td><td></td><td>PRJEB21104</td><td></td><td>CGR</td><td></td><td>healthy           </td><td>United Kingdom</td><td>healthy       </td><td>⋯</td><td> 0.15202189</td><td>181</td><td></td><td>0.85661812</td><td>27F _388R</td><td></td><td>gastric mucosa biopsy</td><td>6.4245039</td><td></td><td>A</td></tr>\n",
       "\t<tr><th scope=row>ERR1995073</th><td>ERR1995073</td><td>NA</td><td></td><td>PRJEB21104</td><td></td><td>CGR</td><td></td><td>healthy           </td><td>United Kingdom</td><td>healthy       </td><td>⋯</td><td> 0.00000000</td><td>199</td><td></td><td>0.78710595</td><td>27F _388R</td><td></td><td>gastric mucosa biopsy</td><td>6.0108327</td><td></td><td>A</td></tr>\n",
       "\t<tr><th scope=row>ERR1994996</th><td>ERR1994996</td><td>NA</td><td></td><td>PRJEB21104</td><td></td><td>CGR</td><td></td><td>H.pylori gastritis</td><td>United Kingdom</td><td>gastritis     </td><td>⋯</td><td>99.82093294</td><td>  5</td><td></td><td>0.01547059</td><td>27F _388R</td><td></td><td>gastric mucosa biopsy</td><td>0.0359216</td><td></td><td>B</td></tr>\n",
       "</tbody>\n",
       "</table>\n"
      ],
      "text/latex": [
       "A data.frame: 6 × 58\n",
       "\\begin{tabular}{r|lllllllllllllllllllll}\n",
       "  & SampleID & Age & BMI & BioProject & CagA & Center\\_Name & Collection\\_Date & Condition & Country & Diagnosis & ⋯ & hp\\_relative\\_abundance & observed\\_otus & paried.sample & pielou\\_e & primer & sampleloc & sampling\\_method & shannon & smoker & Diag\\_order\\\\\n",
       "  & <chr> & <dbl> & <chr> & <chr> & <chr> & <chr> & <chr> & <chr> & <chr> & <chr> & ⋯ & <dbl> & <int> & <chr> & <dbl> & <chr> & <chr> & <chr> & <dbl> & <chr> & <chr>\\\\\n",
       "\\hline\n",
       "\tERR1995049 & ERR1995049 & NA &  & PRJEB21104 &  & CGR &  & gastric cancer     & United Kingdom & gastric\\_cancer & ⋯ & 78.20510135 & 118 &  & 0.45590514 & 27F \\_388R &  & gastric mucosa biopsy & 3.1378323 &  & D\\\\\n",
       "\tERR1995038 & ERR1995038 & NA &  & PRJEB21104 &  & CGR &  & gastric cancer     & United Kingdom & gastric\\_cancer & ⋯ & 11.57239357 &  91 &  & 0.62164375 & 27F \\_388R &  & gastric mucosa biopsy & 4.0455299 &  & D\\\\\n",
       "\tERR1995100 & ERR1995100 & NA &  & PRJEB21104 &  & CGR &  & healthy            & United Kingdom & healthy        & ⋯ &  0.07878151 & 217 &  & 0.84573990 & 27F \\_388R &  & gastric mucosa biopsy & 6.5642536 &  & A\\\\\n",
       "\tERR1995099 & ERR1995099 & NA &  & PRJEB21104 &  & CGR &  & healthy            & United Kingdom & healthy        & ⋯ &  0.15202189 & 181 &  & 0.85661812 & 27F \\_388R &  & gastric mucosa biopsy & 6.4245039 &  & A\\\\\n",
       "\tERR1995073 & ERR1995073 & NA &  & PRJEB21104 &  & CGR &  & healthy            & United Kingdom & healthy        & ⋯ &  0.00000000 & 199 &  & 0.78710595 & 27F \\_388R &  & gastric mucosa biopsy & 6.0108327 &  & A\\\\\n",
       "\tERR1994996 & ERR1994996 & NA &  & PRJEB21104 &  & CGR &  & H.pylori gastritis & United Kingdom & gastritis      & ⋯ & 99.82093294 &   5 &  & 0.01547059 & 27F \\_388R &  & gastric mucosa biopsy & 0.0359216 &  & B\\\\\n",
       "\\end{tabular}\n"
      ],
      "text/markdown": [
       "\n",
       "A data.frame: 6 × 58\n",
       "\n",
       "| <!--/--> | SampleID &lt;chr&gt; | Age &lt;dbl&gt; | BMI &lt;chr&gt; | BioProject &lt;chr&gt; | CagA &lt;chr&gt; | Center_Name &lt;chr&gt; | Collection_Date &lt;chr&gt; | Condition &lt;chr&gt; | Country &lt;chr&gt; | Diagnosis &lt;chr&gt; | ⋯ ⋯ | hp_relative_abundance &lt;dbl&gt; | observed_otus &lt;int&gt; | paried.sample &lt;chr&gt; | pielou_e &lt;dbl&gt; | primer &lt;chr&gt; | sampleloc &lt;chr&gt; | sampling_method &lt;chr&gt; | shannon &lt;dbl&gt; | smoker &lt;chr&gt; | Diag_order &lt;chr&gt; |\n",
       "|---|---|---|---|---|---|---|---|---|---|---|---|---|---|---|---|---|---|---|---|---|---|\n",
       "| ERR1995049 | ERR1995049 | NA | <!----> | PRJEB21104 | <!----> | CGR | <!----> | gastric cancer     | United Kingdom | gastric_cancer | ⋯ | 78.20510135 | 118 | <!----> | 0.45590514 | 27F _388R | <!----> | gastric mucosa biopsy | 3.1378323 | <!----> | D |\n",
       "| ERR1995038 | ERR1995038 | NA | <!----> | PRJEB21104 | <!----> | CGR | <!----> | gastric cancer     | United Kingdom | gastric_cancer | ⋯ | 11.57239357 |  91 | <!----> | 0.62164375 | 27F _388R | <!----> | gastric mucosa biopsy | 4.0455299 | <!----> | D |\n",
       "| ERR1995100 | ERR1995100 | NA | <!----> | PRJEB21104 | <!----> | CGR | <!----> | healthy            | United Kingdom | healthy        | ⋯ |  0.07878151 | 217 | <!----> | 0.84573990 | 27F _388R | <!----> | gastric mucosa biopsy | 6.5642536 | <!----> | A |\n",
       "| ERR1995099 | ERR1995099 | NA | <!----> | PRJEB21104 | <!----> | CGR | <!----> | healthy            | United Kingdom | healthy        | ⋯ |  0.15202189 | 181 | <!----> | 0.85661812 | 27F _388R | <!----> | gastric mucosa biopsy | 6.4245039 | <!----> | A |\n",
       "| ERR1995073 | ERR1995073 | NA | <!----> | PRJEB21104 | <!----> | CGR | <!----> | healthy            | United Kingdom | healthy        | ⋯ |  0.00000000 | 199 | <!----> | 0.78710595 | 27F _388R | <!----> | gastric mucosa biopsy | 6.0108327 | <!----> | A |\n",
       "| ERR1994996 | ERR1994996 | NA | <!----> | PRJEB21104 | <!----> | CGR | <!----> | H.pylori gastritis | United Kingdom | gastritis      | ⋯ | 99.82093294 |   5 | <!----> | 0.01547059 | 27F _388R | <!----> | gastric mucosa biopsy | 0.0359216 | <!----> | B |\n",
       "\n"
      ],
      "text/plain": [
       "           SampleID   Age BMI BioProject CagA Center_Name Collection_Date\n",
       "ERR1995049 ERR1995049 NA      PRJEB21104      CGR                        \n",
       "ERR1995038 ERR1995038 NA      PRJEB21104      CGR                        \n",
       "ERR1995100 ERR1995100 NA      PRJEB21104      CGR                        \n",
       "ERR1995099 ERR1995099 NA      PRJEB21104      CGR                        \n",
       "ERR1995073 ERR1995073 NA      PRJEB21104      CGR                        \n",
       "ERR1994996 ERR1994996 NA      PRJEB21104      CGR                        \n",
       "           Condition          Country        Diagnosis      ⋯\n",
       "ERR1995049 gastric cancer     United Kingdom gastric_cancer ⋯\n",
       "ERR1995038 gastric cancer     United Kingdom gastric_cancer ⋯\n",
       "ERR1995100 healthy            United Kingdom healthy        ⋯\n",
       "ERR1995099 healthy            United Kingdom healthy        ⋯\n",
       "ERR1995073 healthy            United Kingdom healthy        ⋯\n",
       "ERR1994996 H.pylori gastritis United Kingdom gastritis      ⋯\n",
       "           hp_relative_abundance observed_otus paried.sample pielou_e  \n",
       "ERR1995049 78.20510135           118                         0.45590514\n",
       "ERR1995038 11.57239357            91                         0.62164375\n",
       "ERR1995100  0.07878151           217                         0.84573990\n",
       "ERR1995099  0.15202189           181                         0.85661812\n",
       "ERR1995073  0.00000000           199                         0.78710595\n",
       "ERR1994996 99.82093294             5                         0.01547059\n",
       "           primer    sampleloc sampling_method       shannon   smoker\n",
       "ERR1995049 27F _388R           gastric mucosa biopsy 3.1378323       \n",
       "ERR1995038 27F _388R           gastric mucosa biopsy 4.0455299       \n",
       "ERR1995100 27F _388R           gastric mucosa biopsy 6.5642536       \n",
       "ERR1995099 27F _388R           gastric mucosa biopsy 6.4245039       \n",
       "ERR1995073 27F _388R           gastric mucosa biopsy 6.0108327       \n",
       "ERR1994996 27F _388R           gastric mucosa biopsy 0.0359216       \n",
       "           Diag_order\n",
       "ERR1995049 D         \n",
       "ERR1995038 D         \n",
       "ERR1995100 A         \n",
       "ERR1995099 A         \n",
       "ERR1995073 A         \n",
       "ERR1994996 B         "
      ]
     },
     "metadata": {},
     "output_type": "display_data"
    }
   ],
   "source": [
    "md[which(md$Diagnosis=='gastric cancer'),'Diagnosis'] <-'gastric_cancer'\n",
    "head(md)"
   ]
  },
  {
   "cell_type": "code",
   "execution_count": 7,
   "id": "d222620c-0f0a-4a95-891d-2c14f4497db4",
   "metadata": {},
   "outputs": [
    {
     "data": {
      "text/html": [
       "<style>\n",
       ".list-inline {list-style: none; margin:0; padding: 0}\n",
       ".list-inline>li {display: inline-block}\n",
       ".list-inline>li:not(:last-child)::after {content: \"\\00b7\"; padding: 0 .5ex}\n",
       "</style>\n",
       "<ol class=list-inline><li>2095</li><li>58</li></ol>\n"
      ],
      "text/latex": [
       "\\begin{enumerate*}\n",
       "\\item 2095\n",
       "\\item 58\n",
       "\\end{enumerate*}\n"
      ],
      "text/markdown": [
       "1. 2095\n",
       "2. 58\n",
       "\n",
       "\n"
      ],
      "text/plain": [
       "[1] 2095   58"
      ]
     },
     "metadata": {},
     "output_type": "display_data"
    }
   ],
   "source": [
    "dim(md)"
   ]
  },
  {
   "cell_type": "code",
   "execution_count": 8,
   "id": "dba8c40c-7576-4ba1-ab00-56e3ee4646cb",
   "metadata": {},
   "outputs": [],
   "source": [
    "alphas<-c('shannon','faith_pd', 'observed_otus')"
   ]
  },
  {
   "cell_type": "code",
   "execution_count": 9,
   "id": "ff049226-aca8-4464-8d98-f333eb0c5baf",
   "metadata": {},
   "outputs": [
    {
     "data": {
      "text/html": [
       "<style>\n",
       ".list-inline {list-style: none; margin:0; padding: 0}\n",
       ".list-inline>li {display: inline-block}\n",
       ".list-inline>li:not(:last-child)::after {content: \"\\00b7\"; padding: 0 .5ex}\n",
       "</style>\n",
       "<ol class=list-inline><li>'PRJEB21104'</li><li>'PRJEB21497'</li><li>'PRJEB22107'</li><li>'PRJEB26931'</li><li>'PRJNA310127'</li><li>'PRJNA428883'</li><li>'PRJNA375772'</li><li>'PRJNA495436'</li><li>'PRJNA481413'</li></ol>\n"
      ],
      "text/latex": [
       "\\begin{enumerate*}\n",
       "\\item 'PRJEB21104'\n",
       "\\item 'PRJEB21497'\n",
       "\\item 'PRJEB22107'\n",
       "\\item 'PRJEB26931'\n",
       "\\item 'PRJNA310127'\n",
       "\\item 'PRJNA428883'\n",
       "\\item 'PRJNA375772'\n",
       "\\item 'PRJNA495436'\n",
       "\\item 'PRJNA481413'\n",
       "\\end{enumerate*}\n"
      ],
      "text/markdown": [
       "1. 'PRJEB21104'\n",
       "2. 'PRJEB21497'\n",
       "3. 'PRJEB22107'\n",
       "4. 'PRJEB26931'\n",
       "5. 'PRJNA310127'\n",
       "6. 'PRJNA428883'\n",
       "7. 'PRJNA375772'\n",
       "8. 'PRJNA495436'\n",
       "9. 'PRJNA481413'\n",
       "\n",
       "\n"
      ],
      "text/plain": [
       "[1] \"PRJEB21104\"  \"PRJEB21497\"  \"PRJEB22107\"  \"PRJEB26931\"  \"PRJNA310127\"\n",
       "[6] \"PRJNA428883\" \"PRJNA375772\" \"PRJNA495436\" \"PRJNA481413\""
      ]
     },
     "metadata": {},
     "output_type": "display_data"
    }
   ],
   "source": [
    "unique(md$BioProject)"
   ]
  },
  {
   "cell_type": "code",
   "execution_count": 10,
   "id": "4b480c20-6f79-46d7-9480-3495778d0ede",
   "metadata": {},
   "outputs": [],
   "source": [
    "Hcolor=\"#E69F00\"\n",
    "Lcolor=\"#0072B2\""
   ]
  },
  {
   "cell_type": "code",
   "execution_count": 11,
   "id": "9837c584-ad06-49c6-bc95-879464eec461",
   "metadata": {
    "collapsed": true,
    "jupyter": {
     "outputs_hidden": true
    },
    "tags": []
   },
   "outputs": [
    {
     "data": {
      "text/plain": [
       "\n",
       "         atrophic gastritis           chronic gastritis \n",
       "                        117                          41 \n",
       "       functional dyspepsia              gastric cancer \n",
       "                         18                        1012 \n",
       "   gastric noncardia cancer                   gastritis \n",
       "                        289                         157 \n",
       "H.pylori atrophic gastritis          H.pylori gastritis \n",
       "                         11                          21 \n",
       "                    healthy       intestinal metaplasia \n",
       "                         79                         208 \n",
       "      superficial gastritis \n",
       "                        142 "
      ]
     },
     "metadata": {},
     "output_type": "display_data"
    }
   ],
   "source": [
    "table(md$Condition)"
   ]
  },
  {
   "cell_type": "code",
   "execution_count": 12,
   "id": "272534f0-864d-4754-9514-8ef64b1e5786",
   "metadata": {},
   "outputs": [],
   "source": [
    "md <- subset(md,Condition!='atrophic gastritis') %>%subset(Condition!='H.pylori atrophic gastritis')"
   ]
  },
  {
   "cell_type": "markdown",
   "id": "5cc4ab85-25bb-436f-987a-ed50c184521f",
   "metadata": {},
   "source": [
    "## healthy vs gastritis"
   ]
  },
  {
   "cell_type": "code",
   "execution_count": 13,
   "id": "2692fcbc-8da2-4c76-baf7-cf2e1b2b92e4",
   "metadata": {},
   "outputs": [],
   "source": [
    "Project=c('PRJEB21104','PRJEB22107','PRJEB26931')"
   ]
  },
  {
   "cell_type": "code",
   "execution_count": 14,
   "id": "6f9578ba-ca09-4662-984d-177c296f6205",
   "metadata": {},
   "outputs": [],
   "source": [
    "Alpha_stat<- function(p){\n",
    "\n",
    "\n",
    "    As <-list()\n",
    "\n",
    "    As$md <-subset(md,bioproject==p) %>% subset(Diagnosis=='healthy'| Diagnosis=='gastritis')\n",
    "\n",
    "    for (Alpha in alphas){\n",
    "        min_alpha=min(As$md[which(As$md[Alpha]!=0),Alpha])\n",
    "        As$md[which(As$md[Alpha]==0),Alpha]<- min_alpha \n",
    "    }\n",
    "\n",
    "\n",
    "    As$alpha_div <- As$md %>%\n",
    "    as_tibble() %>%  \n",
    "    gather( key=\"Metric\", value=\"Diversity\",shannon,faith_pd, observed_otus) %>% \n",
    "    select(SampleID,BioProject, Diagnosis, Metric, Diversity)\n",
    "    #alpha_div\n",
    "\n",
    "    As$alpha_div <- As$alpha_div %>%\n",
    "    left_join(\n",
    "        As$alpha_div %>%\n",
    "        group_by(Metric, Diagnosis) %>%\n",
    "        summarize(mean=mean(log2(Diversity))) %>%  \n",
    "       spread(key=Diagnosis, value=mean) %>%\n",
    "       rename(mean_log2HC=healthy, mean_log2CG=gastritis) #*\n",
    "    ) %>%\n",
    "\n",
    "    mutate(log2FC=log2(Diversity)-mean_log2HC)\n",
    "\n",
    "\n",
    "\n",
    "    As$AlphaDiversity_Stats <-\n",
    "    As$alpha_div %>%\n",
    "    group_by(Metric) %>% \n",
    "    do(\n",
    "      broom::tidy(t.test(log2FC~Diagnosis, data=., conf.int=TRUE, conf.level=0.95))\n",
    "    ) %>%\n",
    "    mutate(BioProject= p) %>%\n",
    "    select(BioProject, Metric, log2FC=estimate, Pvalue=p.value, \n",
    "           mean_HC=estimate2, mean_CG=estimate1, CI_low=conf.low, CI_high=conf.high) \n",
    "\n",
    "    return(As)\n",
    "}"
   ]
  },
  {
   "cell_type": "code",
   "execution_count": 15,
   "id": "110dba9c-c9e9-46f8-a8ba-9097ff408850",
   "metadata": {
    "tags": []
   },
   "outputs": [
    {
     "name": "stderr",
     "output_type": "stream",
     "text": [
      "--------------------->PRJEB21104\n",
      "\n",
      "\u001b[1m\u001b[22m`summarise()` has grouped output by 'Metric'. You can override using the\n",
      "`.groups` argument.\n",
      "\u001b[1m\u001b[22mJoining, by = \"Metric\"\n",
      "--------------------->PRJEB22107\n",
      "\n",
      "\u001b[1m\u001b[22m`summarise()` has grouped output by 'Metric'. You can override using the\n",
      "`.groups` argument.\n",
      "\u001b[1m\u001b[22mJoining, by = \"Metric\"\n",
      "--------------------->PRJEB26931\n",
      "\n",
      "\u001b[1m\u001b[22m`summarise()` has grouped output by 'Metric'. You can override using the\n",
      "`.groups` argument.\n",
      "\u001b[1m\u001b[22mJoining, by = \"Metric\"\n"
     ]
    }
   ],
   "source": [
    "PerStudy<-list()\n",
    "  for(p in Project){\n",
    "    message(\"--------------------->\", p)\n",
    "    PerStudy[[p]]<-Alpha_stat(p)\n",
    "  }"
   ]
  },
  {
   "cell_type": "code",
   "execution_count": 16,
   "id": "c0f5d256-3e3d-4640-8e6e-fdd615444eed",
   "metadata": {},
   "outputs": [
    {
     "name": "stderr",
     "output_type": "stream",
     "text": [
      "Computing profile confidence intervals ...\n",
      "\n",
      "Computing profile confidence intervals ...\n",
      "\n",
      "Computing profile confidence intervals ...\n",
      "\n"
     ]
    }
   ],
   "source": [
    "mod<-lapply(PerStudy, function(x) x$alpha_div) %>%\n",
    "  do.call(bind_rows, .) %>%\n",
    "  mutate(Diagnosis=factor(Diagnosis, levels=c(\"healthy\",\"gastritis\"))) %>% #*\n",
    "  group_by(Metric)\n",
    "\n",
    "AlphaCombined<-tibble(BioProject=character(0), Metric=character(0), \n",
    "                      log2FC=numeric(0), Pvalue=numeric(0), mean_HC=numeric(0), \n",
    "                      mean_CG=numeric(0), CI_low=numeric(0), CI_high=numeric(0))\n",
    "\n",
    "for(i in unique(mod$Metric)){\n",
    "  fit<-lmerTest:::lmer(log2FC~Diagnosis+(1|BioProject), data=subset(mod, Metric==i))\n",
    "  cf<-confint(fit,level = 0.95)\n",
    "  \n",
    "  AlphaCombined<-bind_rows(AlphaCombined, tibble(\n",
    "    BioProject=\"Combined\", \n",
    "    Metric=i, \n",
    "    log2FC=summary(fit)$coefficients[\"Diagnosisgastritis\", \"Estimate\"],  \n",
    "    Pvalue=anova(fit)$`Pr(>F)`, \n",
    "    mean_HC=NA, \n",
    "    mean_CG=NA, \n",
    "    CI_low=cf[\"Diagnosisgastritis\",1],  \n",
    "    CI_high=cf[\"Diagnosisgastritis\",2] \n",
    "  ))\n",
    "}"
   ]
  },
  {
   "cell_type": "code",
   "execution_count": 17,
   "id": "bb9631c0-a23b-460d-b339-542ac80acf27",
   "metadata": {},
   "outputs": [],
   "source": [
    "set_front <- function (size=9){\n",
    "    theme(axis.text.x=element_text(angle=45, hjust=1,size=size),\n",
    "          axis.text.y=element_text(size=size),\n",
    "      axis.text = element_text(size = size,colour = 'black'),\n",
    "      legend.title = element_text(size = size),\n",
    "     legend.text = element_text(size = size),\n",
    "     strip.text = element_text(size = size))\n",
    "    \n",
    "}    "
   ]
  },
  {
   "cell_type": "code",
   "execution_count": 18,
   "id": "34880185-9988-4d1d-a99e-06870aeb7806",
   "metadata": {},
   "outputs": [
    {
     "name": "stderr",
     "output_type": "stream",
     "text": [
      "Joining, by = \"BioProject\"\n",
      "\n"
     ]
    }
   ],
   "source": [
    "NSamples<-\n",
    "  lapply(names(PerStudy), function(x) tibble(BioProject=x, Nsamples=length(unique(PerStudy[[x]]$alpha_div$SampleID)))) %>% \n",
    "  do.call(bind_rows, .) %>% \n",
    "  arrange(desc(Nsamples)) %>% \n",
    "  mutate(Study=paste0(BioProject, \" (n=\", Nsamples,\")\")) %>% \n",
    "  bind_rows(tibble(BioProject=\"Combined\", Study=\"Combined\")) %>%\n",
    "  mutate(Study=factor(Study, levels=rev(Study)))\n",
    "  #mutate(Study=factor(Study, levels=c('PRJEB21104','PRJEB22107','PRJEB26931','Combined')))       \n",
    "\n",
    "res<- lapply(PerStudy, function(x) x$AlphaDiversity_Stats) %>%\n",
    "do.call(bind_rows, .) %>%\n",
    "bind_rows(AlphaCombined) %>%\n",
    "mutate(Significant=case_when(\n",
    "Pvalue<0.05 & log2FC>0 ~ \"* higher in gastritis\",\n",
    "Pvalue<0.05 & log2FC<0 ~ \"* higher in healthy\",\n",
    "TRUE~\"ns\"\n",
    ")) %>%\n",
    "ungroup() %>%\n",
    "mutate(Metric=factor(Metric, levels=alphas))%>%\n",
    "#mutate(BioProject=factor(BioProject, levels=c('PRJEB21104','PRJEB22107','PRJEB26931','Combined')))%>%           \n",
    "left_join(NSamples) "
   ]
  },
  {
   "cell_type": "code",
   "execution_count": 19,
   "id": "0bb01148-a67f-46d5-97ed-c80dd0efa202",
   "metadata": {},
   "outputs": [],
   "source": [
    "res <- res %>% mutate(Metric = recode(Metric,'shannon'='Shannon',\n",
    "                     'faith_pd'=\"Faith's PD\",'observed_otus'='Observed ASVs'))"
   ]
  },
  {
   "cell_type": "code",
   "execution_count": 20,
   "id": "e2510fba-18e1-4bfe-87c6-238c033fd01f",
   "metadata": {},
   "outputs": [
    {
     "data": {
      "image/png": "[encoded data removed]",
      "text/plain": [
       "plot without title"
      ]
     },
     "metadata": {
      "image/png": {
       "height": 420,
       "width": 420
      }
     },
     "output_type": "display_data"
    }
   ],
   "source": [
    "res <- res %>% mutate(Metric = recode(Metric,'shannon'='Shannon',\n",
    "                     'faith_pd'=\"Faith's PD\",'observed_otus'='Observed ASVs'))\n",
    "\n",
    "ggplot(res,aes(x=log2FC, y=BioProject, color=Significant)) +  \n",
    "geom_vline(xintercept = 0, linetype=\"dashed\", color=\"grey50\") +\n",
    "geom_errorbarh(aes(xmin=CI_low, xmax=CI_high), height=0 ) +\n",
    "geom_point() +\n",
    "facet_grid(~Metric, scales=\"free_x\") +\n",
    "theme_MicrobeR() +\n",
    "scale_color_manual(values=c(Lcolor, \"black\"))  +\n",
    "theme(panel.border = element_blank(), axis.line = element_line(),\n",
    "      plot.title = element_text(hjust = 0.5)) + \n",
    "             set_front(9)+xlab('log2(fold difference)')+\n",
    "labs(title=\"healthy vs gastritis\",y='Cohort')\n",
    "             \n",
    "ggsave(\"figures/healthy_vs_CG_forestplot_withhp.pdf\", device=\"pdf\", height=2.5, width=5.5, useDingbats=F)\n",
    "write.csv(res,'healthy_vs_CG_logFC_result_withhp.csv')"
   ]
  },
  {
   "cell_type": "code",
   "execution_count": 22,
   "id": "d4963c10-0933-403a-87b1-51c416318fea",
   "metadata": {},
   "outputs": [
    {
     "data": {
      "text/html": [
       "<table>\n",
       "<caption>A tibble: 12 × 11</caption>\n",
       "<thead>\n",
       "\t<tr><th scope=col>BioProject</th><th scope=col>Metric</th><th scope=col>log2FC</th><th scope=col>Pvalue</th><th scope=col>mean_HC</th><th scope=col>mean_CG</th><th scope=col>CI_low</th><th scope=col>CI_high</th><th scope=col>Significant</th><th scope=col>Nsamples</th><th scope=col>Study</th></tr>\n",
       "\t<tr><th scope=col>&lt;chr&gt;</th><th scope=col>&lt;fct&gt;</th><th scope=col>&lt;dbl&gt;</th><th scope=col>&lt;dbl&gt;</th><th scope=col>&lt;dbl&gt;</th><th scope=col>&lt;dbl&gt;</th><th scope=col>&lt;dbl&gt;</th><th scope=col>&lt;dbl&gt;</th><th scope=col>&lt;chr&gt;</th><th scope=col>&lt;int&gt;</th><th scope=col>&lt;fct&gt;</th></tr>\n",
       "</thead>\n",
       "<tbody>\n",
       "\t<tr><td>PRJEB21104</td><td>Faith's PD   </td><td>-3.07325893</td><td>3.476433e-11</td><td> 1.567382e-16</td><td>-3.07325893</td><td>-3.6255537</td><td>-2.52096414</td><td>* higher in healthy</td><td>38</td><td>PRJEB21104 (n=38)</td></tr>\n",
       "\t<tr><td>PRJEB21104</td><td>Observed ASVs</td><td>-4.79373436</td><td>1.031158e-11</td><td>-4.179727e-16</td><td>-4.79373436</td><td>-5.5931821</td><td>-3.99428661</td><td>* higher in healthy</td><td>38</td><td>PRJEB21104 (n=38)</td></tr>\n",
       "\t<tr><td>PRJEB21104</td><td>Shannon      </td><td>-5.85113845</td><td>8.907160e-11</td><td>-7.835792e-17</td><td>-5.85113845</td><td>-6.9126968</td><td>-4.78958012</td><td>* higher in healthy</td><td>38</td><td>PRJEB21104 (n=38)</td></tr>\n",
       "\t<tr><td>PRJEB22107</td><td>Faith's PD   </td><td>-0.33323723</td><td>3.321939e-01</td><td> 2.220446e-16</td><td>-0.33323723</td><td>-1.0686143</td><td> 0.40213984</td><td>ns                 </td><td>26</td><td>PRJEB22107 (n=26)</td></tr>\n",
       "\t<tr><td>PRJEB22107</td><td>Observed ASVs</td><td>-0.62911246</td><td>2.320040e-01</td><td> 2.960595e-16</td><td>-0.62911246</td><td>-1.7298767</td><td> 0.47165178</td><td>ns                 </td><td>26</td><td>PRJEB22107 (n=26)</td></tr>\n",
       "\t<tr><td>PRJEB22107</td><td>Shannon      </td><td>-0.76567289</td><td>3.833594e-01</td><td> 9.253666e-17</td><td>-0.76567289</td><td>-2.6802613</td><td> 1.14891548</td><td>ns                 </td><td>26</td><td>PRJEB22107 (n=26)</td></tr>\n",
       "\t<tr><td>PRJEB26931</td><td>Faith's PD   </td><td>-0.05504591</td><td>5.977499e-01</td><td>-9.515617e-17</td><td>-0.05504591</td><td>-0.2614608</td><td> 0.15136902</td><td>ns                 </td><td>97</td><td>PRJEB26931 (n=97)</td></tr>\n",
       "\t<tr><td>PRJEB26931</td><td>Observed ASVs</td><td>-0.05585266</td><td>6.619069e-01</td><td>-7.928725e-17</td><td>-0.05585266</td><td>-0.3087443</td><td> 0.19703903</td><td>ns                 </td><td>97</td><td>PRJEB26931 (n=97)</td></tr>\n",
       "\t<tr><td>PRJEB26931</td><td>Shannon      </td><td>-0.16980484</td><td>1.152976e-01</td><td>-5.947599e-17</td><td>-0.16980484</td><td>-0.3819048</td><td> 0.04229514</td><td>ns                 </td><td>97</td><td>PRJEB26931 (n=97)</td></tr>\n",
       "\t<tr><td>Combined  </td><td>Shannon      </td><td>-1.65705590</td><td>6.183093e-09</td><td>           NA</td><td>         NA</td><td>-2.1855531</td><td>-1.12637759</td><td>* higher in healthy</td><td>NA</td><td>Combined         </td></tr>\n",
       "\t<tr><td>Combined  </td><td>Faith's PD   </td><td>-0.84024125</td><td>7.754667e-08</td><td>           NA</td><td>         NA</td><td>-1.1323920</td><td>-0.54672587</td><td>* higher in healthy</td><td>NA</td><td>Combined         </td></tr>\n",
       "\t<tr><td>Combined  </td><td>Observed ASVs</td><td>-1.30576665</td><td>1.783391e-08</td><td>           NA</td><td>         NA</td><td>-1.7371139</td><td>-0.87289509</td><td>* higher in healthy</td><td>NA</td><td>Combined         </td></tr>\n",
       "</tbody>\n",
       "</table>\n"
      ],
      "text/latex": [
       "A tibble: 12 × 11\n",
       "\\begin{tabular}{lllllllllll}\n",
       " BioProject & Metric & log2FC & Pvalue & mean\\_HC & mean\\_CG & CI\\_low & CI\\_high & Significant & Nsamples & Study\\\\\n",
       " <chr> & <fct> & <dbl> & <dbl> & <dbl> & <dbl> & <dbl> & <dbl> & <chr> & <int> & <fct>\\\\\n",
       "\\hline\n",
       "\t PRJEB21104 & Faith's PD    & -3.07325893 & 3.476433e-11 &  1.567382e-16 & -3.07325893 & -3.6255537 & -2.52096414 & * higher in healthy & 38 & PRJEB21104 (n=38)\\\\\n",
       "\t PRJEB21104 & Observed ASVs & -4.79373436 & 1.031158e-11 & -4.179727e-16 & -4.79373436 & -5.5931821 & -3.99428661 & * higher in healthy & 38 & PRJEB21104 (n=38)\\\\\n",
       "\t PRJEB21104 & Shannon       & -5.85113845 & 8.907160e-11 & -7.835792e-17 & -5.85113845 & -6.9126968 & -4.78958012 & * higher in healthy & 38 & PRJEB21104 (n=38)\\\\\n",
       "\t PRJEB22107 & Faith's PD    & -0.33323723 & 3.321939e-01 &  2.220446e-16 & -0.33323723 & -1.0686143 &  0.40213984 & ns                  & 26 & PRJEB22107 (n=26)\\\\\n",
       "\t PRJEB22107 & Observed ASVs & -0.62911246 & 2.320040e-01 &  2.960595e-16 & -0.62911246 & -1.7298767 &  0.47165178 & ns                  & 26 & PRJEB22107 (n=26)\\\\\n",
       "\t PRJEB22107 & Shannon       & -0.76567289 & 3.833594e-01 &  9.253666e-17 & -0.76567289 & -2.6802613 &  1.14891548 & ns                  & 26 & PRJEB22107 (n=26)\\\\\n",
       "\t PRJEB26931 & Faith's PD    & -0.05504591 & 5.977499e-01 & -9.515617e-17 & -0.05504591 & -0.2614608 &  0.15136902 & ns                  & 97 & PRJEB26931 (n=97)\\\\\n",
       "\t PRJEB26931 & Observed ASVs & -0.05585266 & 6.619069e-01 & -7.928725e-17 & -0.05585266 & -0.3087443 &  0.19703903 & ns                  & 97 & PRJEB26931 (n=97)\\\\\n",
       "\t PRJEB26931 & Shannon       & -0.16980484 & 1.152976e-01 & -5.947599e-17 & -0.16980484 & -0.3819048 &  0.04229514 & ns                  & 97 & PRJEB26931 (n=97)\\\\\n",
       "\t Combined   & Shannon       & -1.65705590 & 6.183093e-09 &            NA &          NA & -2.1855531 & -1.12637759 & * higher in healthy & NA & Combined         \\\\\n",
       "\t Combined   & Faith's PD    & -0.84024125 & 7.754667e-08 &            NA &          NA & -1.1323920 & -0.54672587 & * higher in healthy & NA & Combined         \\\\\n",
       "\t Combined   & Observed ASVs & -1.30576665 & 1.783391e-08 &            NA &          NA & -1.7371139 & -0.87289509 & * higher in healthy & NA & Combined         \\\\\n",
       "\\end{tabular}\n"
      ],
      "text/markdown": [
       "\n",
       "A tibble: 12 × 11\n",
       "\n",
       "| BioProject &lt;chr&gt; | Metric &lt;fct&gt; | log2FC &lt;dbl&gt; | Pvalue &lt;dbl&gt; | mean_HC &lt;dbl&gt; | mean_CG &lt;dbl&gt; | CI_low &lt;dbl&gt; | CI_high &lt;dbl&gt; | Significant &lt;chr&gt; | Nsamples &lt;int&gt; | Study &lt;fct&gt; |\n",
       "|---|---|---|---|---|---|---|---|---|---|---|\n",
       "| PRJEB21104 | Faith's PD    | -3.07325893 | 3.476433e-11 |  1.567382e-16 | -3.07325893 | -3.6255537 | -2.52096414 | * higher in healthy | 38 | PRJEB21104 (n=38) |\n",
       "| PRJEB21104 | Observed ASVs | -4.79373436 | 1.031158e-11 | -4.179727e-16 | -4.79373436 | -5.5931821 | -3.99428661 | * higher in healthy | 38 | PRJEB21104 (n=38) |\n",
       "| PRJEB21104 | Shannon       | -5.85113845 | 8.907160e-11 | -7.835792e-17 | -5.85113845 | -6.9126968 | -4.78958012 | * higher in healthy | 38 | PRJEB21104 (n=38) |\n",
       "| PRJEB22107 | Faith's PD    | -0.33323723 | 3.321939e-01 |  2.220446e-16 | -0.33323723 | -1.0686143 |  0.40213984 | ns                  | 26 | PRJEB22107 (n=26) |\n",
       "| PRJEB22107 | Observed ASVs | -0.62911246 | 2.320040e-01 |  2.960595e-16 | -0.62911246 | -1.7298767 |  0.47165178 | ns                  | 26 | PRJEB22107 (n=26) |\n",
       "| PRJEB22107 | Shannon       | -0.76567289 | 3.833594e-01 |  9.253666e-17 | -0.76567289 | -2.6802613 |  1.14891548 | ns                  | 26 | PRJEB22107 (n=26) |\n",
       "| PRJEB26931 | Faith's PD    | -0.05504591 | 5.977499e-01 | -9.515617e-17 | -0.05504591 | -0.2614608 |  0.15136902 | ns                  | 97 | PRJEB26931 (n=97) |\n",
       "| PRJEB26931 | Observed ASVs | -0.05585266 | 6.619069e-01 | -7.928725e-17 | -0.05585266 | -0.3087443 |  0.19703903 | ns                  | 97 | PRJEB26931 (n=97) |\n",
       "| PRJEB26931 | Shannon       | -0.16980484 | 1.152976e-01 | -5.947599e-17 | -0.16980484 | -0.3819048 |  0.04229514 | ns                  | 97 | PRJEB26931 (n=97) |\n",
       "| Combined   | Shannon       | -1.65705590 | 6.183093e-09 |            NA |          NA | -2.1855531 | -1.12637759 | * higher in healthy | NA | Combined          |\n",
       "| Combined   | Faith's PD    | -0.84024125 | 7.754667e-08 |            NA |          NA | -1.1323920 | -0.54672587 | * higher in healthy | NA | Combined          |\n",
       "| Combined   | Observed ASVs | -1.30576665 | 1.783391e-08 |            NA |          NA | -1.7371139 | -0.87289509 | * higher in healthy | NA | Combined          |\n",
       "\n"
      ],
      "text/plain": [
       "   BioProject Metric        log2FC      Pvalue       mean_HC       mean_CG    \n",
       "1  PRJEB21104 Faith's PD    -3.07325893 3.476433e-11  1.567382e-16 -3.07325893\n",
       "2  PRJEB21104 Observed ASVs -4.79373436 1.031158e-11 -4.179727e-16 -4.79373436\n",
       "3  PRJEB21104 Shannon       -5.85113845 8.907160e-11 -7.835792e-17 -5.85113845\n",
       "4  PRJEB22107 Faith's PD    -0.33323723 3.321939e-01  2.220446e-16 -0.33323723\n",
       "5  PRJEB22107 Observed ASVs -0.62911246 2.320040e-01  2.960595e-16 -0.62911246\n",
       "6  PRJEB22107 Shannon       -0.76567289 3.833594e-01  9.253666e-17 -0.76567289\n",
       "7  PRJEB26931 Faith's PD    -0.05504591 5.977499e-01 -9.515617e-17 -0.05504591\n",
       "8  PRJEB26931 Observed ASVs -0.05585266 6.619069e-01 -7.928725e-17 -0.05585266\n",
       "9  PRJEB26931 Shannon       -0.16980484 1.152976e-01 -5.947599e-17 -0.16980484\n",
       "10 Combined   Shannon       -1.65705590 6.183093e-09            NA          NA\n",
       "11 Combined   Faith's PD    -0.84024125 7.754667e-08            NA          NA\n",
       "12 Combined   Observed ASVs -1.30576665 1.783391e-08            NA          NA\n",
       "   CI_low     CI_high     Significant         Nsamples Study            \n",
       "1  -3.6255537 -2.52096414 * higher in healthy 38       PRJEB21104 (n=38)\n",
       "2  -5.5931821 -3.99428661 * higher in healthy 38       PRJEB21104 (n=38)\n",
       "3  -6.9126968 -4.78958012 * higher in healthy 38       PRJEB21104 (n=38)\n",
       "4  -1.0686143  0.40213984 ns                  26       PRJEB22107 (n=26)\n",
       "5  -1.7298767  0.47165178 ns                  26       PRJEB22107 (n=26)\n",
       "6  -2.6802613  1.14891548 ns                  26       PRJEB22107 (n=26)\n",
       "7  -0.2614608  0.15136902 ns                  97       PRJEB26931 (n=97)\n",
       "8  -0.3087443  0.19703903 ns                  97       PRJEB26931 (n=97)\n",
       "9  -0.3819048  0.04229514 ns                  97       PRJEB26931 (n=97)\n",
       "10 -2.1855531 -1.12637759 * higher in healthy NA       Combined         \n",
       "11 -1.1323920 -0.54672587 * higher in healthy NA       Combined         \n",
       "12 -1.7371139 -0.87289509 * higher in healthy NA       Combined         "
      ]
     },
     "metadata": {},
     "output_type": "display_data"
    }
   ],
   "source": [
    "hg <- res\n",
    "hg"
   ]
  },
  {
   "cell_type": "markdown",
   "id": "3c626b90-20a5-444c-8b2c-23cbe771e9ef",
   "metadata": {},
   "source": [
    "## healthy vs GC"
   ]
  },
  {
   "cell_type": "code",
   "execution_count": 23,
   "id": "35e3ca44-cd63-4ed0-8058-6fa628b1b880",
   "metadata": {},
   "outputs": [],
   "source": [
    "Project=c('PRJEB21104','PRJEB21497','PRJEB26931')"
   ]
  },
  {
   "cell_type": "code",
   "execution_count": 24,
   "id": "145e0960-cc9b-4312-bb16-c3b99fa3513a",
   "metadata": {},
   "outputs": [],
   "source": [
    "Alpha_stat<- function(p){\n",
    "\n",
    "\n",
    "    As <-list()\n",
    "\n",
    "    As$md <-subset(md,bioproject==p) %>% subset(Diagnosis=='healthy'| Diagnosis=='gastric_cancer') #*\n",
    "\n",
    "    for (Alpha in alphas){\n",
    "        min_alpha=min(As$md[which(As$md[Alpha]!=0),Alpha])\n",
    "        As$md[which(As$md[Alpha]==0),Alpha]<- min_alpha \n",
    "    }\n",
    "\n",
    "\n",
    "    As$alpha_div <- As$md %>%\n",
    "    as_tibble() %>%  \n",
    "    gather( key=\"Metric\", value=\"Diversity\",shannon,faith_pd, observed_otus) %>% #wide to long\n",
    "    select(SampleID,BioProject, Diagnosis, Metric, Diversity)\n",
    "    \n",
    "\n",
    "    As$alpha_div <- As$alpha_div %>%\n",
    "    left_join(\n",
    "        As$alpha_div %>%\n",
    "        group_by(Metric, Diagnosis) %>%\n",
    "        summarize(mean=mean(log2(Diversity))) %>%  \n",
    "       spread(key=Diagnosis, value=mean) %>%\n",
    "       rename(mean_log2HC=healthy, mean_log2GC=gastric_cancer)  \n",
    "    ) %>%\n",
    "\n",
    "    mutate(log2FC=log2(Diversity)-mean_log2HC) \n",
    "\n",
    "\n",
    "\n",
    "    As$AlphaDiversity_Stats <-\n",
    "    As$alpha_div %>%\n",
    "    group_by(Metric) %>% \n",
    "    do(\n",
    "      broom::tidy(t.test(log2FC~Diagnosis, data=., conf.int=TRUE, conf.level=0.95))\n",
    "    ) %>%\n",
    "    mutate(BioProject= p) %>%\n",
    "    select(BioProject, Metric, log2FC=estimate, Pvalue=p.value, \n",
    "           mean_HC=estimate2, mean_GC=estimate1, CI_low=conf.low, CI_high=conf.high) \n",
    "\n",
    "    return(As)\n",
    "}"
   ]
  },
  {
   "cell_type": "code",
   "execution_count": 25,
   "id": "7575d82c-80b6-4f86-a79c-031e09cb74ef",
   "metadata": {},
   "outputs": [
    {
     "name": "stderr",
     "output_type": "stream",
     "text": [
      "--------------------->PRJEB21104\n",
      "\n",
      "`summarise()` has grouped output by 'Metric'. You can override using the `.groups` argument.\n",
      "\n",
      "Joining, by = \"Metric\"\n",
      "\n",
      "--------------------->PRJEB21497\n",
      "\n",
      "`summarise()` has grouped output by 'Metric'. You can override using the `.groups` argument.\n",
      "\n",
      "Joining, by = \"Metric\"\n",
      "\n",
      "--------------------->PRJEB26931\n",
      "\n",
      "`summarise()` has grouped output by 'Metric'. You can override using the `.groups` argument.\n",
      "\n",
      "Joining, by = \"Metric\"\n",
      "\n"
     ]
    }
   ],
   "source": [
    "PerStudy<-list()\n",
    "  for(p in Project){\n",
    "    message(\"--------------------->\", p)\n",
    "    PerStudy[[p]]<-Alpha_stat(p)\n",
    "  }"
   ]
  },
  {
   "cell_type": "code",
   "execution_count": 26,
   "id": "10af0501-d35c-4e35-ad0d-14b5566fd5ba",
   "metadata": {},
   "outputs": [
    {
     "name": "stderr",
     "output_type": "stream",
     "text": [
      "Computing profile confidence intervals ...\n",
      "\n",
      "Computing profile confidence intervals ...\n",
      "\n",
      "Computing profile confidence intervals ...\n",
      "\n"
     ]
    }
   ],
   "source": [
    "mod<-lapply(PerStudy, function(x) x$alpha_div) %>%\n",
    "  do.call(bind_rows, .) %>%\n",
    "  mutate(Diagnosis=factor(Diagnosis, levels=c(\"healthy\",\"gastric_cancer\"))) %>% \n",
    "  group_by(Metric)\n",
    "\n",
    "AlphaCombined<-tibble(BioProject=character(0), Metric=character(0), log2FC=numeric(0), \n",
    "                      Pvalue=numeric(0), mean_HC=numeric(0), mean_GC=numeric(0), \n",
    "                      CI_low=numeric(0), CI_high=numeric(0))  \n",
    "#AlphaCombined\n",
    "for(i in unique(mod$Metric)){\n",
    "  fit<-lmerTest:::lmer(log2FC~Diagnosis+(1|BioProject), data=subset(mod, Metric==i))\n",
    "  cf<-confint(fit,level = 0.95)\n",
    "  \n",
    "  AlphaCombined<-bind_rows(AlphaCombined, tibble(\n",
    "    BioProject=\"Combined\", \n",
    "    Metric=i, \n",
    "    log2FC=summary(fit)$coefficients[\"Diagnosisgastric_cancer\", \"Estimate\"],  \n",
    "    Pvalue=anova(fit)$`Pr(>F)`,  \n",
    "    mean_HC=NA, \n",
    "    mean_GC=NA, \n",
    "    CI_low=cf[\"Diagnosisgastric_cancer\",1],\n",
    "    CI_high=cf[\"Diagnosisgastric_cancer\",2] \n",
    "  ))\n",
    "}"
   ]
  },
  {
   "cell_type": "code",
   "execution_count": 27,
   "id": "482cb756-b230-4a47-9cc9-6fe30b0ed157",
   "metadata": {},
   "outputs": [
    {
     "name": "stderr",
     "output_type": "stream",
     "text": [
      "Joining, by = \"BioProject\"\n",
      "\n"
     ]
    }
   ],
   "source": [
    "NSamples<-\n",
    "  lapply(names(PerStudy), function(x) tibble(BioProject=x, Nsamples=length(unique(PerStudy[[x]]$alpha_div$SampleID)))) %>% \n",
    "  do.call(bind_rows, .) %>% \n",
    "  arrange(desc(Nsamples)) %>% \n",
    "  mutate(Study=paste0(BioProject, \" (n=\", Nsamples,\")\")) %>% \n",
    "  bind_rows(tibble(BioProject=\"Combined\", Study=\"Combined\")) %>%\n",
    "  mutate(Study=factor(Study, levels=rev(Study)))\n",
    "         \n",
    "\n",
    "res<- lapply(PerStudy, function(x) x$AlphaDiversity_Stats) %>%\n",
    "do.call(bind_rows, .) %>%\n",
    "bind_rows(AlphaCombined) %>%\n",
    "mutate(Significance=case_when(\n",
    "Pvalue<0.05 & log2FC>0 ~ \"* higher in GC\",\n",
    "Pvalue<0.05 & log2FC<0 ~ \"* higher in healthy\",\n",
    "TRUE~\"ns\"\n",
    ")) %>%\n",
    "ungroup() %>%\n",
    "mutate(Metric=factor(Metric, levels=alphas))%>%\n",
    "left_join(NSamples) \n",
    "       \n"
   ]
  },
  {
   "cell_type": "code",
   "execution_count": 28,
   "id": "8ae10f44-c3a6-43eb-9e3c-24b39e8487dc",
   "metadata": {},
   "outputs": [
    {
     "data": {
      "image/png": "[encoded data removed]",
      "text/plain": [
       "plot without title"
      ]
     },
     "metadata": {
      "image/png": {
       "height": 420,
       "width": 420
      }
     },
     "output_type": "display_data"
    }
   ],
   "source": [
    "res <- res %>% mutate(Metric = recode(Metric,'shannon'='Shannon',\n",
    "                     'faith_pd'=\"Faith's PD\",'observed_otus'='Observed ASVs'))\n",
    "\n",
    "ggplot(res,aes(x=log2FC, y=BioProject, color=Significance)) +  \n",
    "geom_vline(xintercept = 0, linetype=\"dashed\", color=\"grey50\") +\n",
    "geom_errorbarh(aes(xmin=CI_low, xmax=CI_high), height=0 ) +\n",
    "geom_point() +\n",
    "facet_grid(~Metric, scales=\"free_x\") +\n",
    "theme_MicrobeR() +\n",
    "scale_color_manual(values=c(Lcolor, \"black\"))  +\n",
    "theme(panel.border = element_blank(), axis.line = element_line()) +\n",
    "# theme(axis.text.x=element_text(angle=45, hjust=1,size=7),\n",
    "#       axis.text = element_text(size = 9,colour = 'black'))+\n",
    "             labs(title='healthy vs GC',y='Cohort')+set_front(9)+xlab('log2(fold difference)')\n",
    "\n",
    "ggsave(\"figures/healthy_vs_GC_forestplot_withhp.pdf\", device=\"pdf\", height=2.5, width=5.5, useDingbats=F)\n",
    "write.csv(res,'healthy_vs_GC_logFC_result_withhp.csv')"
   ]
  },
  {
   "cell_type": "code",
   "execution_count": 30,
   "id": "d726015f-840c-4fc2-b3a9-1b892ab4fa9f",
   "metadata": {
    "collapsed": true,
    "jupyter": {
     "outputs_hidden": true
    },
    "tags": []
   },
   "outputs": [
    {
     "data": {
      "text/html": [
       "<table>\n",
       "<caption>A tibble: 12 × 11</caption>\n",
       "<thead>\n",
       "\t<tr><th scope=col>BioProject</th><th scope=col>Metric</th><th scope=col>log2FC</th><th scope=col>Pvalue</th><th scope=col>mean_HC</th><th scope=col>mean_GC</th><th scope=col>CI_low</th><th scope=col>CI_high</th><th scope=col>Significance</th><th scope=col>Nsamples</th><th scope=col>Study</th></tr>\n",
       "\t<tr><th scope=col>&lt;chr&gt;</th><th scope=col>&lt;fct&gt;</th><th scope=col>&lt;dbl&gt;</th><th scope=col>&lt;dbl&gt;</th><th scope=col>&lt;dbl&gt;</th><th scope=col>&lt;dbl&gt;</th><th scope=col>&lt;dbl&gt;</th><th scope=col>&lt;dbl&gt;</th><th scope=col>&lt;chr&gt;</th><th scope=col>&lt;int&gt;</th><th scope=col>&lt;fct&gt;</th></tr>\n",
       "</thead>\n",
       "<tbody>\n",
       "\t<tr><td>PRJEB21104</td><td>Faith's PD   </td><td>-1.913725078</td><td>2.660363e-02</td><td> 1.567382e-16</td><td>-1.913725078</td><td>-3.54311413</td><td>-0.2843360</td><td>* higher in healthy</td><td> 26</td><td>PRJEB21104 (n=26) </td></tr>\n",
       "\t<tr><td>PRJEB21104</td><td>Observed ASVs</td><td>-3.021344857</td><td>2.412658e-02</td><td>-4.179727e-16</td><td>-3.021344857</td><td>-5.53482433</td><td>-0.5078654</td><td>* higher in healthy</td><td> 26</td><td>PRJEB21104 (n=26) </td></tr>\n",
       "\t<tr><td>PRJEB21104</td><td>Shannon      </td><td>-3.669099592</td><td>3.207839e-02</td><td>-7.835792e-17</td><td>-3.669099592</td><td>-6.93637512</td><td>-0.4018241</td><td>* higher in healthy</td><td> 26</td><td>PRJEB21104 (n=26) </td></tr>\n",
       "\t<tr><td>PRJEB21497</td><td>Faith's PD   </td><td> 0.271960900</td><td>1.310435e-01</td><td>-1.850372e-16</td><td> 0.271960900</td><td>-0.08807381</td><td> 0.6319956</td><td>ns                 </td><td> 30</td><td>PRJEB21497 (n=30) </td></tr>\n",
       "\t<tr><td>PRJEB21497</td><td>Observed ASVs</td><td> 0.475331090</td><td>7.576414e-02</td><td>-1.973971e-16</td><td> 0.475331090</td><td>-0.05367791</td><td> 1.0043401</td><td>ns                 </td><td> 30</td><td>PRJEB21497 (n=30) </td></tr>\n",
       "\t<tr><td>PRJEB21497</td><td>Shannon      </td><td> 0.008523685</td><td>9.827865e-01</td><td>-5.551115e-17</td><td> 0.008523685</td><td>-0.80033370</td><td> 0.8173811</td><td>ns                 </td><td> 30</td><td>PRJEB21497 (n=30) </td></tr>\n",
       "\t<tr><td>PRJEB26931</td><td>Faith's PD   </td><td>-1.065953500</td><td>2.159380e-15</td><td>-9.515617e-17</td><td>-1.065953500</td><td>-1.30131075</td><td>-0.8305963</td><td>* higher in healthy</td><td>140</td><td>PRJEB26931 (n=140)</td></tr>\n",
       "\t<tr><td>PRJEB26931</td><td>Observed ASVs</td><td>-1.327806075</td><td>4.844665e-16</td><td>-7.928725e-17</td><td>-1.327806075</td><td>-1.61282539</td><td>-1.0427868</td><td>* higher in healthy</td><td>140</td><td>PRJEB26931 (n=140)</td></tr>\n",
       "\t<tr><td>PRJEB26931</td><td>Shannon      </td><td>-0.973650583</td><td>3.187014e-09</td><td>-5.947599e-17</td><td>-0.973650583</td><td>-1.27653121</td><td>-0.6707700</td><td>* higher in healthy</td><td>140</td><td>PRJEB26931 (n=140)</td></tr>\n",
       "\t<tr><td>Combined  </td><td>Shannon      </td><td>-1.154371413</td><td>3.773649e-08</td><td>           NA</td><td>          NA</td><td>-1.54581312</td><td>-0.7539818</td><td>* higher in healthy</td><td> NA</td><td>Combined          </td></tr>\n",
       "\t<tr><td>Combined  </td><td>Faith's PD   </td><td>-0.966652086</td><td>1.914602e-13</td><td>           NA</td><td>          NA</td><td>-1.20680265</td><td>-0.7271179</td><td>* higher in healthy</td><td> NA</td><td>Combined          </td></tr>\n",
       "\t<tr><td>Combined  </td><td>Observed ASVs</td><td>-1.261744731</td><td>2.628660e-12</td><td>           NA</td><td>          NA</td><td>-1.59250925</td><td>-0.9296220</td><td>* higher in healthy</td><td> NA</td><td>Combined          </td></tr>\n",
       "</tbody>\n",
       "</table>\n"
      ],
      "text/latex": [
       "A tibble: 12 × 11\n",
       "\\begin{tabular}{lllllllllll}\n",
       " BioProject & Metric & log2FC & Pvalue & mean\\_HC & mean\\_GC & CI\\_low & CI\\_high & Significance & Nsamples & Study\\\\\n",
       " <chr> & <fct> & <dbl> & <dbl> & <dbl> & <dbl> & <dbl> & <dbl> & <chr> & <int> & <fct>\\\\\n",
       "\\hline\n",
       "\t PRJEB21104 & Faith's PD    & -1.913725078 & 2.660363e-02 &  1.567382e-16 & -1.913725078 & -3.54311413 & -0.2843360 & * higher in healthy &  26 & PRJEB21104 (n=26) \\\\\n",
       "\t PRJEB21104 & Observed ASVs & -3.021344857 & 2.412658e-02 & -4.179727e-16 & -3.021344857 & -5.53482433 & -0.5078654 & * higher in healthy &  26 & PRJEB21104 (n=26) \\\\\n",
       "\t PRJEB21104 & Shannon       & -3.669099592 & 3.207839e-02 & -7.835792e-17 & -3.669099592 & -6.93637512 & -0.4018241 & * higher in healthy &  26 & PRJEB21104 (n=26) \\\\\n",
       "\t PRJEB21497 & Faith's PD    &  0.271960900 & 1.310435e-01 & -1.850372e-16 &  0.271960900 & -0.08807381 &  0.6319956 & ns                  &  30 & PRJEB21497 (n=30) \\\\\n",
       "\t PRJEB21497 & Observed ASVs &  0.475331090 & 7.576414e-02 & -1.973971e-16 &  0.475331090 & -0.05367791 &  1.0043401 & ns                  &  30 & PRJEB21497 (n=30) \\\\\n",
       "\t PRJEB21497 & Shannon       &  0.008523685 & 9.827865e-01 & -5.551115e-17 &  0.008523685 & -0.80033370 &  0.8173811 & ns                  &  30 & PRJEB21497 (n=30) \\\\\n",
       "\t PRJEB26931 & Faith's PD    & -1.065953500 & 2.159380e-15 & -9.515617e-17 & -1.065953500 & -1.30131075 & -0.8305963 & * higher in healthy & 140 & PRJEB26931 (n=140)\\\\\n",
       "\t PRJEB26931 & Observed ASVs & -1.327806075 & 4.844665e-16 & -7.928725e-17 & -1.327806075 & -1.61282539 & -1.0427868 & * higher in healthy & 140 & PRJEB26931 (n=140)\\\\\n",
       "\t PRJEB26931 & Shannon       & -0.973650583 & 3.187014e-09 & -5.947599e-17 & -0.973650583 & -1.27653121 & -0.6707700 & * higher in healthy & 140 & PRJEB26931 (n=140)\\\\\n",
       "\t Combined   & Shannon       & -1.154371413 & 3.773649e-08 &            NA &           NA & -1.54581312 & -0.7539818 & * higher in healthy &  NA & Combined          \\\\\n",
       "\t Combined   & Faith's PD    & -0.966652086 & 1.914602e-13 &            NA &           NA & -1.20680265 & -0.7271179 & * higher in healthy &  NA & Combined          \\\\\n",
       "\t Combined   & Observed ASVs & -1.261744731 & 2.628660e-12 &            NA &           NA & -1.59250925 & -0.9296220 & * higher in healthy &  NA & Combined          \\\\\n",
       "\\end{tabular}\n"
      ],
      "text/markdown": [
       "\n",
       "A tibble: 12 × 11\n",
       "\n",
       "| BioProject &lt;chr&gt; | Metric &lt;fct&gt; | log2FC &lt;dbl&gt; | Pvalue &lt;dbl&gt; | mean_HC &lt;dbl&gt; | mean_GC &lt;dbl&gt; | CI_low &lt;dbl&gt; | CI_high &lt;dbl&gt; | Significance &lt;chr&gt; | Nsamples &lt;int&gt; | Study &lt;fct&gt; |\n",
       "|---|---|---|---|---|---|---|---|---|---|---|\n",
       "| PRJEB21104 | Faith's PD    | -1.913725078 | 2.660363e-02 |  1.567382e-16 | -1.913725078 | -3.54311413 | -0.2843360 | * higher in healthy |  26 | PRJEB21104 (n=26)  |\n",
       "| PRJEB21104 | Observed ASVs | -3.021344857 | 2.412658e-02 | -4.179727e-16 | -3.021344857 | -5.53482433 | -0.5078654 | * higher in healthy |  26 | PRJEB21104 (n=26)  |\n",
       "| PRJEB21104 | Shannon       | -3.669099592 | 3.207839e-02 | -7.835792e-17 | -3.669099592 | -6.93637512 | -0.4018241 | * higher in healthy |  26 | PRJEB21104 (n=26)  |\n",
       "| PRJEB21497 | Faith's PD    |  0.271960900 | 1.310435e-01 | -1.850372e-16 |  0.271960900 | -0.08807381 |  0.6319956 | ns                  |  30 | PRJEB21497 (n=30)  |\n",
       "| PRJEB21497 | Observed ASVs |  0.475331090 | 7.576414e-02 | -1.973971e-16 |  0.475331090 | -0.05367791 |  1.0043401 | ns                  |  30 | PRJEB21497 (n=30)  |\n",
       "| PRJEB21497 | Shannon       |  0.008523685 | 9.827865e-01 | -5.551115e-17 |  0.008523685 | -0.80033370 |  0.8173811 | ns                  |  30 | PRJEB21497 (n=30)  |\n",
       "| PRJEB26931 | Faith's PD    | -1.065953500 | 2.159380e-15 | -9.515617e-17 | -1.065953500 | -1.30131075 | -0.8305963 | * higher in healthy | 140 | PRJEB26931 (n=140) |\n",
       "| PRJEB26931 | Observed ASVs | -1.327806075 | 4.844665e-16 | -7.928725e-17 | -1.327806075 | -1.61282539 | -1.0427868 | * higher in healthy | 140 | PRJEB26931 (n=140) |\n",
       "| PRJEB26931 | Shannon       | -0.973650583 | 3.187014e-09 | -5.947599e-17 | -0.973650583 | -1.27653121 | -0.6707700 | * higher in healthy | 140 | PRJEB26931 (n=140) |\n",
       "| Combined   | Shannon       | -1.154371413 | 3.773649e-08 |            NA |           NA | -1.54581312 | -0.7539818 | * higher in healthy |  NA | Combined           |\n",
       "| Combined   | Faith's PD    | -0.966652086 | 1.914602e-13 |            NA |           NA | -1.20680265 | -0.7271179 | * higher in healthy |  NA | Combined           |\n",
       "| Combined   | Observed ASVs | -1.261744731 | 2.628660e-12 |            NA |           NA | -1.59250925 | -0.9296220 | * higher in healthy |  NA | Combined           |\n",
       "\n"
      ],
      "text/plain": [
       "   BioProject Metric        log2FC       Pvalue       mean_HC      \n",
       "1  PRJEB21104 Faith's PD    -1.913725078 2.660363e-02  1.567382e-16\n",
       "2  PRJEB21104 Observed ASVs -3.021344857 2.412658e-02 -4.179727e-16\n",
       "3  PRJEB21104 Shannon       -3.669099592 3.207839e-02 -7.835792e-17\n",
       "4  PRJEB21497 Faith's PD     0.271960900 1.310435e-01 -1.850372e-16\n",
       "5  PRJEB21497 Observed ASVs  0.475331090 7.576414e-02 -1.973971e-16\n",
       "6  PRJEB21497 Shannon        0.008523685 9.827865e-01 -5.551115e-17\n",
       "7  PRJEB26931 Faith's PD    -1.065953500 2.159380e-15 -9.515617e-17\n",
       "8  PRJEB26931 Observed ASVs -1.327806075 4.844665e-16 -7.928725e-17\n",
       "9  PRJEB26931 Shannon       -0.973650583 3.187014e-09 -5.947599e-17\n",
       "10 Combined   Shannon       -1.154371413 3.773649e-08            NA\n",
       "11 Combined   Faith's PD    -0.966652086 1.914602e-13            NA\n",
       "12 Combined   Observed ASVs -1.261744731 2.628660e-12            NA\n",
       "   mean_GC      CI_low      CI_high    Significance        Nsamples\n",
       "1  -1.913725078 -3.54311413 -0.2843360 * higher in healthy  26     \n",
       "2  -3.021344857 -5.53482433 -0.5078654 * higher in healthy  26     \n",
       "3  -3.669099592 -6.93637512 -0.4018241 * higher in healthy  26     \n",
       "4   0.271960900 -0.08807381  0.6319956 ns                   30     \n",
       "5   0.475331090 -0.05367791  1.0043401 ns                   30     \n",
       "6   0.008523685 -0.80033370  0.8173811 ns                   30     \n",
       "7  -1.065953500 -1.30131075 -0.8305963 * higher in healthy 140     \n",
       "8  -1.327806075 -1.61282539 -1.0427868 * higher in healthy 140     \n",
       "9  -0.973650583 -1.27653121 -0.6707700 * higher in healthy 140     \n",
       "10           NA -1.54581312 -0.7539818 * higher in healthy  NA     \n",
       "11           NA -1.20680265 -0.7271179 * higher in healthy  NA     \n",
       "12           NA -1.59250925 -0.9296220 * higher in healthy  NA     \n",
       "   Study             \n",
       "1  PRJEB21104 (n=26) \n",
       "2  PRJEB21104 (n=26) \n",
       "3  PRJEB21104 (n=26) \n",
       "4  PRJEB21497 (n=30) \n",
       "5  PRJEB21497 (n=30) \n",
       "6  PRJEB21497 (n=30) \n",
       "7  PRJEB26931 (n=140)\n",
       "8  PRJEB26931 (n=140)\n",
       "9  PRJEB26931 (n=140)\n",
       "10 Combined          \n",
       "11 Combined          \n",
       "12 Combined          "
      ]
     },
     "metadata": {},
     "output_type": "display_data"
    }
   ],
   "source": [
    "hgc <-res\n",
    "hgc"
   ]
  },
  {
   "cell_type": "markdown",
   "id": "3dbb374d-5991-4055-90df-3bcbd9cf5e85",
   "metadata": {},
   "source": [
    "## gastritis vs IM"
   ]
  },
  {
   "cell_type": "code",
   "execution_count": null,
   "id": "adb8148d-7024-4789-85b5-02112dc3973b",
   "metadata": {},
   "outputs": [],
   "source": []
  },
  {
   "cell_type": "code",
   "execution_count": 31,
   "id": "7ed6464c-2394-4e80-96e1-cd61978f4b46",
   "metadata": {},
   "outputs": [
    {
     "data": {
      "text/plain": [
       "\n",
       "                PRJEB21104                 PRJEB21497 \n",
       "                        54                         30 \n",
       "                PRJEB22107                 PRJEB26931 \n",
       "                        26                        235 \n",
       "         PRJNA310127_China         PRJNA310127_Mexico \n",
       "                       154                        123 \n",
       "PRJNA375772_Inner_Mongolia          PRJNA375772_Xi_an \n",
       "                        92                        135 \n",
       "               PRJNA428883                PRJNA481413 \n",
       "                       705                        285 \n",
       " PRJNA481413 gastric fluid                PRJNA495436 \n",
       "                        96                         32 "
      ]
     },
     "metadata": {},
     "output_type": "display_data"
    }
   ],
   "source": [
    "table(md$bioproject)"
   ]
  },
  {
   "cell_type": "code",
   "execution_count": 32,
   "id": "5440f24b-1faa-41fe-a8c8-4924a6c055b1",
   "metadata": {},
   "outputs": [],
   "source": [
    "Project=c('PRJEB21104','PRJEB26931','PRJNA375772_Xi_an','PRJNA481413')"
   ]
  },
  {
   "cell_type": "code",
   "execution_count": 33,
   "id": "1363d99c-0785-4b95-b566-146ca66040c5",
   "metadata": {},
   "outputs": [
    {
     "data": {
      "text/plain": [
       "\n",
       "       gastric_cancer             gastritis               healthy \n",
       "                 1301                   361                    97 \n",
       "intestinal_metaplasia \n",
       "                  208 "
      ]
     },
     "metadata": {},
     "output_type": "display_data"
    }
   ],
   "source": [
    "table(md$Diagnosis)"
   ]
  },
  {
   "cell_type": "code",
   "execution_count": 34,
   "id": "3620504b-587e-47fb-812a-e042bb634be2",
   "metadata": {},
   "outputs": [],
   "source": [
    "Alpha_stat<- function(p){\n",
    "\n",
    "\n",
    "    As <-list()\n",
    "\n",
    "    As$md <-subset(md,bioproject==p) %>% subset(Diagnosis=='gastritis'| Diagnosis=='intestinal_metaplasia') %>%\n",
    "    mutate(Diagnosis=factor(Diagnosis, levels=c(\"intestinal_metaplasia\",\"gastritis\")))\n",
    "    for (Alpha in alphas){\n",
    "        min_alpha=min(As$md[which(As$md[Alpha]!=0),Alpha])\n",
    "        As$md[which(As$md[Alpha]==0),Alpha]<- min_alpha \n",
    "    }\n",
    "\n",
    "\n",
    "    As$alpha_div <- As$md %>%\n",
    "    as_tibble() %>%  \n",
    "    gather( key=\"Metric\", value=\"Diversity\",shannon,faith_pd, observed_otus) %>% \n",
    "    select(SampleID,BioProject, Diagnosis, Metric, Diversity)\n",
    "    \n",
    "\n",
    "    As$alpha_div <- As$alpha_div %>%\n",
    "    left_join(\n",
    "        As$alpha_div %>%\n",
    "        group_by(Metric, Diagnosis) %>%\n",
    "        summarize(mean=mean(log2(Diversity))) %>%  \n",
    "       spread(key=Diagnosis, value=mean) %>%\n",
    "       rename(mean_log2CG=gastritis, mean_log2IM=intestinal_metaplasia)  \n",
    "    ) %>%\n",
    "\n",
    "    #mutate(log2FC=log2(Diversity)-mean_log2CG) \n",
    "    mutate(log2FC=log2(Diversity)-mean_log2CG)\n",
    "\n",
    "\n",
    "    As$AlphaDiversity_Stats <-\n",
    "    As$alpha_div %>%\n",
    "    group_by(Metric) %>% \n",
    "    do(\n",
    "      broom::tidy(t.test(log2FC~Diagnosis, data=., conf.int=TRUE, conf.level=0.95))\n",
    "    ) %>%\n",
    "    mutate(BioProject= p) %>%\n",
    "    select(BioProject, Metric, log2FC=estimate, Pvalue=p.value, \n",
    "           mean_CG=estimate2, mean_IM=estimate1, CI_low=conf.low, CI_high=conf.high)\n",
    "\n",
    "    return(As)\n",
    "}"
   ]
  },
  {
   "cell_type": "code",
   "execution_count": 35,
   "id": "fc75b6a6-f7b3-45bb-80a2-d8634dc88fcb",
   "metadata": {
    "tags": []
   },
   "outputs": [
    {
     "name": "stderr",
     "output_type": "stream",
     "text": [
      "--------------------->PRJEB21104\n",
      "\n",
      "`summarise()` has grouped output by 'Metric'. You can override using the `.groups` argument.\n",
      "\n",
      "Joining, by = \"Metric\"\n",
      "\n",
      "--------------------->PRJEB26931\n",
      "\n",
      "`summarise()` has grouped output by 'Metric'. You can override using the `.groups` argument.\n",
      "\n",
      "Joining, by = \"Metric\"\n",
      "\n",
      "--------------------->PRJNA375772_Xi_an\n",
      "\n",
      "`summarise()` has grouped output by 'Metric'. You can override using the `.groups` argument.\n",
      "\n",
      "Joining, by = \"Metric\"\n",
      "\n",
      "--------------------->PRJNA481413\n",
      "\n",
      "`summarise()` has grouped output by 'Metric'. You can override using the `.groups` argument.\n",
      "\n",
      "Joining, by = \"Metric\"\n",
      "\n"
     ]
    }
   ],
   "source": [
    "PerStudy<-list()\n",
    "  for(p in Project){\n",
    "    message(\"--------------------->\", p)\n",
    "    PerStudy[[p]]<-Alpha_stat(p)\n",
    "  }"
   ]
  },
  {
   "cell_type": "code",
   "execution_count": 36,
   "id": "a42f743b-0ea1-4e44-8f6a-3aa8f7859f24",
   "metadata": {},
   "outputs": [
    {
     "data": {
      "text/html": [
       "<table>\n",
       "<caption>A grouped_df: 3 × 8</caption>\n",
       "<thead>\n",
       "\t<tr><th scope=col>BioProject</th><th scope=col>Metric</th><th scope=col>log2FC</th><th scope=col>Pvalue</th><th scope=col>mean_CG</th><th scope=col>mean_IM</th><th scope=col>CI_low</th><th scope=col>CI_high</th></tr>\n",
       "\t<tr><th scope=col>&lt;chr&gt;</th><th scope=col>&lt;chr&gt;</th><th scope=col>&lt;dbl&gt;</th><th scope=col>&lt;dbl&gt;</th><th scope=col>&lt;dbl&gt;</th><th scope=col>&lt;dbl&gt;</th><th scope=col>&lt;dbl&gt;</th><th scope=col>&lt;dbl&gt;</th></tr>\n",
       "</thead>\n",
       "<tbody>\n",
       "\t<tr><td>PRJEB26931</td><td>faith_pd     </td><td>-0.14597658</td><td>0.09535703</td><td>-3.791243e-16</td><td>-0.14597658</td><td>-0.3180856</td><td>0.02613243</td></tr>\n",
       "\t<tr><td>PRJEB26931</td><td>observed_otus</td><td>-0.18130875</td><td>0.12276968</td><td> 3.899743e-16</td><td>-0.18130875</td><td>-0.4126459</td><td>0.05002840</td></tr>\n",
       "\t<tr><td>PRJEB26931</td><td>shannon      </td><td>-0.04877504</td><td>0.57078536</td><td>-1.623527e-17</td><td>-0.04877504</td><td>-0.2194607</td><td>0.12191059</td></tr>\n",
       "</tbody>\n",
       "</table>\n"
      ],
      "text/latex": [
       "A grouped\\_df: 3 × 8\n",
       "\\begin{tabular}{llllllll}\n",
       " BioProject & Metric & log2FC & Pvalue & mean\\_CG & mean\\_IM & CI\\_low & CI\\_high\\\\\n",
       " <chr> & <chr> & <dbl> & <dbl> & <dbl> & <dbl> & <dbl> & <dbl>\\\\\n",
       "\\hline\n",
       "\t PRJEB26931 & faith\\_pd      & -0.14597658 & 0.09535703 & -3.791243e-16 & -0.14597658 & -0.3180856 & 0.02613243\\\\\n",
       "\t PRJEB26931 & observed\\_otus & -0.18130875 & 0.12276968 &  3.899743e-16 & -0.18130875 & -0.4126459 & 0.05002840\\\\\n",
       "\t PRJEB26931 & shannon       & -0.04877504 & 0.57078536 & -1.623527e-17 & -0.04877504 & -0.2194607 & 0.12191059\\\\\n",
       "\\end{tabular}\n"
      ],
      "text/markdown": [
       "\n",
       "A grouped_df: 3 × 8\n",
       "\n",
       "| BioProject &lt;chr&gt; | Metric &lt;chr&gt; | log2FC &lt;dbl&gt; | Pvalue &lt;dbl&gt; | mean_CG &lt;dbl&gt; | mean_IM &lt;dbl&gt; | CI_low &lt;dbl&gt; | CI_high &lt;dbl&gt; |\n",
       "|---|---|---|---|---|---|---|---|\n",
       "| PRJEB26931 | faith_pd      | -0.14597658 | 0.09535703 | -3.791243e-16 | -0.14597658 | -0.3180856 | 0.02613243 |\n",
       "| PRJEB26931 | observed_otus | -0.18130875 | 0.12276968 |  3.899743e-16 | -0.18130875 | -0.4126459 | 0.05002840 |\n",
       "| PRJEB26931 | shannon       | -0.04877504 | 0.57078536 | -1.623527e-17 | -0.04877504 | -0.2194607 | 0.12191059 |\n",
       "\n"
      ],
      "text/plain": [
       "  BioProject Metric        log2FC      Pvalue     mean_CG       mean_IM    \n",
       "1 PRJEB26931 faith_pd      -0.14597658 0.09535703 -3.791243e-16 -0.14597658\n",
       "2 PRJEB26931 observed_otus -0.18130875 0.12276968  3.899743e-16 -0.18130875\n",
       "3 PRJEB26931 shannon       -0.04877504 0.57078536 -1.623527e-17 -0.04877504\n",
       "  CI_low     CI_high   \n",
       "1 -0.3180856 0.02613243\n",
       "2 -0.4126459 0.05002840\n",
       "3 -0.2194607 0.12191059"
      ]
     },
     "metadata": {},
     "output_type": "display_data"
    }
   ],
   "source": [
    "PerStudy$PRJEB26931$AlphaDiversity_Stats"
   ]
  },
  {
   "cell_type": "code",
   "execution_count": 37,
   "id": "a2b4e3f5-cb86-426c-a6b3-e8ecd52db6ce",
   "metadata": {
    "collapsed": true,
    "jupyter": {
     "outputs_hidden": true
    },
    "tags": []
   },
   "outputs": [
    {
     "name": "stderr",
     "output_type": "stream",
     "text": [
      "boundary (singular) fit: see ?isSingular\n",
      "\n",
      "Computing profile confidence intervals ...\n",
      "\n",
      "boundary (singular) fit: see ?isSingular\n",
      "\n",
      "Computing profile confidence intervals ...\n",
      "\n",
      "boundary (singular) fit: see ?isSingular\n",
      "\n",
      "Computing profile confidence intervals ...\n",
      "\n"
     ]
    }
   ],
   "source": [
    "mod<-lapply(PerStudy, function(x) x$alpha_div) %>%\n",
    "  do.call(bind_rows, .) %>%\n",
    "  mutate(Diagnosis=factor(Diagnosis, levels=c(\"gastritis\",\"intestinal_metaplasia\"))) %>% \n",
    "  group_by(Metric)\n",
    "\n",
    "AlphaCombined<-tibble(BioProject=character(0), Metric=character(0), log2FC=numeric(0), \n",
    "                      Pvalue=numeric(0), mean_CG=numeric(0), mean_IM=numeric(0), \n",
    "                      CI_low=numeric(0), CI_high=numeric(0))  \n",
    "#AlphaCombined\n",
    "for(i in unique(mod$Metric)){\n",
    "  fit<-lmerTest:::lmer(log2FC~Diagnosis+(1|BioProject), data=subset(mod, Metric==i))\n",
    "  cf<-confint(fit,level = 0.95)\n",
    "  \n",
    "  AlphaCombined<-bind_rows(AlphaCombined, tibble(\n",
    "    BioProject=\"Combined\", \n",
    "    Metric=i, \n",
    "    log2FC=summary(fit)$coefficients[\"Diagnosisintestinal_metaplasia\", \"Estimate\"],  \n",
    "    Pvalue=anova(fit)$`Pr(>F)`,  \n",
    "    mean_CG=NA, \n",
    "    mean_IM=NA, \n",
    "    CI_low=cf[\"Diagnosisintestinal_metaplasia\",1], \n",
    "    CI_high=cf[\"Diagnosisintestinal_metaplasia\",2] \n",
    "  ))\n",
    "}"
   ]
  },
  {
   "cell_type": "code",
   "execution_count": null,
   "id": "da3ff888-96c3-4728-a7f4-461b2b3ad9e5",
   "metadata": {},
   "outputs": [],
   "source": []
  },
  {
   "cell_type": "code",
   "execution_count": 38,
   "id": "bbd1591d-e51b-467e-8542-650e07bf710d",
   "metadata": {},
   "outputs": [
    {
     "name": "stderr",
     "output_type": "stream",
     "text": [
      "Joining, by = \"BioProject\"\n",
      "\n"
     ]
    }
   ],
   "source": [
    "NSamples<-\n",
    "  lapply(names(PerStudy), function(x) tibble(BioProject=x, Nsamples=length(unique(PerStudy[[x]]$alpha_div$SampleID)))) %>% \n",
    "  do.call(bind_rows, .) %>% \n",
    "  arrange(desc(Nsamples)) %>% \n",
    "  mutate(Study=paste0(BioProject, \" (n=\", Nsamples,\")\")) %>% \n",
    "  bind_rows(tibble(BioProject=\"Combined\", Study=\"Combined\")) %>%\n",
    "  mutate(Study=factor(Study, levels=rev(Study)))\n",
    "         \n",
    "\n",
    "res<- lapply(PerStudy, function(x) x$AlphaDiversity_Stats) %>%\n",
    "do.call(bind_rows, .) %>%\n",
    "bind_rows(AlphaCombined) %>%\n",
    "mutate(Significance=case_when(\n",
    "Pvalue<0.05 & log2FC>0 ~ \"* higher in IM\",\n",
    "Pvalue<0.05 & log2FC<0 ~ \"* higher in gastritis\",\n",
    "TRUE~\"ns\"\n",
    ")) %>%\n",
    "ungroup() %>%\n",
    "mutate(Metric=factor(Metric, levels=alphas))%>%\n",
    "left_join(NSamples) \n",
    "       \n",
    "         "
   ]
  },
  {
   "cell_type": "code",
   "execution_count": 39,
   "id": "4fe5b4d2-9431-4229-89a8-41b31987fa2e",
   "metadata": {},
   "outputs": [
    {
     "data": {
      "image/png": "[encoded data removed]",
      "text/plain": [
       "plot without title"
      ]
     },
     "metadata": {
      "image/png": {
       "height": 420,
       "width": 420
      }
     },
     "output_type": "display_data"
    }
   ],
   "source": [
    "res <- res %>% mutate(Metric = recode(Metric,'shannon'='Shannon',\n",
    "                     'faith_pd'=\"Faith's PD\",'observed_otus'='Observed ASVs'))\n",
    "\n",
    "ggplot(res,aes(x=log2FC, y=BioProject, color=Significance)) +  \n",
    "geom_vline(xintercept = 0, linetype=\"dashed\", color=\"grey50\") +\n",
    "geom_errorbarh(aes(xmin=CI_low, xmax=CI_high), height=0 ) +\n",
    "geom_point() +\n",
    "facet_grid(~Metric, scales=\"free_x\") +\n",
    "theme_MicrobeR() +\n",
    "scale_color_manual(values=c(Lcolor, \"black\"))  +\n",
    "theme(panel.border = element_blank(), axis.line = element_line()) +\n",
    "# theme(axis.text.x=element_text(angle=45, hjust=1,size=7),\n",
    "#       axis.text = element_text(size = 9,colour = 'black'))+\n",
    "             labs(title='gastritis vs IM',y='Cohort')+set_front(9)+xlab('log2(fold difference)')\n",
    "\n",
    "ggsave(\"figures/gastritis_vs_IM_forestplot_withhp.pdf\", device=\"pdf\", height=2.8, width=5.9, useDingbats=F)\n",
    "write.csv(res,'gastritis_vs_IM_logFC_result_withhp.csv')   "
   ]
  },
  {
   "cell_type": "code",
   "execution_count": 42,
   "id": "c9ea8859-8d45-4273-b13c-ea88dc124f83",
   "metadata": {},
   "outputs": [],
   "source": [
    "gim <- res"
   ]
  },
  {
   "cell_type": "markdown",
   "id": "3bfe0001-d27b-44a7-8fbc-743cb3c9c49f",
   "metadata": {},
   "source": [
    "## gastritis vs GC"
   ]
  },
  {
   "cell_type": "code",
   "execution_count": 43,
   "id": "d6ea15d0-dc2c-4846-a426-65fcad3704d7",
   "metadata": {},
   "outputs": [
    {
     "data": {
      "text/plain": [
       "\n",
       "                PRJEB21104                 PRJEB21497 \n",
       "                        54                         30 \n",
       "                PRJEB22107                 PRJEB26931 \n",
       "                        26                        235 \n",
       "         PRJNA310127_China         PRJNA310127_Mexico \n",
       "                       154                        123 \n",
       "PRJNA375772_Inner_Mongolia          PRJNA375772_Xi_an \n",
       "                        92                        135 \n",
       "               PRJNA428883                PRJNA481413 \n",
       "                       705                        285 \n",
       " PRJNA481413 gastric fluid                PRJNA495436 \n",
       "                        96                         32 "
      ]
     },
     "metadata": {},
     "output_type": "display_data"
    }
   ],
   "source": [
    "table(md$bioproject)"
   ]
  },
  {
   "cell_type": "code",
   "execution_count": 44,
   "id": "2a51c347-503f-4980-966d-a29b7326426b",
   "metadata": {},
   "outputs": [],
   "source": [
    "Project<-c('PRJEB21104','PRJEB26931','PRJNA375772_Inner_Mongolia','PRJNA375772_Xi_an',\n",
    "'PRJNA481413')"
   ]
  },
  {
   "cell_type": "code",
   "execution_count": null,
   "id": "e7f7348d-a20f-404f-a7a4-6f906a3ed7a9",
   "metadata": {},
   "outputs": [],
   "source": []
  },
  {
   "cell_type": "code",
   "execution_count": 45,
   "id": "b29c8d47-ac8b-485e-9da8-2c069d0ed450",
   "metadata": {},
   "outputs": [],
   "source": [
    "Alpha_stat<- function(p){\n",
    "\n",
    "\n",
    "    As <-list()\n",
    "\n",
    "    As$md <-subset(md,bioproject==p) %>% subset(Diagnosis=='gastritis'| Diagnosis=='gastric_cancer')\n",
    "\n",
    "    for (Alpha in alphas){\n",
    "        min_alpha=min(As$md[which(As$md[Alpha]!=0),Alpha])\n",
    "        As$md[which(As$md[Alpha]==0),Alpha]<- min_alpha \n",
    "    }\n",
    "\n",
    "\n",
    "    As$alpha_div <- As$md %>%\n",
    "    as_tibble() %>%  \n",
    "    gather( key=\"Metric\", value=\"Diversity\",shannon,faith_pd, observed_otus) %>% \n",
    "    select(SampleID,BioProject, Diagnosis, Metric, Diversity)\n",
    "    #alpha_div\n",
    "\n",
    "    As$alpha_div <- As$alpha_div %>%\n",
    "    left_join(\n",
    "        As$alpha_div %>%\n",
    "        group_by(Metric, Diagnosis) %>%\n",
    "        summarize(mean=mean(log2(Diversity))) %>% \n",
    "       spread(key=Diagnosis, value=mean) %>%\n",
    "       rename(mean_log2GC=gastric_cancer, mean_log2CG=gastritis)\n",
    "    ) %>%\n",
    "\n",
    "    mutate(log2FC=log2(Diversity)-mean_log2CG)\n",
    "\n",
    "\n",
    "\n",
    "    As$AlphaDiversity_Stats <-\n",
    "    As$alpha_div %>%\n",
    "    group_by(Metric) %>% \n",
    "    do(\n",
    "      broom::tidy(t.test(log2FC~Diagnosis, data=., conf.int=TRUE, conf.level=0.95))\n",
    "    ) %>%\n",
    "    mutate(BioProject= p) %>%\n",
    "    select(BioProject, Metric, log2FC=estimate, Pvalue=p.value, mean_CG=estimate2, \n",
    "           mean_GC=estimate1, CI_low=conf.low, CI_high=conf.high)\n",
    "\n",
    "    return(As)\n",
    "}"
   ]
  },
  {
   "cell_type": "code",
   "execution_count": 46,
   "id": "204a3174-ddce-4506-a84e-d8b45cc75f40",
   "metadata": {},
   "outputs": [
    {
     "name": "stderr",
     "output_type": "stream",
     "text": [
      "--------------------->PRJEB21104\n",
      "\n",
      "`summarise()` has grouped output by 'Metric'. You can override using the `.groups` argument.\n",
      "\n",
      "Joining, by = \"Metric\"\n",
      "\n",
      "--------------------->PRJEB26931\n",
      "\n",
      "`summarise()` has grouped output by 'Metric'. You can override using the `.groups` argument.\n",
      "\n",
      "Joining, by = \"Metric\"\n",
      "\n",
      "--------------------->PRJNA375772_Inner_Mongolia\n",
      "\n",
      "`summarise()` has grouped output by 'Metric'. You can override using the `.groups` argument.\n",
      "\n",
      "Joining, by = \"Metric\"\n",
      "\n",
      "--------------------->PRJNA375772_Xi_an\n",
      "\n",
      "`summarise()` has grouped output by 'Metric'. You can override using the `.groups` argument.\n",
      "\n",
      "Joining, by = \"Metric\"\n",
      "\n",
      "--------------------->PRJNA481413\n",
      "\n",
      "`summarise()` has grouped output by 'Metric'. You can override using the `.groups` argument.\n",
      "\n",
      "Joining, by = \"Metric\"\n",
      "\n"
     ]
    }
   ],
   "source": [
    "PerStudy<-list()\n",
    "  for(p in Project){\n",
    "    message(\"--------------------->\", p)\n",
    "    PerStudy[[p]]<-Alpha_stat(p)\n",
    "  }\n"
   ]
  },
  {
   "cell_type": "code",
   "execution_count": null,
   "id": "366e4c76-29a3-4d60-ad4c-b733c38acefb",
   "metadata": {},
   "outputs": [],
   "source": []
  },
  {
   "cell_type": "code",
   "execution_count": 47,
   "id": "4f660672-9d11-4486-8b4a-8073631a34bd",
   "metadata": {},
   "outputs": [
    {
     "name": "stderr",
     "output_type": "stream",
     "text": [
      "Computing profile confidence intervals ...\n",
      "\n",
      "Computing profile confidence intervals ...\n",
      "\n",
      "Computing profile confidence intervals ...\n",
      "\n"
     ]
    }
   ],
   "source": [
    "mod<-lapply(PerStudy, function(x) x$alpha_div) %>%\n",
    "  do.call(bind_rows, .) %>%\n",
    "  mutate(Diagnosis=factor(Diagnosis, levels=c(\"gastritis\",\"gastric_cancer\"))) %>%\n",
    "  group_by(Metric)\n",
    "\n",
    "AlphaCombined<-tibble(BioProject=character(0), Metric=character(0), log2FC=numeric(0), Pvalue=numeric(0), \n",
    "                      mean_CG=numeric(0), \n",
    "                      mean_GC=numeric(0), CI_low=numeric(0), CI_high=numeric(0)) \n",
    "#AlphaCombined\n",
    "for(i in unique(mod$Metric)){\n",
    "  fit<-lmerTest:::lmer(log2FC~Diagnosis+(1|BioProject), data=subset(mod, Metric==i))\n",
    "  cf<-confint(fit,level = 0.95)\n",
    "  \n",
    "  AlphaCombined<-bind_rows(AlphaCombined, tibble(\n",
    "    BioProject=\"Combined\", \n",
    "    Metric=i, \n",
    "    log2FC=summary(fit)$coefficients[\"Diagnosisgastric_cancer\", \"Estimate\"], \n",
    "    Pvalue=anova(fit)$`Pr(>F)`, \n",
    "    mean_CG=NA, \n",
    "    mean_GC=NA, \n",
    "    CI_low=cf[\"Diagnosisgastric_cancer\",1], \n",
    "    CI_high=cf[\"Diagnosisgastric_cancer\",2]\n",
    "  ))\n",
    "}"
   ]
  },
  {
   "cell_type": "code",
   "execution_count": 48,
   "id": "0d8f1295-4ded-46f5-ae21-ac6547cb45c1",
   "metadata": {},
   "outputs": [
    {
     "name": "stderr",
     "output_type": "stream",
     "text": [
      "Joining, by = \"BioProject\"\n",
      "\n"
     ]
    }
   ],
   "source": [
    "NSamples<-\n",
    "  lapply(names(PerStudy), function(x) tibble(BioProject=x, Nsamples=length(unique(PerStudy[[x]]$alpha_div$SampleID)))) %>% \n",
    "  do.call(bind_rows, .) %>% \n",
    "  arrange(desc(Nsamples)) %>% \n",
    "  mutate(Study=paste0(BioProject, \" (n=\", Nsamples,\")\")) %>% \n",
    "  bind_rows(tibble(BioProject=\"Combined\", Study=\"Combined\")) %>%\n",
    "  mutate(Study=factor(Study, levels=rev(Study)))\n",
    "         \n",
    "\n",
    "res<- lapply(PerStudy, function(x) x$AlphaDiversity_Stats) %>%\n",
    "do.call(bind_rows, .) %>%\n",
    "bind_rows(AlphaCombined) %>%\n",
    "mutate(Significance=case_when(\n",
    "Pvalue<0.05 & log2FC>0 ~ \"* higher in GC\",\n",
    "Pvalue<0.05 & log2FC<0 ~ \"* higher in gastritis\",\n",
    "TRUE~\"ns\"\n",
    ")) %>%\n",
    "ungroup() %>%\n",
    "mutate(Metric=factor(Metric, levels=alphas))%>%\n",
    "left_join(NSamples) "
   ]
  },
  {
   "cell_type": "code",
   "execution_count": 49,
   "id": "62c3c866-4dc9-4b32-9f72-67c170b6a9da",
   "metadata": {},
   "outputs": [
    {
     "data": {
      "image/png": "[encoded data removed]",
      "text/plain": [
       "plot without title"
      ]
     },
     "metadata": {
      "image/png": {
       "height": 420,
       "width": 420
      }
     },
     "output_type": "display_data"
    }
   ],
   "source": [
    "res <- res %>% mutate(Metric = recode(Metric,'shannon'='Shannon',\n",
    "                     'faith_pd'=\"Faith's PD\",'observed_otus'='Observed ASVs'))\n",
    "\n",
    "ggplot(res,aes(x=log2FC, y=BioProject, color=Significance)) +  \n",
    "geom_vline(xintercept = 0, linetype=\"dashed\", color=\"grey50\") +\n",
    "geom_errorbarh(aes(xmin=CI_low, xmax=CI_high), height=0 ) +\n",
    "geom_point() +\n",
    "facet_grid(~Metric, scales=\"free_x\") +\n",
    "theme_MicrobeR() +\n",
    "scale_color_manual(values=c(Lcolor, Hcolor, \"black\"))  +\n",
    " theme(panel.border = element_blank(), axis.line = element_line()) +\n",
    "# theme(axis.text.x=element_text(angle=45, hjust=1,size=7),\n",
    "#      axis.text = element_text(size = 9,colour = 'black'))+\n",
    "         labs(title='gastritis vs GC',y='Cohort')+set_front(9)+xlab('log2(fold difference)')\n",
    "ggsave(\"figures/gastritis_vs_GC_forestplot_withhp.pdf\", device=\"pdf\", height=2.7, width=6.5, useDingbats=F)\n",
    "write.csv(res,'gastritis_vs_GC_logFC_result_withhp.csv')             \n"
   ]
  },
  {
   "cell_type": "code",
   "execution_count": 51,
   "id": "37b7af25-4391-4d65-9000-ff0e0b212f13",
   "metadata": {},
   "outputs": [],
   "source": [
    "ggc <- res"
   ]
  },
  {
   "cell_type": "markdown",
   "id": "d98c70e6-b5f5-4042-9438-8595c406e563",
   "metadata": {},
   "source": [
    "## IM vs GC"
   ]
  },
  {
   "cell_type": "code",
   "execution_count": null,
   "id": "0fef96e8-51f2-4daa-80cf-6e68df625244",
   "metadata": {},
   "outputs": [],
   "source": []
  },
  {
   "cell_type": "code",
   "execution_count": 52,
   "id": "aa17dd4f-6c95-440a-b81a-cc60b94acaaa",
   "metadata": {},
   "outputs": [],
   "source": [
    "Project<-c('PRJEB21104','PRJEB26931','PRJNA375772_Xi_an',\n",
    "'PRJNA481413')"
   ]
  },
  {
   "cell_type": "code",
   "execution_count": 53,
   "id": "48c6b4b5-5900-4b39-b23f-c266734b3a1a",
   "metadata": {},
   "outputs": [],
   "source": [
    "Alpha_stat<- function(p){\n",
    "\n",
    "\n",
    "    As <-list()\n",
    "\n",
    "    As$md <-subset(md,bioproject==p) %>% subset(Diagnosis=='intestinal_metaplasia'| Diagnosis=='gastric_cancer')\n",
    "\n",
    "    for (Alpha in alphas){\n",
    "        min_alpha=min(As$md[which(As$md[Alpha]!=0),Alpha])\n",
    "        As$md[which(As$md[Alpha]==0),Alpha]<- min_alpha \n",
    "    }\n",
    "\n",
    "\n",
    "    As$alpha_div <- As$md %>%\n",
    "    as_tibble() %>%  \n",
    "    gather( key=\"Metric\", value=\"Diversity\",shannon,faith_pd, observed_otus) %>% \n",
    "    select(SampleID,BioProject, Diagnosis, Metric, Diversity)\n",
    "    #alpha_div\n",
    "\n",
    "    As$alpha_div <- As$alpha_div %>%\n",
    "    left_join(\n",
    "        As$alpha_div %>%\n",
    "        group_by(Metric, Diagnosis) %>%\n",
    "        summarize(mean=mean(log2(Diversity))) %>%  \n",
    "       spread(key=Diagnosis, value=mean) %>%\n",
    "       rename(mean_log2GC=gastric_cancer, mean_log2IM=intestinal_metaplasia) #*\n",
    "    ) %>%\n",
    "\n",
    "    mutate(log2FC=log2(Diversity)-mean_log2IM)\n",
    "\n",
    "\n",
    "\n",
    "    As$AlphaDiversity_Stats <-\n",
    "    As$alpha_div %>%\n",
    "    group_by(Metric) %>% \n",
    "    do(\n",
    "      broom::tidy(t.test(log2FC~Diagnosis, data=., conf.int=TRUE, conf.level=0.95))\n",
    "    ) %>%\n",
    "    mutate(BioProject= p) %>%\n",
    "    select(BioProject, Metric, log2FC=estimate, Pvalue=p.value, mean_IM=estimate2, \n",
    "           mean_GC=estimate1, CI_low=conf.low, CI_high=conf.high)\n",
    "\n",
    "    return(As)\n",
    "}"
   ]
  },
  {
   "cell_type": "code",
   "execution_count": 54,
   "id": "a5c1aeb6-8701-4378-b637-841a177889df",
   "metadata": {},
   "outputs": [
    {
     "name": "stderr",
     "output_type": "stream",
     "text": [
      "--------------------->PRJEB21104\n",
      "\n",
      "`summarise()` has grouped output by 'Metric'. You can override using the `.groups` argument.\n",
      "\n",
      "Joining, by = \"Metric\"\n",
      "\n",
      "--------------------->PRJEB26931\n",
      "\n",
      "`summarise()` has grouped output by 'Metric'. You can override using the `.groups` argument.\n",
      "\n",
      "Joining, by = \"Metric\"\n",
      "\n",
      "--------------------->PRJNA375772_Xi_an\n",
      "\n",
      "`summarise()` has grouped output by 'Metric'. You can override using the `.groups` argument.\n",
      "\n",
      "Joining, by = \"Metric\"\n",
      "\n",
      "--------------------->PRJNA481413\n",
      "\n",
      "`summarise()` has grouped output by 'Metric'. You can override using the `.groups` argument.\n",
      "\n",
      "Joining, by = \"Metric\"\n",
      "\n"
     ]
    }
   ],
   "source": [
    "PerStudy<-list()\n",
    "  for(p in Project){\n",
    "    message(\"--------------------->\", p)\n",
    "    PerStudy[[p]]<-Alpha_stat(p)\n",
    "  }"
   ]
  },
  {
   "cell_type": "code",
   "execution_count": 55,
   "id": "48ca6fd3-ab40-44fd-937d-3e19bed5f839",
   "metadata": {},
   "outputs": [
    {
     "name": "stderr",
     "output_type": "stream",
     "text": [
      "Computing profile confidence intervals ...\n",
      "\n",
      "Computing profile confidence intervals ...\n",
      "\n",
      "Computing profile confidence intervals ...\n",
      "\n"
     ]
    }
   ],
   "source": [
    "mod<-lapply(PerStudy, function(x) x$alpha_div) %>%\n",
    "  do.call(bind_rows, .) %>%\n",
    "  mutate(Diagnosis=factor(Diagnosis, levels=c(\"intestinal_metaplasia\",\"gastric_cancer\"))) %>%\n",
    "  group_by(Metric)\n",
    "\n",
    "AlphaCombined<-tibble(BioProject=character(0), Metric=character(0), log2FC=numeric(0), Pvalue=numeric(0), \n",
    "                      mean_IM=numeric(0), \n",
    "                      mean_GC=numeric(0), CI_low=numeric(0), CI_high=numeric(0))\n",
    "#AlphaCombined\n",
    "for(i in unique(mod$Metric)){\n",
    "  fit<-lmerTest:::lmer(log2FC~Diagnosis+(1|BioProject), data=subset(mod, Metric==i))\n",
    "  cf<-confint(fit,level = 0.95)\n",
    "  \n",
    "  AlphaCombined<-bind_rows(AlphaCombined, tibble(\n",
    "    BioProject=\"Combined\", \n",
    "    Metric=i, \n",
    "    log2FC=summary(fit)$coefficients[\"Diagnosisgastric_cancer\", \"Estimate\"], \n",
    "    Pvalue=anova(fit)$`Pr(>F)`,  \n",
    "    mean_IM=NA, \n",
    "    mean_GC=NA, \n",
    "    CI_low=cf[\"Diagnosisgastric_cancer\",1], \n",
    "    CI_high=cf[\"Diagnosisgastric_cancer\",2]\n",
    "  ))\n",
    "}"
   ]
  },
  {
   "cell_type": "code",
   "execution_count": 56,
   "id": "5f6aca62-434a-4668-9068-712b6a5214b5",
   "metadata": {},
   "outputs": [
    {
     "name": "stderr",
     "output_type": "stream",
     "text": [
      "Joining, by = \"BioProject\"\n",
      "\n"
     ]
    }
   ],
   "source": [
    "NSamples<-\n",
    "  lapply(names(PerStudy), function(x) tibble(BioProject=x, Nsamples=length(unique(PerStudy[[x]]$alpha_div$SampleID)))) %>% \n",
    "  do.call(bind_rows, .) %>% \n",
    "  arrange(desc(Nsamples)) %>% \n",
    "  mutate(Study=paste0(BioProject, \" (n=\", Nsamples,\")\")) %>% \n",
    "  bind_rows(tibble(BioProject=\"Combined\", Study=\"Combined\")) %>%\n",
    "  mutate(Study=factor(Study, levels=rev(Study)))\n",
    "         \n",
    "\n",
    "res<- lapply(PerStudy, function(x) x$AlphaDiversity_Stats) %>%\n",
    "do.call(bind_rows, .) %>%\n",
    "bind_rows(AlphaCombined) %>%\n",
    "mutate(Significance=case_when(\n",
    "Pvalue<0.05 & log2FC>0 ~ \"* higher in GC\",\n",
    "Pvalue<0.05 & log2FC<0 ~ \"* higher in IM\",\n",
    "TRUE~\"ns\"\n",
    ")) %>%\n",
    "ungroup() %>%\n",
    "mutate(Metric=factor(Metric, levels=alphas))%>%\n",
    "left_join(NSamples) "
   ]
  },
  {
   "cell_type": "code",
   "execution_count": 57,
   "id": "61baee8c-9c0a-42ee-9714-dd90176910af",
   "metadata": {},
   "outputs": [
    {
     "data": {
      "image/png": "[encoded data removed]",
      "text/plain": [
       "plot without title"
      ]
     },
     "metadata": {
      "image/png": {
       "height": 420,
       "width": 420
      }
     },
     "output_type": "display_data"
    }
   ],
   "source": [
    "res <- res %>% mutate(Metric = recode(Metric,'shannon'='Shannon',\n",
    "                     'faith_pd'=\"Faith's PD\",'observed_otus'='Observed ASVs'))\n",
    "\n",
    "ggplot(res,aes(x=log2FC, y=BioProject, color=Significance)) +  \n",
    "geom_vline(xintercept = 0, linetype=\"dashed\", color=\"grey50\") +\n",
    "geom_errorbarh(aes(xmin=CI_low, xmax=CI_high), height=0 ) +\n",
    "geom_point() +\n",
    "facet_grid(~Metric, scales=\"free_x\") +\n",
    "theme_MicrobeR() +\n",
    "scale_color_manual(values=c( Hcolor, Lcolor,\"black\"))  +\n",
    " theme(panel.border = element_blank(), axis.line = element_line()) +\n",
    "# theme(axis.text.x=element_text(angle=45, hjust=1,size=7),\n",
    "#      axis.text = element_text(size = 9,colour = 'black'))+\n",
    "         labs(title='IM vs GC',y='Cohort')+set_front(9)+xlab('log2(fold difference)')\n",
    "ggsave(\"figures/IM_vs_GC_forestplot_withhp.pdf\", device=\"pdf\", height=2.8, width=5.9, useDingbats=F)\n",
    "write.csv(res,'IM_vs_GC_logFC_result_withhp.csv')             \n"
   ]
  },
  {
   "cell_type": "code",
   "execution_count": 58,
   "id": "8a03ce72-55f4-4535-af1f-251c29737a5c",
   "metadata": {},
   "outputs": [],
   "source": [
    "imgc <- res"
   ]
  },
  {
   "cell_type": "code",
   "execution_count": null,
   "id": "3d8b78aa-8ed1-4530-b9af-77013c8b3336",
   "metadata": {},
   "outputs": [],
   "source": []
  },
  {
   "cell_type": "markdown",
   "id": "7132ec75-ec0e-4a21-a36d-ac88b0d5d71f",
   "metadata": {},
   "source": [
    "# combined"
   ]
  },
  {
   "cell_type": "code",
   "execution_count": 60,
   "id": "e71c0504-0144-412c-913e-01e8567e09a4",
   "metadata": {},
   "outputs": [
    {
     "data": {
      "text/html": [
       "<table>\n",
       "<caption>A tibble: 12 × 8</caption>\n",
       "<thead>\n",
       "\t<tr><th scope=col>BioProject</th><th scope=col>Metric</th><th scope=col>log2FC</th><th scope=col>Pvalue</th><th scope=col>CI_low</th><th scope=col>CI_high</th><th scope=col>Significance</th><th scope=col>Compare_status</th></tr>\n",
       "\t<tr><th scope=col>&lt;chr&gt;</th><th scope=col>&lt;fct&gt;</th><th scope=col>&lt;dbl&gt;</th><th scope=col>&lt;dbl&gt;</th><th scope=col>&lt;dbl&gt;</th><th scope=col>&lt;dbl&gt;</th><th scope=col>&lt;chr&gt;</th><th scope=col>&lt;chr&gt;</th></tr>\n",
       "</thead>\n",
       "<tbody>\n",
       "\t<tr><td>PRJEB21104</td><td>Faith's PD   </td><td>-3.07325893</td><td>3.476433e-11</td><td>-3.6255537</td><td>-2.52096414</td><td>**</td><td>Healthy vs. Gastritis</td></tr>\n",
       "\t<tr><td>PRJEB21104</td><td>Observed ASVs</td><td>-4.79373436</td><td>1.031158e-11</td><td>-5.5931821</td><td>-3.99428661</td><td>**</td><td>Healthy vs. Gastritis</td></tr>\n",
       "\t<tr><td>PRJEB21104</td><td>Shannon      </td><td>-5.85113845</td><td>8.907160e-11</td><td>-6.9126968</td><td>-4.78958012</td><td>**</td><td>Healthy vs. Gastritis</td></tr>\n",
       "\t<tr><td>PRJEB22107</td><td>Faith's PD   </td><td>-0.33323723</td><td>3.321939e-01</td><td>-1.0686143</td><td> 0.40213984</td><td>ns</td><td>Healthy vs. Gastritis</td></tr>\n",
       "\t<tr><td>PRJEB22107</td><td>Observed ASVs</td><td>-0.62911246</td><td>2.320040e-01</td><td>-1.7298767</td><td> 0.47165178</td><td>ns</td><td>Healthy vs. Gastritis</td></tr>\n",
       "\t<tr><td>PRJEB22107</td><td>Shannon      </td><td>-0.76567289</td><td>3.833594e-01</td><td>-2.6802613</td><td> 1.14891548</td><td>ns</td><td>Healthy vs. Gastritis</td></tr>\n",
       "\t<tr><td>PRJEB26931</td><td>Faith's PD   </td><td>-0.05504591</td><td>5.977499e-01</td><td>-0.2614608</td><td> 0.15136902</td><td>ns</td><td>Healthy vs. Gastritis</td></tr>\n",
       "\t<tr><td>PRJEB26931</td><td>Observed ASVs</td><td>-0.05585266</td><td>6.619069e-01</td><td>-0.3087443</td><td> 0.19703903</td><td>ns</td><td>Healthy vs. Gastritis</td></tr>\n",
       "\t<tr><td>PRJEB26931</td><td>Shannon      </td><td>-0.16980484</td><td>1.152976e-01</td><td>-0.3819048</td><td> 0.04229514</td><td>ns</td><td>Healthy vs. Gastritis</td></tr>\n",
       "\t<tr><td>Combined  </td><td>Shannon      </td><td>-1.65705590</td><td>6.183093e-09</td><td>-2.1855531</td><td>-1.12637759</td><td>**</td><td>Healthy vs. Gastritis</td></tr>\n",
       "\t<tr><td>Combined  </td><td>Faith's PD   </td><td>-0.84024125</td><td>7.754667e-08</td><td>-1.1323920</td><td>-0.54672587</td><td>**</td><td>Healthy vs. Gastritis</td></tr>\n",
       "\t<tr><td>Combined  </td><td>Observed ASVs</td><td>-1.30576665</td><td>1.783391e-08</td><td>-1.7371139</td><td>-0.87289509</td><td>**</td><td>Healthy vs. Gastritis</td></tr>\n",
       "</tbody>\n",
       "</table>\n"
      ],
      "text/latex": [
       "A tibble: 12 × 8\n",
       "\\begin{tabular}{llllllll}\n",
       " BioProject & Metric & log2FC & Pvalue & CI\\_low & CI\\_high & Significance & Compare\\_status\\\\\n",
       " <chr> & <fct> & <dbl> & <dbl> & <dbl> & <dbl> & <chr> & <chr>\\\\\n",
       "\\hline\n",
       "\t PRJEB21104 & Faith's PD    & -3.07325893 & 3.476433e-11 & -3.6255537 & -2.52096414 & ** & Healthy vs. Gastritis\\\\\n",
       "\t PRJEB21104 & Observed ASVs & -4.79373436 & 1.031158e-11 & -5.5931821 & -3.99428661 & ** & Healthy vs. Gastritis\\\\\n",
       "\t PRJEB21104 & Shannon       & -5.85113845 & 8.907160e-11 & -6.9126968 & -4.78958012 & ** & Healthy vs. Gastritis\\\\\n",
       "\t PRJEB22107 & Faith's PD    & -0.33323723 & 3.321939e-01 & -1.0686143 &  0.40213984 & ns & Healthy vs. Gastritis\\\\\n",
       "\t PRJEB22107 & Observed ASVs & -0.62911246 & 2.320040e-01 & -1.7298767 &  0.47165178 & ns & Healthy vs. Gastritis\\\\\n",
       "\t PRJEB22107 & Shannon       & -0.76567289 & 3.833594e-01 & -2.6802613 &  1.14891548 & ns & Healthy vs. Gastritis\\\\\n",
       "\t PRJEB26931 & Faith's PD    & -0.05504591 & 5.977499e-01 & -0.2614608 &  0.15136902 & ns & Healthy vs. Gastritis\\\\\n",
       "\t PRJEB26931 & Observed ASVs & -0.05585266 & 6.619069e-01 & -0.3087443 &  0.19703903 & ns & Healthy vs. Gastritis\\\\\n",
       "\t PRJEB26931 & Shannon       & -0.16980484 & 1.152976e-01 & -0.3819048 &  0.04229514 & ns & Healthy vs. Gastritis\\\\\n",
       "\t Combined   & Shannon       & -1.65705590 & 6.183093e-09 & -2.1855531 & -1.12637759 & ** & Healthy vs. Gastritis\\\\\n",
       "\t Combined   & Faith's PD    & -0.84024125 & 7.754667e-08 & -1.1323920 & -0.54672587 & ** & Healthy vs. Gastritis\\\\\n",
       "\t Combined   & Observed ASVs & -1.30576665 & 1.783391e-08 & -1.7371139 & -0.87289509 & ** & Healthy vs. Gastritis\\\\\n",
       "\\end{tabular}\n"
      ],
      "text/markdown": [
       "\n",
       "A tibble: 12 × 8\n",
       "\n",
       "| BioProject &lt;chr&gt; | Metric &lt;fct&gt; | log2FC &lt;dbl&gt; | Pvalue &lt;dbl&gt; | CI_low &lt;dbl&gt; | CI_high &lt;dbl&gt; | Significance &lt;chr&gt; | Compare_status &lt;chr&gt; |\n",
       "|---|---|---|---|---|---|---|---|\n",
       "| PRJEB21104 | Faith's PD    | -3.07325893 | 3.476433e-11 | -3.6255537 | -2.52096414 | ** | Healthy vs. Gastritis |\n",
       "| PRJEB21104 | Observed ASVs | -4.79373436 | 1.031158e-11 | -5.5931821 | -3.99428661 | ** | Healthy vs. Gastritis |\n",
       "| PRJEB21104 | Shannon       | -5.85113845 | 8.907160e-11 | -6.9126968 | -4.78958012 | ** | Healthy vs. Gastritis |\n",
       "| PRJEB22107 | Faith's PD    | -0.33323723 | 3.321939e-01 | -1.0686143 |  0.40213984 | ns | Healthy vs. Gastritis |\n",
       "| PRJEB22107 | Observed ASVs | -0.62911246 | 2.320040e-01 | -1.7298767 |  0.47165178 | ns | Healthy vs. Gastritis |\n",
       "| PRJEB22107 | Shannon       | -0.76567289 | 3.833594e-01 | -2.6802613 |  1.14891548 | ns | Healthy vs. Gastritis |\n",
       "| PRJEB26931 | Faith's PD    | -0.05504591 | 5.977499e-01 | -0.2614608 |  0.15136902 | ns | Healthy vs. Gastritis |\n",
       "| PRJEB26931 | Observed ASVs | -0.05585266 | 6.619069e-01 | -0.3087443 |  0.19703903 | ns | Healthy vs. Gastritis |\n",
       "| PRJEB26931 | Shannon       | -0.16980484 | 1.152976e-01 | -0.3819048 |  0.04229514 | ns | Healthy vs. Gastritis |\n",
       "| Combined   | Shannon       | -1.65705590 | 6.183093e-09 | -2.1855531 | -1.12637759 | ** | Healthy vs. Gastritis |\n",
       "| Combined   | Faith's PD    | -0.84024125 | 7.754667e-08 | -1.1323920 | -0.54672587 | ** | Healthy vs. Gastritis |\n",
       "| Combined   | Observed ASVs | -1.30576665 | 1.783391e-08 | -1.7371139 | -0.87289509 | ** | Healthy vs. Gastritis |\n",
       "\n"
      ],
      "text/plain": [
       "   BioProject Metric        log2FC      Pvalue       CI_low     CI_high    \n",
       "1  PRJEB21104 Faith's PD    -3.07325893 3.476433e-11 -3.6255537 -2.52096414\n",
       "2  PRJEB21104 Observed ASVs -4.79373436 1.031158e-11 -5.5931821 -3.99428661\n",
       "3  PRJEB21104 Shannon       -5.85113845 8.907160e-11 -6.9126968 -4.78958012\n",
       "4  PRJEB22107 Faith's PD    -0.33323723 3.321939e-01 -1.0686143  0.40213984\n",
       "5  PRJEB22107 Observed ASVs -0.62911246 2.320040e-01 -1.7298767  0.47165178\n",
       "6  PRJEB22107 Shannon       -0.76567289 3.833594e-01 -2.6802613  1.14891548\n",
       "7  PRJEB26931 Faith's PD    -0.05504591 5.977499e-01 -0.2614608  0.15136902\n",
       "8  PRJEB26931 Observed ASVs -0.05585266 6.619069e-01 -0.3087443  0.19703903\n",
       "9  PRJEB26931 Shannon       -0.16980484 1.152976e-01 -0.3819048  0.04229514\n",
       "10 Combined   Shannon       -1.65705590 6.183093e-09 -2.1855531 -1.12637759\n",
       "11 Combined   Faith's PD    -0.84024125 7.754667e-08 -1.1323920 -0.54672587\n",
       "12 Combined   Observed ASVs -1.30576665 1.783391e-08 -1.7371139 -0.87289509\n",
       "   Significance Compare_status       \n",
       "1  **           Healthy vs. Gastritis\n",
       "2  **           Healthy vs. Gastritis\n",
       "3  **           Healthy vs. Gastritis\n",
       "4  ns           Healthy vs. Gastritis\n",
       "5  ns           Healthy vs. Gastritis\n",
       "6  ns           Healthy vs. Gastritis\n",
       "7  ns           Healthy vs. Gastritis\n",
       "8  ns           Healthy vs. Gastritis\n",
       "9  ns           Healthy vs. Gastritis\n",
       "10 **           Healthy vs. Gastritis\n",
       "11 **           Healthy vs. Gastritis\n",
       "12 **           Healthy vs. Gastritis"
      ]
     },
     "metadata": {},
     "output_type": "display_data"
    }
   ],
   "source": [
    "hg_c <- hg %>% #subset(BioProject=='Combined') %>% \n",
    "select(BioProject,Metric,log2FC,Pvalue,CI_low,CI_high)%>%\n",
    "mutate(Significance=case_when(\n",
    "Pvalue<0.01 ~ \"**\",\n",
    "Pvalue>0.05 ~ \"ns\",\n",
    "TRUE~\"*\"),Compare_status='Healthy vs. Gastritis')\n",
    "hg_c"
   ]
  },
  {
   "cell_type": "code",
   "execution_count": 61,
   "id": "fbb6c609-8e68-4843-8203-c9412ab0a3e3",
   "metadata": {},
   "outputs": [
    {
     "data": {
      "text/html": [
       "<table>\n",
       "<caption>A tibble: 12 × 8</caption>\n",
       "<thead>\n",
       "\t<tr><th scope=col>BioProject</th><th scope=col>Metric</th><th scope=col>log2FC</th><th scope=col>Pvalue</th><th scope=col>CI_low</th><th scope=col>CI_high</th><th scope=col>Significance</th><th scope=col>Compare_status</th></tr>\n",
       "\t<tr><th scope=col>&lt;chr&gt;</th><th scope=col>&lt;fct&gt;</th><th scope=col>&lt;dbl&gt;</th><th scope=col>&lt;dbl&gt;</th><th scope=col>&lt;dbl&gt;</th><th scope=col>&lt;dbl&gt;</th><th scope=col>&lt;chr&gt;</th><th scope=col>&lt;chr&gt;</th></tr>\n",
       "</thead>\n",
       "<tbody>\n",
       "\t<tr><td>PRJEB21104</td><td>Faith's PD   </td><td>-1.913725078</td><td>2.660363e-02</td><td>-3.54311413</td><td>-0.2843360</td><td>* </td><td>Healthy vs. GC</td></tr>\n",
       "\t<tr><td>PRJEB21104</td><td>Observed ASVs</td><td>-3.021344857</td><td>2.412658e-02</td><td>-5.53482433</td><td>-0.5078654</td><td>* </td><td>Healthy vs. GC</td></tr>\n",
       "\t<tr><td>PRJEB21104</td><td>Shannon      </td><td>-3.669099592</td><td>3.207839e-02</td><td>-6.93637512</td><td>-0.4018241</td><td>* </td><td>Healthy vs. GC</td></tr>\n",
       "\t<tr><td>PRJEB21497</td><td>Faith's PD   </td><td> 0.271960900</td><td>1.310435e-01</td><td>-0.08807381</td><td> 0.6319956</td><td>ns</td><td>Healthy vs. GC</td></tr>\n",
       "\t<tr><td>PRJEB21497</td><td>Observed ASVs</td><td> 0.475331090</td><td>7.576414e-02</td><td>-0.05367791</td><td> 1.0043401</td><td>ns</td><td>Healthy vs. GC</td></tr>\n",
       "\t<tr><td>PRJEB21497</td><td>Shannon      </td><td> 0.008523685</td><td>9.827865e-01</td><td>-0.80033370</td><td> 0.8173811</td><td>ns</td><td>Healthy vs. GC</td></tr>\n",
       "\t<tr><td>PRJEB26931</td><td>Faith's PD   </td><td>-1.065953500</td><td>2.159380e-15</td><td>-1.30131075</td><td>-0.8305963</td><td>**</td><td>Healthy vs. GC</td></tr>\n",
       "\t<tr><td>PRJEB26931</td><td>Observed ASVs</td><td>-1.327806075</td><td>4.844665e-16</td><td>-1.61282539</td><td>-1.0427868</td><td>**</td><td>Healthy vs. GC</td></tr>\n",
       "\t<tr><td>PRJEB26931</td><td>Shannon      </td><td>-0.973650583</td><td>3.187014e-09</td><td>-1.27653121</td><td>-0.6707700</td><td>**</td><td>Healthy vs. GC</td></tr>\n",
       "\t<tr><td>Combined  </td><td>Shannon      </td><td>-1.154371413</td><td>3.773649e-08</td><td>-1.54581312</td><td>-0.7539818</td><td>**</td><td>Healthy vs. GC</td></tr>\n",
       "\t<tr><td>Combined  </td><td>Faith's PD   </td><td>-0.966652086</td><td>1.914602e-13</td><td>-1.20680265</td><td>-0.7271179</td><td>**</td><td>Healthy vs. GC</td></tr>\n",
       "\t<tr><td>Combined  </td><td>Observed ASVs</td><td>-1.261744731</td><td>2.628660e-12</td><td>-1.59250925</td><td>-0.9296220</td><td>**</td><td>Healthy vs. GC</td></tr>\n",
       "</tbody>\n",
       "</table>\n"
      ],
      "text/latex": [
       "A tibble: 12 × 8\n",
       "\\begin{tabular}{llllllll}\n",
       " BioProject & Metric & log2FC & Pvalue & CI\\_low & CI\\_high & Significance & Compare\\_status\\\\\n",
       " <chr> & <fct> & <dbl> & <dbl> & <dbl> & <dbl> & <chr> & <chr>\\\\\n",
       "\\hline\n",
       "\t PRJEB21104 & Faith's PD    & -1.913725078 & 2.660363e-02 & -3.54311413 & -0.2843360 & *  & Healthy vs. GC\\\\\n",
       "\t PRJEB21104 & Observed ASVs & -3.021344857 & 2.412658e-02 & -5.53482433 & -0.5078654 & *  & Healthy vs. GC\\\\\n",
       "\t PRJEB21104 & Shannon       & -3.669099592 & 3.207839e-02 & -6.93637512 & -0.4018241 & *  & Healthy vs. GC\\\\\n",
       "\t PRJEB21497 & Faith's PD    &  0.271960900 & 1.310435e-01 & -0.08807381 &  0.6319956 & ns & Healthy vs. GC\\\\\n",
       "\t PRJEB21497 & Observed ASVs &  0.475331090 & 7.576414e-02 & -0.05367791 &  1.0043401 & ns & Healthy vs. GC\\\\\n",
       "\t PRJEB21497 & Shannon       &  0.008523685 & 9.827865e-01 & -0.80033370 &  0.8173811 & ns & Healthy vs. GC\\\\\n",
       "\t PRJEB26931 & Faith's PD    & -1.065953500 & 2.159380e-15 & -1.30131075 & -0.8305963 & ** & Healthy vs. GC\\\\\n",
       "\t PRJEB26931 & Observed ASVs & -1.327806075 & 4.844665e-16 & -1.61282539 & -1.0427868 & ** & Healthy vs. GC\\\\\n",
       "\t PRJEB26931 & Shannon       & -0.973650583 & 3.187014e-09 & -1.27653121 & -0.6707700 & ** & Healthy vs. GC\\\\\n",
       "\t Combined   & Shannon       & -1.154371413 & 3.773649e-08 & -1.54581312 & -0.7539818 & ** & Healthy vs. GC\\\\\n",
       "\t Combined   & Faith's PD    & -0.966652086 & 1.914602e-13 & -1.20680265 & -0.7271179 & ** & Healthy vs. GC\\\\\n",
       "\t Combined   & Observed ASVs & -1.261744731 & 2.628660e-12 & -1.59250925 & -0.9296220 & ** & Healthy vs. GC\\\\\n",
       "\\end{tabular}\n"
      ],
      "text/markdown": [
       "\n",
       "A tibble: 12 × 8\n",
       "\n",
       "| BioProject &lt;chr&gt; | Metric &lt;fct&gt; | log2FC &lt;dbl&gt; | Pvalue &lt;dbl&gt; | CI_low &lt;dbl&gt; | CI_high &lt;dbl&gt; | Significance &lt;chr&gt; | Compare_status &lt;chr&gt; |\n",
       "|---|---|---|---|---|---|---|---|\n",
       "| PRJEB21104 | Faith's PD    | -1.913725078 | 2.660363e-02 | -3.54311413 | -0.2843360 | *  | Healthy vs. GC |\n",
       "| PRJEB21104 | Observed ASVs | -3.021344857 | 2.412658e-02 | -5.53482433 | -0.5078654 | *  | Healthy vs. GC |\n",
       "| PRJEB21104 | Shannon       | -3.669099592 | 3.207839e-02 | -6.93637512 | -0.4018241 | *  | Healthy vs. GC |\n",
       "| PRJEB21497 | Faith's PD    |  0.271960900 | 1.310435e-01 | -0.08807381 |  0.6319956 | ns | Healthy vs. GC |\n",
       "| PRJEB21497 | Observed ASVs |  0.475331090 | 7.576414e-02 | -0.05367791 |  1.0043401 | ns | Healthy vs. GC |\n",
       "| PRJEB21497 | Shannon       |  0.008523685 | 9.827865e-01 | -0.80033370 |  0.8173811 | ns | Healthy vs. GC |\n",
       "| PRJEB26931 | Faith's PD    | -1.065953500 | 2.159380e-15 | -1.30131075 | -0.8305963 | ** | Healthy vs. GC |\n",
       "| PRJEB26931 | Observed ASVs | -1.327806075 | 4.844665e-16 | -1.61282539 | -1.0427868 | ** | Healthy vs. GC |\n",
       "| PRJEB26931 | Shannon       | -0.973650583 | 3.187014e-09 | -1.27653121 | -0.6707700 | ** | Healthy vs. GC |\n",
       "| Combined   | Shannon       | -1.154371413 | 3.773649e-08 | -1.54581312 | -0.7539818 | ** | Healthy vs. GC |\n",
       "| Combined   | Faith's PD    | -0.966652086 | 1.914602e-13 | -1.20680265 | -0.7271179 | ** | Healthy vs. GC |\n",
       "| Combined   | Observed ASVs | -1.261744731 | 2.628660e-12 | -1.59250925 | -0.9296220 | ** | Healthy vs. GC |\n",
       "\n"
      ],
      "text/plain": [
       "   BioProject Metric        log2FC       Pvalue       CI_low      CI_high   \n",
       "1  PRJEB21104 Faith's PD    -1.913725078 2.660363e-02 -3.54311413 -0.2843360\n",
       "2  PRJEB21104 Observed ASVs -3.021344857 2.412658e-02 -5.53482433 -0.5078654\n",
       "3  PRJEB21104 Shannon       -3.669099592 3.207839e-02 -6.93637512 -0.4018241\n",
       "4  PRJEB21497 Faith's PD     0.271960900 1.310435e-01 -0.08807381  0.6319956\n",
       "5  PRJEB21497 Observed ASVs  0.475331090 7.576414e-02 -0.05367791  1.0043401\n",
       "6  PRJEB21497 Shannon        0.008523685 9.827865e-01 -0.80033370  0.8173811\n",
       "7  PRJEB26931 Faith's PD    -1.065953500 2.159380e-15 -1.30131075 -0.8305963\n",
       "8  PRJEB26931 Observed ASVs -1.327806075 4.844665e-16 -1.61282539 -1.0427868\n",
       "9  PRJEB26931 Shannon       -0.973650583 3.187014e-09 -1.27653121 -0.6707700\n",
       "10 Combined   Shannon       -1.154371413 3.773649e-08 -1.54581312 -0.7539818\n",
       "11 Combined   Faith's PD    -0.966652086 1.914602e-13 -1.20680265 -0.7271179\n",
       "12 Combined   Observed ASVs -1.261744731 2.628660e-12 -1.59250925 -0.9296220\n",
       "   Significance Compare_status\n",
       "1  *            Healthy vs. GC\n",
       "2  *            Healthy vs. GC\n",
       "3  *            Healthy vs. GC\n",
       "4  ns           Healthy vs. GC\n",
       "5  ns           Healthy vs. GC\n",
       "6  ns           Healthy vs. GC\n",
       "7  **           Healthy vs. GC\n",
       "8  **           Healthy vs. GC\n",
       "9  **           Healthy vs. GC\n",
       "10 **           Healthy vs. GC\n",
       "11 **           Healthy vs. GC\n",
       "12 **           Healthy vs. GC"
      ]
     },
     "metadata": {},
     "output_type": "display_data"
    }
   ],
   "source": [
    "hgc_c <- hgc%>% #subset(BioProject=='Combined') %>% \n",
    "select(BioProject,Metric,log2FC,Pvalue,CI_low,CI_high)%>%\n",
    "mutate(Significance=case_when(\n",
    "Pvalue<0.01 ~ \"**\",\n",
    "Pvalue>0.05 ~ \"ns\",\n",
    "TRUE~\"*\"),Compare_status='Healthy vs. GC')\n",
    "hgc_c"
   ]
  },
  {
   "cell_type": "code",
   "execution_count": 62,
   "id": "b988f83d-ddb4-42f5-b500-6803b1ba01a4",
   "metadata": {},
   "outputs": [
    {
     "data": {
      "text/html": [
       "<table>\n",
       "<caption>A tibble: 15 × 8</caption>\n",
       "<thead>\n",
       "\t<tr><th scope=col>BioProject</th><th scope=col>Metric</th><th scope=col>log2FC</th><th scope=col>Pvalue</th><th scope=col>CI_low</th><th scope=col>CI_high</th><th scope=col>Significance</th><th scope=col>Compare_status</th></tr>\n",
       "\t<tr><th scope=col>&lt;chr&gt;</th><th scope=col>&lt;fct&gt;</th><th scope=col>&lt;dbl&gt;</th><th scope=col>&lt;dbl&gt;</th><th scope=col>&lt;dbl&gt;</th><th scope=col>&lt;dbl&gt;</th><th scope=col>&lt;chr&gt;</th><th scope=col>&lt;chr&gt;</th></tr>\n",
       "</thead>\n",
       "<tbody>\n",
       "\t<tr><td>PRJEB21104       </td><td>Faith's PD   </td><td> 1.091455728</td><td>0.12269586</td><td>-0.3628695</td><td> 2.54578097</td><td>ns</td><td>Gastritis vs. IM</td></tr>\n",
       "\t<tr><td>PRJEB21104       </td><td>Observed ASVs</td><td> 1.521649569</td><td>0.16210138</td><td>-0.7552240</td><td> 3.79852318</td><td>ns</td><td>Gastritis vs. IM</td></tr>\n",
       "\t<tr><td>PRJEB21104       </td><td>Shannon      </td><td> 1.559556577</td><td>0.29580261</td><td>-1.6625162</td><td> 4.78162933</td><td>ns</td><td>Gastritis vs. IM</td></tr>\n",
       "\t<tr><td>PRJEB26931       </td><td>Faith's PD   </td><td>-0.145976579</td><td>0.09535703</td><td>-0.3180856</td><td> 0.02613243</td><td>ns</td><td>Gastritis vs. IM</td></tr>\n",
       "\t<tr><td>PRJEB26931       </td><td>Observed ASVs</td><td>-0.181308751</td><td>0.12276968</td><td>-0.4126459</td><td> 0.05002840</td><td>ns</td><td>Gastritis vs. IM</td></tr>\n",
       "\t<tr><td>PRJEB26931       </td><td>Shannon      </td><td>-0.048775039</td><td>0.57078536</td><td>-0.2194607</td><td> 0.12191059</td><td>ns</td><td>Gastritis vs. IM</td></tr>\n",
       "\t<tr><td>PRJNA375772_Xi_an</td><td>Faith's PD   </td><td>-0.135821012</td><td>0.03338278</td><td>-0.2606888</td><td>-0.01095326</td><td>* </td><td>Gastritis vs. IM</td></tr>\n",
       "\t<tr><td>PRJNA375772_Xi_an</td><td>Observed ASVs</td><td>-0.184086046</td><td>0.05253142</td><td>-0.3702348</td><td> 0.00206272</td><td>ns</td><td>Gastritis vs. IM</td></tr>\n",
       "\t<tr><td>PRJNA375772_Xi_an</td><td>Shannon      </td><td>-0.061080470</td><td>0.41504065</td><td>-0.2093192</td><td> 0.08715829</td><td>ns</td><td>Gastritis vs. IM</td></tr>\n",
       "\t<tr><td>PRJNA481413      </td><td>Faith's PD   </td><td>-0.006368079</td><td>0.97787880</td><td>-0.4595267</td><td> 0.44679051</td><td>ns</td><td>Gastritis vs. IM</td></tr>\n",
       "\t<tr><td>PRJNA481413      </td><td>Observed ASVs</td><td> 0.029431722</td><td>0.92256644</td><td>-0.5679015</td><td> 0.62676490</td><td>ns</td><td>Gastritis vs. IM</td></tr>\n",
       "\t<tr><td>PRJNA481413      </td><td>Shannon      </td><td>-0.066969319</td><td>0.86810563</td><td>-0.8623608</td><td> 0.72842220</td><td>ns</td><td>Gastritis vs. IM</td></tr>\n",
       "\t<tr><td>Combined         </td><td>Shannon      </td><td> 0.002697063</td><td>0.98874394</td><td>-0.3717195</td><td> 0.37711363</td><td>ns</td><td>Gastritis vs. IM</td></tr>\n",
       "\t<tr><td>Combined         </td><td>Faith's PD   </td><td>-0.034885552</td><td>0.74820174</td><td>-0.2477099</td><td> 0.17793876</td><td>ns</td><td>Gastritis vs. IM</td></tr>\n",
       "\t<tr><td>Combined         </td><td>Observed ASVs</td><td>-0.024096947</td><td>0.86911766</td><td>-0.3104992</td><td> 0.26230532</td><td>ns</td><td>Gastritis vs. IM</td></tr>\n",
       "</tbody>\n",
       "</table>\n"
      ],
      "text/latex": [
       "A tibble: 15 × 8\n",
       "\\begin{tabular}{llllllll}\n",
       " BioProject & Metric & log2FC & Pvalue & CI\\_low & CI\\_high & Significance & Compare\\_status\\\\\n",
       " <chr> & <fct> & <dbl> & <dbl> & <dbl> & <dbl> & <chr> & <chr>\\\\\n",
       "\\hline\n",
       "\t PRJEB21104        & Faith's PD    &  1.091455728 & 0.12269586 & -0.3628695 &  2.54578097 & ns & Gastritis vs. IM\\\\\n",
       "\t PRJEB21104        & Observed ASVs &  1.521649569 & 0.16210138 & -0.7552240 &  3.79852318 & ns & Gastritis vs. IM\\\\\n",
       "\t PRJEB21104        & Shannon       &  1.559556577 & 0.29580261 & -1.6625162 &  4.78162933 & ns & Gastritis vs. IM\\\\\n",
       "\t PRJEB26931        & Faith's PD    & -0.145976579 & 0.09535703 & -0.3180856 &  0.02613243 & ns & Gastritis vs. IM\\\\\n",
       "\t PRJEB26931        & Observed ASVs & -0.181308751 & 0.12276968 & -0.4126459 &  0.05002840 & ns & Gastritis vs. IM\\\\\n",
       "\t PRJEB26931        & Shannon       & -0.048775039 & 0.57078536 & -0.2194607 &  0.12191059 & ns & Gastritis vs. IM\\\\\n",
       "\t PRJNA375772\\_Xi\\_an & Faith's PD    & -0.135821012 & 0.03338278 & -0.2606888 & -0.01095326 & *  & Gastritis vs. IM\\\\\n",
       "\t PRJNA375772\\_Xi\\_an & Observed ASVs & -0.184086046 & 0.05253142 & -0.3702348 &  0.00206272 & ns & Gastritis vs. IM\\\\\n",
       "\t PRJNA375772\\_Xi\\_an & Shannon       & -0.061080470 & 0.41504065 & -0.2093192 &  0.08715829 & ns & Gastritis vs. IM\\\\\n",
       "\t PRJNA481413       & Faith's PD    & -0.006368079 & 0.97787880 & -0.4595267 &  0.44679051 & ns & Gastritis vs. IM\\\\\n",
       "\t PRJNA481413       & Observed ASVs &  0.029431722 & 0.92256644 & -0.5679015 &  0.62676490 & ns & Gastritis vs. IM\\\\\n",
       "\t PRJNA481413       & Shannon       & -0.066969319 & 0.86810563 & -0.8623608 &  0.72842220 & ns & Gastritis vs. IM\\\\\n",
       "\t Combined          & Shannon       &  0.002697063 & 0.98874394 & -0.3717195 &  0.37711363 & ns & Gastritis vs. IM\\\\\n",
       "\t Combined          & Faith's PD    & -0.034885552 & 0.74820174 & -0.2477099 &  0.17793876 & ns & Gastritis vs. IM\\\\\n",
       "\t Combined          & Observed ASVs & -0.024096947 & 0.86911766 & -0.3104992 &  0.26230532 & ns & Gastritis vs. IM\\\\\n",
       "\\end{tabular}\n"
      ],
      "text/markdown": [
       "\n",
       "A tibble: 15 × 8\n",
       "\n",
       "| BioProject &lt;chr&gt; | Metric &lt;fct&gt; | log2FC &lt;dbl&gt; | Pvalue &lt;dbl&gt; | CI_low &lt;dbl&gt; | CI_high &lt;dbl&gt; | Significance &lt;chr&gt; | Compare_status &lt;chr&gt; |\n",
       "|---|---|---|---|---|---|---|---|\n",
       "| PRJEB21104        | Faith's PD    |  1.091455728 | 0.12269586 | -0.3628695 |  2.54578097 | ns | Gastritis vs. IM |\n",
       "| PRJEB21104        | Observed ASVs |  1.521649569 | 0.16210138 | -0.7552240 |  3.79852318 | ns | Gastritis vs. IM |\n",
       "| PRJEB21104        | Shannon       |  1.559556577 | 0.29580261 | -1.6625162 |  4.78162933 | ns | Gastritis vs. IM |\n",
       "| PRJEB26931        | Faith's PD    | -0.145976579 | 0.09535703 | -0.3180856 |  0.02613243 | ns | Gastritis vs. IM |\n",
       "| PRJEB26931        | Observed ASVs | -0.181308751 | 0.12276968 | -0.4126459 |  0.05002840 | ns | Gastritis vs. IM |\n",
       "| PRJEB26931        | Shannon       | -0.048775039 | 0.57078536 | -0.2194607 |  0.12191059 | ns | Gastritis vs. IM |\n",
       "| PRJNA375772_Xi_an | Faith's PD    | -0.135821012 | 0.03338278 | -0.2606888 | -0.01095326 | *  | Gastritis vs. IM |\n",
       "| PRJNA375772_Xi_an | Observed ASVs | -0.184086046 | 0.05253142 | -0.3702348 |  0.00206272 | ns | Gastritis vs. IM |\n",
       "| PRJNA375772_Xi_an | Shannon       | -0.061080470 | 0.41504065 | -0.2093192 |  0.08715829 | ns | Gastritis vs. IM |\n",
       "| PRJNA481413       | Faith's PD    | -0.006368079 | 0.97787880 | -0.4595267 |  0.44679051 | ns | Gastritis vs. IM |\n",
       "| PRJNA481413       | Observed ASVs |  0.029431722 | 0.92256644 | -0.5679015 |  0.62676490 | ns | Gastritis vs. IM |\n",
       "| PRJNA481413       | Shannon       | -0.066969319 | 0.86810563 | -0.8623608 |  0.72842220 | ns | Gastritis vs. IM |\n",
       "| Combined          | Shannon       |  0.002697063 | 0.98874394 | -0.3717195 |  0.37711363 | ns | Gastritis vs. IM |\n",
       "| Combined          | Faith's PD    | -0.034885552 | 0.74820174 | -0.2477099 |  0.17793876 | ns | Gastritis vs. IM |\n",
       "| Combined          | Observed ASVs | -0.024096947 | 0.86911766 | -0.3104992 |  0.26230532 | ns | Gastritis vs. IM |\n",
       "\n"
      ],
      "text/plain": [
       "   BioProject        Metric        log2FC       Pvalue     CI_low    \n",
       "1  PRJEB21104        Faith's PD     1.091455728 0.12269586 -0.3628695\n",
       "2  PRJEB21104        Observed ASVs  1.521649569 0.16210138 -0.7552240\n",
       "3  PRJEB21104        Shannon        1.559556577 0.29580261 -1.6625162\n",
       "4  PRJEB26931        Faith's PD    -0.145976579 0.09535703 -0.3180856\n",
       "5  PRJEB26931        Observed ASVs -0.181308751 0.12276968 -0.4126459\n",
       "6  PRJEB26931        Shannon       -0.048775039 0.57078536 -0.2194607\n",
       "7  PRJNA375772_Xi_an Faith's PD    -0.135821012 0.03338278 -0.2606888\n",
       "8  PRJNA375772_Xi_an Observed ASVs -0.184086046 0.05253142 -0.3702348\n",
       "9  PRJNA375772_Xi_an Shannon       -0.061080470 0.41504065 -0.2093192\n",
       "10 PRJNA481413       Faith's PD    -0.006368079 0.97787880 -0.4595267\n",
       "11 PRJNA481413       Observed ASVs  0.029431722 0.92256644 -0.5679015\n",
       "12 PRJNA481413       Shannon       -0.066969319 0.86810563 -0.8623608\n",
       "13 Combined          Shannon        0.002697063 0.98874394 -0.3717195\n",
       "14 Combined          Faith's PD    -0.034885552 0.74820174 -0.2477099\n",
       "15 Combined          Observed ASVs -0.024096947 0.86911766 -0.3104992\n",
       "   CI_high     Significance Compare_status  \n",
       "1   2.54578097 ns           Gastritis vs. IM\n",
       "2   3.79852318 ns           Gastritis vs. IM\n",
       "3   4.78162933 ns           Gastritis vs. IM\n",
       "4   0.02613243 ns           Gastritis vs. IM\n",
       "5   0.05002840 ns           Gastritis vs. IM\n",
       "6   0.12191059 ns           Gastritis vs. IM\n",
       "7  -0.01095326 *            Gastritis vs. IM\n",
       "8   0.00206272 ns           Gastritis vs. IM\n",
       "9   0.08715829 ns           Gastritis vs. IM\n",
       "10  0.44679051 ns           Gastritis vs. IM\n",
       "11  0.62676490 ns           Gastritis vs. IM\n",
       "12  0.72842220 ns           Gastritis vs. IM\n",
       "13  0.37711363 ns           Gastritis vs. IM\n",
       "14  0.17793876 ns           Gastritis vs. IM\n",
       "15  0.26230532 ns           Gastritis vs. IM"
      ]
     },
     "metadata": {},
     "output_type": "display_data"
    }
   ],
   "source": [
    "gim_c <- gim %>% #subset(BioProject=='Combined') %>% \n",
    "select(BioProject,Metric,log2FC,Pvalue,CI_low,CI_high)%>%\n",
    "mutate(Significance=case_when(\n",
    "Pvalue<0.01 ~ \"**\",\n",
    "Pvalue>0.05 ~ \"ns\",\n",
    "TRUE~\"*\"),Compare_status='Gastritis vs. IM')\n",
    "gim_c"
   ]
  },
  {
   "cell_type": "code",
   "execution_count": 63,
   "id": "9b6dca06-102d-4096-8c10-36db7bdb9eeb",
   "metadata": {},
   "outputs": [
    {
     "data": {
      "text/html": [
       "<table>\n",
       "<caption>A tibble: 18 × 8</caption>\n",
       "<thead>\n",
       "\t<tr><th scope=col>BioProject</th><th scope=col>Metric</th><th scope=col>log2FC</th><th scope=col>Pvalue</th><th scope=col>CI_low</th><th scope=col>CI_high</th><th scope=col>Significance</th><th scope=col>Compare_status</th></tr>\n",
       "\t<tr><th scope=col>&lt;chr&gt;</th><th scope=col>&lt;fct&gt;</th><th scope=col>&lt;dbl&gt;</th><th scope=col>&lt;dbl&gt;</th><th scope=col>&lt;dbl&gt;</th><th scope=col>&lt;dbl&gt;</th><th scope=col>&lt;chr&gt;</th><th scope=col>&lt;chr&gt;</th></tr>\n",
       "</thead>\n",
       "<tbody>\n",
       "\t<tr><td>PRJEB21104                </td><td>Faith's PD   </td><td> 1.159533854</td><td>1.526464e-01</td><td>-0.50792485</td><td> 2.82699256</td><td>ns</td><td>Gastritis vs. GC</td></tr>\n",
       "\t<tr><td>PRJEB21104                </td><td>Observed ASVs</td><td> 1.772389501</td><td>1.545752e-01</td><td>-0.79300276</td><td> 4.33778176</td><td>ns</td><td>Gastritis vs. GC</td></tr>\n",
       "\t<tr><td>PRJEB21104                </td><td>Shannon      </td><td> 2.182038854</td><td>1.764055e-01</td><td>-1.15922424</td><td> 5.52330195</td><td>ns</td><td>Gastritis vs. GC</td></tr>\n",
       "\t<tr><td>PRJEB26931                </td><td>Faith's PD   </td><td>-1.010907592</td><td>2.684491e-15</td><td>-1.23190242</td><td>-0.78991277</td><td>**</td><td>Gastritis vs. GC</td></tr>\n",
       "\t<tr><td>PRJEB26931                </td><td>Observed ASVs</td><td>-1.271953417</td><td>2.871942e-14</td><td>-1.56351645</td><td>-0.98039038</td><td>**</td><td>Gastritis vs. GC</td></tr>\n",
       "\t<tr><td>PRJEB26931                </td><td>Shannon      </td><td>-0.803845747</td><td>3.349214e-07</td><td>-1.09806949</td><td>-0.50962201</td><td>**</td><td>Gastritis vs. GC</td></tr>\n",
       "\t<tr><td>PRJNA375772_Inner_Mongolia</td><td>Faith's PD   </td><td>-0.230611798</td><td>6.200578e-02</td><td>-0.47318657</td><td> 0.01196297</td><td>ns</td><td>Gastritis vs. GC</td></tr>\n",
       "\t<tr><td>PRJNA375772_Inner_Mongolia</td><td>Observed ASVs</td><td>-0.253535213</td><td>1.155513e-01</td><td>-0.57114992</td><td> 0.06407949</td><td>ns</td><td>Gastritis vs. GC</td></tr>\n",
       "\t<tr><td>PRJNA375772_Inner_Mongolia</td><td>Shannon      </td><td> 0.009311609</td><td>9.233430e-01</td><td>-0.18308289</td><td> 0.20170611</td><td>ns</td><td>Gastritis vs. GC</td></tr>\n",
       "\t<tr><td>PRJNA375772_Xi_an         </td><td>Faith's PD   </td><td>-0.077543715</td><td>2.448507e-01</td><td>-0.20930040</td><td> 0.05421297</td><td>ns</td><td>Gastritis vs. GC</td></tr>\n",
       "\t<tr><td>PRJNA375772_Xi_an         </td><td>Observed ASVs</td><td>-0.088019245</td><td>3.115961e-01</td><td>-0.25994227</td><td> 0.08390378</td><td>ns</td><td>Gastritis vs. GC</td></tr>\n",
       "\t<tr><td>PRJNA375772_Xi_an         </td><td>Shannon      </td><td> 0.028929426</td><td>6.733176e-01</td><td>-0.10693205</td><td> 0.16479091</td><td>ns</td><td>Gastritis vs. GC</td></tr>\n",
       "\t<tr><td>PRJNA481413               </td><td>Faith's PD   </td><td> 0.212021646</td><td>2.338021e-01</td><td>-0.13806801</td><td> 0.56211130</td><td>ns</td><td>Gastritis vs. GC</td></tr>\n",
       "\t<tr><td>PRJNA481413               </td><td>Observed ASVs</td><td> 0.387087309</td><td>1.058461e-01</td><td>-0.08278909</td><td> 0.85696371</td><td>ns</td><td>Gastritis vs. GC</td></tr>\n",
       "\t<tr><td>PRJNA481413               </td><td>Shannon      </td><td> 0.769066851</td><td>1.498285e-02</td><td> 0.15115773</td><td> 1.38697597</td><td>* </td><td>Gastritis vs. GC</td></tr>\n",
       "\t<tr><td>Combined                  </td><td>Shannon      </td><td> 0.230469753</td><td>1.118480e-01</td><td>-0.05938659</td><td> 0.51028849</td><td>ns</td><td>Gastritis vs. GC</td></tr>\n",
       "\t<tr><td>Combined                  </td><td>Faith's PD   </td><td>-0.133479942</td><td>1.226736e-01</td><td>-0.30569533</td><td> 0.03384961</td><td>ns</td><td>Gastritis vs. GC</td></tr>\n",
       "\t<tr><td>Combined                  </td><td>Observed ASVs</td><td>-0.098213100</td><td>4.024815e-01</td><td>-0.33199618</td><td> 0.12898851</td><td>ns</td><td>Gastritis vs. GC</td></tr>\n",
       "</tbody>\n",
       "</table>\n"
      ],
      "text/latex": [
       "A tibble: 18 × 8\n",
       "\\begin{tabular}{llllllll}\n",
       " BioProject & Metric & log2FC & Pvalue & CI\\_low & CI\\_high & Significance & Compare\\_status\\\\\n",
       " <chr> & <fct> & <dbl> & <dbl> & <dbl> & <dbl> & <chr> & <chr>\\\\\n",
       "\\hline\n",
       "\t PRJEB21104                 & Faith's PD    &  1.159533854 & 1.526464e-01 & -0.50792485 &  2.82699256 & ns & Gastritis vs. GC\\\\\n",
       "\t PRJEB21104                 & Observed ASVs &  1.772389501 & 1.545752e-01 & -0.79300276 &  4.33778176 & ns & Gastritis vs. GC\\\\\n",
       "\t PRJEB21104                 & Shannon       &  2.182038854 & 1.764055e-01 & -1.15922424 &  5.52330195 & ns & Gastritis vs. GC\\\\\n",
       "\t PRJEB26931                 & Faith's PD    & -1.010907592 & 2.684491e-15 & -1.23190242 & -0.78991277 & ** & Gastritis vs. GC\\\\\n",
       "\t PRJEB26931                 & Observed ASVs & -1.271953417 & 2.871942e-14 & -1.56351645 & -0.98039038 & ** & Gastritis vs. GC\\\\\n",
       "\t PRJEB26931                 & Shannon       & -0.803845747 & 3.349214e-07 & -1.09806949 & -0.50962201 & ** & Gastritis vs. GC\\\\\n",
       "\t PRJNA375772\\_Inner\\_Mongolia & Faith's PD    & -0.230611798 & 6.200578e-02 & -0.47318657 &  0.01196297 & ns & Gastritis vs. GC\\\\\n",
       "\t PRJNA375772\\_Inner\\_Mongolia & Observed ASVs & -0.253535213 & 1.155513e-01 & -0.57114992 &  0.06407949 & ns & Gastritis vs. GC\\\\\n",
       "\t PRJNA375772\\_Inner\\_Mongolia & Shannon       &  0.009311609 & 9.233430e-01 & -0.18308289 &  0.20170611 & ns & Gastritis vs. GC\\\\\n",
       "\t PRJNA375772\\_Xi\\_an          & Faith's PD    & -0.077543715 & 2.448507e-01 & -0.20930040 &  0.05421297 & ns & Gastritis vs. GC\\\\\n",
       "\t PRJNA375772\\_Xi\\_an          & Observed ASVs & -0.088019245 & 3.115961e-01 & -0.25994227 &  0.08390378 & ns & Gastritis vs. GC\\\\\n",
       "\t PRJNA375772\\_Xi\\_an          & Shannon       &  0.028929426 & 6.733176e-01 & -0.10693205 &  0.16479091 & ns & Gastritis vs. GC\\\\\n",
       "\t PRJNA481413                & Faith's PD    &  0.212021646 & 2.338021e-01 & -0.13806801 &  0.56211130 & ns & Gastritis vs. GC\\\\\n",
       "\t PRJNA481413                & Observed ASVs &  0.387087309 & 1.058461e-01 & -0.08278909 &  0.85696371 & ns & Gastritis vs. GC\\\\\n",
       "\t PRJNA481413                & Shannon       &  0.769066851 & 1.498285e-02 &  0.15115773 &  1.38697597 & *  & Gastritis vs. GC\\\\\n",
       "\t Combined                   & Shannon       &  0.230469753 & 1.118480e-01 & -0.05938659 &  0.51028849 & ns & Gastritis vs. GC\\\\\n",
       "\t Combined                   & Faith's PD    & -0.133479942 & 1.226736e-01 & -0.30569533 &  0.03384961 & ns & Gastritis vs. GC\\\\\n",
       "\t Combined                   & Observed ASVs & -0.098213100 & 4.024815e-01 & -0.33199618 &  0.12898851 & ns & Gastritis vs. GC\\\\\n",
       "\\end{tabular}\n"
      ],
      "text/markdown": [
       "\n",
       "A tibble: 18 × 8\n",
       "\n",
       "| BioProject &lt;chr&gt; | Metric &lt;fct&gt; | log2FC &lt;dbl&gt; | Pvalue &lt;dbl&gt; | CI_low &lt;dbl&gt; | CI_high &lt;dbl&gt; | Significance &lt;chr&gt; | Compare_status &lt;chr&gt; |\n",
       "|---|---|---|---|---|---|---|---|\n",
       "| PRJEB21104                 | Faith's PD    |  1.159533854 | 1.526464e-01 | -0.50792485 |  2.82699256 | ns | Gastritis vs. GC |\n",
       "| PRJEB21104                 | Observed ASVs |  1.772389501 | 1.545752e-01 | -0.79300276 |  4.33778176 | ns | Gastritis vs. GC |\n",
       "| PRJEB21104                 | Shannon       |  2.182038854 | 1.764055e-01 | -1.15922424 |  5.52330195 | ns | Gastritis vs. GC |\n",
       "| PRJEB26931                 | Faith's PD    | -1.010907592 | 2.684491e-15 | -1.23190242 | -0.78991277 | ** | Gastritis vs. GC |\n",
       "| PRJEB26931                 | Observed ASVs | -1.271953417 | 2.871942e-14 | -1.56351645 | -0.98039038 | ** | Gastritis vs. GC |\n",
       "| PRJEB26931                 | Shannon       | -0.803845747 | 3.349214e-07 | -1.09806949 | -0.50962201 | ** | Gastritis vs. GC |\n",
       "| PRJNA375772_Inner_Mongolia | Faith's PD    | -0.230611798 | 6.200578e-02 | -0.47318657 |  0.01196297 | ns | Gastritis vs. GC |\n",
       "| PRJNA375772_Inner_Mongolia | Observed ASVs | -0.253535213 | 1.155513e-01 | -0.57114992 |  0.06407949 | ns | Gastritis vs. GC |\n",
       "| PRJNA375772_Inner_Mongolia | Shannon       |  0.009311609 | 9.233430e-01 | -0.18308289 |  0.20170611 | ns | Gastritis vs. GC |\n",
       "| PRJNA375772_Xi_an          | Faith's PD    | -0.077543715 | 2.448507e-01 | -0.20930040 |  0.05421297 | ns | Gastritis vs. GC |\n",
       "| PRJNA375772_Xi_an          | Observed ASVs | -0.088019245 | 3.115961e-01 | -0.25994227 |  0.08390378 | ns | Gastritis vs. GC |\n",
       "| PRJNA375772_Xi_an          | Shannon       |  0.028929426 | 6.733176e-01 | -0.10693205 |  0.16479091 | ns | Gastritis vs. GC |\n",
       "| PRJNA481413                | Faith's PD    |  0.212021646 | 2.338021e-01 | -0.13806801 |  0.56211130 | ns | Gastritis vs. GC |\n",
       "| PRJNA481413                | Observed ASVs |  0.387087309 | 1.058461e-01 | -0.08278909 |  0.85696371 | ns | Gastritis vs. GC |\n",
       "| PRJNA481413                | Shannon       |  0.769066851 | 1.498285e-02 |  0.15115773 |  1.38697597 | *  | Gastritis vs. GC |\n",
       "| Combined                   | Shannon       |  0.230469753 | 1.118480e-01 | -0.05938659 |  0.51028849 | ns | Gastritis vs. GC |\n",
       "| Combined                   | Faith's PD    | -0.133479942 | 1.226736e-01 | -0.30569533 |  0.03384961 | ns | Gastritis vs. GC |\n",
       "| Combined                   | Observed ASVs | -0.098213100 | 4.024815e-01 | -0.33199618 |  0.12898851 | ns | Gastritis vs. GC |\n",
       "\n"
      ],
      "text/plain": [
       "   BioProject                 Metric        log2FC       Pvalue      \n",
       "1  PRJEB21104                 Faith's PD     1.159533854 1.526464e-01\n",
       "2  PRJEB21104                 Observed ASVs  1.772389501 1.545752e-01\n",
       "3  PRJEB21104                 Shannon        2.182038854 1.764055e-01\n",
       "4  PRJEB26931                 Faith's PD    -1.010907592 2.684491e-15\n",
       "5  PRJEB26931                 Observed ASVs -1.271953417 2.871942e-14\n",
       "6  PRJEB26931                 Shannon       -0.803845747 3.349214e-07\n",
       "7  PRJNA375772_Inner_Mongolia Faith's PD    -0.230611798 6.200578e-02\n",
       "8  PRJNA375772_Inner_Mongolia Observed ASVs -0.253535213 1.155513e-01\n",
       "9  PRJNA375772_Inner_Mongolia Shannon        0.009311609 9.233430e-01\n",
       "10 PRJNA375772_Xi_an          Faith's PD    -0.077543715 2.448507e-01\n",
       "11 PRJNA375772_Xi_an          Observed ASVs -0.088019245 3.115961e-01\n",
       "12 PRJNA375772_Xi_an          Shannon        0.028929426 6.733176e-01\n",
       "13 PRJNA481413                Faith's PD     0.212021646 2.338021e-01\n",
       "14 PRJNA481413                Observed ASVs  0.387087309 1.058461e-01\n",
       "15 PRJNA481413                Shannon        0.769066851 1.498285e-02\n",
       "16 Combined                   Shannon        0.230469753 1.118480e-01\n",
       "17 Combined                   Faith's PD    -0.133479942 1.226736e-01\n",
       "18 Combined                   Observed ASVs -0.098213100 4.024815e-01\n",
       "   CI_low      CI_high     Significance Compare_status  \n",
       "1  -0.50792485  2.82699256 ns           Gastritis vs. GC\n",
       "2  -0.79300276  4.33778176 ns           Gastritis vs. GC\n",
       "3  -1.15922424  5.52330195 ns           Gastritis vs. GC\n",
       "4  -1.23190242 -0.78991277 **           Gastritis vs. GC\n",
       "5  -1.56351645 -0.98039038 **           Gastritis vs. GC\n",
       "6  -1.09806949 -0.50962201 **           Gastritis vs. GC\n",
       "7  -0.47318657  0.01196297 ns           Gastritis vs. GC\n",
       "8  -0.57114992  0.06407949 ns           Gastritis vs. GC\n",
       "9  -0.18308289  0.20170611 ns           Gastritis vs. GC\n",
       "10 -0.20930040  0.05421297 ns           Gastritis vs. GC\n",
       "11 -0.25994227  0.08390378 ns           Gastritis vs. GC\n",
       "12 -0.10693205  0.16479091 ns           Gastritis vs. GC\n",
       "13 -0.13806801  0.56211130 ns           Gastritis vs. GC\n",
       "14 -0.08278909  0.85696371 ns           Gastritis vs. GC\n",
       "15  0.15115773  1.38697597 *            Gastritis vs. GC\n",
       "16 -0.05938659  0.51028849 ns           Gastritis vs. GC\n",
       "17 -0.30569533  0.03384961 ns           Gastritis vs. GC\n",
       "18 -0.33199618  0.12898851 ns           Gastritis vs. GC"
      ]
     },
     "metadata": {},
     "output_type": "display_data"
    }
   ],
   "source": [
    "ggc_c <- ggc %>% #subset(BioProject=='Combined') %>% \n",
    "select(BioProject,Metric,log2FC,Pvalue,CI_low,CI_high)%>%\n",
    "mutate(Significance=case_when(\n",
    "Pvalue<0.01 ~ \"**\",\n",
    "Pvalue>0.05 ~ \"ns\",\n",
    "TRUE~\"*\"),Compare_status='Gastritis vs. GC')\n",
    "ggc_c"
   ]
  },
  {
   "cell_type": "code",
   "execution_count": 64,
   "id": "7445b494-c08b-4a0e-95cd-542cfa89fc9a",
   "metadata": {},
   "outputs": [
    {
     "data": {
      "text/html": [
       "<table>\n",
       "<caption>A tibble: 15 × 8</caption>\n",
       "<thead>\n",
       "\t<tr><th scope=col>BioProject</th><th scope=col>Metric</th><th scope=col>log2FC</th><th scope=col>Pvalue</th><th scope=col>CI_low</th><th scope=col>CI_high</th><th scope=col>Significance</th><th scope=col>Compare_status</th></tr>\n",
       "\t<tr><th scope=col>&lt;chr&gt;</th><th scope=col>&lt;fct&gt;</th><th scope=col>&lt;dbl&gt;</th><th scope=col>&lt;dbl&gt;</th><th scope=col>&lt;dbl&gt;</th><th scope=col>&lt;dbl&gt;</th><th scope=col>&lt;chr&gt;</th><th scope=col>&lt;chr&gt;</th></tr>\n",
       "</thead>\n",
       "<tbody>\n",
       "\t<tr><td>PRJEB21104       </td><td>Faith's PD   </td><td> 0.06807813</td><td>9.417351e-01</td><td>-1.89445334</td><td> 2.03060959</td><td>ns</td><td>IM vs. GC</td></tr>\n",
       "\t<tr><td>PRJEB21104       </td><td>Observed ASVs</td><td> 0.25073993</td><td>8.626351e-01</td><td>-2.80099544</td><td> 3.30247530</td><td>ns</td><td>IM vs. GC</td></tr>\n",
       "\t<tr><td>PRJEB21104       </td><td>Shannon      </td><td> 0.62248228</td><td>7.508179e-01</td><td>-3.50077411</td><td> 4.74573867</td><td>ns</td><td>IM vs. GC</td></tr>\n",
       "\t<tr><td>PRJEB26931       </td><td>Faith's PD   </td><td>-0.86493101</td><td>1.197635e-13</td><td>-1.07094962</td><td>-0.65891241</td><td>**</td><td>IM vs. GC</td></tr>\n",
       "\t<tr><td>PRJEB26931       </td><td>Observed ASVs</td><td>-1.09064467</td><td>3.430974e-13</td><td>-1.35668659</td><td>-0.82460275</td><td>**</td><td>IM vs. GC</td></tr>\n",
       "\t<tr><td>PRJEB26931       </td><td>Shannon      </td><td>-0.75507071</td><td>3.765988e-07</td><td>-1.03098077</td><td>-0.47916064</td><td>**</td><td>IM vs. GC</td></tr>\n",
       "\t<tr><td>PRJNA375772_Xi_an</td><td>Faith's PD   </td><td> 0.05827730</td><td>4.200407e-01</td><td>-0.08484121</td><td> 0.20139580</td><td>ns</td><td>IM vs. GC</td></tr>\n",
       "\t<tr><td>PRJNA375772_Xi_an</td><td>Observed ASVs</td><td> 0.09606680</td><td>3.334383e-01</td><td>-0.10044647</td><td> 0.29258007</td><td>ns</td><td>IM vs. GC</td></tr>\n",
       "\t<tr><td>PRJNA375772_Xi_an</td><td>Shannon      </td><td> 0.09000990</td><td>2.217473e-01</td><td>-0.05548392</td><td> 0.23550371</td><td>ns</td><td>IM vs. GC</td></tr>\n",
       "\t<tr><td>PRJNA481413      </td><td>Faith's PD   </td><td> 0.21838972</td><td>3.304402e-01</td><td>-0.22374475</td><td> 0.66052420</td><td>ns</td><td>IM vs. GC</td></tr>\n",
       "\t<tr><td>PRJNA481413      </td><td>Observed ASVs</td><td> 0.35765559</td><td>2.224540e-01</td><td>-0.21935005</td><td> 0.93466122</td><td>ns</td><td>IM vs. GC</td></tr>\n",
       "\t<tr><td>PRJNA481413      </td><td>Shannon      </td><td> 0.84507327</td><td>2.714239e-02</td><td> 0.09687337</td><td> 1.59327317</td><td>* </td><td>IM vs. GC</td></tr>\n",
       "\t<tr><td>Combined         </td><td>Shannon      </td><td> 0.17493814</td><td>3.504699e-01</td><td>-0.19308990</td><td> 0.54114260</td><td>ns</td><td>IM vs. GC</td></tr>\n",
       "\t<tr><td>Combined         </td><td>Faith's PD   </td><td>-0.16732397</td><td>1.344793e-01</td><td>-0.38719243</td><td> 0.05067201</td><td>ns</td><td>IM vs. GC</td></tr>\n",
       "\t<tr><td>Combined         </td><td>Observed ASVs</td><td>-0.16352514</td><td>2.722850e-01</td><td>-0.45659449</td><td> 0.12715146</td><td>ns</td><td>IM vs. GC</td></tr>\n",
       "</tbody>\n",
       "</table>\n"
      ],
      "text/latex": [
       "A tibble: 15 × 8\n",
       "\\begin{tabular}{llllllll}\n",
       " BioProject & Metric & log2FC & Pvalue & CI\\_low & CI\\_high & Significance & Compare\\_status\\\\\n",
       " <chr> & <fct> & <dbl> & <dbl> & <dbl> & <dbl> & <chr> & <chr>\\\\\n",
       "\\hline\n",
       "\t PRJEB21104        & Faith's PD    &  0.06807813 & 9.417351e-01 & -1.89445334 &  2.03060959 & ns & IM vs. GC\\\\\n",
       "\t PRJEB21104        & Observed ASVs &  0.25073993 & 8.626351e-01 & -2.80099544 &  3.30247530 & ns & IM vs. GC\\\\\n",
       "\t PRJEB21104        & Shannon       &  0.62248228 & 7.508179e-01 & -3.50077411 &  4.74573867 & ns & IM vs. GC\\\\\n",
       "\t PRJEB26931        & Faith's PD    & -0.86493101 & 1.197635e-13 & -1.07094962 & -0.65891241 & ** & IM vs. GC\\\\\n",
       "\t PRJEB26931        & Observed ASVs & -1.09064467 & 3.430974e-13 & -1.35668659 & -0.82460275 & ** & IM vs. GC\\\\\n",
       "\t PRJEB26931        & Shannon       & -0.75507071 & 3.765988e-07 & -1.03098077 & -0.47916064 & ** & IM vs. GC\\\\\n",
       "\t PRJNA375772\\_Xi\\_an & Faith's PD    &  0.05827730 & 4.200407e-01 & -0.08484121 &  0.20139580 & ns & IM vs. GC\\\\\n",
       "\t PRJNA375772\\_Xi\\_an & Observed ASVs &  0.09606680 & 3.334383e-01 & -0.10044647 &  0.29258007 & ns & IM vs. GC\\\\\n",
       "\t PRJNA375772\\_Xi\\_an & Shannon       &  0.09000990 & 2.217473e-01 & -0.05548392 &  0.23550371 & ns & IM vs. GC\\\\\n",
       "\t PRJNA481413       & Faith's PD    &  0.21838972 & 3.304402e-01 & -0.22374475 &  0.66052420 & ns & IM vs. GC\\\\\n",
       "\t PRJNA481413       & Observed ASVs &  0.35765559 & 2.224540e-01 & -0.21935005 &  0.93466122 & ns & IM vs. GC\\\\\n",
       "\t PRJNA481413       & Shannon       &  0.84507327 & 2.714239e-02 &  0.09687337 &  1.59327317 & *  & IM vs. GC\\\\\n",
       "\t Combined          & Shannon       &  0.17493814 & 3.504699e-01 & -0.19308990 &  0.54114260 & ns & IM vs. GC\\\\\n",
       "\t Combined          & Faith's PD    & -0.16732397 & 1.344793e-01 & -0.38719243 &  0.05067201 & ns & IM vs. GC\\\\\n",
       "\t Combined          & Observed ASVs & -0.16352514 & 2.722850e-01 & -0.45659449 &  0.12715146 & ns & IM vs. GC\\\\\n",
       "\\end{tabular}\n"
      ],
      "text/markdown": [
       "\n",
       "A tibble: 15 × 8\n",
       "\n",
       "| BioProject &lt;chr&gt; | Metric &lt;fct&gt; | log2FC &lt;dbl&gt; | Pvalue &lt;dbl&gt; | CI_low &lt;dbl&gt; | CI_high &lt;dbl&gt; | Significance &lt;chr&gt; | Compare_status &lt;chr&gt; |\n",
       "|---|---|---|---|---|---|---|---|\n",
       "| PRJEB21104        | Faith's PD    |  0.06807813 | 9.417351e-01 | -1.89445334 |  2.03060959 | ns | IM vs. GC |\n",
       "| PRJEB21104        | Observed ASVs |  0.25073993 | 8.626351e-01 | -2.80099544 |  3.30247530 | ns | IM vs. GC |\n",
       "| PRJEB21104        | Shannon       |  0.62248228 | 7.508179e-01 | -3.50077411 |  4.74573867 | ns | IM vs. GC |\n",
       "| PRJEB26931        | Faith's PD    | -0.86493101 | 1.197635e-13 | -1.07094962 | -0.65891241 | ** | IM vs. GC |\n",
       "| PRJEB26931        | Observed ASVs | -1.09064467 | 3.430974e-13 | -1.35668659 | -0.82460275 | ** | IM vs. GC |\n",
       "| PRJEB26931        | Shannon       | -0.75507071 | 3.765988e-07 | -1.03098077 | -0.47916064 | ** | IM vs. GC |\n",
       "| PRJNA375772_Xi_an | Faith's PD    |  0.05827730 | 4.200407e-01 | -0.08484121 |  0.20139580 | ns | IM vs. GC |\n",
       "| PRJNA375772_Xi_an | Observed ASVs |  0.09606680 | 3.334383e-01 | -0.10044647 |  0.29258007 | ns | IM vs. GC |\n",
       "| PRJNA375772_Xi_an | Shannon       |  0.09000990 | 2.217473e-01 | -0.05548392 |  0.23550371 | ns | IM vs. GC |\n",
       "| PRJNA481413       | Faith's PD    |  0.21838972 | 3.304402e-01 | -0.22374475 |  0.66052420 | ns | IM vs. GC |\n",
       "| PRJNA481413       | Observed ASVs |  0.35765559 | 2.224540e-01 | -0.21935005 |  0.93466122 | ns | IM vs. GC |\n",
       "| PRJNA481413       | Shannon       |  0.84507327 | 2.714239e-02 |  0.09687337 |  1.59327317 | *  | IM vs. GC |\n",
       "| Combined          | Shannon       |  0.17493814 | 3.504699e-01 | -0.19308990 |  0.54114260 | ns | IM vs. GC |\n",
       "| Combined          | Faith's PD    | -0.16732397 | 1.344793e-01 | -0.38719243 |  0.05067201 | ns | IM vs. GC |\n",
       "| Combined          | Observed ASVs | -0.16352514 | 2.722850e-01 | -0.45659449 |  0.12715146 | ns | IM vs. GC |\n",
       "\n"
      ],
      "text/plain": [
       "   BioProject        Metric        log2FC      Pvalue       CI_low     \n",
       "1  PRJEB21104        Faith's PD     0.06807813 9.417351e-01 -1.89445334\n",
       "2  PRJEB21104        Observed ASVs  0.25073993 8.626351e-01 -2.80099544\n",
       "3  PRJEB21104        Shannon        0.62248228 7.508179e-01 -3.50077411\n",
       "4  PRJEB26931        Faith's PD    -0.86493101 1.197635e-13 -1.07094962\n",
       "5  PRJEB26931        Observed ASVs -1.09064467 3.430974e-13 -1.35668659\n",
       "6  PRJEB26931        Shannon       -0.75507071 3.765988e-07 -1.03098077\n",
       "7  PRJNA375772_Xi_an Faith's PD     0.05827730 4.200407e-01 -0.08484121\n",
       "8  PRJNA375772_Xi_an Observed ASVs  0.09606680 3.334383e-01 -0.10044647\n",
       "9  PRJNA375772_Xi_an Shannon        0.09000990 2.217473e-01 -0.05548392\n",
       "10 PRJNA481413       Faith's PD     0.21838972 3.304402e-01 -0.22374475\n",
       "11 PRJNA481413       Observed ASVs  0.35765559 2.224540e-01 -0.21935005\n",
       "12 PRJNA481413       Shannon        0.84507327 2.714239e-02  0.09687337\n",
       "13 Combined          Shannon        0.17493814 3.504699e-01 -0.19308990\n",
       "14 Combined          Faith's PD    -0.16732397 1.344793e-01 -0.38719243\n",
       "15 Combined          Observed ASVs -0.16352514 2.722850e-01 -0.45659449\n",
       "   CI_high     Significance Compare_status\n",
       "1   2.03060959 ns           IM vs. GC     \n",
       "2   3.30247530 ns           IM vs. GC     \n",
       "3   4.74573867 ns           IM vs. GC     \n",
       "4  -0.65891241 **           IM vs. GC     \n",
       "5  -0.82460275 **           IM vs. GC     \n",
       "6  -0.47916064 **           IM vs. GC     \n",
       "7   0.20139580 ns           IM vs. GC     \n",
       "8   0.29258007 ns           IM vs. GC     \n",
       "9   0.23550371 ns           IM vs. GC     \n",
       "10  0.66052420 ns           IM vs. GC     \n",
       "11  0.93466122 ns           IM vs. GC     \n",
       "12  1.59327317 *            IM vs. GC     \n",
       "13  0.54114260 ns           IM vs. GC     \n",
       "14  0.05067201 ns           IM vs. GC     \n",
       "15  0.12715146 ns           IM vs. GC     "
      ]
     },
     "metadata": {},
     "output_type": "display_data"
    }
   ],
   "source": [
    "imgc_c <- imgc %>% #subset(BioProject=='Combined') %>% \n",
    "select(BioProject,Metric,log2FC,Pvalue,CI_low,CI_high)%>%\n",
    "mutate(Significance=case_when(\n",
    "Pvalue<0.01 ~ \"**\",\n",
    "Pvalue>0.05 ~ \"ns\",\n",
    "TRUE~\"*\"),Compare_status='IM vs. GC')\n",
    "imgc_c"
   ]
  },
  {
   "cell_type": "code",
   "execution_count": 65,
   "id": "fb6ebde0-c05c-4fc7-b601-1cb1b1fb22db",
   "metadata": {
    "collapsed": true,
    "jupyter": {
     "outputs_hidden": true
    },
    "tags": []
   },
   "outputs": [
    {
     "data": {
      "text/html": [
       "<table>\n",
       "<caption>A tibble: 72 × 8</caption>\n",
       "<thead>\n",
       "\t<tr><th scope=col>BioProject</th><th scope=col>Metric</th><th scope=col>log2FC</th><th scope=col>Pvalue</th><th scope=col>CI_low</th><th scope=col>CI_high</th><th scope=col>Significance</th><th scope=col>Compare_status</th></tr>\n",
       "\t<tr><th scope=col>&lt;chr&gt;</th><th scope=col>&lt;fct&gt;</th><th scope=col>&lt;dbl&gt;</th><th scope=col>&lt;dbl&gt;</th><th scope=col>&lt;dbl&gt;</th><th scope=col>&lt;dbl&gt;</th><th scope=col>&lt;chr&gt;</th><th scope=col>&lt;chr&gt;</th></tr>\n",
       "</thead>\n",
       "<tbody>\n",
       "\t<tr><td>PRJEB21104</td><td>Faith's PD   </td><td>-3.073258933</td><td>3.476433e-11</td><td>-3.62555373</td><td>-2.52096414</td><td>**</td><td>Healthy vs. Gastritis</td></tr>\n",
       "\t<tr><td>PRJEB21104</td><td>Observed ASVs</td><td>-4.793734358</td><td>1.031158e-11</td><td>-5.59318210</td><td>-3.99428661</td><td>**</td><td>Healthy vs. Gastritis</td></tr>\n",
       "\t<tr><td>PRJEB21104</td><td>Shannon      </td><td>-5.851138447</td><td>8.907160e-11</td><td>-6.91269677</td><td>-4.78958012</td><td>**</td><td>Healthy vs. Gastritis</td></tr>\n",
       "\t<tr><td>PRJEB22107</td><td>Faith's PD   </td><td>-0.333237229</td><td>3.321939e-01</td><td>-1.06861430</td><td> 0.40213984</td><td>ns</td><td>Healthy vs. Gastritis</td></tr>\n",
       "\t<tr><td>PRJEB22107</td><td>Observed ASVs</td><td>-0.629112455</td><td>2.320040e-01</td><td>-1.72987669</td><td> 0.47165178</td><td>ns</td><td>Healthy vs. Gastritis</td></tr>\n",
       "\t<tr><td>PRJEB22107</td><td>Shannon      </td><td>-0.765672894</td><td>3.833594e-01</td><td>-2.68026127</td><td> 1.14891548</td><td>ns</td><td>Healthy vs. Gastritis</td></tr>\n",
       "\t<tr><td>PRJEB26931</td><td>Faith's PD   </td><td>-0.055045908</td><td>5.977499e-01</td><td>-0.26146083</td><td> 0.15136902</td><td>ns</td><td>Healthy vs. Gastritis</td></tr>\n",
       "\t<tr><td>PRJEB26931</td><td>Observed ASVs</td><td>-0.055852658</td><td>6.619069e-01</td><td>-0.30874435</td><td> 0.19703903</td><td>ns</td><td>Healthy vs. Gastritis</td></tr>\n",
       "\t<tr><td>PRJEB26931</td><td>Shannon      </td><td>-0.169804835</td><td>1.152976e-01</td><td>-0.38190481</td><td> 0.04229514</td><td>ns</td><td>Healthy vs. Gastritis</td></tr>\n",
       "\t<tr><td>Combined  </td><td>Shannon      </td><td>-1.657055898</td><td>6.183093e-09</td><td>-2.18555310</td><td>-1.12637759</td><td>**</td><td>Healthy vs. Gastritis</td></tr>\n",
       "\t<tr><td>Combined  </td><td>Faith's PD   </td><td>-0.840241246</td><td>7.754667e-08</td><td>-1.13239197</td><td>-0.54672587</td><td>**</td><td>Healthy vs. Gastritis</td></tr>\n",
       "\t<tr><td>Combined  </td><td>Observed ASVs</td><td>-1.305766649</td><td>1.783391e-08</td><td>-1.73711390</td><td>-0.87289509</td><td>**</td><td>Healthy vs. Gastritis</td></tr>\n",
       "\t<tr><td>PRJEB21104</td><td>Faith's PD   </td><td>-1.913725078</td><td>2.660363e-02</td><td>-3.54311413</td><td>-0.28433603</td><td>* </td><td>Healthy vs. GC       </td></tr>\n",
       "\t<tr><td>PRJEB21104</td><td>Observed ASVs</td><td>-3.021344857</td><td>2.412658e-02</td><td>-5.53482433</td><td>-0.50786538</td><td>* </td><td>Healthy vs. GC       </td></tr>\n",
       "\t<tr><td>PRJEB21104</td><td>Shannon      </td><td>-3.669099592</td><td>3.207839e-02</td><td>-6.93637512</td><td>-0.40182407</td><td>* </td><td>Healthy vs. GC       </td></tr>\n",
       "\t<tr><td>PRJEB21497</td><td>Faith's PD   </td><td> 0.271960900</td><td>1.310435e-01</td><td>-0.08807381</td><td> 0.63199561</td><td>ns</td><td>Healthy vs. GC       </td></tr>\n",
       "\t<tr><td>PRJEB21497</td><td>Observed ASVs</td><td> 0.475331090</td><td>7.576414e-02</td><td>-0.05367791</td><td> 1.00434009</td><td>ns</td><td>Healthy vs. GC       </td></tr>\n",
       "\t<tr><td>PRJEB21497</td><td>Shannon      </td><td> 0.008523685</td><td>9.827865e-01</td><td>-0.80033370</td><td> 0.81738107</td><td>ns</td><td>Healthy vs. GC       </td></tr>\n",
       "\t<tr><td>PRJEB26931</td><td>Faith's PD   </td><td>-1.065953500</td><td>2.159380e-15</td><td>-1.30131075</td><td>-0.83059625</td><td>**</td><td>Healthy vs. GC       </td></tr>\n",
       "\t<tr><td>PRJEB26931</td><td>Observed ASVs</td><td>-1.327806075</td><td>4.844665e-16</td><td>-1.61282539</td><td>-1.04278676</td><td>**</td><td>Healthy vs. GC       </td></tr>\n",
       "\t<tr><td>PRJEB26931</td><td>Shannon      </td><td>-0.973650583</td><td>3.187014e-09</td><td>-1.27653121</td><td>-0.67076996</td><td>**</td><td>Healthy vs. GC       </td></tr>\n",
       "\t<tr><td>Combined  </td><td>Shannon      </td><td>-1.154371413</td><td>3.773649e-08</td><td>-1.54581312</td><td>-0.75398177</td><td>**</td><td>Healthy vs. GC       </td></tr>\n",
       "\t<tr><td>Combined  </td><td>Faith's PD   </td><td>-0.966652086</td><td>1.914602e-13</td><td>-1.20680265</td><td>-0.72711794</td><td>**</td><td>Healthy vs. GC       </td></tr>\n",
       "\t<tr><td>Combined  </td><td>Observed ASVs</td><td>-1.261744731</td><td>2.628660e-12</td><td>-1.59250925</td><td>-0.92962202</td><td>**</td><td>Healthy vs. GC       </td></tr>\n",
       "\t<tr><td>PRJEB21104</td><td>Faith's PD   </td><td> 1.091455728</td><td>1.226959e-01</td><td>-0.36286951</td><td> 2.54578097</td><td>ns</td><td>Gastritis vs. IM     </td></tr>\n",
       "\t<tr><td>PRJEB21104</td><td>Observed ASVs</td><td> 1.521649569</td><td>1.621014e-01</td><td>-0.75522404</td><td> 3.79852318</td><td>ns</td><td>Gastritis vs. IM     </td></tr>\n",
       "\t<tr><td>PRJEB21104</td><td>Shannon      </td><td> 1.559556577</td><td>2.958026e-01</td><td>-1.66251617</td><td> 4.78162933</td><td>ns</td><td>Gastritis vs. IM     </td></tr>\n",
       "\t<tr><td>PRJEB26931</td><td>Faith's PD   </td><td>-0.145976579</td><td>9.535703e-02</td><td>-0.31808559</td><td> 0.02613243</td><td>ns</td><td>Gastritis vs. IM     </td></tr>\n",
       "\t<tr><td>PRJEB26931</td><td>Observed ASVs</td><td>-0.181308751</td><td>1.227697e-01</td><td>-0.41264590</td><td> 0.05002840</td><td>ns</td><td>Gastritis vs. IM     </td></tr>\n",
       "\t<tr><td>PRJEB26931</td><td>Shannon      </td><td>-0.048775039</td><td>5.707854e-01</td><td>-0.21946067</td><td> 0.12191059</td><td>ns</td><td>Gastritis vs. IM     </td></tr>\n",
       "\t<tr><td>⋮</td><td>⋮</td><td>⋮</td><td>⋮</td><td>⋮</td><td>⋮</td><td>⋮</td><td>⋮</td></tr>\n",
       "\t<tr><td>PRJEB26931                </td><td>Faith's PD   </td><td>-1.010907592</td><td>2.684491e-15</td><td>-1.23190242</td><td>-0.78991277</td><td>**</td><td>Gastritis vs. GC</td></tr>\n",
       "\t<tr><td>PRJEB26931                </td><td>Observed ASVs</td><td>-1.271953417</td><td>2.871942e-14</td><td>-1.56351645</td><td>-0.98039038</td><td>**</td><td>Gastritis vs. GC</td></tr>\n",
       "\t<tr><td>PRJEB26931                </td><td>Shannon      </td><td>-0.803845747</td><td>3.349214e-07</td><td>-1.09806949</td><td>-0.50962201</td><td>**</td><td>Gastritis vs. GC</td></tr>\n",
       "\t<tr><td>PRJNA375772_Inner_Mongolia</td><td>Faith's PD   </td><td>-0.230611798</td><td>6.200578e-02</td><td>-0.47318657</td><td> 0.01196297</td><td>ns</td><td>Gastritis vs. GC</td></tr>\n",
       "\t<tr><td>PRJNA375772_Inner_Mongolia</td><td>Observed ASVs</td><td>-0.253535213</td><td>1.155513e-01</td><td>-0.57114992</td><td> 0.06407949</td><td>ns</td><td>Gastritis vs. GC</td></tr>\n",
       "\t<tr><td>PRJNA375772_Inner_Mongolia</td><td>Shannon      </td><td> 0.009311609</td><td>9.233430e-01</td><td>-0.18308289</td><td> 0.20170611</td><td>ns</td><td>Gastritis vs. GC</td></tr>\n",
       "\t<tr><td>PRJNA375772_Xi_an         </td><td>Faith's PD   </td><td>-0.077543715</td><td>2.448507e-01</td><td>-0.20930040</td><td> 0.05421297</td><td>ns</td><td>Gastritis vs. GC</td></tr>\n",
       "\t<tr><td>PRJNA375772_Xi_an         </td><td>Observed ASVs</td><td>-0.088019245</td><td>3.115961e-01</td><td>-0.25994227</td><td> 0.08390378</td><td>ns</td><td>Gastritis vs. GC</td></tr>\n",
       "\t<tr><td>PRJNA375772_Xi_an         </td><td>Shannon      </td><td> 0.028929426</td><td>6.733176e-01</td><td>-0.10693205</td><td> 0.16479091</td><td>ns</td><td>Gastritis vs. GC</td></tr>\n",
       "\t<tr><td>PRJNA481413               </td><td>Faith's PD   </td><td> 0.212021646</td><td>2.338021e-01</td><td>-0.13806801</td><td> 0.56211130</td><td>ns</td><td>Gastritis vs. GC</td></tr>\n",
       "\t<tr><td>PRJNA481413               </td><td>Observed ASVs</td><td> 0.387087309</td><td>1.058461e-01</td><td>-0.08278909</td><td> 0.85696371</td><td>ns</td><td>Gastritis vs. GC</td></tr>\n",
       "\t<tr><td>PRJNA481413               </td><td>Shannon      </td><td> 0.769066851</td><td>1.498285e-02</td><td> 0.15115773</td><td> 1.38697597</td><td>* </td><td>Gastritis vs. GC</td></tr>\n",
       "\t<tr><td>Combined                  </td><td>Shannon      </td><td> 0.230469753</td><td>1.118480e-01</td><td>-0.05938659</td><td> 0.51028849</td><td>ns</td><td>Gastritis vs. GC</td></tr>\n",
       "\t<tr><td>Combined                  </td><td>Faith's PD   </td><td>-0.133479942</td><td>1.226736e-01</td><td>-0.30569533</td><td> 0.03384961</td><td>ns</td><td>Gastritis vs. GC</td></tr>\n",
       "\t<tr><td>Combined                  </td><td>Observed ASVs</td><td>-0.098213100</td><td>4.024815e-01</td><td>-0.33199618</td><td> 0.12898851</td><td>ns</td><td>Gastritis vs. GC</td></tr>\n",
       "\t<tr><td>PRJEB21104                </td><td>Faith's PD   </td><td> 0.068078127</td><td>9.417351e-01</td><td>-1.89445334</td><td> 2.03060959</td><td>ns</td><td>IM vs. GC       </td></tr>\n",
       "\t<tr><td>PRJEB21104                </td><td>Observed ASVs</td><td> 0.250739932</td><td>8.626351e-01</td><td>-2.80099544</td><td> 3.30247530</td><td>ns</td><td>IM vs. GC       </td></tr>\n",
       "\t<tr><td>PRJEB21104                </td><td>Shannon      </td><td> 0.622482278</td><td>7.508179e-01</td><td>-3.50077411</td><td> 4.74573867</td><td>ns</td><td>IM vs. GC       </td></tr>\n",
       "\t<tr><td>PRJEB26931                </td><td>Faith's PD   </td><td>-0.864931013</td><td>1.197635e-13</td><td>-1.07094962</td><td>-0.65891241</td><td>**</td><td>IM vs. GC       </td></tr>\n",
       "\t<tr><td>PRJEB26931                </td><td>Observed ASVs</td><td>-1.090644666</td><td>3.430974e-13</td><td>-1.35668659</td><td>-0.82460275</td><td>**</td><td>IM vs. GC       </td></tr>\n",
       "\t<tr><td>PRJEB26931                </td><td>Shannon      </td><td>-0.755070708</td><td>3.765988e-07</td><td>-1.03098077</td><td>-0.47916064</td><td>**</td><td>IM vs. GC       </td></tr>\n",
       "\t<tr><td>PRJNA375772_Xi_an         </td><td>Faith's PD   </td><td> 0.058277297</td><td>4.200407e-01</td><td>-0.08484121</td><td> 0.20139580</td><td>ns</td><td>IM vs. GC       </td></tr>\n",
       "\t<tr><td>PRJNA375772_Xi_an         </td><td>Observed ASVs</td><td> 0.096066800</td><td>3.334383e-01</td><td>-0.10044647</td><td> 0.29258007</td><td>ns</td><td>IM vs. GC       </td></tr>\n",
       "\t<tr><td>PRJNA375772_Xi_an         </td><td>Shannon      </td><td> 0.090009896</td><td>2.217473e-01</td><td>-0.05548392</td><td> 0.23550371</td><td>ns</td><td>IM vs. GC       </td></tr>\n",
       "\t<tr><td>PRJNA481413               </td><td>Faith's PD   </td><td> 0.218389725</td><td>3.304402e-01</td><td>-0.22374475</td><td> 0.66052420</td><td>ns</td><td>IM vs. GC       </td></tr>\n",
       "\t<tr><td>PRJNA481413               </td><td>Observed ASVs</td><td> 0.357655587</td><td>2.224540e-01</td><td>-0.21935005</td><td> 0.93466122</td><td>ns</td><td>IM vs. GC       </td></tr>\n",
       "\t<tr><td>PRJNA481413               </td><td>Shannon      </td><td> 0.845073270</td><td>2.714239e-02</td><td> 0.09687337</td><td> 1.59327317</td><td>* </td><td>IM vs. GC       </td></tr>\n",
       "\t<tr><td>Combined                  </td><td>Shannon      </td><td> 0.174938142</td><td>3.504699e-01</td><td>-0.19308990</td><td> 0.54114260</td><td>ns</td><td>IM vs. GC       </td></tr>\n",
       "\t<tr><td>Combined                  </td><td>Faith's PD   </td><td>-0.167323971</td><td>1.344793e-01</td><td>-0.38719243</td><td> 0.05067201</td><td>ns</td><td>IM vs. GC       </td></tr>\n",
       "\t<tr><td>Combined                  </td><td>Observed ASVs</td><td>-0.163525143</td><td>2.722850e-01</td><td>-0.45659449</td><td> 0.12715146</td><td>ns</td><td>IM vs. GC       </td></tr>\n",
       "</tbody>\n",
       "</table>\n"
      ],
      "text/latex": [
       "A tibble: 72 × 8\n",
       "\\begin{tabular}{llllllll}\n",
       " BioProject & Metric & log2FC & Pvalue & CI\\_low & CI\\_high & Significance & Compare\\_status\\\\\n",
       " <chr> & <fct> & <dbl> & <dbl> & <dbl> & <dbl> & <chr> & <chr>\\\\\n",
       "\\hline\n",
       "\t PRJEB21104 & Faith's PD    & -3.073258933 & 3.476433e-11 & -3.62555373 & -2.52096414 & ** & Healthy vs. Gastritis\\\\\n",
       "\t PRJEB21104 & Observed ASVs & -4.793734358 & 1.031158e-11 & -5.59318210 & -3.99428661 & ** & Healthy vs. Gastritis\\\\\n",
       "\t PRJEB21104 & Shannon       & -5.851138447 & 8.907160e-11 & -6.91269677 & -4.78958012 & ** & Healthy vs. Gastritis\\\\\n",
       "\t PRJEB22107 & Faith's PD    & -0.333237229 & 3.321939e-01 & -1.06861430 &  0.40213984 & ns & Healthy vs. Gastritis\\\\\n",
       "\t PRJEB22107 & Observed ASVs & -0.629112455 & 2.320040e-01 & -1.72987669 &  0.47165178 & ns & Healthy vs. Gastritis\\\\\n",
       "\t PRJEB22107 & Shannon       & -0.765672894 & 3.833594e-01 & -2.68026127 &  1.14891548 & ns & Healthy vs. Gastritis\\\\\n",
       "\t PRJEB26931 & Faith's PD    & -0.055045908 & 5.977499e-01 & -0.26146083 &  0.15136902 & ns & Healthy vs. Gastritis\\\\\n",
       "\t PRJEB26931 & Observed ASVs & -0.055852658 & 6.619069e-01 & -0.30874435 &  0.19703903 & ns & Healthy vs. Gastritis\\\\\n",
       "\t PRJEB26931 & Shannon       & -0.169804835 & 1.152976e-01 & -0.38190481 &  0.04229514 & ns & Healthy vs. Gastritis\\\\\n",
       "\t Combined   & Shannon       & -1.657055898 & 6.183093e-09 & -2.18555310 & -1.12637759 & ** & Healthy vs. Gastritis\\\\\n",
       "\t Combined   & Faith's PD    & -0.840241246 & 7.754667e-08 & -1.13239197 & -0.54672587 & ** & Healthy vs. Gastritis\\\\\n",
       "\t Combined   & Observed ASVs & -1.305766649 & 1.783391e-08 & -1.73711390 & -0.87289509 & ** & Healthy vs. Gastritis\\\\\n",
       "\t PRJEB21104 & Faith's PD    & -1.913725078 & 2.660363e-02 & -3.54311413 & -0.28433603 & *  & Healthy vs. GC       \\\\\n",
       "\t PRJEB21104 & Observed ASVs & -3.021344857 & 2.412658e-02 & -5.53482433 & -0.50786538 & *  & Healthy vs. GC       \\\\\n",
       "\t PRJEB21104 & Shannon       & -3.669099592 & 3.207839e-02 & -6.93637512 & -0.40182407 & *  & Healthy vs. GC       \\\\\n",
       "\t PRJEB21497 & Faith's PD    &  0.271960900 & 1.310435e-01 & -0.08807381 &  0.63199561 & ns & Healthy vs. GC       \\\\\n",
       "\t PRJEB21497 & Observed ASVs &  0.475331090 & 7.576414e-02 & -0.05367791 &  1.00434009 & ns & Healthy vs. GC       \\\\\n",
       "\t PRJEB21497 & Shannon       &  0.008523685 & 9.827865e-01 & -0.80033370 &  0.81738107 & ns & Healthy vs. GC       \\\\\n",
       "\t PRJEB26931 & Faith's PD    & -1.065953500 & 2.159380e-15 & -1.30131075 & -0.83059625 & ** & Healthy vs. GC       \\\\\n",
       "\t PRJEB26931 & Observed ASVs & -1.327806075 & 4.844665e-16 & -1.61282539 & -1.04278676 & ** & Healthy vs. GC       \\\\\n",
       "\t PRJEB26931 & Shannon       & -0.973650583 & 3.187014e-09 & -1.27653121 & -0.67076996 & ** & Healthy vs. GC       \\\\\n",
       "\t Combined   & Shannon       & -1.154371413 & 3.773649e-08 & -1.54581312 & -0.75398177 & ** & Healthy vs. GC       \\\\\n",
       "\t Combined   & Faith's PD    & -0.966652086 & 1.914602e-13 & -1.20680265 & -0.72711794 & ** & Healthy vs. GC       \\\\\n",
       "\t Combined   & Observed ASVs & -1.261744731 & 2.628660e-12 & -1.59250925 & -0.92962202 & ** & Healthy vs. GC       \\\\\n",
       "\t PRJEB21104 & Faith's PD    &  1.091455728 & 1.226959e-01 & -0.36286951 &  2.54578097 & ns & Gastritis vs. IM     \\\\\n",
       "\t PRJEB21104 & Observed ASVs &  1.521649569 & 1.621014e-01 & -0.75522404 &  3.79852318 & ns & Gastritis vs. IM     \\\\\n",
       "\t PRJEB21104 & Shannon       &  1.559556577 & 2.958026e-01 & -1.66251617 &  4.78162933 & ns & Gastritis vs. IM     \\\\\n",
       "\t PRJEB26931 & Faith's PD    & -0.145976579 & 9.535703e-02 & -0.31808559 &  0.02613243 & ns & Gastritis vs. IM     \\\\\n",
       "\t PRJEB26931 & Observed ASVs & -0.181308751 & 1.227697e-01 & -0.41264590 &  0.05002840 & ns & Gastritis vs. IM     \\\\\n",
       "\t PRJEB26931 & Shannon       & -0.048775039 & 5.707854e-01 & -0.21946067 &  0.12191059 & ns & Gastritis vs. IM     \\\\\n",
       "\t ⋮ & ⋮ & ⋮ & ⋮ & ⋮ & ⋮ & ⋮ & ⋮\\\\\n",
       "\t PRJEB26931                 & Faith's PD    & -1.010907592 & 2.684491e-15 & -1.23190242 & -0.78991277 & ** & Gastritis vs. GC\\\\\n",
       "\t PRJEB26931                 & Observed ASVs & -1.271953417 & 2.871942e-14 & -1.56351645 & -0.98039038 & ** & Gastritis vs. GC\\\\\n",
       "\t PRJEB26931                 & Shannon       & -0.803845747 & 3.349214e-07 & -1.09806949 & -0.50962201 & ** & Gastritis vs. GC\\\\\n",
       "\t PRJNA375772\\_Inner\\_Mongolia & Faith's PD    & -0.230611798 & 6.200578e-02 & -0.47318657 &  0.01196297 & ns & Gastritis vs. GC\\\\\n",
       "\t PRJNA375772\\_Inner\\_Mongolia & Observed ASVs & -0.253535213 & 1.155513e-01 & -0.57114992 &  0.06407949 & ns & Gastritis vs. GC\\\\\n",
       "\t PRJNA375772\\_Inner\\_Mongolia & Shannon       &  0.009311609 & 9.233430e-01 & -0.18308289 &  0.20170611 & ns & Gastritis vs. GC\\\\\n",
       "\t PRJNA375772\\_Xi\\_an          & Faith's PD    & -0.077543715 & 2.448507e-01 & -0.20930040 &  0.05421297 & ns & Gastritis vs. GC\\\\\n",
       "\t PRJNA375772\\_Xi\\_an          & Observed ASVs & -0.088019245 & 3.115961e-01 & -0.25994227 &  0.08390378 & ns & Gastritis vs. GC\\\\\n",
       "\t PRJNA375772\\_Xi\\_an          & Shannon       &  0.028929426 & 6.733176e-01 & -0.10693205 &  0.16479091 & ns & Gastritis vs. GC\\\\\n",
       "\t PRJNA481413                & Faith's PD    &  0.212021646 & 2.338021e-01 & -0.13806801 &  0.56211130 & ns & Gastritis vs. GC\\\\\n",
       "\t PRJNA481413                & Observed ASVs &  0.387087309 & 1.058461e-01 & -0.08278909 &  0.85696371 & ns & Gastritis vs. GC\\\\\n",
       "\t PRJNA481413                & Shannon       &  0.769066851 & 1.498285e-02 &  0.15115773 &  1.38697597 & *  & Gastritis vs. GC\\\\\n",
       "\t Combined                   & Shannon       &  0.230469753 & 1.118480e-01 & -0.05938659 &  0.51028849 & ns & Gastritis vs. GC\\\\\n",
       "\t Combined                   & Faith's PD    & -0.133479942 & 1.226736e-01 & -0.30569533 &  0.03384961 & ns & Gastritis vs. GC\\\\\n",
       "\t Combined                   & Observed ASVs & -0.098213100 & 4.024815e-01 & -0.33199618 &  0.12898851 & ns & Gastritis vs. GC\\\\\n",
       "\t PRJEB21104                 & Faith's PD    &  0.068078127 & 9.417351e-01 & -1.89445334 &  2.03060959 & ns & IM vs. GC       \\\\\n",
       "\t PRJEB21104                 & Observed ASVs &  0.250739932 & 8.626351e-01 & -2.80099544 &  3.30247530 & ns & IM vs. GC       \\\\\n",
       "\t PRJEB21104                 & Shannon       &  0.622482278 & 7.508179e-01 & -3.50077411 &  4.74573867 & ns & IM vs. GC       \\\\\n",
       "\t PRJEB26931                 & Faith's PD    & -0.864931013 & 1.197635e-13 & -1.07094962 & -0.65891241 & ** & IM vs. GC       \\\\\n",
       "\t PRJEB26931                 & Observed ASVs & -1.090644666 & 3.430974e-13 & -1.35668659 & -0.82460275 & ** & IM vs. GC       \\\\\n",
       "\t PRJEB26931                 & Shannon       & -0.755070708 & 3.765988e-07 & -1.03098077 & -0.47916064 & ** & IM vs. GC       \\\\\n",
       "\t PRJNA375772\\_Xi\\_an          & Faith's PD    &  0.058277297 & 4.200407e-01 & -0.08484121 &  0.20139580 & ns & IM vs. GC       \\\\\n",
       "\t PRJNA375772\\_Xi\\_an          & Observed ASVs &  0.096066800 & 3.334383e-01 & -0.10044647 &  0.29258007 & ns & IM vs. GC       \\\\\n",
       "\t PRJNA375772\\_Xi\\_an          & Shannon       &  0.090009896 & 2.217473e-01 & -0.05548392 &  0.23550371 & ns & IM vs. GC       \\\\\n",
       "\t PRJNA481413                & Faith's PD    &  0.218389725 & 3.304402e-01 & -0.22374475 &  0.66052420 & ns & IM vs. GC       \\\\\n",
       "\t PRJNA481413                & Observed ASVs &  0.357655587 & 2.224540e-01 & -0.21935005 &  0.93466122 & ns & IM vs. GC       \\\\\n",
       "\t PRJNA481413                & Shannon       &  0.845073270 & 2.714239e-02 &  0.09687337 &  1.59327317 & *  & IM vs. GC       \\\\\n",
       "\t Combined                   & Shannon       &  0.174938142 & 3.504699e-01 & -0.19308990 &  0.54114260 & ns & IM vs. GC       \\\\\n",
       "\t Combined                   & Faith's PD    & -0.167323971 & 1.344793e-01 & -0.38719243 &  0.05067201 & ns & IM vs. GC       \\\\\n",
       "\t Combined                   & Observed ASVs & -0.163525143 & 2.722850e-01 & -0.45659449 &  0.12715146 & ns & IM vs. GC       \\\\\n",
       "\\end{tabular}\n"
      ],
      "text/markdown": [
       "\n",
       "A tibble: 72 × 8\n",
       "\n",
       "| BioProject &lt;chr&gt; | Metric &lt;fct&gt; | log2FC &lt;dbl&gt; | Pvalue &lt;dbl&gt; | CI_low &lt;dbl&gt; | CI_high &lt;dbl&gt; | Significance &lt;chr&gt; | Compare_status &lt;chr&gt; |\n",
       "|---|---|---|---|---|---|---|---|\n",
       "| PRJEB21104 | Faith's PD    | -3.073258933 | 3.476433e-11 | -3.62555373 | -2.52096414 | ** | Healthy vs. Gastritis |\n",
       "| PRJEB21104 | Observed ASVs | -4.793734358 | 1.031158e-11 | -5.59318210 | -3.99428661 | ** | Healthy vs. Gastritis |\n",
       "| PRJEB21104 | Shannon       | -5.851138447 | 8.907160e-11 | -6.91269677 | -4.78958012 | ** | Healthy vs. Gastritis |\n",
       "| PRJEB22107 | Faith's PD    | -0.333237229 | 3.321939e-01 | -1.06861430 |  0.40213984 | ns | Healthy vs. Gastritis |\n",
       "| PRJEB22107 | Observed ASVs | -0.629112455 | 2.320040e-01 | -1.72987669 |  0.47165178 | ns | Healthy vs. Gastritis |\n",
       "| PRJEB22107 | Shannon       | -0.765672894 | 3.833594e-01 | -2.68026127 |  1.14891548 | ns | Healthy vs. Gastritis |\n",
       "| PRJEB26931 | Faith's PD    | -0.055045908 | 5.977499e-01 | -0.26146083 |  0.15136902 | ns | Healthy vs. Gastritis |\n",
       "| PRJEB26931 | Observed ASVs | -0.055852658 | 6.619069e-01 | -0.30874435 |  0.19703903 | ns | Healthy vs. Gastritis |\n",
       "| PRJEB26931 | Shannon       | -0.169804835 | 1.152976e-01 | -0.38190481 |  0.04229514 | ns | Healthy vs. Gastritis |\n",
       "| Combined   | Shannon       | -1.657055898 | 6.183093e-09 | -2.18555310 | -1.12637759 | ** | Healthy vs. Gastritis |\n",
       "| Combined   | Faith's PD    | -0.840241246 | 7.754667e-08 | -1.13239197 | -0.54672587 | ** | Healthy vs. Gastritis |\n",
       "| Combined   | Observed ASVs | -1.305766649 | 1.783391e-08 | -1.73711390 | -0.87289509 | ** | Healthy vs. Gastritis |\n",
       "| PRJEB21104 | Faith's PD    | -1.913725078 | 2.660363e-02 | -3.54311413 | -0.28433603 | *  | Healthy vs. GC        |\n",
       "| PRJEB21104 | Observed ASVs | -3.021344857 | 2.412658e-02 | -5.53482433 | -0.50786538 | *  | Healthy vs. GC        |\n",
       "| PRJEB21104 | Shannon       | -3.669099592 | 3.207839e-02 | -6.93637512 | -0.40182407 | *  | Healthy vs. GC        |\n",
       "| PRJEB21497 | Faith's PD    |  0.271960900 | 1.310435e-01 | -0.08807381 |  0.63199561 | ns | Healthy vs. GC        |\n",
       "| PRJEB21497 | Observed ASVs |  0.475331090 | 7.576414e-02 | -0.05367791 |  1.00434009 | ns | Healthy vs. GC        |\n",
       "| PRJEB21497 | Shannon       |  0.008523685 | 9.827865e-01 | -0.80033370 |  0.81738107 | ns | Healthy vs. GC        |\n",
       "| PRJEB26931 | Faith's PD    | -1.065953500 | 2.159380e-15 | -1.30131075 | -0.83059625 | ** | Healthy vs. GC        |\n",
       "| PRJEB26931 | Observed ASVs | -1.327806075 | 4.844665e-16 | -1.61282539 | -1.04278676 | ** | Healthy vs. GC        |\n",
       "| PRJEB26931 | Shannon       | -0.973650583 | 3.187014e-09 | -1.27653121 | -0.67076996 | ** | Healthy vs. GC        |\n",
       "| Combined   | Shannon       | -1.154371413 | 3.773649e-08 | -1.54581312 | -0.75398177 | ** | Healthy vs. GC        |\n",
       "| Combined   | Faith's PD    | -0.966652086 | 1.914602e-13 | -1.20680265 | -0.72711794 | ** | Healthy vs. GC        |\n",
       "| Combined   | Observed ASVs | -1.261744731 | 2.628660e-12 | -1.59250925 | -0.92962202 | ** | Healthy vs. GC        |\n",
       "| PRJEB21104 | Faith's PD    |  1.091455728 | 1.226959e-01 | -0.36286951 |  2.54578097 | ns | Gastritis vs. IM      |\n",
       "| PRJEB21104 | Observed ASVs |  1.521649569 | 1.621014e-01 | -0.75522404 |  3.79852318 | ns | Gastritis vs. IM      |\n",
       "| PRJEB21104 | Shannon       |  1.559556577 | 2.958026e-01 | -1.66251617 |  4.78162933 | ns | Gastritis vs. IM      |\n",
       "| PRJEB26931 | Faith's PD    | -0.145976579 | 9.535703e-02 | -0.31808559 |  0.02613243 | ns | Gastritis vs. IM      |\n",
       "| PRJEB26931 | Observed ASVs | -0.181308751 | 1.227697e-01 | -0.41264590 |  0.05002840 | ns | Gastritis vs. IM      |\n",
       "| PRJEB26931 | Shannon       | -0.048775039 | 5.707854e-01 | -0.21946067 |  0.12191059 | ns | Gastritis vs. IM      |\n",
       "| ⋮ | ⋮ | ⋮ | ⋮ | ⋮ | ⋮ | ⋮ | ⋮ |\n",
       "| PRJEB26931                 | Faith's PD    | -1.010907592 | 2.684491e-15 | -1.23190242 | -0.78991277 | ** | Gastritis vs. GC |\n",
       "| PRJEB26931                 | Observed ASVs | -1.271953417 | 2.871942e-14 | -1.56351645 | -0.98039038 | ** | Gastritis vs. GC |\n",
       "| PRJEB26931                 | Shannon       | -0.803845747 | 3.349214e-07 | -1.09806949 | -0.50962201 | ** | Gastritis vs. GC |\n",
       "| PRJNA375772_Inner_Mongolia | Faith's PD    | -0.230611798 | 6.200578e-02 | -0.47318657 |  0.01196297 | ns | Gastritis vs. GC |\n",
       "| PRJNA375772_Inner_Mongolia | Observed ASVs | -0.253535213 | 1.155513e-01 | -0.57114992 |  0.06407949 | ns | Gastritis vs. GC |\n",
       "| PRJNA375772_Inner_Mongolia | Shannon       |  0.009311609 | 9.233430e-01 | -0.18308289 |  0.20170611 | ns | Gastritis vs. GC |\n",
       "| PRJNA375772_Xi_an          | Faith's PD    | -0.077543715 | 2.448507e-01 | -0.20930040 |  0.05421297 | ns | Gastritis vs. GC |\n",
       "| PRJNA375772_Xi_an          | Observed ASVs | -0.088019245 | 3.115961e-01 | -0.25994227 |  0.08390378 | ns | Gastritis vs. GC |\n",
       "| PRJNA375772_Xi_an          | Shannon       |  0.028929426 | 6.733176e-01 | -0.10693205 |  0.16479091 | ns | Gastritis vs. GC |\n",
       "| PRJNA481413                | Faith's PD    |  0.212021646 | 2.338021e-01 | -0.13806801 |  0.56211130 | ns | Gastritis vs. GC |\n",
       "| PRJNA481413                | Observed ASVs |  0.387087309 | 1.058461e-01 | -0.08278909 |  0.85696371 | ns | Gastritis vs. GC |\n",
       "| PRJNA481413                | Shannon       |  0.769066851 | 1.498285e-02 |  0.15115773 |  1.38697597 | *  | Gastritis vs. GC |\n",
       "| Combined                   | Shannon       |  0.230469753 | 1.118480e-01 | -0.05938659 |  0.51028849 | ns | Gastritis vs. GC |\n",
       "| Combined                   | Faith's PD    | -0.133479942 | 1.226736e-01 | -0.30569533 |  0.03384961 | ns | Gastritis vs. GC |\n",
       "| Combined                   | Observed ASVs | -0.098213100 | 4.024815e-01 | -0.33199618 |  0.12898851 | ns | Gastritis vs. GC |\n",
       "| PRJEB21104                 | Faith's PD    |  0.068078127 | 9.417351e-01 | -1.89445334 |  2.03060959 | ns | IM vs. GC        |\n",
       "| PRJEB21104                 | Observed ASVs |  0.250739932 | 8.626351e-01 | -2.80099544 |  3.30247530 | ns | IM vs. GC        |\n",
       "| PRJEB21104                 | Shannon       |  0.622482278 | 7.508179e-01 | -3.50077411 |  4.74573867 | ns | IM vs. GC        |\n",
       "| PRJEB26931                 | Faith's PD    | -0.864931013 | 1.197635e-13 | -1.07094962 | -0.65891241 | ** | IM vs. GC        |\n",
       "| PRJEB26931                 | Observed ASVs | -1.090644666 | 3.430974e-13 | -1.35668659 | -0.82460275 | ** | IM vs. GC        |\n",
       "| PRJEB26931                 | Shannon       | -0.755070708 | 3.765988e-07 | -1.03098077 | -0.47916064 | ** | IM vs. GC        |\n",
       "| PRJNA375772_Xi_an          | Faith's PD    |  0.058277297 | 4.200407e-01 | -0.08484121 |  0.20139580 | ns | IM vs. GC        |\n",
       "| PRJNA375772_Xi_an          | Observed ASVs |  0.096066800 | 3.334383e-01 | -0.10044647 |  0.29258007 | ns | IM vs. GC        |\n",
       "| PRJNA375772_Xi_an          | Shannon       |  0.090009896 | 2.217473e-01 | -0.05548392 |  0.23550371 | ns | IM vs. GC        |\n",
       "| PRJNA481413                | Faith's PD    |  0.218389725 | 3.304402e-01 | -0.22374475 |  0.66052420 | ns | IM vs. GC        |\n",
       "| PRJNA481413                | Observed ASVs |  0.357655587 | 2.224540e-01 | -0.21935005 |  0.93466122 | ns | IM vs. GC        |\n",
       "| PRJNA481413                | Shannon       |  0.845073270 | 2.714239e-02 |  0.09687337 |  1.59327317 | *  | IM vs. GC        |\n",
       "| Combined                   | Shannon       |  0.174938142 | 3.504699e-01 | -0.19308990 |  0.54114260 | ns | IM vs. GC        |\n",
       "| Combined                   | Faith's PD    | -0.167323971 | 1.344793e-01 | -0.38719243 |  0.05067201 | ns | IM vs. GC        |\n",
       "| Combined                   | Observed ASVs | -0.163525143 | 2.722850e-01 | -0.45659449 |  0.12715146 | ns | IM vs. GC        |\n",
       "\n"
      ],
      "text/plain": [
       "   BioProject                 Metric        log2FC       Pvalue      \n",
       "1  PRJEB21104                 Faith's PD    -3.073258933 3.476433e-11\n",
       "2  PRJEB21104                 Observed ASVs -4.793734358 1.031158e-11\n",
       "3  PRJEB21104                 Shannon       -5.851138447 8.907160e-11\n",
       "4  PRJEB22107                 Faith's PD    -0.333237229 3.321939e-01\n",
       "5  PRJEB22107                 Observed ASVs -0.629112455 2.320040e-01\n",
       "6  PRJEB22107                 Shannon       -0.765672894 3.833594e-01\n",
       "7  PRJEB26931                 Faith's PD    -0.055045908 5.977499e-01\n",
       "8  PRJEB26931                 Observed ASVs -0.055852658 6.619069e-01\n",
       "9  PRJEB26931                 Shannon       -0.169804835 1.152976e-01\n",
       "10 Combined                   Shannon       -1.657055898 6.183093e-09\n",
       "11 Combined                   Faith's PD    -0.840241246 7.754667e-08\n",
       "12 Combined                   Observed ASVs -1.305766649 1.783391e-08\n",
       "13 PRJEB21104                 Faith's PD    -1.913725078 2.660363e-02\n",
       "14 PRJEB21104                 Observed ASVs -3.021344857 2.412658e-02\n",
       "15 PRJEB21104                 Shannon       -3.669099592 3.207839e-02\n",
       "16 PRJEB21497                 Faith's PD     0.271960900 1.310435e-01\n",
       "17 PRJEB21497                 Observed ASVs  0.475331090 7.576414e-02\n",
       "18 PRJEB21497                 Shannon        0.008523685 9.827865e-01\n",
       "19 PRJEB26931                 Faith's PD    -1.065953500 2.159380e-15\n",
       "20 PRJEB26931                 Observed ASVs -1.327806075 4.844665e-16\n",
       "21 PRJEB26931                 Shannon       -0.973650583 3.187014e-09\n",
       "22 Combined                   Shannon       -1.154371413 3.773649e-08\n",
       "23 Combined                   Faith's PD    -0.966652086 1.914602e-13\n",
       "24 Combined                   Observed ASVs -1.261744731 2.628660e-12\n",
       "25 PRJEB21104                 Faith's PD     1.091455728 1.226959e-01\n",
       "26 PRJEB21104                 Observed ASVs  1.521649569 1.621014e-01\n",
       "27 PRJEB21104                 Shannon        1.559556577 2.958026e-01\n",
       "28 PRJEB26931                 Faith's PD    -0.145976579 9.535703e-02\n",
       "29 PRJEB26931                 Observed ASVs -0.181308751 1.227697e-01\n",
       "30 PRJEB26931                 Shannon       -0.048775039 5.707854e-01\n",
       "⋮  ⋮                          ⋮             ⋮            ⋮           \n",
       "43 PRJEB26931                 Faith's PD    -1.010907592 2.684491e-15\n",
       "44 PRJEB26931                 Observed ASVs -1.271953417 2.871942e-14\n",
       "45 PRJEB26931                 Shannon       -0.803845747 3.349214e-07\n",
       "46 PRJNA375772_Inner_Mongolia Faith's PD    -0.230611798 6.200578e-02\n",
       "47 PRJNA375772_Inner_Mongolia Observed ASVs -0.253535213 1.155513e-01\n",
       "48 PRJNA375772_Inner_Mongolia Shannon        0.009311609 9.233430e-01\n",
       "49 PRJNA375772_Xi_an          Faith's PD    -0.077543715 2.448507e-01\n",
       "50 PRJNA375772_Xi_an          Observed ASVs -0.088019245 3.115961e-01\n",
       "51 PRJNA375772_Xi_an          Shannon        0.028929426 6.733176e-01\n",
       "52 PRJNA481413                Faith's PD     0.212021646 2.338021e-01\n",
       "53 PRJNA481413                Observed ASVs  0.387087309 1.058461e-01\n",
       "54 PRJNA481413                Shannon        0.769066851 1.498285e-02\n",
       "55 Combined                   Shannon        0.230469753 1.118480e-01\n",
       "56 Combined                   Faith's PD    -0.133479942 1.226736e-01\n",
       "57 Combined                   Observed ASVs -0.098213100 4.024815e-01\n",
       "58 PRJEB21104                 Faith's PD     0.068078127 9.417351e-01\n",
       "59 PRJEB21104                 Observed ASVs  0.250739932 8.626351e-01\n",
       "60 PRJEB21104                 Shannon        0.622482278 7.508179e-01\n",
       "61 PRJEB26931                 Faith's PD    -0.864931013 1.197635e-13\n",
       "62 PRJEB26931                 Observed ASVs -1.090644666 3.430974e-13\n",
       "63 PRJEB26931                 Shannon       -0.755070708 3.765988e-07\n",
       "64 PRJNA375772_Xi_an          Faith's PD     0.058277297 4.200407e-01\n",
       "65 PRJNA375772_Xi_an          Observed ASVs  0.096066800 3.334383e-01\n",
       "66 PRJNA375772_Xi_an          Shannon        0.090009896 2.217473e-01\n",
       "67 PRJNA481413                Faith's PD     0.218389725 3.304402e-01\n",
       "68 PRJNA481413                Observed ASVs  0.357655587 2.224540e-01\n",
       "69 PRJNA481413                Shannon        0.845073270 2.714239e-02\n",
       "70 Combined                   Shannon        0.174938142 3.504699e-01\n",
       "71 Combined                   Faith's PD    -0.167323971 1.344793e-01\n",
       "72 Combined                   Observed ASVs -0.163525143 2.722850e-01\n",
       "   CI_low      CI_high     Significance Compare_status       \n",
       "1  -3.62555373 -2.52096414 **           Healthy vs. Gastritis\n",
       "2  -5.59318210 -3.99428661 **           Healthy vs. Gastritis\n",
       "3  -6.91269677 -4.78958012 **           Healthy vs. Gastritis\n",
       "4  -1.06861430  0.40213984 ns           Healthy vs. Gastritis\n",
       "5  -1.72987669  0.47165178 ns           Healthy vs. Gastritis\n",
       "6  -2.68026127  1.14891548 ns           Healthy vs. Gastritis\n",
       "7  -0.26146083  0.15136902 ns           Healthy vs. Gastritis\n",
       "8  -0.30874435  0.19703903 ns           Healthy vs. Gastritis\n",
       "9  -0.38190481  0.04229514 ns           Healthy vs. Gastritis\n",
       "10 -2.18555310 -1.12637759 **           Healthy vs. Gastritis\n",
       "11 -1.13239197 -0.54672587 **           Healthy vs. Gastritis\n",
       "12 -1.73711390 -0.87289509 **           Healthy vs. Gastritis\n",
       "13 -3.54311413 -0.28433603 *            Healthy vs. GC       \n",
       "14 -5.53482433 -0.50786538 *            Healthy vs. GC       \n",
       "15 -6.93637512 -0.40182407 *            Healthy vs. GC       \n",
       "16 -0.08807381  0.63199561 ns           Healthy vs. GC       \n",
       "17 -0.05367791  1.00434009 ns           Healthy vs. GC       \n",
       "18 -0.80033370  0.81738107 ns           Healthy vs. GC       \n",
       "19 -1.30131075 -0.83059625 **           Healthy vs. GC       \n",
       "20 -1.61282539 -1.04278676 **           Healthy vs. GC       \n",
       "21 -1.27653121 -0.67076996 **           Healthy vs. GC       \n",
       "22 -1.54581312 -0.75398177 **           Healthy vs. GC       \n",
       "23 -1.20680265 -0.72711794 **           Healthy vs. GC       \n",
       "24 -1.59250925 -0.92962202 **           Healthy vs. GC       \n",
       "25 -0.36286951  2.54578097 ns           Gastritis vs. IM     \n",
       "26 -0.75522404  3.79852318 ns           Gastritis vs. IM     \n",
       "27 -1.66251617  4.78162933 ns           Gastritis vs. IM     \n",
       "28 -0.31808559  0.02613243 ns           Gastritis vs. IM     \n",
       "29 -0.41264590  0.05002840 ns           Gastritis vs. IM     \n",
       "30 -0.21946067  0.12191059 ns           Gastritis vs. IM     \n",
       "⋮  ⋮           ⋮           ⋮            ⋮                    \n",
       "43 -1.23190242 -0.78991277 **           Gastritis vs. GC     \n",
       "44 -1.56351645 -0.98039038 **           Gastritis vs. GC     \n",
       "45 -1.09806949 -0.50962201 **           Gastritis vs. GC     \n",
       "46 -0.47318657  0.01196297 ns           Gastritis vs. GC     \n",
       "47 -0.57114992  0.06407949 ns           Gastritis vs. GC     \n",
       "48 -0.18308289  0.20170611 ns           Gastritis vs. GC     \n",
       "49 -0.20930040  0.05421297 ns           Gastritis vs. GC     \n",
       "50 -0.25994227  0.08390378 ns           Gastritis vs. GC     \n",
       "51 -0.10693205  0.16479091 ns           Gastritis vs. GC     \n",
       "52 -0.13806801  0.56211130 ns           Gastritis vs. GC     \n",
       "53 -0.08278909  0.85696371 ns           Gastritis vs. GC     \n",
       "54  0.15115773  1.38697597 *            Gastritis vs. GC     \n",
       "55 -0.05938659  0.51028849 ns           Gastritis vs. GC     \n",
       "56 -0.30569533  0.03384961 ns           Gastritis vs. GC     \n",
       "57 -0.33199618  0.12898851 ns           Gastritis vs. GC     \n",
       "58 -1.89445334  2.03060959 ns           IM vs. GC            \n",
       "59 -2.80099544  3.30247530 ns           IM vs. GC            \n",
       "60 -3.50077411  4.74573867 ns           IM vs. GC            \n",
       "61 -1.07094962 -0.65891241 **           IM vs. GC            \n",
       "62 -1.35668659 -0.82460275 **           IM vs. GC            \n",
       "63 -1.03098077 -0.47916064 **           IM vs. GC            \n",
       "64 -0.08484121  0.20139580 ns           IM vs. GC            \n",
       "65 -0.10044647  0.29258007 ns           IM vs. GC            \n",
       "66 -0.05548392  0.23550371 ns           IM vs. GC            \n",
       "67 -0.22374475  0.66052420 ns           IM vs. GC            \n",
       "68 -0.21935005  0.93466122 ns           IM vs. GC            \n",
       "69  0.09687337  1.59327317 *            IM vs. GC            \n",
       "70 -0.19308990  0.54114260 ns           IM vs. GC            \n",
       "71 -0.38719243  0.05067201 ns           IM vs. GC            \n",
       "72 -0.45659449  0.12715146 ns           IM vs. GC            "
      ]
     },
     "metadata": {},
     "output_type": "display_data"
    }
   ],
   "source": [
    "con <- rbind(hg_c,hgc_c,gim_c,ggc_c,imgc_c)\n",
    "con"
   ]
  },
  {
   "cell_type": "code",
   "execution_count": 66,
   "id": "6b6f181a-f238-4cf7-8897-f67a7361756c",
   "metadata": {},
   "outputs": [],
   "source": [
    "con$Compare.disease.status<-factor(con$Compare_status,levels=c('IM vs. GC','Gastritis vs. GC','Gastritis vs. IM','Healthy vs. GC','Healthy vs. Gastritis'))"
   ]
  },
  {
   "cell_type": "code",
   "execution_count": 67,
   "id": "ad6819ce-034f-4255-81cb-22943049648e",
   "metadata": {},
   "outputs": [],
   "source": [
    "# con <- con %>% mutate(Metric = recode(Metric,'shannon'='Shannon',\n",
    "#                      'faith_pd'=\"Faith's PD\",'observed_otus'='Observed ASVs'))"
   ]
  },
  {
   "cell_type": "code",
   "execution_count": 68,
   "id": "52276368-8cb1-4ea2-91e2-81d03b369d59",
   "metadata": {},
   "outputs": [],
   "source": [
    "names(con)[names(con) == 'Pvalue'] <- 'pvalue'\n",
    "con <- con %>% mutate(Pvalue = recode(Significance,'*'='P <0.05','**'='P < 0.01'))"
   ]
  },
  {
   "cell_type": "code",
   "execution_count": 69,
   "id": "2bfcb3a2-a806-4266-8275-c00a50f139fb",
   "metadata": {},
   "outputs": [
    {
     "data": {
      "image/png": "[encoded data removed]",
      "text/plain": [
       "plot without title"
      ]
     },
     "metadata": {
      "image/png": {
       "height": 420,
       "width": 420
      }
     },
     "output_type": "display_data"
    }
   ],
   "source": [
    "ggplot(subset(con,BioProject=='Combined'),aes(x=log2FC, y=Compare.disease.status, color=Pvalue)) +  \n",
    "geom_vline(xintercept = 0, linetype=\"dashed\", color=\"grey50\") +\n",
    "geom_errorbarh(aes(xmin=CI_low, xmax=CI_high), height=0 ) +\n",
    "geom_point() +\n",
    "facet_grid(~Metric, scales=\"free_x\") +\n",
    "theme_MicrobeR() +\n",
    "scale_color_manual(values=c(\"black\",Hcolor ))  +\n",
    "theme(panel.border = element_blank(), axis.line = element_line()) +\n",
    "# theme(axis.text.x=element_text(angle=45, hjust=1,size=7),\n",
    "#       axis.text = element_text(size = 9,colour = 'black'))\n",
    " ylab('') +set_front(10)+xlab('log2(fold difference)')+\n",
    "#xlim(-2.3,1)+\n",
    "labs(title='With HP')+theme(plot.title = element_text(hjust = 0.5))\n",
    "             \n",
    "ggsave(\"figures/conbine_withhp.pdf\", device=\"pdf\", height=4, width=6, useDingbats=F)"
   ]
  },
  {
   "cell_type": "code",
   "execution_count": null,
   "id": "22973c66-f2f6-426c-925e-6cc4f0e4e908",
   "metadata": {},
   "outputs": [],
   "source": []
  }
 ],
 "metadata": {
  "kernelspec": {
   "display_name": "R",
   "language": "R",
   "name": "ir"
  },
  "language_info": {
   "codemirror_mode": "r",
   "file_extension": ".r",
   "mimetype": "text/x-r-source",
   "name": "R",
   "pygments_lexer": "r",
   "version": "4.0.0"
  }
 },
 "nbformat": 4,
 "nbformat_minor": 5
}
